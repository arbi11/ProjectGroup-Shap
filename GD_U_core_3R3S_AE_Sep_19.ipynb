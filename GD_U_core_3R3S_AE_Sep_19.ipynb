{
  "nbformat": 4,
  "nbformat_minor": 0,
  "metadata": {
    "colab": {
      "provenance": [],
      "collapsed_sections": [
        "x8yt772kD7Tt",
        "q20z99kiD7Ty",
        "6SZFw0cVDiLQ",
        "skRHfZ7ZJ6qF",
        "wyKGbTYaJ6qG",
        "luvKreGMJ6qG",
        "rhXL1HYmOLAt"
      ],
      "include_colab_link": true
    },
    "kernelspec": {
      "name": "python3",
      "display_name": "Python 3"
    },
    "language_info": {
      "name": "python"
    }
  },
  "cells": [
    {
      "cell_type": "markdown",
      "metadata": {
        "id": "view-in-github",
        "colab_type": "text"
      },
      "source": [
        "<a href=\"https://colab.research.google.com/github/arbi11/ProjectGroup-Shap/blob/main/GD_U_core_3R3S_AE_Sep_19.ipynb\" target=\"_parent\"><img src=\"https://colab.research.google.com/assets/colab-badge.svg\" alt=\"Open In Colab\"/></a>"
      ]
    },
    {
      "cell_type": "code",
      "metadata": {
        "id": "DSV20OocaRRb"
      },
      "source": [
        "import pandas as pd\n",
        "df_3S3R_rotor = pd.read_csv('https://docs.google.com/spreadsheets/d/e/2PACX-1vQERdIcb01F1T3WBxSskCvshoLiLTGdwubuOClXiXKs_mZ-Bh738dkBcXz-Yb2NoKeaiBSGzakxZEh-/pub?gid=1798634330&single=true&output=csv')\n",
        "\n",
        "df_3S3R_rotor_05 = pd.read_csv('https://docs.google.com/spreadsheets/d/e/2PACX-1vRxt1mbKxYDkL3DAEFxC6t-5DD17VZHAIVkohy5Jnq0_q0fyc5_AWABdTOdOzVrwdMo_BLan1ADrVkB/pub?gid=1103030114&single=true&output=csv')"
      ],
      "execution_count": null,
      "outputs": []
    },
    {
      "cell_type": "markdown",
      "metadata": {
        "id": "hAsIu_ybdZ-S"
      },
      "source": [
        "# Data manupulation"
      ]
    },
    {
      "cell_type": "code",
      "metadata": {
        "colab": {
          "base_uri": "https://localhost:8080/",
          "height": 205
        },
        "id": "q2FA8rgVAXzs",
        "outputId": "41a870af-6f07-456e-9e62-4e2b9c20c279"
      },
      "source": [
        "df_3S3R_rotor.head()"
      ],
      "execution_count": null,
      "outputs": [
        {
          "output_type": "execute_result",
          "data": {
            "text/html": [
              "<div>\n",
              "<style scoped>\n",
              "    .dataframe tbody tr th:only-of-type {\n",
              "        vertical-align: middle;\n",
              "    }\n",
              "\n",
              "    .dataframe tbody tr th {\n",
              "        vertical-align: top;\n",
              "    }\n",
              "\n",
              "    .dataframe thead th {\n",
              "        text-align: right;\n",
              "    }\n",
              "</style>\n",
              "<table border=\"1\" class=\"dataframe\">\n",
              "  <thead>\n",
              "    <tr style=\"text-align: right;\">\n",
              "      <th></th>\n",
              "      <th>Unnamed: 0</th>\n",
              "      <th>I_S3</th>\n",
              "      <th>I_S4</th>\n",
              "      <th>I_S5</th>\n",
              "      <th>I_R3</th>\n",
              "      <th>I_R4</th>\n",
              "      <th>I_R5</th>\n",
              "      <th>rotor_angle</th>\n",
              "      <th>solved</th>\n",
              "      <th>Tz</th>\n",
              "      <th>Location</th>\n",
              "    </tr>\n",
              "  </thead>\n",
              "  <tbody>\n",
              "    <tr>\n",
              "      <th>0</th>\n",
              "      <td>0</td>\n",
              "      <td>-2</td>\n",
              "      <td>-2</td>\n",
              "      <td>-2</td>\n",
              "      <td>0</td>\n",
              "      <td>0</td>\n",
              "      <td>0</td>\n",
              "      <td>0</td>\n",
              "      <td>True</td>\n",
              "      <td>-0.172059</td>\n",
              "      <td>C:\\Users\\arbaaz\\Desktop\\Deep Learning\\GD_PiDri...</td>\n",
              "    </tr>\n",
              "    <tr>\n",
              "      <th>1</th>\n",
              "      <td>1</td>\n",
              "      <td>0</td>\n",
              "      <td>2</td>\n",
              "      <td>0</td>\n",
              "      <td>2</td>\n",
              "      <td>0</td>\n",
              "      <td>0</td>\n",
              "      <td>0</td>\n",
              "      <td>True</td>\n",
              "      <td>-3.782782</td>\n",
              "      <td>C:\\Users\\arbaaz\\Desktop\\Deep Learning\\GD_PiDri...</td>\n",
              "    </tr>\n",
              "    <tr>\n",
              "      <th>2</th>\n",
              "      <td>2</td>\n",
              "      <td>-2</td>\n",
              "      <td>0</td>\n",
              "      <td>0</td>\n",
              "      <td>0</td>\n",
              "      <td>0</td>\n",
              "      <td>2</td>\n",
              "      <td>0</td>\n",
              "      <td>True</td>\n",
              "      <td>1.065444</td>\n",
              "      <td>C:\\Users\\arbaaz\\Desktop\\Deep Learning\\GD_PiDri...</td>\n",
              "    </tr>\n",
              "    <tr>\n",
              "      <th>3</th>\n",
              "      <td>3</td>\n",
              "      <td>0</td>\n",
              "      <td>2</td>\n",
              "      <td>0</td>\n",
              "      <td>2</td>\n",
              "      <td>0</td>\n",
              "      <td>2</td>\n",
              "      <td>0</td>\n",
              "      <td>True</td>\n",
              "      <td>-0.267276</td>\n",
              "      <td>C:\\Users\\arbaaz\\Desktop\\Deep Learning\\GD_PiDri...</td>\n",
              "    </tr>\n",
              "    <tr>\n",
              "      <th>4</th>\n",
              "      <td>4</td>\n",
              "      <td>0</td>\n",
              "      <td>2</td>\n",
              "      <td>0</td>\n",
              "      <td>2</td>\n",
              "      <td>-2</td>\n",
              "      <td>0</td>\n",
              "      <td>0</td>\n",
              "      <td>True</td>\n",
              "      <td>-0.144341</td>\n",
              "      <td>C:\\Users\\arbaaz\\Desktop\\Deep Learning\\GD_PiDri...</td>\n",
              "    </tr>\n",
              "  </tbody>\n",
              "</table>\n",
              "</div>"
            ],
            "text/plain": [
              "   Unnamed: 0  ...                                           Location\n",
              "0           0  ...  C:\\Users\\arbaaz\\Desktop\\Deep Learning\\GD_PiDri...\n",
              "1           1  ...  C:\\Users\\arbaaz\\Desktop\\Deep Learning\\GD_PiDri...\n",
              "2           2  ...  C:\\Users\\arbaaz\\Desktop\\Deep Learning\\GD_PiDri...\n",
              "3           3  ...  C:\\Users\\arbaaz\\Desktop\\Deep Learning\\GD_PiDri...\n",
              "4           4  ...  C:\\Users\\arbaaz\\Desktop\\Deep Learning\\GD_PiDri...\n",
              "\n",
              "[5 rows x 11 columns]"
            ]
          },
          "metadata": {},
          "execution_count": 2
        }
      ]
    },
    {
      "cell_type": "code",
      "metadata": {
        "colab": {
          "base_uri": "https://localhost:8080/",
          "height": 205
        },
        "id": "DoQ6RBHW7Pns",
        "outputId": "84079e6e-f1c0-4715-b2f1-3eae83c107ab"
      },
      "source": [
        "df_3S3R_rotor_05.head()"
      ],
      "execution_count": null,
      "outputs": [
        {
          "output_type": "execute_result",
          "data": {
            "text/html": [
              "<div>\n",
              "<style scoped>\n",
              "    .dataframe tbody tr th:only-of-type {\n",
              "        vertical-align: middle;\n",
              "    }\n",
              "\n",
              "    .dataframe tbody tr th {\n",
              "        vertical-align: top;\n",
              "    }\n",
              "\n",
              "    .dataframe thead th {\n",
              "        text-align: right;\n",
              "    }\n",
              "</style>\n",
              "<table border=\"1\" class=\"dataframe\">\n",
              "  <thead>\n",
              "    <tr style=\"text-align: right;\">\n",
              "      <th></th>\n",
              "      <th>Unnamed: 0</th>\n",
              "      <th>I_S3</th>\n",
              "      <th>I_S4</th>\n",
              "      <th>I_S5</th>\n",
              "      <th>I_R3</th>\n",
              "      <th>I_R4</th>\n",
              "      <th>I_R5</th>\n",
              "      <th>rotor_angle</th>\n",
              "      <th>solved</th>\n",
              "      <th>Tz</th>\n",
              "      <th>Location</th>\n",
              "    </tr>\n",
              "  </thead>\n",
              "  <tbody>\n",
              "    <tr>\n",
              "      <th>0</th>\n",
              "      <td>0</td>\n",
              "      <td>-2</td>\n",
              "      <td>-2</td>\n",
              "      <td>-2</td>\n",
              "      <td>0</td>\n",
              "      <td>0</td>\n",
              "      <td>0</td>\n",
              "      <td>0.5</td>\n",
              "      <td>True</td>\n",
              "      <td>-3.937032</td>\n",
              "      <td>C:\\Users\\arbaaz\\Desktop\\Deep Learning\\GD_PiDri...</td>\n",
              "    </tr>\n",
              "    <tr>\n",
              "      <th>1</th>\n",
              "      <td>1</td>\n",
              "      <td>0</td>\n",
              "      <td>2</td>\n",
              "      <td>0</td>\n",
              "      <td>2</td>\n",
              "      <td>0</td>\n",
              "      <td>0</td>\n",
              "      <td>0.5</td>\n",
              "      <td>True</td>\n",
              "      <td>-7.952423</td>\n",
              "      <td>C:\\Users\\arbaaz\\Desktop\\Deep Learning\\GD_PiDri...</td>\n",
              "    </tr>\n",
              "    <tr>\n",
              "      <th>2</th>\n",
              "      <td>2</td>\n",
              "      <td>-2</td>\n",
              "      <td>0</td>\n",
              "      <td>0</td>\n",
              "      <td>0</td>\n",
              "      <td>0</td>\n",
              "      <td>2</td>\n",
              "      <td>0.5</td>\n",
              "      <td>True</td>\n",
              "      <td>1.375712</td>\n",
              "      <td>C:\\Users\\arbaaz\\Desktop\\Deep Learning\\GD_PiDri...</td>\n",
              "    </tr>\n",
              "    <tr>\n",
              "      <th>3</th>\n",
              "      <td>3</td>\n",
              "      <td>0</td>\n",
              "      <td>2</td>\n",
              "      <td>0</td>\n",
              "      <td>2</td>\n",
              "      <td>0</td>\n",
              "      <td>2</td>\n",
              "      <td>0.5</td>\n",
              "      <td>True</td>\n",
              "      <td>-4.802382</td>\n",
              "      <td>C:\\Users\\arbaaz\\Desktop\\Deep Learning\\GD_PiDri...</td>\n",
              "    </tr>\n",
              "    <tr>\n",
              "      <th>4</th>\n",
              "      <td>4</td>\n",
              "      <td>0</td>\n",
              "      <td>2</td>\n",
              "      <td>0</td>\n",
              "      <td>2</td>\n",
              "      <td>-2</td>\n",
              "      <td>0</td>\n",
              "      <td>0.5</td>\n",
              "      <td>True</td>\n",
              "      <td>1.453427</td>\n",
              "      <td>C:\\Users\\arbaaz\\Desktop\\Deep Learning\\GD_PiDri...</td>\n",
              "    </tr>\n",
              "  </tbody>\n",
              "</table>\n",
              "</div>"
            ],
            "text/plain": [
              "   Unnamed: 0  ...                                           Location\n",
              "0           0  ...  C:\\Users\\arbaaz\\Desktop\\Deep Learning\\GD_PiDri...\n",
              "1           1  ...  C:\\Users\\arbaaz\\Desktop\\Deep Learning\\GD_PiDri...\n",
              "2           2  ...  C:\\Users\\arbaaz\\Desktop\\Deep Learning\\GD_PiDri...\n",
              "3           3  ...  C:\\Users\\arbaaz\\Desktop\\Deep Learning\\GD_PiDri...\n",
              "4           4  ...  C:\\Users\\arbaaz\\Desktop\\Deep Learning\\GD_PiDri...\n",
              "\n",
              "[5 rows x 11 columns]"
            ]
          },
          "metadata": {},
          "execution_count": 3
        }
      ]
    },
    {
      "cell_type": "code",
      "metadata": {
        "colab": {
          "base_uri": "https://localhost:8080/",
          "height": 205
        },
        "id": "i5yULpS--DPx",
        "outputId": "f02221af-8994-4c5f-baed-7bc80c0366b9"
      },
      "source": [
        "df_3S3R_rotor.drop(['solved', 'Location'], axis=1, inplace=True)\n",
        "df_3S3R_rotor.drop([col for col in df_3S3R_rotor.columns if 'Unnamed' in col], axis=1, inplace=True)\n",
        "df_3S3R_rotor.head()"
      ],
      "execution_count": null,
      "outputs": [
        {
          "output_type": "execute_result",
          "data": {
            "text/html": [
              "<div>\n",
              "<style scoped>\n",
              "    .dataframe tbody tr th:only-of-type {\n",
              "        vertical-align: middle;\n",
              "    }\n",
              "\n",
              "    .dataframe tbody tr th {\n",
              "        vertical-align: top;\n",
              "    }\n",
              "\n",
              "    .dataframe thead th {\n",
              "        text-align: right;\n",
              "    }\n",
              "</style>\n",
              "<table border=\"1\" class=\"dataframe\">\n",
              "  <thead>\n",
              "    <tr style=\"text-align: right;\">\n",
              "      <th></th>\n",
              "      <th>I_S3</th>\n",
              "      <th>I_S4</th>\n",
              "      <th>I_S5</th>\n",
              "      <th>I_R3</th>\n",
              "      <th>I_R4</th>\n",
              "      <th>I_R5</th>\n",
              "      <th>rotor_angle</th>\n",
              "      <th>Tz</th>\n",
              "    </tr>\n",
              "  </thead>\n",
              "  <tbody>\n",
              "    <tr>\n",
              "      <th>0</th>\n",
              "      <td>-2</td>\n",
              "      <td>-2</td>\n",
              "      <td>-2</td>\n",
              "      <td>0</td>\n",
              "      <td>0</td>\n",
              "      <td>0</td>\n",
              "      <td>0</td>\n",
              "      <td>-0.172059</td>\n",
              "    </tr>\n",
              "    <tr>\n",
              "      <th>1</th>\n",
              "      <td>0</td>\n",
              "      <td>2</td>\n",
              "      <td>0</td>\n",
              "      <td>2</td>\n",
              "      <td>0</td>\n",
              "      <td>0</td>\n",
              "      <td>0</td>\n",
              "      <td>-3.782782</td>\n",
              "    </tr>\n",
              "    <tr>\n",
              "      <th>2</th>\n",
              "      <td>-2</td>\n",
              "      <td>0</td>\n",
              "      <td>0</td>\n",
              "      <td>0</td>\n",
              "      <td>0</td>\n",
              "      <td>2</td>\n",
              "      <td>0</td>\n",
              "      <td>1.065444</td>\n",
              "    </tr>\n",
              "    <tr>\n",
              "      <th>3</th>\n",
              "      <td>0</td>\n",
              "      <td>2</td>\n",
              "      <td>0</td>\n",
              "      <td>2</td>\n",
              "      <td>0</td>\n",
              "      <td>2</td>\n",
              "      <td>0</td>\n",
              "      <td>-0.267276</td>\n",
              "    </tr>\n",
              "    <tr>\n",
              "      <th>4</th>\n",
              "      <td>0</td>\n",
              "      <td>2</td>\n",
              "      <td>0</td>\n",
              "      <td>2</td>\n",
              "      <td>-2</td>\n",
              "      <td>0</td>\n",
              "      <td>0</td>\n",
              "      <td>-0.144341</td>\n",
              "    </tr>\n",
              "  </tbody>\n",
              "</table>\n",
              "</div>"
            ],
            "text/plain": [
              "   I_S3  I_S4  I_S5  I_R3  I_R4  I_R5  rotor_angle        Tz\n",
              "0    -2    -2    -2     0     0     0            0 -0.172059\n",
              "1     0     2     0     2     0     0            0 -3.782782\n",
              "2    -2     0     0     0     0     2            0  1.065444\n",
              "3     0     2     0     2     0     2            0 -0.267276\n",
              "4     0     2     0     2    -2     0            0 -0.144341"
            ]
          },
          "metadata": {},
          "execution_count": 4
        }
      ]
    },
    {
      "cell_type": "code",
      "metadata": {
        "colab": {
          "base_uri": "https://localhost:8080/",
          "height": 205
        },
        "id": "GHjnA2JL7SJB",
        "outputId": "f5c56041-2ffd-4456-eed8-915308e8b39b"
      },
      "source": [
        "df_3S3R_rotor_05.drop(['solved', 'Location'], axis=1, inplace=True)\n",
        "df_3S3R_rotor_05.drop([col for col in df_3S3R_rotor_05.columns if 'Unnamed' in col], axis=1, inplace=True)\n",
        "df_3S3R_rotor_05.head()"
      ],
      "execution_count": null,
      "outputs": [
        {
          "output_type": "execute_result",
          "data": {
            "text/html": [
              "<div>\n",
              "<style scoped>\n",
              "    .dataframe tbody tr th:only-of-type {\n",
              "        vertical-align: middle;\n",
              "    }\n",
              "\n",
              "    .dataframe tbody tr th {\n",
              "        vertical-align: top;\n",
              "    }\n",
              "\n",
              "    .dataframe thead th {\n",
              "        text-align: right;\n",
              "    }\n",
              "</style>\n",
              "<table border=\"1\" class=\"dataframe\">\n",
              "  <thead>\n",
              "    <tr style=\"text-align: right;\">\n",
              "      <th></th>\n",
              "      <th>I_S3</th>\n",
              "      <th>I_S4</th>\n",
              "      <th>I_S5</th>\n",
              "      <th>I_R3</th>\n",
              "      <th>I_R4</th>\n",
              "      <th>I_R5</th>\n",
              "      <th>rotor_angle</th>\n",
              "      <th>Tz</th>\n",
              "    </tr>\n",
              "  </thead>\n",
              "  <tbody>\n",
              "    <tr>\n",
              "      <th>0</th>\n",
              "      <td>-2</td>\n",
              "      <td>-2</td>\n",
              "      <td>-2</td>\n",
              "      <td>0</td>\n",
              "      <td>0</td>\n",
              "      <td>0</td>\n",
              "      <td>0.5</td>\n",
              "      <td>-3.937032</td>\n",
              "    </tr>\n",
              "    <tr>\n",
              "      <th>1</th>\n",
              "      <td>0</td>\n",
              "      <td>2</td>\n",
              "      <td>0</td>\n",
              "      <td>2</td>\n",
              "      <td>0</td>\n",
              "      <td>0</td>\n",
              "      <td>0.5</td>\n",
              "      <td>-7.952423</td>\n",
              "    </tr>\n",
              "    <tr>\n",
              "      <th>2</th>\n",
              "      <td>-2</td>\n",
              "      <td>0</td>\n",
              "      <td>0</td>\n",
              "      <td>0</td>\n",
              "      <td>0</td>\n",
              "      <td>2</td>\n",
              "      <td>0.5</td>\n",
              "      <td>1.375712</td>\n",
              "    </tr>\n",
              "    <tr>\n",
              "      <th>3</th>\n",
              "      <td>0</td>\n",
              "      <td>2</td>\n",
              "      <td>0</td>\n",
              "      <td>2</td>\n",
              "      <td>0</td>\n",
              "      <td>2</td>\n",
              "      <td>0.5</td>\n",
              "      <td>-4.802382</td>\n",
              "    </tr>\n",
              "    <tr>\n",
              "      <th>4</th>\n",
              "      <td>0</td>\n",
              "      <td>2</td>\n",
              "      <td>0</td>\n",
              "      <td>2</td>\n",
              "      <td>-2</td>\n",
              "      <td>0</td>\n",
              "      <td>0.5</td>\n",
              "      <td>1.453427</td>\n",
              "    </tr>\n",
              "  </tbody>\n",
              "</table>\n",
              "</div>"
            ],
            "text/plain": [
              "   I_S3  I_S4  I_S5  I_R3  I_R4  I_R5  rotor_angle        Tz\n",
              "0    -2    -2    -2     0     0     0          0.5 -3.937032\n",
              "1     0     2     0     2     0     0          0.5 -7.952423\n",
              "2    -2     0     0     0     0     2          0.5  1.375712\n",
              "3     0     2     0     2     0     2          0.5 -4.802382\n",
              "4     0     2     0     2    -2     0          0.5  1.453427"
            ]
          },
          "metadata": {},
          "execution_count": 5
        }
      ]
    },
    {
      "cell_type": "markdown",
      "metadata": {
        "id": "_Mc-X7Eldd0j"
      },
      "source": [
        "# Appending all data"
      ]
    },
    {
      "cell_type": "code",
      "metadata": {
        "colab": {
          "base_uri": "https://localhost:8080/"
        },
        "id": "pAA1PDu77Z2-",
        "outputId": "b4c7160b-7a5c-4625-a6d9-39e44eb0db92"
      },
      "source": [
        "df_concat = df_3S3R_rotor.append([df_3S3R_rotor_05]).reset_index(drop=True)\n",
        "df_concat.shape"
      ],
      "execution_count": null,
      "outputs": [
        {
          "output_type": "execute_result",
          "data": {
            "text/plain": [
              "(5184, 8)"
            ]
          },
          "metadata": {},
          "execution_count": 6
        }
      ]
    },
    {
      "cell_type": "code",
      "metadata": {
        "id": "X4hzgfahsNQv"
      },
      "source": [
        "df = df_3S3R_rotor"
      ],
      "execution_count": null,
      "outputs": []
    },
    {
      "cell_type": "code",
      "metadata": {
        "colab": {
          "base_uri": "https://localhost:8080/",
          "height": 205
        },
        "id": "ZQAzafS7pShy",
        "outputId": "e5fee09d-99a1-4075-f92e-bd802c522636"
      },
      "source": [
        "df.head()"
      ],
      "execution_count": null,
      "outputs": [
        {
          "output_type": "execute_result",
          "data": {
            "text/html": [
              "<div>\n",
              "<style scoped>\n",
              "    .dataframe tbody tr th:only-of-type {\n",
              "        vertical-align: middle;\n",
              "    }\n",
              "\n",
              "    .dataframe tbody tr th {\n",
              "        vertical-align: top;\n",
              "    }\n",
              "\n",
              "    .dataframe thead th {\n",
              "        text-align: right;\n",
              "    }\n",
              "</style>\n",
              "<table border=\"1\" class=\"dataframe\">\n",
              "  <thead>\n",
              "    <tr style=\"text-align: right;\">\n",
              "      <th></th>\n",
              "      <th>I_S3</th>\n",
              "      <th>I_S4</th>\n",
              "      <th>I_S5</th>\n",
              "      <th>I_R3</th>\n",
              "      <th>I_R4</th>\n",
              "      <th>I_R5</th>\n",
              "      <th>rotor_angle</th>\n",
              "      <th>Tz</th>\n",
              "    </tr>\n",
              "  </thead>\n",
              "  <tbody>\n",
              "    <tr>\n",
              "      <th>0</th>\n",
              "      <td>-2</td>\n",
              "      <td>-2</td>\n",
              "      <td>-2</td>\n",
              "      <td>0</td>\n",
              "      <td>0</td>\n",
              "      <td>0</td>\n",
              "      <td>0</td>\n",
              "      <td>-0.172059</td>\n",
              "    </tr>\n",
              "    <tr>\n",
              "      <th>1</th>\n",
              "      <td>0</td>\n",
              "      <td>2</td>\n",
              "      <td>0</td>\n",
              "      <td>2</td>\n",
              "      <td>0</td>\n",
              "      <td>0</td>\n",
              "      <td>0</td>\n",
              "      <td>-3.782782</td>\n",
              "    </tr>\n",
              "    <tr>\n",
              "      <th>2</th>\n",
              "      <td>-2</td>\n",
              "      <td>0</td>\n",
              "      <td>0</td>\n",
              "      <td>0</td>\n",
              "      <td>0</td>\n",
              "      <td>2</td>\n",
              "      <td>0</td>\n",
              "      <td>1.065444</td>\n",
              "    </tr>\n",
              "    <tr>\n",
              "      <th>3</th>\n",
              "      <td>0</td>\n",
              "      <td>2</td>\n",
              "      <td>0</td>\n",
              "      <td>2</td>\n",
              "      <td>0</td>\n",
              "      <td>2</td>\n",
              "      <td>0</td>\n",
              "      <td>-0.267276</td>\n",
              "    </tr>\n",
              "    <tr>\n",
              "      <th>4</th>\n",
              "      <td>0</td>\n",
              "      <td>2</td>\n",
              "      <td>0</td>\n",
              "      <td>2</td>\n",
              "      <td>-2</td>\n",
              "      <td>0</td>\n",
              "      <td>0</td>\n",
              "      <td>-0.144341</td>\n",
              "    </tr>\n",
              "  </tbody>\n",
              "</table>\n",
              "</div>"
            ],
            "text/plain": [
              "   I_S3  I_S4  I_S5  I_R3  I_R4  I_R5  rotor_angle        Tz\n",
              "0    -2    -2    -2     0     0     0            0 -0.172059\n",
              "1     0     2     0     2     0     0            0 -3.782782\n",
              "2    -2     0     0     0     0     2            0  1.065444\n",
              "3     0     2     0     2     0     2            0 -0.267276\n",
              "4     0     2     0     2    -2     0            0 -0.144341"
            ]
          },
          "metadata": {},
          "execution_count": 8
        }
      ]
    },
    {
      "cell_type": "code",
      "metadata": {
        "colab": {
          "base_uri": "https://localhost:8080/"
        },
        "id": "YKR8WXXM7Y0a",
        "outputId": "d75aada3-88b9-4e1c-b46a-c0c7422b8a49"
      },
      "source": [
        "columns_excitation = [col for col in df.columns if 'I_' in col]\n",
        "columns_excitation"
      ],
      "execution_count": null,
      "outputs": [
        {
          "output_type": "execute_result",
          "data": {
            "text/plain": [
              "['I_S3', 'I_S4', 'I_S5', 'I_R3', 'I_R4', 'I_R5']"
            ]
          },
          "metadata": {},
          "execution_count": 9
        }
      ]
    },
    {
      "cell_type": "code",
      "metadata": {
        "colab": {
          "base_uri": "https://localhost:8080/"
        },
        "id": "yGTUQP9spJ6-",
        "outputId": "b09e1ca4-e6d0-43de-9fe7-878f735e916c"
      },
      "source": [
        "for col in df:\n",
        "  print(col, df[col].unique())"
      ],
      "execution_count": null,
      "outputs": [
        {
          "output_type": "stream",
          "name": "stdout",
          "text": [
            "I_S3 [-2  0  2]\n",
            "I_S4 [-2  2  0]\n",
            "I_S5 [-2  0  2]\n",
            "I_R3 [0 2]\n",
            "I_R4 [ 0 -2]\n",
            "I_R5 [0 2]\n",
            "rotor_angle [ 0  1  2  3  4  5  6  7  8  9 10 11]\n",
            "Tz [-0.17205875 -3.78278218  1.06544374 ... 14.13400509 -0.23232979\n",
            " -5.37535178]\n"
          ]
        }
      ]
    },
    {
      "cell_type": "code",
      "metadata": {
        "id": "k5BHC4gYDVjl"
      },
      "source": [
        "from plotly.subplots import make_subplots\n",
        "import plotly.graph_objects as go"
      ],
      "execution_count": null,
      "outputs": []
    },
    {
      "cell_type": "code",
      "metadata": {
        "colab": {
          "base_uri": "https://localhost:8080/",
          "height": 542
        },
        "id": "dAbhEPSrDVjl",
        "outputId": "dfce19de-7d89-4675-8e17-552c16e01cb4"
      },
      "source": [
        "figure = go.Figure()\n",
        "\n",
        "# for column in df_bodyForce_magnitude.columns:\n",
        "for inx, (problem_name, problem_df) in enumerate(df_3S3R_rotor.groupby(columns_excitation)):\n",
        "\n",
        "  label = [col[2:4] + ':' + str(problem_name[index]) for index, col in enumerate(columns_excitation)]\n",
        "  label = ', '.join(label)\n",
        "\n",
        "  figure.add_trace(go.Scatter(x = problem_df['rotor_angle'], y = problem_df['Tz'], \\\n",
        "      mode = 'markers+lines', name = label, yaxis = 'y1',\n",
        "      hovertemplate='<b>x:%{x:.3f}</b><br>y:%{y}'\n",
        "      ))\n",
        "\n",
        "figure.update_yaxes(title_text = 'Mid Rotor Pole Torque Magnitude [N-m]')\n",
        "figure.update_xaxes(title_text = 'Rotor Position [°]')\n",
        "figure.show()"
      ],
      "execution_count": null,
      "outputs": [
        {
          "output_type": "display_data",
          "data": {
            "text/html": [
              "<html>\n",
              "<head><meta charset=\"utf-8\" /></head>\n",
              "<body>\n",
              "    <div>\n",
              "            <script src=\"https://cdnjs.cloudflare.com/ajax/libs/mathjax/2.7.5/MathJax.js?config=TeX-AMS-MML_SVG\"></script><script type=\"text/javascript\">if (window.MathJax) {MathJax.Hub.Config({SVG: {font: \"STIX-Web\"}});}</script>\n",
              "                <script type=\"text/javascript\">window.PlotlyConfig = {MathJaxConfig: 'local'};</script>\n",
              "        <script src=\"https://cdn.plot.ly/plotly-latest.min.js\"></script>    \n",
              "            <div id=\"b3f86592-6135-4a43-89d5-4941a22dc3c8\" class=\"plotly-graph-div\" style=\"height:525px; width:100%;\"></div>\n",
              "            <script type=\"text/javascript\">\n",
              "                \n",
              "                    window.PLOTLYENV=window.PLOTLYENV || {};\n",
              "                    \n",
              "                if (document.getElementById(\"b3f86592-6135-4a43-89d5-4941a22dc3c8\")) {\n",
              "                    Plotly.newPlot(\n",
              "                        'b3f86592-6135-4a43-89d5-4941a22dc3c8',\n",
              "                        [{\"hovertemplate\": \"<b>x:%{x:.3f}</b><br>y:%{y}\", \"mode\": \"markers+lines\", \"name\": \"S3:-2, S4:-2, S5:-2, R3:0, R4:-2, R5:0\", \"type\": \"scatter\", \"x\": [0, 1, 2, 3, 4, 5, 6, 7, 8, 9, 10, 11], \"y\": [-0.3672428145, -15.17853902, -22.00995695, -27.09424608, -23.93605476, -10.76721521, -1.795062914, 8.881831398, 19.26632087, 18.19627665, 12.68492441, 5.634738037999999], \"yaxis\": \"y\"}, {\"hovertemplate\": \"<b>x:%{x:.3f}</b><br>y:%{y}\", \"mode\": \"markers+lines\", \"name\": \"S3:-2, S4:-2, S5:-2, R3:0, R4:-2, R5:2\", \"type\": \"scatter\", \"x\": [0, 1, 2, 3, 4, 5, 6, 7, 8, 9, 10, 11], \"y\": [-5.264368096, -21.26168451, -28.99763801, -33.67965234, -29.7097524, -15.91001999, -6.182532713, 5.177163694, 15.87648305, 15.43372706, 10.85483846, 4.678997441], \"yaxis\": \"y\"}, {\"hovertemplate\": \"<b>x:%{x:.3f}</b><br>y:%{y}\", \"mode\": \"markers+lines\", \"name\": \"S3:-2, S4:-2, S5:-2, R3:0, R4:0, R5:0\", \"type\": \"scatter\", \"x\": [0, 1, 2, 3, 4, 5, 6, 7, 8, 9, 10, 11], \"y\": [-0.1720587502, -4.828422837, -4.410878938, -4.481488698, -4.522245009, -1.9622837359999998, -1.9126218869999998, -0.4080646586, 1.4056124680000002, 0.5572464731, 0.9047493168999999, 0.8362880773], \"yaxis\": \"y\"}, {\"hovertemplate\": \"<b>x:%{x:.3f}</b><br>y:%{y}\", \"mode\": \"markers+lines\", \"name\": \"S3:-2, S4:-2, S5:-2, R3:0, R4:0, R5:2\", \"type\": \"scatter\", \"x\": [0, 1, 2, 3, 4, 5, 6, 7, 8, 9, 10, 11], \"y\": [-2.519956492, -7.23186952, -7.281904057999999, -7.660842542999999, -7.780670261, -4.989731782, -4.345097099, -2.423053437, -0.12452409939999999, -0.447200221, 0.4327453285, 1.003420169], \"yaxis\": \"y\"}, {\"hovertemplate\": \"<b>x:%{x:.3f}</b><br>y:%{y}\", \"mode\": \"markers+lines\", \"name\": \"S3:-2, S4:-2, S5:-2, R3:2, R4:-2, R5:0\", \"type\": \"scatter\", \"x\": [0, 1, 2, 3, 4, 5, 6, 7, 8, 9, 10, 11], \"y\": [4.839373295, -10.51153569, -16.70279136, -20.97233034, -16.85291327, -3.3996173030000003, 6.27688506, 17.27806903, 27.65288483, 26.70397063, 20.49951577, 12.04364599], \"yaxis\": \"y\"}, {\"hovertemplate\": \"<b>x:%{x:.3f}</b><br>y:%{y}\", \"mode\": \"markers+lines\", \"name\": \"S3:-2, S4:-2, S5:-2, R3:2, R4:-2, R5:2\", \"type\": \"scatter\", \"x\": [0, 1, 2, 3, 4, 5, 6, 7, 8, 9, 10, 11], \"y\": [-0.06979016107000001, -16.46150995, -23.42485442, -27.30299037, -22.63790353, -8.598392662, 1.77448466, 13.39833968, 24.02365504, 23.52835449, 18.33928076, 10.83760857], \"yaxis\": \"y\"}, {\"hovertemplate\": \"<b>x:%{x:.3f}</b><br>y:%{y}\", \"mode\": \"markers+lines\", \"name\": \"S3:-2, S4:-2, S5:-2, R3:2, R4:0, R5:0\", \"type\": \"scatter\", \"x\": [0, 1, 2, 3, 4, 5, 6, 7, 8, 9, 10, 11], \"y\": [2.380067902, -1.773495984, -1.2868482079999999, -1.3316930329999999, -0.9454094881, 2.124021222, 2.8130862000000003, 4.650578826, 6.108060691, 4.65808157, 4.4269032, 3.6128864239999996], \"yaxis\": \"y\"}, {\"hovertemplate\": \"<b>x:%{x:.3f}</b><br>y:%{y}\", \"mode\": \"markers+lines\", \"name\": \"S3:-2, S4:-2, S5:-2, R3:2, R4:0, R5:2\", \"type\": \"scatter\", \"x\": [0, 1, 2, 3, 4, 5, 6, 7, 8, 9, 10, 11], \"y\": [0.008375249297, -4.167272292, -4.101659918999999, -4.45991809, -4.210301658000001, -0.9655880486, 0.25702257510000004, 2.466874073, 4.344497512, 3.371695584, 3.6878742589999995, 3.514511681], \"yaxis\": \"y\"}, {\"hovertemplate\": \"<b>x:%{x:.3f}</b><br>y:%{y}\", \"mode\": \"markers+lines\", \"name\": \"S3:-2, S4:-2, S5:0, R3:0, R4:-2, R5:0\", \"type\": \"scatter\", \"x\": [0, 1, 2, 3, 4, 5, 6, 7, 8, 9, 10, 11], \"y\": [-4.48613253, -20.88228809, -29.45357501, -35.64183008, -34.11333877, -24.3011555, -18.41737688, -11.14534221, -5.3762238920000005, -3.781302834, -1.748903635, -1.454525368], \"yaxis\": \"y\"}, {\"hovertemplate\": \"<b>x:%{x:.3f}</b><br>y:%{y}\", \"mode\": \"markers+lines\", \"name\": \"S3:-2, S4:-2, S5:0, R3:0, R4:-2, R5:2\", \"type\": \"scatter\", \"x\": [0, 1, 2, 3, 4, 5, 6, 7, 8, 9, 10, 11], \"y\": [-7.328142794, -23.41960108, -31.45353808, -36.44668419, -34.45250598, -24.64019972, -18.79438434, -11.69999753, -6.316369217999999, -4.9559523510000005, -2.7681403189999996, -2.104789069], \"yaxis\": \"y\"}, {\"hovertemplate\": \"<b>x:%{x:.3f}</b><br>y:%{y}\", \"mode\": \"markers+lines\", \"name\": \"S3:-2, S4:-2, S5:0, R3:0, R4:0, R5:0\", \"type\": \"scatter\", \"x\": [0, 1, 2, 3, 4, 5, 6, 7, 8, 9, 10, 11], \"y\": [-2.476311882, -7.478127705, -7.815175892999999, -8.636499991, -9.956776232000001, -8.962721568, -8.902646309, -8.053774947, -6.028709597000001, -4.145851703, -2.778072715, -1.410072978], \"yaxis\": \"y\"}, {\"hovertemplate\": \"<b>x:%{x:.3f}</b><br>y:%{y}\", \"mode\": \"markers+lines\", \"name\": \"S3:-2, S4:-2, S5:0, R3:0, R4:0, R5:2\", \"type\": \"scatter\", \"x\": [0, 1, 2, 3, 4, 5, 6, 7, 8, 9, 10, 11], \"y\": [-2.297635332, -6.031128787999999, -5.728289801, -6.5050159160000005, -8.110461217000001, -7.392464058, -7.50538573, -6.891208182000001, -4.962818111, -3.163837523, -1.83008923, -0.4115913256], \"yaxis\": \"y\"}, {\"hovertemplate\": \"<b>x:%{x:.3f}</b><br>y:%{y}\", \"mode\": \"markers+lines\", \"name\": \"S3:-2, S4:-2, S5:0, R3:2, R4:-2, R5:0\", \"type\": \"scatter\", \"x\": [0, 1, 2, 3, 4, 5, 6, 7, 8, 9, 10, 11], \"y\": [0.9831708185, -15.86611917, -23.67202114, -28.8655748, -26.52532407, -16.27273746, -9.585588241, -2.0826205630000003, 3.52403648, 4.043385888, 4.381564573, 3.464278508], \"yaxis\": \"y\"}, {\"hovertemplate\": \"<b>x:%{x:.3f}</b><br>y:%{y}\", \"mode\": \"markers+lines\", \"name\": \"S3:-2, S4:-2, S5:0, R3:2, R4:-2, R5:2\", \"type\": \"scatter\", \"x\": [0, 1, 2, 3, 4, 5, 6, 7, 8, 9, 10, 11], \"y\": [-1.843772545, -18.23981951, -25.37741959, -29.5123474, -26.90123792, -16.67739905, -10.08182236, -2.805539571, 2.350079966, 2.58522286, 3.093387973, 2.550784155], \"yaxis\": \"y\"}, {\"hovertemplate\": \"<b>x:%{x:.3f}</b><br>y:%{y}\", \"mode\": \"markers+lines\", \"name\": \"S3:-2, S4:-2, S5:0, R3:2, R4:0, R5:0\", \"type\": \"scatter\", \"x\": [0, 1, 2, 3, 4, 5, 6, 7, 8, 9, 10, 11], \"y\": [0.38682819, -4.100372279, -4.338264314, -5.093951828, -5.898918924, -4.236050165, -3.383583331, -2.194757756, -0.7380954549, -0.1081229598, -0.1023020361, -0.15903492689999998], \"yaxis\": \"y\"}, {\"hovertemplate\": \"<b>x:%{x:.3f}</b><br>y:%{y}\", \"mode\": \"markers+lines\", \"name\": \"S3:-2, S4:-2, S5:0, R3:2, R4:0, R5:2\", \"type\": \"scatter\", \"x\": [0, 1, 2, 3, 4, 5, 6, 7, 8, 9, 10, 11], \"y\": [0.5445243633, -2.66462274, -2.210407557, -2.9377952130000002, -4.0847440839999996, -2.7440037860000004, -2.120359583, -1.216070328, 0.07105496136, 0.576729455, 0.5757056825, 0.5745711218], \"yaxis\": \"y\"}, {\"hovertemplate\": \"<b>x:%{x:.3f}</b><br>y:%{y}\", \"mode\": \"markers+lines\", \"name\": \"S3:-2, S4:-2, S5:2, R3:0, R4:-2, R5:0\", \"type\": \"scatter\", \"x\": [0, 1, 2, 3, 4, 5, 6, 7, 8, 9, 10, 11], \"y\": [-7.158398618, -23.3048678, -31.48730238, -36.10278839, -33.13069402, -24.22402719, -20.78323018, -18.00569524, -18.04828014, -15.78213675, -9.665285264, -4.73788255], \"yaxis\": \"y\"}, {\"hovertemplate\": \"<b>x:%{x:.3f}</b><br>y:%{y}\", \"mode\": \"markers+lines\", \"name\": \"S3:-2, S4:-2, S5:2, R3:0, R4:-2, R5:2\", \"type\": \"scatter\", \"x\": [0, 1, 2, 3, 4, 5, 6, 7, 8, 9, 10, 11], \"y\": [-7.9032751470000004, -22.46055269, -28.60023576, -31.70543791, -28.69278368, -20.45103671, -17.68296003, -15.791471300000001, -16.77402245, -15.08375688, -9.30226043, -4.553390359], \"yaxis\": \"y\"}, {\"hovertemplate\": \"<b>x:%{x:.3f}</b><br>y:%{y}\", \"mode\": \"markers+lines\", \"name\": \"S3:-2, S4:-2, S5:2, R3:0, R4:0, R5:0\", \"type\": \"scatter\", \"x\": [0, 1, 2, 3, 4, 5, 6, 7, 8, 9, 10, 11], \"y\": [-2.935508659, -6.479271734, -5.571290643999999, -4.636012145, -3.917945477, -1.318241392, -0.7978700298, 0.34681231450000005, 2.295226039, 2.166843932, 2.958470337, 3.07034016], \"yaxis\": \"y\"}, {\"hovertemplate\": \"<b>x:%{x:.3f}</b><br>y:%{y}\", \"mode\": \"markers+lines\", \"name\": \"S3:-2, S4:-2, S5:2, R3:0, R4:0, R5:2\", \"type\": \"scatter\", \"x\": [0, 1, 2, 3, 4, 5, 6, 7, 8, 9, 10, 11], \"y\": [-0.9265913576, -2.004227534, 0.7825741892, 2.207777111, 2.673589571, 4.4840225810000005, 4.165678514, 4.537487683999999, 5.821730095, 5.051670594, 5.2879314630000005, 4.877898292], \"yaxis\": \"y\"}, {\"hovertemplate\": \"<b>x:%{x:.3f}</b><br>y:%{y}\", \"mode\": \"markers+lines\", \"name\": \"S3:-2, S4:-2, S5:2, R3:2, R4:-2, R5:0\", \"type\": \"scatter\", \"x\": [0, 1, 2, 3, 4, 5, 6, 7, 8, 9, 10, 11], \"y\": [-1.406695384, -17.89793486, -25.19501392, -28.71433399, -25.04184677, -15.47536968, -11.19495421, -8.232045227, -9.001380237000001, -8.673461716, -4.696949722, -1.570236815], \"yaxis\": \"y\"}, {\"hovertemplate\": \"<b>x:%{x:.3f}</b><br>y:%{y}\", \"mode\": \"markers+lines\", \"name\": \"S3:-2, S4:-2, S5:2, R3:2, R4:-2, R5:2\", \"type\": \"scatter\", \"x\": [0, 1, 2, 3, 4, 5, 6, 7, 8, 9, 10, 11], \"y\": [-2.13363931, -16.87042676, -21.97921962, -24.28687307, -20.65909962, -11.77468924, -8.208531617, -6.172641381, -7.9672174579999995, -8.270641557000001, -4.607275063, -1.6455549919999999], \"yaxis\": \"y\"}, {\"hovertemplate\": \"<b>x:%{x:.3f}</b><br>y:%{y}\", \"mode\": \"markers+lines\", \"name\": \"S3:-2, S4:-2, S5:2, R3:2, R4:0, R5:0\", \"type\": \"scatter\", \"x\": [0, 1, 2, 3, 4, 5, 6, 7, 8, 9, 10, 11], \"y\": [0.24467275019999998, -2.793822102, -1.7328801569999999, -0.6835839336, 0.6306707671, 4.084035446000001, 5.4835472020000005, 6.968369152, 8.070954891, 6.010573777, 4.674639585, 2.710254585], \"yaxis\": \"y\"}, {\"hovertemplate\": \"<b>x:%{x:.3f}</b><br>y:%{y}\", \"mode\": \"markers+lines\", \"name\": \"S3:-2, S4:-2, S5:2, R3:2, R4:0, R5:2\", \"type\": \"scatter\", \"x\": [0, 1, 2, 3, 4, 5, 6, 7, 8, 9, 10, 11], \"y\": [2.143758479, 1.590218154, 4.623018085, 6.172935612000001, 7.187836155, 9.813648861, 10.32196753, 10.99282312, 11.36905597, 8.612903654, 6.732830787999999, 4.248009175], \"yaxis\": \"y\"}, {\"hovertemplate\": \"<b>x:%{x:.3f}</b><br>y:%{y}\", \"mode\": \"markers+lines\", \"name\": \"S3:-2, S4:0, S5:-2, R3:0, R4:-2, R5:0\", \"type\": \"scatter\", \"x\": [0, 1, 2, 3, 4, 5, 6, 7, 8, 9, 10, 11], \"y\": [-0.30364403489999997, -4.224123808, -2.619813913, -0.563569167, 2.9198267760000003, 10.70711043, 16.75923618, 23.56927037, 30.62540924, 27.73388653, 20.25168832, 11.06986274], \"yaxis\": \"y\"}, {\"hovertemplate\": \"<b>x:%{x:.3f}</b><br>y:%{y}\", \"mode\": \"markers+lines\", \"name\": \"S3:-2, S4:0, S5:-2, R3:0, R4:-2, R5:2\", \"type\": \"scatter\", \"x\": [0, 1, 2, 3, 4, 5, 6, 7, 8, 9, 10, 11], \"y\": [-4.5710866789999995, -8.656888128, -8.153911557999999, -7.127873333999999, -3.573129435, 4.745971407, 11.5495594, 19.14136902, 26.63246096, 24.39881946, 18.01539549, 9.764550315], \"yaxis\": \"y\"}, {\"hovertemplate\": \"<b>x:%{x:.3f}</b><br>y:%{y}\", \"mode\": \"markers+lines\", \"name\": \"S3:-2, S4:0, S5:-2, R3:0, R4:0, R5:0\", \"type\": \"scatter\", \"x\": [0, 1, 2, 3, 4, 5, 6, 7, 8, 9, 10, 11], \"y\": [-0.05997207621, 1.146246095, 2.422897828, 3.822479635, 5.515658429, 7.133698361, 7.210878369, 7.658595482000001, 7.5461604939999996, 5.259222365, 4.5862058139999995, 3.369610475], \"yaxis\": \"y\"}, {\"hovertemplate\": \"<b>x:%{x:.3f}</b><br>y:%{y}\", \"mode\": \"markers+lines\", \"name\": \"S3:-2, S4:0, S5:-2, R3:0, R4:0, R5:2\", \"type\": \"scatter\", \"x\": [0, 1, 2, 3, 4, 5, 6, 7, 8, 9, 10, 11], \"y\": [-0.5492642543, -0.2954197386, -0.12678508060000002, 0.2397393375, 1.495649569, 3.2219157060000003, 3.9080361619999997, 4.934786228, 5.410604888, 3.739595201, 3.679203717, 3.1145753060000003], \"yaxis\": \"y\"}, {\"hovertemplate\": \"<b>x:%{x:.3f}</b><br>y:%{y}\", \"mode\": \"markers+lines\", \"name\": \"S3:-2, S4:0, S5:-2, R3:2, R4:-2, R5:0\", \"type\": \"scatter\", \"x\": [0, 1, 2, 3, 4, 5, 6, 7, 8, 9, 10, 11], \"y\": [4.251099316, 0.2288052413, 1.567770023, 3.044650991, 5.640791551, 12.4662399, 17.95759701, 24.3041467, 31.31868019, 29.15120691, 22.68279782, 14.27081177], \"yaxis\": \"y\"}, {\"hovertemplate\": \"<b>x:%{x:.3f}</b><br>y:%{y}\", \"mode\": \"markers+lines\", \"name\": \"S3:-2, S4:0, S5:-2, R3:2, R4:-2, R5:2\", \"type\": \"scatter\", \"x\": [0, 1, 2, 3, 4, 5, 6, 7, 8, 9, 10, 11], \"y\": [-0.03852969715, -4.181769485, -3.9072472460000003, -3.4645911939999996, -0.8498268298999999, 6.453933322999999, 12.64524378, 19.72517232, 27.13888537, 25.46859486, 20.0922595, 12.69523284], \"yaxis\": \"y\"}, {\"hovertemplate\": \"<b>x:%{x:.3f}</b><br>y:%{y}\", \"mode\": \"markers+lines\", \"name\": \"S3:-2, S4:0, S5:-2, R3:2, R4:0, R5:0\", \"type\": \"scatter\", \"x\": [0, 1, 2, 3, 4, 5, 6, 7, 8, 9, 10, 11], \"y\": [0.5062507507999999, 1.349028242, 2.247780613, 3.288756171, 4.559662337, 5.70383991, 5.3209662369999995, 5.328288902, 5.022367013999999, 2.704479485, 2.592956031, 2.556570082], \"yaxis\": \"y\"}, {\"hovertemplate\": \"<b>x:%{x:.3f}</b><br>y:%{y}\", \"mode\": \"markers+lines\", \"name\": \"S3:-2, S4:0, S5:-2, R3:2, R4:0, R5:2\", \"type\": \"scatter\", \"x\": [0, 1, 2, 3, 4, 5, 6, 7, 8, 9, 10, 11], \"y\": [-0.007090355111999999, -0.1265199219, -0.2774288409, -0.23679779129999998, 0.5559341384, 1.756493621, 1.9257753519999998, 2.464952097, 2.697859347, 0.939558578, 1.433656803, 2.04311752], \"yaxis\": \"y\"}, {\"hovertemplate\": \"<b>x:%{x:.3f}</b><br>y:%{y}\", \"mode\": \"markers+lines\", \"name\": \"S3:-2, S4:0, S5:0, R3:0, R4:-2, R5:0\", \"type\": \"scatter\", \"x\": [0, 1, 2, 3, 4, 5, 6, 7, 8, 9, 10, 11], \"y\": [-4.092662321000001, -8.398125887, -8.347784493999999, -8.382311187, -7.376303101, -2.88734528, 0.01083647671, 3.325458208, 5.878105532, 4.574564265, 4.101662661000001, 2.751292587], \"yaxis\": \"y\"}, {\"hovertemplate\": \"<b>x:%{x:.3f}</b><br>y:%{y}\", \"mode\": \"markers+lines\", \"name\": \"S3:-2, S4:0, S5:0, R3:0, R4:-2, R5:2\", \"type\": \"scatter\", \"x\": [0, 1, 2, 3, 4, 5, 6, 7, 8, 9, 10, 11], \"y\": [-5.841062227, -8.964885575, -8.811596447000001, -9.281932699999999, -8.445285598, -4.028790313, -1.202765256, 2.05433805, 4.324691221, 2.881765309, 2.646260305, 1.682902034], \"yaxis\": \"y\"}, {\"hovertemplate\": \"<b>x:%{x:.3f}</b><br>y:%{y}\", \"mode\": \"markers+lines\", \"name\": \"S3:-2, S4:0, S5:0, R3:0, R4:0, R5:0\", \"type\": \"scatter\", \"x\": [0, 1, 2, 3, 4, 5, 6, 7, 8, 9, 10, 11], \"y\": [-1.0246755029999999, -0.6688792516, -0.3781197768, -0.1795259905, -0.0638096953, -0.008456822514, 0.001830616312, 0.001441149051, -0.00011495395399999999, -0.001947969754, -0.003944065869, -0.002549942864], \"yaxis\": \"y\"}, {\"hovertemplate\": \"<b>x:%{x:.3f}</b><br>y:%{y}\", \"mode\": \"markers+lines\", \"name\": \"S3:-2, S4:0, S5:0, R3:0, R4:0, R5:2\", \"type\": \"scatter\", \"x\": [0, 1, 2, 3, 4, 5, 6, 7, 8, 9, 10, 11], \"y\": [1.0654437429999999, 1.756410235, 2.098268771, 1.6361782919999999, 1.0676056040000002, 0.6994611073999999, 0.5120280158, 0.41659329549999996, 0.41081655229999997, 0.4349978821, 0.4974908132, 0.5677641979], \"yaxis\": \"y\"}, {\"hovertemplate\": \"<b>x:%{x:.3f}</b><br>y:%{y}\", \"mode\": \"markers+lines\", \"name\": \"S3:-2, S4:0, S5:0, R3:2, R4:-2, R5:0\", \"type\": \"scatter\", \"x\": [0, 1, 2, 3, 4, 5, 6, 7, 8, 9, 10, 11], \"y\": [0.7633999131999999, -3.627500274, -3.810532067, -4.381589018000001, -4.157616798, -0.468333313, 1.9791715140000001, 4.7610904430000005, 7.101195692, 5.465431616, 4.647298483999999, 4.050288913], \"yaxis\": \"y\"}, {\"hovertemplate\": \"<b>x:%{x:.3f}</b><br>y:%{y}\", \"mode\": \"markers+lines\", \"name\": \"S3:-2, S4:0, S5:0, R3:2, R4:-2, R5:2\", \"type\": \"scatter\", \"x\": [0, 1, 2, 3, 4, 5, 6, 7, 8, 9, 10, 11], \"y\": [-0.9947091279000001, -4.190290868, -4.227432611, -5.2573733769999995, -5.250855592, -1.6760703559999999, 0.6580339056, 3.3442299380000002, 5.363657756, 3.53110308, 2.938662537, 2.724388484], \"yaxis\": \"y\"}, {\"hovertemplate\": \"<b>x:%{x:.3f}</b><br>y:%{y}\", \"mode\": \"markers+lines\", \"name\": \"S3:-2, S4:0, S5:0, R3:2, R4:0, R5:0\", \"type\": \"scatter\", \"x\": [0, 1, 2, 3, 4, 5, 6, 7, 8, 9, 10, 11], \"y\": [-0.1362296534, -0.1781232607, -0.2163324156, -0.2875483761, -0.47785107039999997, -0.7360512711, -1.059582419, -1.520252832, -2.004331416, -2.6983673319999997, -2.914116581, -2.394467979], \"yaxis\": \"y\"}, {\"hovertemplate\": \"<b>x:%{x:.3f}</b><br>y:%{y}\", \"mode\": \"markers+lines\", \"name\": \"S3:-2, S4:0, S5:0, R3:2, R4:0, R5:2\", \"type\": \"scatter\", \"x\": [0, 1, 2, 3, 4, 5, 6, 7, 8, 9, 10, 11], \"y\": [1.925338756, 2.207358541, 2.266569555, 1.548784625, 0.6411194004999999, -0.09238939921, -0.6560659932999999, -1.260188841, -1.79868117, -2.514859816, -2.6622401769999997, -2.076154792], \"yaxis\": \"y\"}, {\"hovertemplate\": \"<b>x:%{x:.3f}</b><br>y:%{y}\", \"mode\": \"markers+lines\", \"name\": \"S3:-2, S4:0, S5:2, R3:0, R4:-2, R5:0\", \"type\": \"scatter\", \"x\": [0, 1, 2, 3, 4, 5, 6, 7, 8, 9, 10, 11], \"y\": [-6.089573829, -9.002089962000001, -8.552429852000001, -8.24641445, -6.442354514, -2.616731014, -2.481345333, -3.595096295, -7.25050274, -8.583748827, -4.982746443, -1.8499610869999998], \"yaxis\": \"y\"}, {\"hovertemplate\": \"<b>x:%{x:.3f}</b><br>y:%{y}\", \"mode\": \"markers+lines\", \"name\": \"S3:-2, S4:0, S5:2, R3:0, R4:-2, R5:2\", \"type\": \"scatter\", \"x\": [0, 1, 2, 3, 4, 5, 6, 7, 8, 9, 10, 11], \"y\": [-5.598304762000001, -6.281410114, -4.527052304, -4.227357423, -2.7336434560000002, 0.3623265189, -0.2133809244, -2.078487215, -6.608247334, -8.426605208, -5.067010415, -2.08510172], \"yaxis\": \"y\"}, {\"hovertemplate\": \"<b>x:%{x:.3f}</b><br>y:%{y}\", \"mode\": \"markers+lines\", \"name\": \"S3:-2, S4:0, S5:2, R3:0, R4:0, R5:0\", \"type\": \"scatter\", \"x\": [0, 1, 2, 3, 4, 5, 6, 7, 8, 9, 10, 11], \"y\": [-0.059275638729999997, 1.21519381, 2.594064055, 4.0884979, 5.895946259, 7.661804834, 7.900775997999999, 8.351631345, 8.111695897999999, 5.612490675, 4.69935283, 3.256116627], \"yaxis\": \"y\"}, {\"hovertemplate\": \"<b>x:%{x:.3f}</b><br>y:%{y}\", \"mode\": \"markers+lines\", \"name\": \"S3:-2, S4:0, S5:2, R3:0, R4:0, R5:2\", \"type\": \"scatter\", \"x\": [0, 1, 2, 3, 4, 5, 6, 7, 8, 9, 10, 11], \"y\": [3.0825277030000002, 6.15321904, 9.125236184, 10.62706138, 11.8523034, 12.70019975, 12.01092176, 11.825612199999998, 11.02020169, 7.969926762999999, 6.584449247999999, 4.634504551], \"yaxis\": \"y\"}, {\"hovertemplate\": \"<b>x:%{x:.3f}</b><br>y:%{y}\", \"mode\": \"markers+lines\", \"name\": \"S3:-2, S4:0, S5:2, R3:2, R4:-2, R5:0\", \"type\": \"scatter\", \"x\": [0, 1, 2, 3, 4, 5, 6, 7, 8, 9, 10, 11], \"y\": [-0.9115530404000001, -3.916206663, -3.651003485, -3.841260765, -2.7179751060000004, 0.5118057665, 0.2535936438, -1.4559779640000001, -5.797840346, -8.379936435, -5.636818168, -2.348370931], \"yaxis\": \"y\"}, {\"hovertemplate\": \"<b>x:%{x:.3f}</b><br>y:%{y}\", \"mode\": \"markers+lines\", \"name\": \"S3:-2, S4:0, S5:2, R3:2, R4:-2, R5:2\", \"type\": \"scatter\", \"x\": [0, 1, 2, 3, 4, 5, 6, 7, 8, 9, 10, 11], \"y\": [-0.4966995123, -1.254275316, 0.3878711825, 0.1823597391, 0.9585255951999999, 3.427272344, 2.417628821, -0.07096148766, -5.339107238, -8.469247199, -5.97190727, -2.83266326], \"yaxis\": \"y\"}, {\"hovertemplate\": \"<b>x:%{x:.3f}</b><br>y:%{y}\", \"mode\": \"markers+lines\", \"name\": \"S3:-2, S4:0, S5:2, R3:2, R4:0, R5:0\", \"type\": \"scatter\", \"x\": [0, 1, 2, 3, 4, 5, 6, 7, 8, 9, 10, 11], \"y\": [1.150576679, 1.9965381869999999, 3.0947995319999997, 4.408656713, 6.030566914, 7.64066402, 7.681764495, 7.647464086, 6.686779976, 2.9027208389999997, 1.015661868, -0.5966497306], \"yaxis\": \"y\"}, {\"hovertemplate\": \"<b>x:%{x:.3f}</b><br>y:%{y}\", \"mode\": \"markers+lines\", \"name\": \"S3:-2, S4:0, S5:2, R3:2, R4:0, R5:2\", \"type\": \"scatter\", \"x\": [0, 1, 2, 3, 4, 5, 6, 7, 8, 9, 10, 11], \"y\": [4.14368464, 6.807086514, 9.598895758, 10.95801599, 11.97922336, 12.62474362, 11.69253549, 10.98537249, 9.418941709, 5.028217452, 2.658215904, 0.5315697439], \"yaxis\": \"y\"}, {\"hovertemplate\": \"<b>x:%{x:.3f}</b><br>y:%{y}\", \"mode\": \"markers+lines\", \"name\": \"S3:-2, S4:2, S5:-2, R3:0, R4:-2, R5:0\", \"type\": \"scatter\", \"x\": [0, 1, 2, 3, 4, 5, 6, 7, 8, 9, 10, 11], \"y\": [-0.1352434061, 4.70056273, 10.33710722, 15.24285413, 15.51989951, 16.47254239, 18.73213934, 22.80843495, 30.06855834, 28.89638194, 22.44330491, 13.86125171], \"yaxis\": \"y\"}, {\"hovertemplate\": \"<b>x:%{x:.3f}</b><br>y:%{y}\", \"mode\": \"markers+lines\", \"name\": \"S3:-2, S4:2, S5:-2, R3:0, R4:-2, R5:2\", \"type\": \"scatter\", \"x\": [0, 1, 2, 3, 4, 5, 6, 7, 8, 9, 10, 11], \"y\": [-2.2699408080000003, 1.4544517819999998, 5.492768314, 8.803353472000001, 8.436298685, 9.706176269, 12.69546587, 17.65039838, 25.47243683, 24.98756154, 19.78173753, 12.19590509], \"yaxis\": \"y\"}, {\"hovertemplate\": \"<b>x:%{x:.3f}</b><br>y:%{y}\", \"mode\": \"markers+lines\", \"name\": \"S3:-2, S4:2, S5:-2, R3:0, R4:0, R5:0\", \"type\": \"scatter\", \"x\": [0, 1, 2, 3, 4, 5, 6, 7, 8, 9, 10, 11], \"y\": [0.03487008385, -2.5758746219999997, -2.020705338, -2.063583975, -2.425209896, -0.9697257164, -1.181648513, -0.3827255679, 1.530630919, 1.564908566, 2.6259110619999997, 2.893607022], \"yaxis\": \"y\"}, {\"hovertemplate\": \"<b>x:%{x:.3f}</b><br>y:%{y}\", \"mode\": \"markers+lines\", \"name\": \"S3:-2, S4:2, S5:-2, R3:0, R4:0, R5:2\", \"type\": \"scatter\", \"x\": [0, 1, 2, 3, 4, 5, 6, 7, 8, 9, 10, 11], \"y\": [1.4459366830000002, -3.084462616, -4.241675289, -5.983761479, -7.139873702, -5.691835172999999, -5.327218263, -3.816914293, -1.221425558, -0.48010299079999996, 1.277059698, 2.211457377], \"yaxis\": \"y\"}, {\"hovertemplate\": \"<b>x:%{x:.3f}</b><br>y:%{y}\", \"mode\": \"markers+lines\", \"name\": \"S3:-2, S4:2, S5:-2, R3:2, R4:-2, R5:0\", \"type\": \"scatter\", \"x\": [0, 1, 2, 3, 4, 5, 6, 7, 8, 9, 10, 11], \"y\": [2.157590086, 6.2998712139999995, 11.19777168, 15.33909623, 14.44918658, 13.33647561, 13.96837357, 16.80915586, 23.95437203, 23.71156146, 19.659072899999998, 14.02169424], \"yaxis\": \"y\"}, {\"hovertemplate\": \"<b>x:%{x:.3f}</b><br>y:%{y}\", \"mode\": \"markers+lines\", \"name\": \"S3:-2, S4:2, S5:-2, R3:2, R4:-2, R5:2\", \"type\": \"scatter\", \"x\": [0, 1, 2, 3, 4, 5, 6, 7, 8, 9, 10, 11], \"y\": [-0.001565962787, 3.02275169, 6.405398214, 8.993267197, 7.377157571000001, 6.5143625489999994, 7.825706017000001, 11.50369774, 19.18631045, 19.5459054, 16.61584283, 12.09717882], \"yaxis\": \"y\"}, {\"hovertemplate\": \"<b>x:%{x:.3f}</b><br>y:%{y}\", \"mode\": \"markers+lines\", \"name\": \"S3:-2, S4:2, S5:-2, R3:2, R4:0, R5:0\", \"type\": \"scatter\", \"x\": [0, 1, 2, 3, 4, 5, 6, 7, 8, 9, 10, 11], \"y\": [-1.4282597719999999, -5.332238337, -5.579941762000001, -6.289892101, -7.730465481, -7.639141825, -9.267388214, -9.609622336000001, -7.680905007000001, -6.974422082999999, -3.970737489, -0.4812142252], \"yaxis\": \"y\"}, {\"hovertemplate\": \"<b>x:%{x:.3f}</b><br>y:%{y}\", \"mode\": \"markers+lines\", \"name\": \"S3:-2, S4:2, S5:-2, R3:2, R4:0, R5:2\", \"type\": \"scatter\", \"x\": [0, 1, 2, 3, 4, 5, 6, 7, 8, 9, 10, 11], \"y\": [-0.041787725510000005, -5.8581593320000005, -7.749722407, -10.16310599, -12.448999699999998, -12.402759199999998, -13.51048211, -13.1760777, -10.609302, -9.243943896000001, -5.502392277999999, -1.317506204], \"yaxis\": \"y\"}, {\"hovertemplate\": \"<b>x:%{x:.3f}</b><br>y:%{y}\", \"mode\": \"markers+lines\", \"name\": \"S3:-2, S4:2, S5:0, R3:0, R4:-2, R5:0\", \"type\": \"scatter\", \"x\": [0, 1, 2, 3, 4, 5, 6, 7, 8, 9, 10, 11], \"y\": [-2.314238441, 1.5232042280000002, 5.522850051, 8.048544762999999, 5.145753448, 2.816236263, 1.789468227, 2.22856543, 5.1432403760000005, 4.663365598, 4.374877334, 3.9776235989999997], \"yaxis\": \"y\"}, {\"hovertemplate\": \"<b>x:%{x:.3f}</b><br>y:%{y}\", \"mode\": \"markers+lines\", \"name\": \"S3:-2, S4:2, S5:0, R3:0, R4:-2, R5:2\", \"type\": \"scatter\", \"x\": [0, 1, 2, 3, 4, 5, 6, 7, 8, 9, 10, 11], \"y\": [-1.8767794780000002, 2.172847345, 5.799283642000001, 7.262046426, 3.474956735, 0.8868705376, -0.2684820783, 0.2287741648, 2.9794923719999997, 2.4508317280000003, 2.477925275, 2.484546941], \"yaxis\": \"y\"}, {\"hovertemplate\": \"<b>x:%{x:.3f}</b><br>y:%{y}\", \"mode\": \"markers+lines\", \"name\": \"S3:-2, S4:2, S5:0, R3:0, R4:0, R5:0\", \"type\": \"scatter\", \"x\": [0, 1, 2, 3, 4, 5, 6, 7, 8, 9, 10, 11], \"y\": [0.4900689831, -3.558934551, -4.182110816000001, -5.831572156, -8.065096096, -8.083112202999999, -8.57983181, -8.084352707, -6.234792115, -4.397941972, -2.994035968, -1.6934699180000001], \"yaxis\": \"y\"}, {\"hovertemplate\": \"<b>x:%{x:.3f}</b><br>y:%{y}\", \"mode\": \"markers+lines\", \"name\": \"S3:-2, S4:2, S5:0, R3:0, R4:0, R5:2\", \"type\": \"scatter\", \"x\": [0, 1, 2, 3, 4, 5, 6, 7, 8, 9, 10, 11], \"y\": [4.36435463, -0.31920048489999997, -1.531277891, -4.431252642, -7.6642673079999994, -8.24027916, -8.950047311, -8.415971052, -6.479540172, -4.506459025, -2.9381681339999997, -1.549164421], \"yaxis\": \"y\"}, {\"hovertemplate\": \"<b>x:%{x:.3f}</b><br>y:%{y}\", \"mode\": \"markers+lines\", \"name\": \"S3:-2, S4:2, S5:0, R3:2, R4:-2, R5:0\", \"type\": \"scatter\", \"x\": [0, 1, 2, 3, 4, 5, 6, 7, 8, 9, 10, 11], \"y\": [0.29103993969999997, 3.405573822, 6.740818927, 8.601123108, 4.57745846, 0.3189137897, -2.209045831, -3.0835334860000003, -0.4051684093, -0.6377466704, 0.03592559409, 2.324434714], \"yaxis\": \"y\"}, {\"hovertemplate\": \"<b>x:%{x:.3f}</b><br>y:%{y}\", \"mode\": \"markers+lines\", \"name\": \"S3:-2, S4:2, S5:0, R3:2, R4:-2, R5:2\", \"type\": \"scatter\", \"x\": [0, 1, 2, 3, 4, 5, 6, 7, 8, 9, 10, 11], \"y\": [0.7064212253000001, 4.022910746, 7.054417598, 7.867831679, 2.8837406760000004, -1.682020566, -4.37766025, -5.2304763969999994, -2.747626687, -3.079150073, -2.07366563, 0.6475237107], \"yaxis\": \"y\"}, {\"hovertemplate\": \"<b>x:%{x:.3f}</b><br>y:%{y}\", \"mode\": \"markers+lines\", \"name\": \"S3:-2, S4:2, S5:0, R3:2, R4:0, R5:0\", \"type\": \"scatter\", \"x\": [0, 1, 2, 3, 4, 5, 6, 7, 8, 9, 10, 11], \"y\": [-0.6609450695, -6.021022368, -7.386085477000001, -9.654905428, -12.87936842, -14.07646849, -15.92134777, -16.60704062, -15.03671026, -13.00790174, -10.02619875, -5.973181435], \"yaxis\": \"y\"}, {\"hovertemplate\": \"<b>x:%{x:.3f}</b><br>y:%{y}\", \"mode\": \"markers+lines\", \"name\": \"S3:-2, S4:2, S5:0, R3:2, R4:0, R5:2\", \"type\": \"scatter\", \"x\": [0, 1, 2, 3, 4, 5, 6, 7, 8, 9, 10, 11], \"y\": [3.173953935, -2.811751633, -4.715265321, -8.249953111, -12.51032659, -14.30530212, -16.40667262, -17.08585464, -15.48041886, -13.35076569, -10.1449866, -5.947534246], \"yaxis\": \"y\"}, {\"hovertemplate\": \"<b>x:%{x:.3f}</b><br>y:%{y}\", \"mode\": \"markers+lines\", \"name\": \"S3:-2, S4:2, S5:2, R3:0, R4:-2, R5:0\", \"type\": \"scatter\", \"x\": [0, 1, 2, 3, 4, 5, 6, 7, 8, 9, 10, 11], \"y\": [-2.594647649, 2.013549746, 6.39231854, 8.9400183, 6.110397112, 3.3038847689999997, -0.9119551473, -4.997589779, -8.483309889, -9.785672383, -6.002647418, -2.046273259], \"yaxis\": \"y\"}, {\"hovertemplate\": \"<b>x:%{x:.3f}</b><br>y:%{y}\", \"mode\": \"markers+lines\", \"name\": \"S3:-2, S4:2, S5:2, R3:0, R4:-2, R5:2\", \"type\": \"scatter\", \"x\": [0, 1, 2, 3, 4, 5, 6, 7, 8, 9, 10, 11], \"y\": [-0.618155483, 5.46865774, 10.85249447, 12.89262484, 9.174929557, 5.502100055, 0.5049534281, -4.183824061, -8.451898307999999, -10.15976688, -6.529864242, -2.7002604989999996], \"yaxis\": \"y\"}, {\"hovertemplate\": \"<b>x:%{x:.3f}</b><br>y:%{y}\", \"mode\": \"markers+lines\", \"name\": \"S3:-2, S4:2, S5:2, R3:0, R4:0, R5:0\", \"type\": \"scatter\", \"x\": [0, 1, 2, 3, 4, 5, 6, 7, 8, 9, 10, 11], \"y\": [2.7995408889999998, -0.9195786895, -0.6949138158, -1.435286689, -2.2330010319999998, -0.5292922438000001, -0.8745745635, 0.2694445748, 1.787572351, 0.6838157621, 0.8181736597, 0.45090514439999996], \"yaxis\": \"y\"}, {\"hovertemplate\": \"<b>x:%{x:.3f}</b><br>y:%{y}\", \"mode\": \"markers+lines\", \"name\": \"S3:-2, S4:2, S5:2, R3:0, R4:0, R5:2\", \"type\": \"scatter\", \"x\": [0, 1, 2, 3, 4, 5, 6, 7, 8, 9, 10, 11], \"y\": [6.781281637, 4.198806009, 5.622795677, 4.5605481889999995, 2.98656099, 3.6927027619999997, 2.3777941719999998, 3.0356584069999997, 4.0915454780000005, 2.528407118, 2.270880965, 1.409161661], \"yaxis\": \"y\"}, {\"hovertemplate\": \"<b>x:%{x:.3f}</b><br>y:%{y}\", \"mode\": \"markers+lines\", \"name\": \"S3:-2, S4:2, S5:2, R3:2, R4:-2, R5:0\", \"type\": \"scatter\", \"x\": [0, 1, 2, 3, 4, 5, 6, 7, 8, 9, 10, 11], \"y\": [0.3313836305, 4.186748625, 7.976676577999999, 9.951494895, 6.034658863, 1.498090035, -4.136718743, -9.635387891, -13.68459404, -15.52383733, -11.03850516, -4.893107135], \"yaxis\": \"y\"}, {\"hovertemplate\": \"<b>x:%{x:.3f}</b><br>y:%{y}\", \"mode\": \"markers+lines\", \"name\": \"S3:-2, S4:2, S5:2, R3:2, R4:-2, R5:2\", \"type\": \"scatter\", \"x\": [0, 1, 2, 3, 4, 5, 6, 7, 8, 9, 10, 11], \"y\": [2.186459253, 7.541054012000001, 12.44548672, 13.94402828, 9.072449849, 3.635617758, -2.828924021, -8.959555576, -13.83377144, -16.13832767, -11.7666112, -5.688531311], \"yaxis\": \"y\"}, {\"hovertemplate\": \"<b>x:%{x:.3f}</b><br>y:%{y}\", \"mode\": \"markers+lines\", \"name\": \"S3:-2, S4:2, S5:2, R3:2, R4:0, R5:0\", \"type\": \"scatter\", \"x\": [0, 1, 2, 3, 4, 5, 6, 7, 8, 9, 10, 11], \"y\": [1.9526215219999998, -3.090590957, -3.555999478, -4.8707482639999995, -6.564500365, -5.882274034, -7.432190951, -7.486482841, -6.406253617000001, -7.649743056, -6.30680754, -4.438699789], \"yaxis\": \"y\"}, {\"hovertemplate\": \"<b>x:%{x:.3f}</b><br>y:%{y}\", \"mode\": \"markers+lines\", \"name\": \"S3:-2, S4:2, S5:2, R3:2, R4:0, R5:2\", \"type\": \"scatter\", \"x\": [0, 1, 2, 3, 4, 5, 6, 7, 8, 9, 10, 11], \"y\": [5.744264384, 1.8927437569999999, 2.735927022, 1.116904559, -1.375607635, -1.730444602, -4.29243715, -4.856493447, -4.279369938, -6.02976699, -5.0138775, -3.565395369], \"yaxis\": \"y\"}, {\"hovertemplate\": \"<b>x:%{x:.3f}</b><br>y:%{y}\", \"mode\": \"markers+lines\", \"name\": \"S3:0, S4:-2, S5:-2, R3:0, R4:-2, R5:0\", \"type\": \"scatter\", \"x\": [0, 1, 2, 3, 4, 5, 6, 7, 8, 9, 10, 11], \"y\": [3.98838135, -11.81901513, -18.83823178, -24.26240372, -21.71378985, -9.510146028, -1.046569225, 9.229600373, 19.42895087, 18.22485576, 12.58400315, 5.3836913179999994], \"yaxis\": \"y\"}, {\"hovertemplate\": \"<b>x:%{x:.3f}</b><br>y:%{y}\", \"mode\": \"markers+lines\", \"name\": \"S3:0, S4:-2, S5:-2, R3:0, R4:-2, R5:2\", \"type\": \"scatter\", \"x\": [0, 1, 2, 3, 4, 5, 6, 7, 8, 9, 10, 11], \"y\": [-1.177292107, -18.06524214, -25.91049875, -30.94311608, -27.63811171, -14.76551409, -5.520150934, 5.455568711000001, 15.97798183, 15.43056462, 10.70977543, 4.358693453], \"yaxis\": \"y\"}, {\"hovertemplate\": \"<b>x:%{x:.3f}</b><br>y:%{y}\", \"mode\": \"markers+lines\", \"name\": \"S3:0, S4:-2, S5:-2, R3:0, R4:0, R5:0\", \"type\": \"scatter\", \"x\": [0, 1, 2, 3, 4, 5, 6, 7, 8, 9, 10, 11], \"y\": [2.2924340030000003, -2.270433586, -2.23108194, -2.8687241460000004, -3.402011289, -1.28427717, -1.431734045, -0.0843620174, 1.592078238, 0.6194206568, 0.8633887802, 0.6440651771], \"yaxis\": \"y\"}, {\"hovertemplate\": \"<b>x:%{x:.3f}</b><br>y:%{y}\", \"mode\": \"markers+lines\", \"name\": \"S3:0, S4:-2, S5:-2, R3:0, R4:0, R5:2\", \"type\": \"scatter\", \"x\": [0, 1, 2, 3, 4, 5, 6, 7, 8, 9, 10, 11], \"y\": [-0.3848259805, -4.9254476039999995, -5.318479878, -6.2426702579999995, -6.8107692360000005, -4.428767306, -3.9560001330000003, -2.169092769, -0.004458685689999999, -0.4532938572, 0.3135218994, 0.7179168384000001], \"yaxis\": \"y\"}, {\"hovertemplate\": \"<b>x:%{x:.3f}</b><br>y:%{y}\", \"mode\": \"markers+lines\", \"name\": \"S3:0, S4:-2, S5:-2, R3:2, R4:-2, R5:0\", \"type\": \"scatter\", \"x\": [0, 1, 2, 3, 4, 5, 6, 7, 8, 9, 10, 11], \"y\": [7.036061121, -8.516262862, -14.09749994, -17.92257394, -14.31662865, -1.954938146, 7.115391647999999, 17.70223829, 27.90402067, 26.86835284, 20.51798415, 11.94741543], \"yaxis\": \"y\"}, {\"hovertemplate\": \"<b>x:%{x:.3f}</b><br>y:%{y}\", \"mode\": \"markers+lines\", \"name\": \"S3:0, S4:-2, S5:-2, R3:2, R4:-2, R5:2\", \"type\": \"scatter\", \"x\": [0, 1, 2, 3, 4, 5, 6, 7, 8, 9, 10, 11], \"y\": [1.827472259, -14.64863121, -20.91241989, -24.38688564, -20.27833137, -7.274803436, 2.5244507659999997, 13.75057297, 24.20872157, 23.65305004, 18.31785182, 10.67399471], \"yaxis\": \"y\"}, {\"hovertemplate\": \"<b>x:%{x:.3f}</b><br>y:%{y}\", \"mode\": \"markers+lines\", \"name\": \"S3:0, S4:-2, S5:-2, R3:2, R4:0, R5:0\", \"type\": \"scatter\", \"x\": [0, 1, 2, 3, 4, 5, 6, 7, 8, 9, 10, 11], \"y\": [2.169133829, -1.157399682, -0.3211864876, -0.2679318689, 0.01922133115, 2.799940457, 3.322380113, 5.021654917, 6.369325767, 4.836894825, 4.523721694, 3.60535601], \"yaxis\": \"y\"}, {\"hovertemplate\": \"<b>x:%{x:.3f}</b><br>y:%{y}\", \"mode\": \"markers+lines\", \"name\": \"S3:0, S4:-2, S5:-2, R3:2, R4:0, R5:2\", \"type\": \"scatter\", \"x\": [0, 1, 2, 3, 4, 5, 6, 7, 8, 9, 10, 11], \"y\": [-0.5369594359000001, -3.8357813530000002, -3.372018974, -3.614826276, -3.4182848110000004, -0.4181502945, 0.6687529268, 2.765299993, 4.5385989780000005, 3.4822836169999998, 3.70764912, 3.414512269], \"yaxis\": \"y\"}, {\"hovertemplate\": \"<b>x:%{x:.3f}</b><br>y:%{y}\", \"mode\": \"markers+lines\", \"name\": \"S3:0, S4:-2, S5:0, R3:0, R4:-2, R5:0\", \"type\": \"scatter\", \"x\": [0, 1, 2, 3, 4, 5, 6, 7, 8, 9, 10, 11], \"y\": [-0.1268691114, -17.43571927, -26.17814388, -32.71677134, -32.06501757, -23.31520612, -18.01539166, -11.15192308, -5.500840607000001, -3.920611122, -1.9195218090000001, -1.713767042], \"yaxis\": \"y\"}, {\"hovertemplate\": \"<b>x:%{x:.3f}</b><br>y:%{y}\", \"mode\": \"markers+lines\", \"name\": \"S3:0, S4:-2, S5:0, R3:0, R4:-2, R5:2\", \"type\": \"scatter\", \"x\": [0, 1, 2, 3, 4, 5, 6, 7, 8, 9, 10, 11], \"y\": [-3.214378468, -20.10921825, -28.24437568, -33.61650293, -32.54690318, -23.75411086, -18.47627114, -11.77532158, -6.506604605, -5.162997138, -3.0157162060000005, -2.456368721], \"yaxis\": \"y\"}, {\"hovertemplate\": \"<b>x:%{x:.3f}</b><br>y:%{y}\", \"mode\": \"markers+lines\", \"name\": \"S3:0, S4:-2, S5:0, R3:0, R4:0, R5:0\", \"type\": \"scatter\", \"x\": [0, 1, 2, 3, 4, 5, 6, 7, 8, 9, 10, 11], \"y\": [-0.01134387701, -4.897891953, -5.670295979, -7.138849059, -9.033085522999999, -8.559994126, -8.779431014, -8.082703103, -6.136075028, -4.272535813999999, -2.8837539480000003, -1.55044976], \"yaxis\": \"y\"}, {\"hovertemplate\": \"<b>x:%{x:.3f}</b><br>y:%{y}\", \"mode\": \"markers+lines\", \"name\": \"S3:0, S4:-2, S5:0, R3:0, R4:0, R5:2\", \"type\": \"scatter\", \"x\": [0, 1, 2, 3, 4, 5, 6, 7, 8, 9, 10, 11], \"y\": [-0.1535484508, -3.7171092860000003, -3.79422071, -5.182505892, -7.327356826, -7.095444731000001, -7.469535372999999, -6.989225942000001, -5.136722317, -3.3602557269999997, -2.015055966, -0.6464148301], \"yaxis\": \"y\"}, {\"hovertemplate\": \"<b>x:%{x:.3f}</b><br>y:%{y}\", \"mode\": \"markers+lines\", \"name\": \"S3:0, S4:-2, S5:0, R3:2, R4:-2, R5:0\", \"type\": \"scatter\", \"x\": [0, 1, 2, 3, 4, 5, 6, 7, 8, 9, 10, 11], \"y\": [3.160206775, -13.78954924, -20.958376899999998, -25.74695351, -24.18380078, -15.09476954, -9.086326566, -2.0099052019999997, 3.484971649, 4.019485564, 4.346286881, 3.387019679], \"yaxis\": \"y\"}, {\"hovertemplate\": \"<b>x:%{x:.3f}</b><br>y:%{y}\", \"mode\": \"markers+lines\", \"name\": \"S3:0, S4:-2, S5:0, R3:2, R4:-2, R5:2\", \"type\": \"scatter\", \"x\": [0, 1, 2, 3, 4, 5, 6, 7, 8, 9, 10, 11], \"y\": [0.05502054869, -16.32233456, -22.71981498, -26.54723792, -24.72207107, -15.61138833, -9.670367373, -2.8040449560000003, 2.244133892, 2.493639614, 2.981490242, 2.381737704], \"yaxis\": \"y\"}, {\"hovertemplate\": \"<b>x:%{x:.3f}</b><br>y:%{y}\", \"mode\": \"markers+lines\", \"name\": \"S3:0, S4:-2, S5:0, R3:2, R4:0, R5:0\", \"type\": \"scatter\", \"x\": [0, 1, 2, 3, 4, 5, 6, 7, 8, 9, 10, 11], \"y\": [0.1669434649, -3.4909277960000002, -3.412009279, -4.140487896000001, -5.117617261, -3.82425183, -3.223286327, -2.1695871469999997, -0.7636869083, -0.11133007939999999, -0.066619372, -0.1143659036], \"yaxis\": \"y\"}, {\"hovertemplate\": \"<b>x:%{x:.3f}</b><br>y:%{y}\", \"mode\": \"markers+lines\", \"name\": \"S3:0, S4:-2, S5:0, R3:2, R4:0, R5:2\", \"type\": \"scatter\", \"x\": [0, 1, 2, 3, 4, 5, 6, 7, 8, 9, 10, 11], \"y\": [-0.0009440299803999999, -2.341054228, -1.5110440569999999, -2.181888411, -3.461438755, -2.449399346, -2.053088388, -1.263293392, -0.02271403915, 0.5032004395, 0.5322155365, 0.5250453295], \"yaxis\": \"y\"}, {\"hovertemplate\": \"<b>x:%{x:.3f}</b><br>y:%{y}\", \"mode\": \"markers+lines\", \"name\": \"S3:0, S4:-2, S5:2, R3:0, R4:-2, R5:0\", \"type\": \"scatter\", \"x\": [0, 1, 2, 3, 4, 5, 6, 7, 8, 9, 10, 11], \"y\": [-2.77881683, -19.74306142, -28.0903799, -33.10139708, -31.26964501, -23.49614422, -20.72316729, -18.3491055, -18.41279368, -16.0766121, -9.887066343999999, -4.943329365], \"yaxis\": \"y\"}, {\"hovertemplate\": \"<b>x:%{x:.3f}</b><br>y:%{y}\", \"mode\": \"markers+lines\", \"name\": \"S3:0, S4:-2, S5:2, R3:0, R4:-2, R5:2\", \"type\": \"scatter\", \"x\": [0, 1, 2, 3, 4, 5, 6, 7, 8, 9, 10, 11], \"y\": [-3.739835998, -19.01369849, -25.25667204, -28.86817985, -26.97886462, -19.82672753, -17.70721335, -16.20374377, -17.2028931, -15.4465461, -9.602602623, -4.852183682], \"yaxis\": \"y\"}, {\"hovertemplate\": \"<b>x:%{x:.3f}</b><br>y:%{y}\", \"mode\": \"markers+lines\", \"name\": \"S3:0, S4:-2, S5:2, R3:0, R4:0, R5:0\", \"type\": \"scatter\", \"x\": [0, 1, 2, 3, 4, 5, 6, 7, 8, 9, 10, 11], \"y\": [-0.46562759880000004, -3.899356693, -3.463972505, -3.2498804860000003, -3.191554284, -1.181044381, -1.027574803, -0.03039279419, 1.909000279, 1.865828566, 2.7951132110000003, 2.9839588519999998], \"yaxis\": \"y\"}, {\"hovertemplate\": \"<b>x:%{x:.3f}</b><br>y:%{y}\", \"mode\": \"markers+lines\", \"name\": \"S3:0, S4:-2, S5:2, R3:0, R4:0, R5:2\", \"type\": \"scatter\", \"x\": [0, 1, 2, 3, 4, 5, 6, 7, 8, 9, 10, 11], \"y\": [1.227636755, 0.283701097, 2.658740742, 3.420008853, 3.270539654, 4.524865548999999, 3.851730678, 4.0913982, 5.370445478, 4.683269442, 5.047632063, 4.699131065], \"yaxis\": \"y\"}, {\"hovertemplate\": \"<b>x:%{x:.3f}</b><br>y:%{y}\", \"mode\": \"markers+lines\", \"name\": \"S3:0, S4:-2, S5:2, R3:2, R4:-2, R5:0\", \"type\": \"scatter\", \"x\": [0, 1, 2, 3, 4, 5, 6, 7, 8, 9, 10, 11], \"y\": [0.7634676441, -15.74872886, -22.32679931, -25.60041168, -22.8787043, -14.54237859, -11.0295257, -8.4928269, -9.281376514, -8.847715883, -4.780538332, -1.594187131], \"yaxis\": \"y\"}, {\"hovertemplate\": \"<b>x:%{x:.3f}</b><br>y:%{y}\", \"mode\": \"markers+lines\", \"name\": \"S3:0, S4:-2, S5:2, R3:2, R4:-2, R5:2\", \"type\": \"scatter\", \"x\": [0, 1, 2, 3, 4, 5, 6, 7, 8, 9, 10, 11], \"y\": [-0.2146225455, -14.84000146, -19.16980087, -21.37407198, -18.65392364, -10.94968697, -8.130326323, -6.504295366, -8.313266418, -8.513394718999999, -4.768851351, -1.762281389], \"yaxis\": \"y\"}, {\"hovertemplate\": \"<b>x:%{x:.3f}</b><br>y:%{y}\", \"mode\": \"markers+lines\", \"name\": \"S3:0, S4:-2, S5:2, R3:2, R4:0, R5:0\", \"type\": \"scatter\", \"x\": [0, 1, 2, 3, 4, 5, 6, 7, 8, 9, 10, 11], \"y\": [0.022537000319999997, -2.196647504, -0.8446278883, 0.16379463, 1.231039819, 4.244491898, 5.301578255, 6.649773935, 7.762842259, 5.828245601, 4.65141516, 2.8096779080000003], \"yaxis\": \"y\"}, {\"hovertemplate\": \"<b>x:%{x:.3f}</b><br>y:%{y}\", \"mode\": \"markers+lines\", \"name\": \"S3:0, S4:-2, S5:2, R3:2, R4:0, R5:2\", \"type\": \"scatter\", \"x\": [0, 1, 2, 3, 4, 5, 6, 7, 8, 9, 10, 11], \"y\": [1.607392516, 1.8807265340000001, 5.2639850280000005, 6.824606864, 7.643075857, 9.869324729, 10.05037313, 10.60246576, 10.99435707, 8.362818915, 6.63306199, 4.255569444], \"yaxis\": \"y\"}, {\"hovertemplate\": \"<b>x:%{x:.3f}</b><br>y:%{y}\", \"mode\": \"markers+lines\", \"name\": \"S3:0, S4:0, S5:-2, R3:0, R4:-2, R5:0\", \"type\": \"scatter\", \"x\": [0, 1, 2, 3, 4, 5, 6, 7, 8, 9, 10, 11], \"y\": [3.7070038519999997, -0.57041913, 0.5344049871000001, 1.910178954, 4.4641260560000005, 11.56105249, 17.33375806, 23.93118017, 30.86107601, 27.835630300000002, 20.19510294, 10.90927213], \"yaxis\": \"y\"}, {\"hovertemplate\": \"<b>x:%{x:.3f}</b><br>y:%{y}\", \"mode\": \"markers+lines\", \"name\": \"S3:0, S4:0, S5:-2, R3:0, R4:-2, R5:2\", \"type\": \"scatter\", \"x\": [0, 1, 2, 3, 4, 5, 6, 7, 8, 9, 10, 11], \"y\": [-0.8780525115000001, -5.248534272, -5.215688582, -4.842907004, -2.168700467, 5.490304876000001, 12.04077322, 19.43502237, 26.80598737, 24.47434456, 17.92227464, 9.542350119], \"yaxis\": \"y\"}, {\"hovertemplate\": \"<b>x:%{x:.3f}</b><br>y:%{y}\", \"mode\": \"markers+lines\", \"name\": \"S3:0, S4:0, S5:-2, R3:0, R4:0, R5:0\", \"type\": \"scatter\", \"x\": [0, 1, 2, 3, 4, 5, 6, 7, 8, 9, 10, 11], \"y\": [0.9646195696, 1.850717725, 2.886878147, 4.13482525, 5.770388124, 7.4064398460000005, 7.553963546, 8.00364008, 7.828956346, 5.437736661000001, 4.6467092910000005, 3.315403126], \"yaxis\": \"y\"}, {\"hovertemplate\": \"<b>x:%{x:.3f}</b><br>y:%{y}\", \"mode\": \"markers+lines\", \"name\": \"S3:0, S4:0, S5:-2, R3:0, R4:0, R5:2\", \"type\": \"scatter\", \"x\": [0, 1, 2, 3, 4, 5, 6, 7, 8, 9, 10, 11], \"y\": [0.1336685518, 0.09279371216, 0.05880556164, 0.3303971971, 1.5943104869999998, 3.3805994189999997, 4.164149416, 5.211072249, 5.62877519, 3.851615704, 3.663555877, 2.968514598], \"yaxis\": \"y\"}, {\"hovertemplate\": \"<b>x:%{x:.3f}</b><br>y:%{y}\", \"mode\": \"markers+lines\", \"name\": \"S3:0, S4:0, S5:-2, R3:2, R4:-2, R5:0\", \"type\": \"scatter\", \"x\": [0, 1, 2, 3, 4, 5, 6, 7, 8, 9, 10, 11], \"y\": [5.6031057539999995, 1.97813182, 3.573448315, 5.0622597680000005, 6.994643104, 13.21188432, 18.49006507, 24.683548100000003, 31.63022393, 29.40612957, 22.76825413, 14.27757671], \"yaxis\": \"y\"}, {\"hovertemplate\": \"<b>x:%{x:.3f}</b><br>y:%{y}\", \"mode\": \"markers+lines\", \"name\": \"S3:0, S4:0, S5:-2, R3:2, R4:-2, R5:2\", \"type\": \"scatter\", \"x\": [0, 1, 2, 3, 4, 5, 6, 7, 8, 9, 10, 11], \"y\": [0.9790142409999999, -2.7159892780000003, -2.135749979, -1.6554551259999999, 0.34678269840000003, 7.079345957999999, 13.08751285, 20.03222036, 27.38465347, 25.67402719, 20.14856687, 12.64338583], \"yaxis\": \"y\"}, {\"hovertemplate\": \"<b>x:%{x:.3f}</b><br>y:%{y}\", \"mode\": \"markers+lines\", \"name\": \"S3:0, S4:0, S5:-2, R3:2, R4:0, R5:0\", \"type\": \"scatter\", \"x\": [0, 1, 2, 3, 4, 5, 6, 7, 8, 9, 10, 11], \"y\": [-1.207465285, -0.06502880745, 1.267304803, 2.61480544, 4.148421917, 5.6461107429999995, 5.512734926, 5.640274386000001, 5.356301858999999, 2.987822225, 2.7877764519999997, 2.684458642], \"yaxis\": \"y\"}, {\"hovertemplate\": \"<b>x:%{x:.3f}</b><br>y:%{y}\", \"mode\": \"markers+lines\", \"name\": \"S3:0, S4:0, S5:-2, R3:2, R4:0, R5:2\", \"type\": \"scatter\", \"x\": [0, 1, 2, 3, 4, 5, 6, 7, 8, 9, 10, 11], \"y\": [-2.060065729, -1.85951251, -1.545554862, -1.147294973, -0.025380708019999997, 1.574642546, 2.023303126, 2.703636615, 2.964956298, 1.154512468, 1.550850088, 2.077930736], \"yaxis\": \"y\"}, {\"hovertemplate\": \"<b>x:%{x:.3f}</b><br>y:%{y}\", \"mode\": \"markers+lines\", \"name\": \"S3:0, S4:0, S5:0, R3:0, R4:-2, R5:0\", \"type\": \"scatter\", \"x\": [0, 1, 2, 3, 4, 5, 6, 7, 8, 9, 10, 11], \"y\": [-0.08095809224, -4.732564068, -5.235376896, -6.029560162, -6.021409717, -2.303625281, 0.23899753440000002, 3.331183197, 5.830539735, 4.53562368, 4.025040007, 2.6246315119999997], \"yaxis\": \"y\"}, {\"hovertemplate\": \"<b>x:%{x:.3f}</b><br>y:%{y}\", \"mode\": \"markers+lines\", \"name\": \"S3:0, S4:0, S5:0, R3:0, R4:-2, R5:2\", \"type\": \"scatter\", \"x\": [0, 1, 2, 3, 4, 5, 6, 7, 8, 9, 10, 11], \"y\": [-2.135773765, -5.550608576, -5.899521018, -7.096256604, -7.221471581, -3.545791302, -1.0568725270000001, 1.9920897690000001, 4.213103829, 2.77705082, 2.494171485, 1.465167425], \"yaxis\": \"y\"}, {\"hovertemplate\": \"<b>x:%{x:.3f}</b><br>y:%{y}\", \"mode\": \"markers+lines\", \"name\": \"S3:0, S4:0, S5:0, R3:0, R4:0, R5:0\", \"type\": \"scatter\", \"x\": [0, 1, 2, 3, 4, 5, 6, 7, 8, 9, 10, 11], \"y\": [0.0, 0.0, 0.0, 0.0, 0.0, 0.0, 0.0, 0.0, 0.0, 0.0, 0.0, 0.0], \"yaxis\": \"y\"}, {\"hovertemplate\": \"<b>x:%{x:.3f}</b><br>y:%{y}\", \"mode\": \"markers+lines\", \"name\": \"S3:0, S4:0, S5:0, R3:0, R4:0, R5:2\", \"type\": \"scatter\", \"x\": [0, 1, 2, 3, 4, 5, 6, 7, 8, 9, 10, 11], \"y\": [1.751144483, 2.115736703, 2.2099802509999997, 1.612245735, 0.9856785915, 0.5998559041, 0.42549071039999997, 0.3469222629, 0.345737044, 0.36856231990000005, 0.42332197920000003, 0.4768735014], \"yaxis\": \"y\"}, {\"hovertemplate\": \"<b>x:%{x:.3f}</b><br>y:%{y}\", \"mode\": \"markers+lines\", \"name\": \"S3:0, S4:0, S5:0, R3:2, R4:-2, R5:0\", \"type\": \"scatter\", \"x\": [0, 1, 2, 3, 4, 5, 6, 7, 8, 9, 10, 11], \"y\": [2.103328768, -1.8892244440000001, -1.84779648, -2.47756211, -2.981182785, 0.01897765651, 2.175397394, 4.785228159, 7.128065424, 5.548539119, 4.714808745, 4.11222481], \"yaxis\": \"y\"}, {\"hovertemplate\": \"<b>x:%{x:.3f}</b><br>y:%{y}\", \"mode\": \"markers+lines\", \"name\": \"S3:0, S4:0, S5:0, R3:2, R4:-2, R5:2\", \"type\": \"scatter\", \"x\": [0, 1, 2, 3, 4, 5, 6, 7, 8, 9, 10, 11], \"y\": [0.02293086255, -2.727457947, -2.4816070359999998, -3.5394536339999996, -4.222973187, -1.299940023, 0.7645099704, 3.295978317, 5.324091794, 3.5462709589999997, 2.928844138, 2.693561284], \"yaxis\": \"y\"}, {\"hovertemplate\": \"<b>x:%{x:.3f}</b><br>y:%{y}\", \"mode\": \"markers+lines\", \"name\": \"S3:0, S4:0, S5:0, R3:2, R4:0, R5:0\", \"type\": \"scatter\", \"x\": [0, 1, 2, 3, 4, 5, 6, 7, 8, 9, 10, 11], \"y\": [-1.853504316, -1.6245915780000002, -1.280267903, -1.086388375, -1.0658156559999998, -1.044894501, -1.2059866320000001, -1.549226548, -1.947810586, -2.591170865, -2.780159903, -2.215878955], \"yaxis\": \"y\"}, {\"hovertemplate\": \"<b>x:%{x:.3f}</b><br>y:%{y}\", \"mode\": \"markers+lines\", \"name\": \"S3:0, S4:0, S5:0, R3:2, R4:0, R5:2\", \"type\": \"scatter\", \"x\": [0, 1, 2, 3, 4, 5, 6, 7, 8, 9, 10, 11], \"y\": [-0.1269149209, 0.44366364700000005, 0.9243168948, 0.5299475711, -0.1111671135, -0.5216992738, -0.8953259743, -1.361789445, -1.809777815, -2.478128147, -2.6081863640000003, -1.9927295630000001], \"yaxis\": \"y\"}, {\"hovertemplate\": \"<b>x:%{x:.3f}</b><br>y:%{y}\", \"mode\": \"markers+lines\", \"name\": \"S3:0, S4:0, S5:2, R3:0, R4:-2, R5:0\", \"type\": \"scatter\", \"x\": [0, 1, 2, 3, 4, 5, 6, 7, 8, 9, 10, 11], \"y\": [-2.063798634, -5.328277171, -5.469216059, -5.999841899, -5.268169181, -2.287955464, -2.5949895030000003, -3.931523727, -7.53700601, -8.768046452, -5.104469153, -1.920084933], \"yaxis\": \"y\"}, {\"hovertemplate\": \"<b>x:%{x:.3f}</b><br>y:%{y}\", \"mode\": \"markers+lines\", \"name\": \"S3:0, S4:0, S5:2, R3:0, R4:-2, R5:2\", \"type\": \"scatter\", \"x\": [0, 1, 2, 3, 4, 5, 6, 7, 8, 9, 10, 11], \"y\": [-1.871548552, -2.887635061, -1.667237295, -2.161019616, -1.693891239, 0.5898253971999999, -0.41043750090000003, -2.482825918, -6.958089939, -8.677412554, -5.265597693999999, -2.247262004], \"yaxis\": \"y\"}, {\"hovertemplate\": \"<b>x:%{x:.3f}</b><br>y:%{y}\", \"mode\": \"markers+lines\", \"name\": \"S3:0, S4:0, S5:2, R3:0, R4:0, R5:0\", \"type\": \"scatter\", \"x\": [0, 1, 2, 3, 4, 5, 6, 7, 8, 9, 10, 11], \"y\": [0.9646195696, 1.850717725, 2.886878147, 4.13482525, 5.770388124, 7.4064398460000005, 7.553963546, 8.00364008, 7.828956346, 5.437736661000001, 4.6467092910000005, 3.315403126], \"yaxis\": \"y\"}, {\"hovertemplate\": \"<b>x:%{x:.3f}</b><br>y:%{y}\", \"mode\": \"markers+lines\", \"name\": \"S3:0, S4:0, S5:2, R3:0, R4:0, R5:2\", \"type\": \"scatter\", \"x\": [0, 1, 2, 3, 4, 5, 6, 7, 8, 9, 10, 11], \"y\": [3.7885350410000003, 6.465321542000001, 9.135777617999999, 10.46761028, 11.58776151, 12.34619235, 11.58041845, 11.41016821, 10.6732084, 7.729113145, 6.455989592999999, 4.602324415], \"yaxis\": \"y\"}, {\"hovertemplate\": \"<b>x:%{x:.3f}</b><br>y:%{y}\", \"mode\": \"markers+lines\", \"name\": \"S3:0, S4:0, S5:2, R3:2, R4:-2, R5:0\", \"type\": \"scatter\", \"x\": [0, 1, 2, 3, 4, 5, 6, 7, 8, 9, 10, 11], \"y\": [0.4274896433, -2.182170525, -1.717594164, -2.035232726, -1.706375926, 0.7607807301999999, 0.1155852404, -1.773310339, -6.013301633999999, -8.447052491, -5.6197913889999995, -2.237200757], \"yaxis\": \"y\"}, {\"hovertemplate\": \"<b>x:%{x:.3f}</b><br>y:%{y}\", \"mode\": \"markers+lines\", \"name\": \"S3:0, S4:0, S5:2, R3:2, R4:-2, R5:2\", \"type\": \"scatter\", \"x\": [0, 1, 2, 3, 4, 5, 6, 7, 8, 9, 10, 11], \"y\": [0.5345609017, 0.1819072968, 2.0812485240000003, 1.788206271, 1.8190392690000001, 3.564963705, 2.189058281, -0.4605504268, -5.620122687, -8.60490974, -6.033434914, -2.8150282960000004], \"yaxis\": \"y\"}, {\"hovertemplate\": \"<b>x:%{x:.3f}</b><br>y:%{y}\", \"mode\": \"markers+lines\", \"name\": \"S3:0, S4:0, S5:2, R3:2, R4:0, R5:0\", \"type\": \"scatter\", \"x\": [0, 1, 2, 3, 4, 5, 6, 7, 8, 9, 10, 11], \"y\": [-0.5680099612, 0.5156934252, 1.947553603, 3.485731243, 5.264743664, 7.078644282000001, 7.201693607, 7.274957806000001, 6.456421024, 2.824293944, 1.084271508, -0.3687178949], \"yaxis\": \"y\"}, {\"hovertemplate\": \"<b>x:%{x:.3f}</b><br>y:%{y}\", \"mode\": \"markers+lines\", \"name\": \"S3:0, S4:0, S5:2, R3:2, R4:0, R5:2\", \"type\": \"scatter\", \"x\": [0, 1, 2, 3, 4, 5, 6, 7, 8, 9, 10, 11], \"y\": [2.119239373, 5.002189478, 8.16458465, 9.819795483, 11.06466379, 11.95593094, 11.12329044, 10.54112116, 9.122256505, 4.881775006, 2.649539108, 0.6666881936], \"yaxis\": \"y\"}, {\"hovertemplate\": \"<b>x:%{x:.3f}</b><br>y:%{y}\", \"mode\": \"markers+lines\", \"name\": \"S3:0, S4:2, S5:-2, R3:0, R4:-2, R5:0\", \"type\": \"scatter\", \"x\": [0, 1, 2, 3, 4, 5, 6, 7, 8, 9, 10, 11], \"y\": [2.163640186, 6.428812327, 11.62538861, 16.30311348, 16.41433836, 17.00901069, 19.22508963, 23.23157319, 30.42219138, 29.12331731, 22.45728384, 13.81095813], \"yaxis\": \"y\"}, {\"hovertemplate\": \"<b>x:%{x:.3f}</b><br>y:%{y}\", \"mode\": \"markers+lines\", \"name\": \"S3:0, S4:2, S5:-2, R3:0, R4:-2, R5:2\", \"type\": \"scatter\", \"x\": [0, 1, 2, 3, 4, 5, 6, 7, 8, 9, 10, 11], \"y\": [-0.3037802554, 2.876211912, 6.541803732999999, 9.702000267999999, 9.201901878, 10.13181374, 13.1027177, 18.00360506, 25.76213481, 25.17730472, 19.76527412, 12.08518211], \"yaxis\": \"y\"}, {\"hovertemplate\": \"<b>x:%{x:.3f}</b><br>y:%{y}\", \"mode\": \"markers+lines\", \"name\": \"S3:0, S4:2, S5:-2, R3:0, R4:0, R5:0\", \"type\": \"scatter\", \"x\": [0, 1, 2, 3, 4, 5, 6, 7, 8, 9, 10, 11], \"y\": [-0.46562759880000004, -3.899356693, -3.463972505, -3.2498804860000003, -3.191554284, -1.181044381, -1.027574803, -0.03039279419, 1.909000279, 1.865828566, 2.7951132110000003, 2.9839588519999998], \"yaxis\": \"y\"}, {\"hovertemplate\": \"<b>x:%{x:.3f}</b><br>y:%{y}\", \"mode\": \"markers+lines\", \"name\": \"S3:0, S4:2, S5:-2, R3:0, R4:0, R5:2\", \"type\": \"scatter\", \"x\": [0, 1, 2, 3, 4, 5, 6, 7, 8, 9, 10, 11], \"y\": [0.6119985169, -4.695416241, -5.915746154, -7.373087513, -8.065914374, -6.019693465, -5.2647344480000005, -3.535129726, -0.9088240786, -0.247091228, 1.36881319, 2.209048436], \"yaxis\": \"y\"}, {\"hovertemplate\": \"<b>x:%{x:.3f}</b><br>y:%{y}\", \"mode\": \"markers+lines\", \"name\": \"S3:0, S4:2, S5:-2, R3:2, R4:-2, R5:0\", \"type\": \"scatter\", \"x\": [0, 1, 2, 3, 4, 5, 6, 7, 8, 9, 10, 11], \"y\": [1.7315697419999998, 5.955209392, 11.09335154, 15.52303053, 14.83196848, 13.56970631, 14.30991623, 17.19134122, 24.35967287, 24.03409054, 19.82015767, 14.13400509], \"yaxis\": \"y\"}, {\"hovertemplate\": \"<b>x:%{x:.3f}</b><br>y:%{y}\", \"mode\": \"markers+lines\", \"name\": \"S3:0, S4:2, S5:-2, R3:2, R4:-2, R5:2\", \"type\": \"scatter\", \"x\": [0, 1, 2, 3, 4, 5, 6, 7, 8, 9, 10, 11], \"y\": [-0.7634419859, 2.367152162, 6.05487117, 9.004378455, 7.62812364, 6.6259936470000005, 8.076142234, 11.81158144, 19.52683622, 19.81405075, 16.74425567, 12.15346551], \"yaxis\": \"y\"}, {\"hovertemplate\": \"<b>x:%{x:.3f}</b><br>y:%{y}\", \"mode\": \"markers+lines\", \"name\": \"S3:0, S4:2, S5:-2, R3:2, R4:0, R5:0\", \"type\": \"scatter\", \"x\": [0, 1, 2, 3, 4, 5, 6, 7, 8, 9, 10, 11], \"y\": [-4.552651329, -8.727586002, -8.480781888, -8.551057102, -9.378614628, -8.370015404, -9.337427939, -9.347648236, -7.259223859, -6.595675165, -3.681465153, -0.2323297886], \"yaxis\": \"y\"}, {\"hovertemplate\": \"<b>x:%{x:.3f}</b><br>y:%{y}\", \"mode\": \"markers+lines\", \"name\": \"S3:0, S4:2, S5:-2, R3:2, R4:0, R5:2\", \"type\": \"scatter\", \"x\": [0, 1, 2, 3, 4, 5, 6, 7, 8, 9, 10, 11], \"y\": [-3.48390056, -9.527432697, -10.87451515, -12.6222677, -14.26692135, -13.25854117, -13.67703821, -12.98871082, -10.25444881, -8.937218191, -5.300929411, -1.165566245], \"yaxis\": \"y\"}, {\"hovertemplate\": \"<b>x:%{x:.3f}</b><br>y:%{y}\", \"mode\": \"markers+lines\", \"name\": \"S3:0, S4:2, S5:0, R3:0, R4:-2, R5:0\", \"type\": \"scatter\", \"x\": [0, 1, 2, 3, 4, 5, 6, 7, 8, 9, 10, 11], \"y\": [-0.01568902586, 3.21776678, 6.756432306000001, 9.02976409, 5.862846992000001, 3.083902665, 1.9400661080000001, 2.2884342369999997, 5.212352194, 4.761761908, 4.4159232180000005, 4.001394078], \"yaxis\": \"y\"}, {\"hovertemplate\": \"<b>x:%{x:.3f}</b><br>y:%{y}\", \"mode\": \"markers+lines\", \"name\": \"S3:0, S4:2, S5:0, R3:0, R4:-2, R5:2\", \"type\": \"scatter\", \"x\": [0, 1, 2, 3, 4, 5, 6, 7, 8, 9, 10, 11], \"y\": [0.09857606561000001, 3.574916685, 6.815475417999999, 8.103080527000001, 4.069309415, 1.05282109, -0.20412865670000002, 0.2180437769, 2.982971117, 2.481749401, 2.4418534590000003, 2.415793017], \"yaxis\": \"y\"}, {\"hovertemplate\": \"<b>x:%{x:.3f}</b><br>y:%{y}\", \"mode\": \"markers+lines\", \"name\": \"S3:0, S4:2, S5:0, R3:0, R4:0, R5:0\", \"type\": \"scatter\", \"x\": [0, 1, 2, 3, 4, 5, 6, 7, 8, 9, 10, 11], \"y\": [-0.01134387701, -4.897891953, -5.670295979, -7.138849059, -9.033085522999999, -8.559994126, -8.779431014, -8.082703103, -6.136075028, -4.272535813999999, -2.8837539480000003, -1.55044976], \"yaxis\": \"y\"}, {\"hovertemplate\": \"<b>x:%{x:.3f}</b><br>y:%{y}\", \"mode\": \"markers+lines\", \"name\": \"S3:0, S4:2, S5:0, R3:0, R4:0, R5:2\", \"type\": \"scatter\", \"x\": [0, 1, 2, 3, 4, 5, 6, 7, 8, 9, 10, 11], \"y\": [3.5276486489999996, -1.941521127, -3.245921712, -5.928600617000001, -8.780028412, -8.8289533, -9.240687996, -8.484455276, -6.447637787000001, -4.450980778, -2.9074626610000003, -1.501055981], \"yaxis\": \"y\"}, {\"hovertemplate\": \"<b>x:%{x:.3f}</b><br>y:%{y}\", \"mode\": \"markers+lines\", \"name\": \"S3:0, S4:2, S5:0, R3:2, R4:-2, R5:0\", \"type\": \"scatter\", \"x\": [0, 1, 2, 3, 4, 5, 6, 7, 8, 9, 10, 11], \"y\": [-0.1443408883, 3.0300718769999997, 6.587571331, 8.720110041, 4.811912559, 0.2917501498, -2.20305529, -3.0676570689999996, -0.2850748554, -0.4492686764, 0.2217017488, 2.517423325], \"yaxis\": \"y\"}, {\"hovertemplate\": \"<b>x:%{x:.3f}</b><br>y:%{y}\", \"mode\": \"markers+lines\", \"name\": \"S3:0, S4:2, S5:0, R3:2, R4:-2, R5:2\", \"type\": \"scatter\", \"x\": [0, 1, 2, 3, 4, 5, 6, 7, 8, 9, 10, 11], \"y\": [-0.05511311329, 3.346720491, 6.6731008439999995, 7.840990711, 2.9881291169999997, -1.821857064, -4.463138601, -5.28903279, -2.69420628, -2.961508012, -1.972985559, 0.7480819575], \"yaxis\": \"y\"}, {\"hovertemplate\": \"<b>x:%{x:.3f}</b><br>y:%{y}\", \"mode\": \"markers+lines\", \"name\": \"S3:0, S4:2, S5:0, R3:2, R4:0, R5:0\", \"type\": \"scatter\", \"x\": [0, 1, 2, 3, 4, 5, 6, 7, 8, 9, 10, 11], \"y\": [-3.782782178, -9.416792405, -10.31848513, -12.01576571, -14.71522057, -15.05979331, -16.33365496, -16.68789683, -14.88659455, -12.77510209, -9.767462249, -5.668441476], \"yaxis\": \"y\"}, {\"hovertemplate\": \"<b>x:%{x:.3f}</b><br>y:%{y}\", \"mode\": \"markers+lines\", \"name\": \"S3:0, S4:2, S5:0, R3:2, R4:0, R5:2\", \"type\": \"scatter\", \"x\": [0, 1, 2, 3, 4, 5, 6, 7, 8, 9, 10, 11], \"y\": [-0.2672756803, -6.469567129, -7.8669147079999995, -10.79925856, -14.50640475, -15.40860358, -16.91542643, -17.2413291, -15.39848994, -13.19594247, -9.973334266, -5.739159496], \"yaxis\": \"y\"}, {\"hovertemplate\": \"<b>x:%{x:.3f}</b><br>y:%{y}\", \"mode\": \"markers+lines\", \"name\": \"S3:0, S4:2, S5:2, R3:0, R4:-2, R5:0\", \"type\": \"scatter\", \"x\": [0, 1, 2, 3, 4, 5, 6, 7, 8, 9, 10, 11], \"y\": [-0.2867938948, 3.68600088, 7.589788233999999, 9.865548159, 6.661005757000001, 3.325647192, -1.10202824, -5.293749658, -8.661185084, -9.837123522, -6.010764147000001, -1.971957621], \"yaxis\": \"y\"}, {\"hovertemplate\": \"<b>x:%{x:.3f}</b><br>y:%{y}\", \"mode\": \"markers+lines\", \"name\": \"S3:0, S4:2, S5:2, R3:0, R4:-2, R5:2\", \"type\": \"scatter\", \"x\": [0, 1, 2, 3, 4, 5, 6, 7, 8, 9, 10, 11], \"y\": [1.380426384, 6.83097219, 11.80918661, 13.66403228, 9.592595921000001, 5.421708669, 0.226762205, -4.550595513999999, -8.694889509, -10.27945231, -6.616333964, -2.7193305339999996], \"yaxis\": \"y\"}, {\"hovertemplate\": \"<b>x:%{x:.3f}</b><br>y:%{y}\", \"mode\": \"markers+lines\", \"name\": \"S3:0, S4:2, S5:2, R3:0, R4:0, R5:0\", \"type\": \"scatter\", \"x\": [0, 1, 2, 3, 4, 5, 6, 7, 8, 9, 10, 11], \"y\": [2.2924340030000003, -2.270433586, -2.23108194, -2.8687241460000004, -3.402011289, -1.28427717, -1.431734045, -0.0843620174, 1.592078238, 0.6194206568, 0.8633887802, 0.6440651771], \"yaxis\": \"y\"}, {\"hovertemplate\": \"<b>x:%{x:.3f}</b><br>y:%{y}\", \"mode\": \"markers+lines\", \"name\": \"S3:0, S4:2, S5:2, R3:0, R4:0, R5:2\", \"type\": \"scatter\", \"x\": [0, 1, 2, 3, 4, 5, 6, 7, 8, 9, 10, 11], \"y\": [5.95850676, 2.544604488, 3.819131403, 2.9171473530000003, 1.661897091, 2.827780288, 1.7285056230000002, 2.611758504, 3.8299323760000004, 2.396084398, 2.238809274, 1.5095731780000001], \"yaxis\": \"y\"}, {\"hovertemplate\": \"<b>x:%{x:.3f}</b><br>y:%{y}\", \"mode\": \"markers+lines\", \"name\": \"S3:0, S4:2, S5:2, R3:2, R4:-2, R5:0\", \"type\": \"scatter\", \"x\": [0, 1, 2, 3, 4, 5, 6, 7, 8, 9, 10, 11], \"y\": [-0.10453067949999999, 3.7874547130000003, 7.788956812, 10.03588853, 6.126696931000001, 1.235762517, -4.464429797, -9.976891171, -13.81264456, -15.46046688, -10.88252218, -4.65044442], \"yaxis\": \"y\"}, {\"hovertemplate\": \"<b>x:%{x:.3f}</b><br>y:%{y}\", \"mode\": \"markers+lines\", \"name\": \"S3:0, S4:2, S5:2, R3:2, R4:-2, R5:2\", \"type\": \"scatter\", \"x\": [0, 1, 2, 3, 4, 5, 6, 7, 8, 9, 10, 11], \"y\": [1.4430673219999999, 6.825645958, 12.0078853, 13.86786398, 9.020782774, 3.261228327, -3.2496808089999996, -9.375442777, -14.02819774, -16.14963677, -11.69458638, -5.539708192000001], \"yaxis\": \"y\"}, {\"hovertemplate\": \"<b>x:%{x:.3f}</b><br>y:%{y}\", \"mode\": \"markers+lines\", \"name\": \"S3:0, S4:2, S5:2, R3:2, R4:0, R5:0\", \"type\": \"scatter\", \"x\": [0, 1, 2, 3, 4, 5, 6, 7, 8, 9, 10, 11], \"y\": [-1.168309078, -6.467746171, -6.519767296, -7.339216346000001, -8.591052994, -7.128962419, -8.188710385, -7.911620284, -6.5470435479999995, -7.564125372, -6.0903695010000005, -4.080714496000001], \"yaxis\": \"y\"}, {\"hovertemplate\": \"<b>x:%{x:.3f}</b><br>y:%{y}\", \"mode\": \"markers+lines\", \"name\": \"S3:0, S4:2, S5:2, R3:2, R4:0, R5:2\", \"type\": \"scatter\", \"x\": [0, 1, 2, 3, 4, 5, 6, 7, 8, 9, 10, 11], \"y\": [2.327800384, -1.7552232719999998, -0.4860987732, -1.557090571, -3.563184218, -3.094264875, -5.144886481, -5.35564544, -4.489322668, -6.023706315, -4.880900402, -3.300802945], \"yaxis\": \"y\"}, {\"hovertemplate\": \"<b>x:%{x:.3f}</b><br>y:%{y}\", \"mode\": \"markers+lines\", \"name\": \"S3:2, S4:-2, S5:-2, R3:0, R4:-2, R5:0\", \"type\": \"scatter\", \"x\": [0, 1, 2, 3, 4, 5, 6, 7, 8, 9, 10, 11], \"y\": [6.812563598, -9.24090921, -15.84882128, -21.06681953, -19.1406805, -8.064751209, -0.1699806193, 9.628706624, 19.6025141, 18.24651746, 12.47328076, 5.131928485], \"yaxis\": \"y\"}, {\"hovertemplate\": \"<b>x:%{x:.3f}</b><br>y:%{y}\", \"mode\": \"markers+lines\", \"name\": \"S3:2, S4:-2, S5:-2, R3:0, R4:-2, R5:2\", \"type\": \"scatter\", \"x\": [0, 1, 2, 3, 4, 5, 6, 7, 8, 9, 10, 11], \"y\": [1.3588850280000002, -15.65736965, -23.01012682, -27.86457973, -25.24376693, -13.44309296, -4.7342468, 5.7835256489999995, 16.09206391, 15.42078791, 10.55630813, 4.039694719], \"yaxis\": \"y\"}, {\"hovertemplate\": \"<b>x:%{x:.3f}</b><br>y:%{y}\", \"mode\": \"markers+lines\", \"name\": \"S3:2, S4:-2, S5:-2, R3:0, R4:0, R5:0\", \"type\": \"scatter\", \"x\": [0, 1, 2, 3, 4, 5, 6, 7, 8, 9, 10, 11], \"y\": [2.7995408889999998, -0.9195786895, -0.6949138158, -1.435286689, -2.2330010319999998, -0.5292922438000001, -0.8745745635, 0.2694445748, 1.787572351, 0.6838157621, 0.8181736597, 0.45090514439999996], \"yaxis\": \"y\"}, {\"hovertemplate\": \"<b>x:%{x:.3f}</b><br>y:%{y}\", \"mode\": \"markers+lines\", \"name\": \"S3:2, S4:-2, S5:-2, R3:0, R4:0, R5:2\", \"type\": \"scatter\", \"x\": [0, 1, 2, 3, 4, 5, 6, 7, 8, 9, 10, 11], \"y\": [-0.2153167181, -3.858856718, -4.016176508, -5.0229414210000005, -5.8094064670000005, -3.798652596, -3.494928536, -1.886371918, 0.1244833124, -0.4574574972, 0.19049095530000001, 0.4313445619], \"yaxis\": \"y\"}, {\"hovertemplate\": \"<b>x:%{x:.3f}</b><br>y:%{y}\", \"mode\": \"markers+lines\", \"name\": \"S3:2, S4:-2, S5:-2, R3:2, R4:-2, R5:0\", \"type\": \"scatter\", \"x\": [0, 1, 2, 3, 4, 5, 6, 7, 8, 9, 10, 11], \"y\": [7.647249702000001, -7.632399061, -12.06895761, -15.23329693, -12.28778856, -0.7298474370999999, 7.860284967, 18.10168193, 28.15102966, 27.01397073, 20.51644207, 11.83865621], \"yaxis\": \"y\"}, {\"hovertemplate\": \"<b>x:%{x:.3f}</b><br>y:%{y}\", \"mode\": \"markers+lines\", \"name\": \"S3:2, S4:-2, S5:-2, R3:2, R4:-2, R5:2\", \"type\": \"scatter\", \"x\": [0, 1, 2, 3, 4, 5, 6, 7, 8, 9, 10, 11], \"y\": [2.142064342, -13.95864401, -18.99124891, -21.87394677, -18.41911452, -6.16861865, 3.182358222, 14.07853031, 24.3903592, 23.76382659, 18.27744499, 10.50184666], \"yaxis\": \"y\"}, {\"hovertemplate\": \"<b>x:%{x:.3f}</b><br>y:%{y}\", \"mode\": \"markers+lines\", \"name\": \"S3:2, S4:-2, S5:-2, R3:2, R4:0, R5:0\", \"type\": \"scatter\", \"x\": [0, 1, 2, 3, 4, 5, 6, 7, 8, 9, 10, 11], \"y\": [0.6944296174, -1.641788414, -0.198165105, 0.3103632852, 0.6860571816, 3.356898904, 3.7830183010000002, 5.377672004, 6.630315409, 5.012615217, 4.6128653360000005, 3.592808839], \"yaxis\": \"y\"}, {\"hovertemplate\": \"<b>x:%{x:.3f}</b><br>y:%{y}\", \"mode\": \"markers+lines\", \"name\": \"S3:2, S4:-2, S5:-2, R3:2, R4:0, R5:2\", \"type\": \"scatter\", \"x\": [0, 1, 2, 3, 4, 5, 6, 7, 8, 9, 10, 11], \"y\": [-2.251367715, -4.550958249, -3.4769386439999996, -3.2534756060000003, -2.9134819839999997, 0.01492688106, 1.034463487, 3.049716423, 4.73240143, 3.589868531, 3.7197826419999998, 3.3095028330000003], \"yaxis\": \"y\"}, {\"hovertemplate\": \"<b>x:%{x:.3f}</b><br>y:%{y}\", \"mode\": \"markers+lines\", \"name\": \"S3:2, S4:-2, S5:0, R3:0, R4:-2, R5:0\", \"type\": \"scatter\", \"x\": [0, 1, 2, 3, 4, 5, 6, 7, 8, 9, 10, 11], \"y\": [2.6849308489999997, -14.77796132, -23.08441525, -29.46548525, -29.70112234, -22.14563522, -17.48375248, -11.10846951, -5.61136479, -4.055899642, -2.093534991, -1.97331475], \"yaxis\": \"y\"}, {\"hovertemplate\": \"<b>x:%{x:.3f}</b><br>y:%{y}\", \"mode\": \"markers+lines\", \"name\": \"S3:2, S4:-2, S5:0, R3:0, R4:-2, R5:2\", \"type\": \"scatter\", \"x\": [0, 1, 2, 3, 4, 5, 6, 7, 8, 9, 10, 11], \"y\": [-0.6671990235, -17.62503815, -25.20331454, -30.50228331, -30.34469793, -22.69704582, -18.03505685, -11.80244381, -6.68305338, -5.366042767, -3.266277806, -2.8081311510000004], \"yaxis\": \"y\"}, {\"hovertemplate\": \"<b>x:%{x:.3f}</b><br>y:%{y}\", \"mode\": \"markers+lines\", \"name\": \"S3:2, S4:-2, S5:0, R3:0, R4:0, R5:0\", \"type\": \"scatter\", \"x\": [0, 1, 2, 3, 4, 5, 6, 7, 8, 9, 10, 11], \"y\": [0.4900689831, -3.558934551, -4.182110816000001, -5.831572156, -8.065096096, -8.083112202999999, -8.57983181, -8.084352707, -6.234792115, -4.397941972, -2.994035968, -1.6934699180000001], \"yaxis\": \"y\"}, {\"hovertemplate\": \"<b>x:%{x:.3f}</b><br>y:%{y}\", \"mode\": \"markers+lines\", \"name\": \"S3:2, S4:-2, S5:0, R3:0, R4:0, R5:2\", \"type\": \"scatter\", \"x\": [0, 1, 2, 3, 4, 5, 6, 7, 8, 9, 10, 11], \"y\": [0.017326556030000002, -2.661826565, -2.529016755, -4.066335435, -6.512840381, -6.7315040239999995, -7.361836717, -7.060947704, -5.302448039, -3.555624865, -2.204752538, -0.8841162867], \"yaxis\": \"y\"}, {\"hovertemplate\": \"<b>x:%{x:.3f}</b><br>y:%{y}\", \"mode\": \"markers+lines\", \"name\": \"S3:2, S4:-2, S5:0, R3:2, R4:-2, R5:0\", \"type\": \"scatter\", \"x\": [0, 1, 2, 3, 4, 5, 6, 7, 8, 9, 10, 11], \"y\": [3.7260727119999997, -12.85143473, -18.82041482, -23.11222891, -22.37502292, -14.15201935, -8.688652251, -1.9662710780000001, 3.4433152160000002, 3.99201466, 4.303137614, 3.3047211780000003], \"yaxis\": \"y\"}, {\"hovertemplate\": \"<b>x:%{x:.3f}</b><br>y:%{y}\", \"mode\": \"markers+lines\", \"name\": \"S3:2, S4:-2, S5:0, R3:2, R4:-2, R5:2\", \"type\": \"scatter\", \"x\": [0, 1, 2, 3, 4, 5, 6, 7, 8, 9, 10, 11], \"y\": [0.3555200294, -15.56215389, -20.63309386, -24.09557702, -23.07036695, -14.77737231, -9.359064605, -2.831116675, 2.1358144390000002, 2.398563602, 2.8619010069999997, 2.207702291], \"yaxis\": \"y\"}, {\"hovertemplate\": \"<b>x:%{x:.3f}</b><br>y:%{y}\", \"mode\": \"markers+lines\", \"name\": \"S3:2, S4:-2, S5:0, R3:2, R4:0, R5:0\", \"type\": \"scatter\", \"x\": [0, 1, 2, 3, 4, 5, 6, 7, 8, 9, 10, 11], \"y\": [-1.312837531, -3.995422473, -3.337160214, -3.686545816, -4.6505166, -3.5441935489999996, -3.120304787, -2.162766397, -0.7904116193999999, -0.1173962667, -0.038067666289999996, -0.07409553236000001], \"yaxis\": \"y\"}, {\"hovertemplate\": \"<b>x:%{x:.3f}</b><br>y:%{y}\", \"mode\": \"markers+lines\", \"name\": \"S3:2, S4:-2, S5:0, R3:2, R4:0, R5:2\", \"type\": \"scatter\", \"x\": [0, 1, 2, 3, 4, 5, 6, 7, 8, 9, 10, 11], \"y\": [-1.719101284, -3.0750905189999997, -1.65428248, -1.920145842, -3.142253704, -2.2811028980000003, -2.040228069, -1.327701545, -0.1173263157, 0.4269018906, 0.4816013899, 0.47109738520000005], \"yaxis\": \"y\"}, {\"hovertemplate\": \"<b>x:%{x:.3f}</b><br>y:%{y}\", \"mode\": \"markers+lines\", \"name\": \"S3:2, S4:-2, S5:2, R3:0, R4:-2, R5:0\", \"type\": \"scatter\", \"x\": [0, 1, 2, 3, 4, 5, 6, 7, 8, 9, 10, 11], \"y\": [0.03560296625, -16.98162283, -24.84746118, -29.86841652, -29.10314336, -22.58335949, -20.53328123, -18.64614965, -18.76438965, -16.36855857, -10.11310033, -5.151349664], \"yaxis\": \"y\"}, {\"hovertemplate\": \"<b>x:%{x:.3f}</b><br>y:%{y}\", \"mode\": \"markers+lines\", \"name\": \"S3:2, S4:-2, S5:2, R3:0, R4:-2, R5:2\", \"type\": \"scatter\", \"x\": [0, 1, 2, 3, 4, 5, 6, 7, 8, 9, 10, 11], \"y\": [-1.163221058, -16.38578136, -22.0569912, -25.829362399999997, -24.97420992, -19.02860215, -17.60697527, -16.57082659, -17.61966835, -15.80692605, -9.907285279, -5.153647149], \"yaxis\": \"y\"}, {\"hovertemplate\": \"<b>x:%{x:.3f}</b><br>y:%{y}\", \"mode\": \"markers+lines\", \"name\": \"S3:2, S4:-2, S5:2, R3:0, R4:0, R5:0\", \"type\": \"scatter\", \"x\": [0, 1, 2, 3, 4, 5, 6, 7, 8, 9, 10, 11], \"y\": [0.03487008385, -2.5758746219999997, -2.020705338, -2.063583975, -2.425209896, -0.9697257164, -1.181648513, -0.3827255679, 1.530630919, 1.564908566, 2.6259110619999997, 2.893607022], \"yaxis\": \"y\"}, {\"hovertemplate\": \"<b>x:%{x:.3f}</b><br>y:%{y}\", \"mode\": \"markers+lines\", \"name\": \"S3:2, S4:-2, S5:2, R3:0, R4:0, R5:2\", \"type\": \"scatter\", \"x\": [0, 1, 2, 3, 4, 5, 6, 7, 8, 9, 10, 11], \"y\": [1.40547684, 1.300572745, 3.8582071630000003, 4.416232738, 3.89380218, 4.632647103, 3.6086783189999996, 3.6692917730000003, 4.926681294, 4.3148252330000005, 4.801285772, 4.516262951], \"yaxis\": \"y\"}, {\"hovertemplate\": \"<b>x:%{x:.3f}</b><br>y:%{y}\", \"mode\": \"markers+lines\", \"name\": \"S3:2, S4:-2, S5:2, R3:2, R4:-2, R5:0\", \"type\": \"scatter\", \"x\": [0, 1, 2, 3, 4, 5, 6, 7, 8, 9, 10, 11], \"y\": [1.2982222959999998, -14.72218979, -20.02497, -23.07069651, -21.27545177, -13.86329333, -10.97510549, -8.786843582000001, -9.56455519, -9.025568548999999, -4.871675154, -1.622984247], \"yaxis\": \"y\"}, {\"hovertemplate\": \"<b>x:%{x:.3f}</b><br>y:%{y}\", \"mode\": \"markers+lines\", \"name\": \"S3:2, S4:-2, S5:2, R3:2, R4:-2, R5:2\", \"type\": \"scatter\", \"x\": [0, 1, 2, 3, 4, 5, 6, 7, 8, 9, 10, 11], \"y\": [0.08555443032, -14.00269975, -16.96839648, -19.05154863, -17.1996789, -10.37613821, -8.162152416, -6.868740207, -8.662297584, -8.759612811, -4.937903369, -1.883838193], \"yaxis\": \"y\"}, {\"hovertemplate\": \"<b>x:%{x:.3f}</b><br>y:%{y}\", \"mode\": \"markers+lines\", \"name\": \"S3:2, S4:-2, S5:2, R3:2, R4:0, R5:0\", \"type\": \"scatter\", \"x\": [0, 1, 2, 3, 4, 5, 6, 7, 8, 9, 10, 11], \"y\": [-1.4602220240000001, -2.7217986880000002, -0.8147930363, 0.5009618159, 1.501316167, 4.259135655, 5.054497119, 6.309733961, 7.453253921, 5.642932892999999, 4.620785719, 2.904434469], \"yaxis\": \"y\"}, {\"hovertemplate\": \"<b>x:%{x:.3f}</b><br>y:%{y}\", \"mode\": \"markers+lines\", \"name\": \"S3:2, S4:-2, S5:2, R3:2, R4:0, R5:2\", \"type\": \"scatter\", \"x\": [0, 1, 2, 3, 4, 5, 6, 7, 8, 9, 10, 11], \"y\": [-0.1068299988, 1.1088248090000001, 5.056610393, 6.971645399, 7.777212529, 9.783518162, 9.716207492, 10.19173243, 10.61841519, 8.109836239, 6.525921284, 4.258390894], \"yaxis\": \"y\"}, {\"hovertemplate\": \"<b>x:%{x:.3f}</b><br>y:%{y}\", \"mode\": \"markers+lines\", \"name\": \"S3:2, S4:0, S5:-2, R3:0, R4:-2, R5:0\", \"type\": \"scatter\", \"x\": [0, 1, 2, 3, 4, 5, 6, 7, 8, 9, 10, 11], \"y\": [5.815357317, 1.883891507, 3.059868245, 4.204966216, 5.999571136, 12.43461182, 17.93338836, 24.29950882, 31.09602065, 27.916737, 20.11915258, 10.73725223], \"yaxis\": \"y\"}, {\"hovertemplate\": \"<b>x:%{x:.3f}</b><br>y:%{y}\", \"mode\": \"markers+lines\", \"name\": \"S3:2, S4:0, S5:-2, R3:0, R4:-2, R5:2\", \"type\": \"scatter\", \"x\": [0, 1, 2, 3, 4, 5, 6, 7, 8, 9, 10, 11], \"y\": [0.8885850113, -3.07208777, -2.921475502, -2.752573603, -0.7850044058, 6.249744295, 12.55473477, 19.7347224, 26.9794828, 24.53290138, 17.81101154, 9.309508491], \"yaxis\": \"y\"}, {\"hovertemplate\": \"<b>x:%{x:.3f}</b><br>y:%{y}\", \"mode\": \"markers+lines\", \"name\": \"S3:2, S4:0, S5:-2, R3:0, R4:0, R5:0\", \"type\": \"scatter\", \"x\": [0, 1, 2, 3, 4, 5, 6, 7, 8, 9, 10, 11], \"y\": [-0.059275638729999997, 1.21519381, 2.594064055, 4.0884979, 5.895946259, 7.661804834, 7.900775997999999, 8.351631345, 8.111695897999999, 5.612490675, 4.69935283, 3.256116627], \"yaxis\": \"y\"}, {\"hovertemplate\": \"<b>x:%{x:.3f}</b><br>y:%{y}\", \"mode\": \"markers+lines\", \"name\": \"S3:2, S4:0, S5:-2, R3:0, R4:0, R5:2\", \"type\": \"scatter\", \"x\": [0, 1, 2, 3, 4, 5, 6, 7, 8, 9, 10, 11], \"y\": [-1.232778885, -0.8565575093000001, -0.5110969848, 0.06346945988, 1.5663782469999998, 3.522875015, 4.424509904, 5.490269931, 5.846745287999999, 3.959797062, 3.639971363, 2.81727488], \"yaxis\": \"y\"}, {\"hovertemplate\": \"<b>x:%{x:.3f}</b><br>y:%{y}\", \"mode\": \"markers+lines\", \"name\": \"S3:2, S4:0, S5:-2, R3:2, R4:-2, R5:0\", \"type\": \"scatter\", \"x\": [0, 1, 2, 3, 4, 5, 6, 7, 8, 9, 10, 11], \"y\": [5.320033475, 2.385034641, 4.663740739, 6.520690707000001, 8.051025206, 13.89338433, 19.02006319, 25.06999062, 31.94311711, 29.64553112, 22.83087792, 14.27384996], \"yaxis\": \"y\"}, {\"hovertemplate\": \"<b>x:%{x:.3f}</b><br>y:%{y}\", \"mode\": \"markers+lines\", \"name\": \"S3:2, S4:0, S5:-2, R3:2, R4:-2, R5:2\", \"type\": \"scatter\", \"x\": [0, 1, 2, 3, 4, 5, 6, 7, 8, 9, 10, 11], \"y\": [0.4254941204, -2.5515695519999997, -1.273098468, -0.39523353380000004, 1.255210757, 7.646547926, 13.53068315, 20.34771876, 27.63252886, 25.86898932, 20.18150017, 12.58343717], \"yaxis\": \"y\"}, {\"hovertemplate\": \"<b>x:%{x:.3f}</b><br>y:%{y}\", \"mode\": \"markers+lines\", \"name\": \"S3:2, S4:0, S5:-2, R3:2, R4:0, R5:0\", \"type\": \"scatter\", \"x\": [0, 1, 2, 3, 4, 5, 6, 7, 8, 9, 10, 11], \"y\": [-3.386834235, -1.710844014, -0.1290931342, 1.652856759, 3.742549615, 5.650023965, 5.757287271, 5.97858806, 5.698000577, 3.2712398339999997, 2.976838147, 2.808511549], \"yaxis\": \"y\"}, {\"hovertemplate\": \"<b>x:%{x:.3f}</b><br>y:%{y}\", \"mode\": \"markers+lines\", \"name\": \"S3:2, S4:0, S5:-2, R3:2, R4:0, R5:2\", \"type\": \"scatter\", \"x\": [0, 1, 2, 3, 4, 5, 6, 7, 8, 9, 10, 11], \"y\": [-4.447788677, -3.70755245, -3.168613412, -2.325693822, -0.5874299131, 1.4609933780000002, 2.1772369940000003, 2.971428061, 3.240360972, 1.369750852, 1.662338263, 2.10900583], \"yaxis\": \"y\"}, {\"hovertemplate\": \"<b>x:%{x:.3f}</b><br>y:%{y}\", \"mode\": \"markers+lines\", \"name\": \"S3:2, S4:0, S5:0, R3:0, R4:-2, R5:0\", \"type\": \"scatter\", \"x\": [0, 1, 2, 3, 4, 5, 6, 7, 8, 9, 10, 11], \"y\": [2.013373941, -2.290416626, -2.7610125880000003, -3.8648858510000004, -4.681964408, -1.700959334, 0.4931142652, 3.343488533, 5.78397213, 4.493679889, 3.941021179, 2.493188475], \"yaxis\": \"y\"}, {\"hovertemplate\": \"<b>x:%{x:.3f}</b><br>y:%{y}\", \"mode\": \"markers+lines\", \"name\": \"S3:2, S4:0, S5:0, R3:0, R4:-2, R5:2\", \"type\": \"scatter\", \"x\": [0, 1, 2, 3, 4, 5, 6, 7, 8, 9, 10, 11], \"y\": [-0.36881864490000005, -3.380318417, -3.638607918, -5.112106433, -6.023516337999999, -3.048094505, -0.8880262762000001, 1.9357646519999998, 4.102466931, 2.6692609, 2.3345316819999997, 1.242780247], \"yaxis\": \"y\"}, {\"hovertemplate\": \"<b>x:%{x:.3f}</b><br>y:%{y}\", \"mode\": \"markers+lines\", \"name\": \"S3:2, S4:0, S5:0, R3:0, R4:0, R5:0\", \"type\": \"scatter\", \"x\": [0, 1, 2, 3, 4, 5, 6, 7, 8, 9, 10, 11], \"y\": [-1.0246755029999999, -0.6688792516, -0.3781197768, -0.1795259905, -0.0638096953, -0.008456822514, 0.001830616312, 0.001441149051, -0.00011495395399999999, -0.001947969754, -0.003944065869, -0.002549942864], \"yaxis\": \"y\"}, {\"hovertemplate\": \"<b>x:%{x:.3f}</b><br>y:%{y}\", \"mode\": \"markers+lines\", \"name\": \"S3:2, S4:0, S5:0, R3:0, R4:0, R5:2\", \"type\": \"scatter\", \"x\": [0, 1, 2, 3, 4, 5, 6, 7, 8, 9, 10, 11], \"y\": [0.3868388939, 1.134696489, 1.5640512340000001, 1.22939776, 0.7761089773000001, 0.4838299136, 0.3427815493, 0.28018377780000003, 0.28043896879999997, 0.2982314059, 0.3412602753, 0.38087457399999997], \"yaxis\": \"y\"}, {\"hovertemplate\": \"<b>x:%{x:.3f}</b><br>y:%{y}\", \"mode\": \"markers+lines\", \"name\": \"S3:2, S4:0, S5:0, R3:2, R4:-2, R5:0\", \"type\": \"scatter\", \"x\": [0, 1, 2, 3, 4, 5, 6, 7, 8, 9, 10, 11], \"y\": [1.802224396, -1.507456219, -0.8100532582, -1.1383502429999999, -2.118834073, 0.4305536437, 2.3622318769999997, 4.814367475, 7.156958457999999, 5.6297668, 4.775841045, 4.169895803999999], \"yaxis\": \"y\"}, {\"hovertemplate\": \"<b>x:%{x:.3f}</b><br>y:%{y}\", \"mode\": \"markers+lines\", \"name\": \"S3:2, S4:0, S5:0, R3:2, R4:-2, R5:2\", \"type\": \"scatter\", \"x\": [0, 1, 2, 3, 4, 5, 6, 7, 8, 9, 10, 11], \"y\": [-0.5394801052, -2.581325814, -1.655494338, -2.376412615, -3.497780262, -0.9935428751000001, 0.865108074, 3.254205797, 5.287059293, 3.559831126, 2.9127281000000003, 2.658661372], \"yaxis\": \"y\"}, {\"hovertemplate\": \"<b>x:%{x:.3f}</b><br>y:%{y}\", \"mode\": \"markers+lines\", \"name\": \"S3:2, S4:0, S5:0, R3:2, R4:0, R5:0\", \"type\": \"scatter\", \"x\": [0, 1, 2, 3, 4, 5, 6, 7, 8, 9, 10, 11], \"y\": [-4.048242644, -3.313963464, -2.76714518, -2.1814040080000003, -1.662949298, -1.304754327, -1.307447713, -1.553945938, -1.883699075, -2.4829964490000003, -2.65079578, -2.040012295], \"yaxis\": \"y\"}, {\"hovertemplate\": \"<b>x:%{x:.3f}</b><br>y:%{y}\", \"mode\": \"markers+lines\", \"name\": \"S3:2, S4:0, S5:0, R3:2, R4:0, R5:2\", \"type\": \"scatter\", \"x\": [0, 1, 2, 3, 4, 5, 6, 7, 8, 9, 10, 11], \"y\": [-2.53650034, -1.4521604909999999, -0.7920079833, -0.7700789494, -0.8591222121, -0.8943921925, -1.086274171, -1.4371855569999998, -1.812717126, -2.44016426, -2.55854204, -1.9118038769999999], \"yaxis\": \"y\"}, {\"hovertemplate\": \"<b>x:%{x:.3f}</b><br>y:%{y}\", \"mode\": \"markers+lines\", \"name\": \"S3:2, S4:0, S5:2, R3:0, R4:-2, R5:0\", \"type\": \"scatter\", \"x\": [0, 1, 2, 3, 4, 5, 6, 7, 8, 9, 10, 11], \"y\": [0.029858276560000004, -2.893098745, -3.032375695, -3.9493501710000003, -4.113170967, -1.940314939, -2.68531901, -4.262303928, -7.823207432, -8.956346592000001, -5.234324913, -1.995672039], \"yaxis\": \"y\"}, {\"hovertemplate\": \"<b>x:%{x:.3f}</b><br>y:%{y}\", \"mode\": \"markers+lines\", \"name\": \"S3:2, S4:0, S5:2, R3:0, R4:-2, R5:2\", \"type\": \"scatter\", \"x\": [0, 1, 2, 3, 4, 5, 6, 7, 8, 9, 10, 11], \"y\": [-0.09302882739, -0.7487122992, 0.5329538822, -0.3044034563, -0.6847875912000001, 0.831103925, -0.5870522508, -2.8816770789999997, -7.3075789339999995, -8.932192081, -5.472279424, -2.414836695], \"yaxis\": \"y\"}, {\"hovertemplate\": \"<b>x:%{x:.3f}</b><br>y:%{y}\", \"mode\": \"markers+lines\", \"name\": \"S3:2, S4:0, S5:2, R3:0, R4:0, R5:0\", \"type\": \"scatter\", \"x\": [0, 1, 2, 3, 4, 5, 6, 7, 8, 9, 10, 11], \"y\": [-0.05997207621, 1.146246095, 2.422897828, 3.822479635, 5.515658429, 7.133698361, 7.210878369, 7.658595482000001, 7.5461604939999996, 5.259222365, 4.5862058139999995, 3.369610475], \"yaxis\": \"y\"}, {\"hovertemplate\": \"<b>x:%{x:.3f}</b><br>y:%{y}\", \"mode\": \"markers+lines\", \"name\": \"S3:2, S4:0, S5:2, R3:0, R4:0, R5:2\", \"type\": \"scatter\", \"x\": [0, 1, 2, 3, 4, 5, 6, 7, 8, 9, 10, 11], \"y\": [2.447384116, 5.4376448139999995, 8.389378401, 9.952437158, 11.19496524, 11.97509808, 11.15401986, 10.9972431, 10.32637126, 7.484624116, 6.319841525, 4.565240627], \"yaxis\": \"y\"}, {\"hovertemplate\": \"<b>x:%{x:.3f}</b><br>y:%{y}\", \"mode\": \"markers+lines\", \"name\": \"S3:2, S4:0, S5:2, R3:2, R4:-2, R5:0\", \"type\": \"scatter\", \"x\": [0, 1, 2, 3, 4, 5, 6, 7, 8, 9, 10, 11], \"y\": [0.1173379274, -1.820284555, -0.7208464212000001, -0.7996137445999999, -1.025009908, 0.9198848061, -0.03885953099, -2.089413865, -6.2267172539999995, -8.515176961, -5.608294862, -2.129483178], \"yaxis\": \"y\"}, {\"hovertemplate\": \"<b>x:%{x:.3f}</b><br>y:%{y}\", \"mode\": \"markers+lines\", \"name\": \"S3:2, S4:0, S5:2, R3:2, R4:-2, R5:2\", \"type\": \"scatter\", \"x\": [0, 1, 2, 3, 4, 5, 6, 7, 8, 9, 10, 11], \"y\": [-0.02465520606, 0.2906655285, 2.8441902480000003, 2.8352790789999998, 2.3610343119999997, 3.618754361, 1.947385196, -0.8467725853, -5.898601815, -8.74131239, -6.100288236, -2.800627843], \"yaxis\": \"y\"}, {\"hovertemplate\": \"<b>x:%{x:.3f}</b><br>y:%{y}\", \"mode\": \"markers+lines\", \"name\": \"S3:2, S4:0, S5:2, R3:2, R4:0, R5:0\", \"type\": \"scatter\", \"x\": [0, 1, 2, 3, 4, 5, 6, 7, 8, 9, 10, 11], \"y\": [-2.780576342, -1.220543878, 0.3606446598, 2.249128955, 4.464144753, 6.547881428999999, 6.755356189, 6.923772144, 6.23342424, 2.747094745, 1.148712566, -0.1431613379], \"yaxis\": \"y\"}, {\"hovertemplate\": \"<b>x:%{x:.3f}</b><br>y:%{y}\", \"mode\": \"markers+lines\", \"name\": \"S3:2, S4:0, S5:2, R3:2, R4:0, R5:2\", \"type\": \"scatter\", \"x\": [0, 1, 2, 3, 4, 5, 6, 7, 8, 9, 10, 11], \"y\": [-0.2862792548, 3.0505924589999998, 6.330911774, 8.375741733, 10.11811834, 11.32229955, 10.591463599999999, 10.11979869, 8.83346911, 4.736853791000001, 2.63682493, 0.7996892395999999], \"yaxis\": \"y\"}, {\"hovertemplate\": \"<b>x:%{x:.3f}</b><br>y:%{y}\", \"mode\": \"markers+lines\", \"name\": \"S3:2, S4:2, S5:-2, R3:0, R4:-2, R5:0\", \"type\": \"scatter\", \"x\": [0, 1, 2, 3, 4, 5, 6, 7, 8, 9, 10, 11], \"y\": [2.44588412, 6.833334226, 12.15224556, 16.9995143, 17.20400833, 17.55612799, 19.74897431, 23.66738054, 30.77852339, 29.33163721, 22.44708989, 13.74781563], \"yaxis\": \"y\"}, {\"hovertemplate\": \"<b>x:%{x:.3f}</b><br>y:%{y}\", \"mode\": \"markers+lines\", \"name\": \"S3:2, S4:2, S5:-2, R3:0, R4:-2, R5:2\", \"type\": \"scatter\", \"x\": [0, 1, 2, 3, 4, 5, 6, 7, 8, 9, 10, 11], \"y\": [-0.3629186663, 2.97240875, 6.826876371, 10.23092233, 9.867754375, 10.57166922, 13.54447638, 18.37035353, 26.05533446, 25.35426466, 19.72625363, 11.96223231], \"yaxis\": \"y\"}, {\"hovertemplate\": \"<b>x:%{x:.3f}</b><br>y:%{y}\", \"mode\": \"markers+lines\", \"name\": \"S3:2, S4:2, S5:-2, R3:0, R4:0, R5:0\", \"type\": \"scatter\", \"x\": [0, 1, 2, 3, 4, 5, 6, 7, 8, 9, 10, 11], \"y\": [-2.935508659, -6.479271734, -5.571290643999999, -4.636012145, -3.917945477, -1.318241392, -0.7978700298, 0.34681231450000005, 2.295226039, 2.166843932, 2.958470337, 3.07034016], \"yaxis\": \"y\"}, {\"hovertemplate\": \"<b>x:%{x:.3f}</b><br>y:%{y}\", \"mode\": \"markers+lines\", \"name\": \"S3:2, S4:2, S5:-2, R3:0, R4:0, R5:2\", \"type\": \"scatter\", \"x\": [0, 1, 2, 3, 4, 5, 6, 7, 8, 9, 10, 11], \"y\": [-2.181938456, -7.546484803999999, -8.240322771, -8.942846682, -8.936849097, -6.264578941, -5.121410489, -3.226980181, -0.5879848061, -0.01386827908, 1.454816597, 2.202653059], \"yaxis\": \"y\"}, {\"hovertemplate\": \"<b>x:%{x:.3f}</b><br>y:%{y}\", \"mode\": \"markers+lines\", \"name\": \"S3:2, S4:2, S5:-2, R3:2, R4:-2, R5:0\", \"type\": \"scatter\", \"x\": [0, 1, 2, 3, 4, 5, 6, 7, 8, 9, 10, 11], \"y\": [0.35682194359999997, 4.983906023, 10.39235935, 15.33076548, 15.16789965, 13.92368602, 14.75976985, 17.64018464, 24.78564295, 24.35696075, 19.98250565, 14.23998779], \"yaxis\": \"y\"}, {\"hovertemplate\": \"<b>x:%{x:.3f}</b><br>y:%{y}\", \"mode\": \"markers+lines\", \"name\": \"S3:2, S4:2, S5:-2, R3:2, R4:-2, R5:2\", \"type\": \"scatter\", \"x\": [0, 1, 2, 3, 4, 5, 6, 7, 8, 9, 10, 11], \"y\": [-2.369298344, 1.180257986, 5.149277898, 8.645181457, 7.846567666, 6.865647169, 8.439100468, 12.18894641, 19.88869855, 20.08531255, 16.87704833, 12.19995575], \"yaxis\": \"y\"}, {\"hovertemplate\": \"<b>x:%{x:.3f}</b><br>y:%{y}\", \"mode\": \"markers+lines\", \"name\": \"S3:2, S4:2, S5:-2, R3:2, R4:0, R5:0\", \"type\": \"scatter\", \"x\": [0, 1, 2, 3, 4, 5, 6, 7, 8, 9, 10, 11], \"y\": [-7.164429722, -11.19433437, -11.10251306, -10.75937776, -10.62609772, -8.83274698, -9.233276451, -8.98595152, -6.804625828, -6.19409125, -3.351262515, 0.03228483067], \"yaxis\": \"y\"}, {\"hovertemplate\": \"<b>x:%{x:.3f}</b><br>y:%{y}\", \"mode\": \"markers+lines\", \"name\": \"S3:2, S4:2, S5:-2, R3:2, R4:0, R5:2\", \"type\": \"scatter\", \"x\": [0, 1, 2, 3, 4, 5, 6, 7, 8, 9, 10, 11], \"y\": [-6.25069735, -12.10955124, -13.62901812, -14.99087969, -15.666630300000001, -13.83951334, -13.66539606, -12.69861388, -9.86589287, -8.608158107000001, -5.055911242, -0.9958848406], \"yaxis\": \"y\"}, {\"hovertemplate\": \"<b>x:%{x:.3f}</b><br>y:%{y}\", \"mode\": \"markers+lines\", \"name\": \"S3:2, S4:2, S5:0, R3:0, R4:-2, R5:0\", \"type\": \"scatter\", \"x\": [0, 1, 2, 3, 4, 5, 6, 7, 8, 9, 10, 11], \"y\": [0.2563358618, 3.587115264, 7.225672825, 9.640289035, 6.4787929129999995, 3.361376078, 2.121631138, 2.36158053, 5.285770231, 4.858680584, 4.450328358, 4.020664395], \"yaxis\": \"y\"}, {\"hovertemplate\": \"<b>x:%{x:.3f}</b><br>y:%{y}\", \"mode\": \"markers+lines\", \"name\": \"S3:2, S4:2, S5:0, R3:0, R4:-2, R5:2\", \"type\": \"scatter\", \"x\": [0, 1, 2, 3, 4, 5, 6, 7, 8, 9, 10, 11], \"y\": [0.03991728521, 3.6466066460000004, 7.062037421, 8.572282419, 4.566526552, 1.231821147, -0.1055397979, 0.2214275808, 2.9910967810000004, 2.511381869, 2.3994119019999998, 2.342794132], \"yaxis\": \"y\"}, {\"hovertemplate\": \"<b>x:%{x:.3f}</b><br>y:%{y}\", \"mode\": \"markers+lines\", \"name\": \"S3:2, S4:2, S5:0, R3:0, R4:0, R5:0\", \"type\": \"scatter\", \"x\": [0, 1, 2, 3, 4, 5, 6, 7, 8, 9, 10, 11], \"y\": [-2.476311882, -7.478127705, -7.815175892999999, -8.636499991, -9.956776232000001, -8.962721568, -8.902646309, -8.053774947, -6.028709597000001, -4.145851703, -2.778072715, -1.410072978], \"yaxis\": \"y\"}, {\"hovertemplate\": \"<b>x:%{x:.3f}</b><br>y:%{y}\", \"mode\": \"markers+lines\", \"name\": \"S3:2, S4:2, S5:0, R3:0, R4:0, R5:2\", \"type\": \"scatter\", \"x\": [0, 1, 2, 3, 4, 5, 6, 7, 8, 9, 10, 11], \"y\": [0.7340003084000001, -4.779537876, -5.601671872000001, -7.597750129, -9.838650395, -9.334523619, -9.449955432000001, -8.524367718999999, -6.406599303999999, -4.394193737, -2.8812334660000003, -1.45533613], \"yaxis\": \"y\"}, {\"hovertemplate\": \"<b>x:%{x:.3f}</b><br>y:%{y}\", \"mode\": \"markers+lines\", \"name\": \"S3:2, S4:2, S5:0, R3:2, R4:-2, R5:0\", \"type\": \"scatter\", \"x\": [0, 1, 2, 3, 4, 5, 6, 7, 8, 9, 10, 11], \"y\": [-1.5379309030000001, 2.01860159, 5.8290190079999995, 8.443809989, 4.990489327, 0.3730709215, -2.096022317, -2.986579621, -0.1424161582, -0.2437339896, 0.4357296723, 2.72039143], \"yaxis\": \"y\"}, {\"hovertemplate\": \"<b>x:%{x:.3f}</b><br>y:%{y}\", \"mode\": \"markers+lines\", \"name\": \"S3:2, S4:2, S5:0, R3:2, R4:-2, R5:2\", \"type\": \"scatter\", \"x\": [0, 1, 2, 3, 4, 5, 6, 7, 8, 9, 10, 11], \"y\": [-1.673744806, 2.1256350630000003, 5.722812809, 7.422737209, 3.0528781130000002, -1.8454225380000002, -4.443063561000001, -5.2803238530000005, -2.617473377, -2.8271985010000003, -1.8407039630000002, 0.8584923945], \"yaxis\": \"y\"}, {\"hovertemplate\": \"<b>x:%{x:.3f}</b><br>y:%{y}\", \"mode\": \"markers+lines\", \"name\": \"S3:2, S4:2, S5:0, R3:2, R4:0, R5:0\", \"type\": \"scatter\", \"x\": [0, 1, 2, 3, 4, 5, 6, 7, 8, 9, 10, 11], \"y\": [-6.401737252, -11.889883300000001, -12.98543693, -14.332681599999999, -16.16303466, -15.78796763, -16.57804329, -16.6705716, -14.70076895, -12.50469358, -9.466665557999999, -5.344474254], \"yaxis\": \"y\"}, {\"hovertemplate\": \"<b>x:%{x:.3f}</b><br>y:%{y}\", \"mode\": \"markers+lines\", \"name\": \"S3:2, S4:2, S5:0, R3:2, R4:0, R5:2\", \"type\": \"scatter\", \"x\": [0, 1, 2, 3, 4, 5, 6, 7, 8, 9, 10, 11], \"y\": [-3.0500888410000004, -9.045521366000001, -10.66311909, -13.26622701, -16.09591478, -16.248890900000003, -17.25103143, -17.29549629, -15.28027237, -13.00430188, -9.757111354, -5.510777999], \"yaxis\": \"y\"}, {\"hovertemplate\": \"<b>x:%{x:.3f}</b><br>y:%{y}\", \"mode\": \"markers+lines\", \"name\": \"S3:2, S4:2, S5:2, R3:0, R4:-2, R5:0\", \"type\": \"scatter\", \"x\": [0, 1, 2, 3, 4, 5, 6, 7, 8, 9, 10, 11], \"y\": [-0.0151977644, 4.027484173, 8.016513052999999, 10.4172791, 7.112291122, 3.355557642, -1.2617719029999999, -5.575820039, -8.833937902999999, -9.888928389, -6.024234586, -1.90115205], \"yaxis\": \"y\"}, {\"hovertemplate\": \"<b>x:%{x:.3f}</b><br>y:%{y}\", \"mode\": \"markers+lines\", \"name\": \"S3:2, S4:2, S5:2, R3:0, R4:-2, R5:2\", \"type\": \"scatter\", \"x\": [0, 1, 2, 3, 4, 5, 6, 7, 8, 9, 10, 11], \"y\": [1.337133417, 6.858258900000001, 11.98977446, 14.0609959, 9.911985827999999, 5.351722796000001, -0.01832979747, -4.902351497, -8.932507572999999, -10.39931551, -6.708005194, -2.741633966], \"yaxis\": \"y\"}, {\"hovertemplate\": \"<b>x:%{x:.3f}</b><br>y:%{y}\", \"mode\": \"markers+lines\", \"name\": \"S3:2, S4:2, S5:2, R3:0, R4:0, R5:0\", \"type\": \"scatter\", \"x\": [0, 1, 2, 3, 4, 5, 6, 7, 8, 9, 10, 11], \"y\": [-0.1720587502, -4.828422837, -4.410878938, -4.481488698, -4.522245009, -1.9622837359999998, -1.9126218869999998, -0.4080646586, 1.4056124680000002, 0.5572464731, 0.9047493168999999, 0.8362880773], \"yaxis\": \"y\"}, {\"hovertemplate\": \"<b>x:%{x:.3f}</b><br>y:%{y}\", \"mode\": \"markers+lines\", \"name\": \"S3:2, S4:2, S5:2, R3:0, R4:0, R5:2\", \"type\": \"scatter\", \"x\": [0, 1, 2, 3, 4, 5, 6, 7, 8, 9, 10, 11], \"y\": [3.18341977, -0.2833674055, 1.38782919, 1.115918409, 0.4017478919, 2.047294489, 1.160144356, 2.21922804, 3.577843952, 2.2661634530000003, 2.202854485, 1.608897146], \"yaxis\": \"y\"}, {\"hovertemplate\": \"<b>x:%{x:.3f}</b><br>y:%{y}\", \"mode\": \"markers+lines\", \"name\": \"S3:2, S4:2, S5:2, R3:2, R4:-2, R5:0\", \"type\": \"scatter\", \"x\": [0, 1, 2, 3, 4, 5, 6, 7, 8, 9, 10, 11], \"y\": [-1.5089571069999999, 2.742182604, 6.984383581, 9.706688147000001, 6.154107252, 1.06747157, -4.698038499, -10.25570636, -13.91595168, -15.36765645, -10.69512748, -4.3936322269999994], \"yaxis\": \"y\"}, {\"hovertemplate\": \"<b>x:%{x:.3f}</b><br>y:%{y}\", \"mode\": \"markers+lines\", \"name\": \"S3:2, S4:2, S5:2, R3:2, R4:-2, R5:2\", \"type\": \"scatter\", \"x\": [0, 1, 2, 3, 4, 5, 6, 7, 8, 9, 10, 11], \"y\": [-0.1719842549, 5.55803321, 10.98554353, 13.39044829, 8.9202719, 2.9871751, -3.572458432, -9.72607981, -14.19730894, -16.13148015, -11.58824594, -5.375351778], \"yaxis\": \"y\"}, {\"hovertemplate\": \"<b>x:%{x:.3f}</b><br>y:%{y}\", \"mode\": \"markers+lines\", \"name\": \"S3:2, S4:2, S5:2, R3:2, R4:0, R5:0\", \"type\": \"scatter\", \"x\": [0, 1, 2, 3, 4, 5, 6, 7, 8, 9, 10, 11], \"y\": [-3.797352562, -8.915490989, -9.219453269, -9.765469606, -10.23873463, -8.131553475, -8.783957496000001, -8.240100172, -6.645788015, -7.427988222000001, -5.82787654, -3.701837072], \"yaxis\": \"y\"}, {\"hovertemplate\": \"<b>x:%{x:.3f}</b><br>y:%{y}\", \"mode\": \"markers+lines\", \"name\": \"S3:2, S4:2, S5:2, R3:2, R4:0, R5:2\", \"type\": \"scatter\", \"x\": [0, 1, 2, 3, 4, 5, 6, 7, 8, 9, 10, 11], \"y\": [-0.4510390027, -4.317069221000001, -3.347398583, -4.150599654, -5.358415675, -4.206632518, -5.832406177999999, -5.755750722999999, -4.657155341, -5.964841234, -4.6998640289999996, -3.0147712280000003], \"yaxis\": \"y\"}],\n",
              "                        {\"template\": {\"data\": {\"bar\": [{\"error_x\": {\"color\": \"#2a3f5f\"}, \"error_y\": {\"color\": \"#2a3f5f\"}, \"marker\": {\"line\": {\"color\": \"#E5ECF6\", \"width\": 0.5}}, \"type\": \"bar\"}], \"barpolar\": [{\"marker\": {\"line\": {\"color\": \"#E5ECF6\", \"width\": 0.5}}, \"type\": \"barpolar\"}], \"carpet\": [{\"aaxis\": {\"endlinecolor\": \"#2a3f5f\", \"gridcolor\": \"white\", \"linecolor\": \"white\", \"minorgridcolor\": \"white\", \"startlinecolor\": \"#2a3f5f\"}, \"baxis\": {\"endlinecolor\": \"#2a3f5f\", \"gridcolor\": \"white\", \"linecolor\": \"white\", \"minorgridcolor\": \"white\", \"startlinecolor\": \"#2a3f5f\"}, \"type\": \"carpet\"}], \"choropleth\": [{\"colorbar\": {\"outlinewidth\": 0, \"ticks\": \"\"}, \"type\": \"choropleth\"}], \"contour\": [{\"colorbar\": {\"outlinewidth\": 0, \"ticks\": \"\"}, \"colorscale\": [[0.0, \"#0d0887\"], [0.1111111111111111, \"#46039f\"], [0.2222222222222222, \"#7201a8\"], [0.3333333333333333, \"#9c179e\"], [0.4444444444444444, \"#bd3786\"], [0.5555555555555556, \"#d8576b\"], [0.6666666666666666, \"#ed7953\"], [0.7777777777777778, \"#fb9f3a\"], [0.8888888888888888, \"#fdca26\"], [1.0, \"#f0f921\"]], \"type\": \"contour\"}], \"contourcarpet\": [{\"colorbar\": {\"outlinewidth\": 0, \"ticks\": \"\"}, \"type\": \"contourcarpet\"}], \"heatmap\": [{\"colorbar\": {\"outlinewidth\": 0, \"ticks\": \"\"}, \"colorscale\": [[0.0, \"#0d0887\"], [0.1111111111111111, \"#46039f\"], [0.2222222222222222, \"#7201a8\"], [0.3333333333333333, \"#9c179e\"], [0.4444444444444444, \"#bd3786\"], [0.5555555555555556, \"#d8576b\"], [0.6666666666666666, \"#ed7953\"], [0.7777777777777778, \"#fb9f3a\"], [0.8888888888888888, \"#fdca26\"], [1.0, \"#f0f921\"]], \"type\": \"heatmap\"}], \"heatmapgl\": [{\"colorbar\": {\"outlinewidth\": 0, \"ticks\": \"\"}, \"colorscale\": [[0.0, \"#0d0887\"], [0.1111111111111111, \"#46039f\"], [0.2222222222222222, \"#7201a8\"], [0.3333333333333333, \"#9c179e\"], [0.4444444444444444, \"#bd3786\"], [0.5555555555555556, \"#d8576b\"], [0.6666666666666666, \"#ed7953\"], [0.7777777777777778, \"#fb9f3a\"], [0.8888888888888888, \"#fdca26\"], [1.0, \"#f0f921\"]], \"type\": \"heatmapgl\"}], \"histogram\": [{\"marker\": {\"colorbar\": {\"outlinewidth\": 0, \"ticks\": \"\"}}, \"type\": \"histogram\"}], \"histogram2d\": [{\"colorbar\": {\"outlinewidth\": 0, \"ticks\": \"\"}, \"colorscale\": [[0.0, \"#0d0887\"], [0.1111111111111111, \"#46039f\"], [0.2222222222222222, \"#7201a8\"], [0.3333333333333333, \"#9c179e\"], [0.4444444444444444, \"#bd3786\"], [0.5555555555555556, \"#d8576b\"], [0.6666666666666666, \"#ed7953\"], [0.7777777777777778, \"#fb9f3a\"], [0.8888888888888888, \"#fdca26\"], [1.0, \"#f0f921\"]], \"type\": \"histogram2d\"}], \"histogram2dcontour\": [{\"colorbar\": {\"outlinewidth\": 0, \"ticks\": \"\"}, \"colorscale\": [[0.0, \"#0d0887\"], [0.1111111111111111, \"#46039f\"], [0.2222222222222222, \"#7201a8\"], [0.3333333333333333, \"#9c179e\"], [0.4444444444444444, \"#bd3786\"], [0.5555555555555556, \"#d8576b\"], [0.6666666666666666, \"#ed7953\"], [0.7777777777777778, \"#fb9f3a\"], [0.8888888888888888, \"#fdca26\"], [1.0, \"#f0f921\"]], \"type\": \"histogram2dcontour\"}], \"mesh3d\": [{\"colorbar\": {\"outlinewidth\": 0, \"ticks\": \"\"}, \"type\": \"mesh3d\"}], \"parcoords\": [{\"line\": {\"colorbar\": {\"outlinewidth\": 0, \"ticks\": \"\"}}, \"type\": \"parcoords\"}], \"pie\": [{\"automargin\": true, \"type\": \"pie\"}], \"scatter\": [{\"marker\": {\"colorbar\": {\"outlinewidth\": 0, \"ticks\": \"\"}}, \"type\": \"scatter\"}], \"scatter3d\": [{\"line\": {\"colorbar\": {\"outlinewidth\": 0, \"ticks\": \"\"}}, \"marker\": {\"colorbar\": {\"outlinewidth\": 0, \"ticks\": \"\"}}, \"type\": \"scatter3d\"}], \"scattercarpet\": [{\"marker\": {\"colorbar\": {\"outlinewidth\": 0, \"ticks\": \"\"}}, \"type\": \"scattercarpet\"}], \"scattergeo\": [{\"marker\": {\"colorbar\": {\"outlinewidth\": 0, \"ticks\": \"\"}}, \"type\": \"scattergeo\"}], \"scattergl\": [{\"marker\": {\"colorbar\": {\"outlinewidth\": 0, \"ticks\": \"\"}}, \"type\": \"scattergl\"}], \"scattermapbox\": [{\"marker\": {\"colorbar\": {\"outlinewidth\": 0, \"ticks\": \"\"}}, \"type\": \"scattermapbox\"}], \"scatterpolar\": [{\"marker\": {\"colorbar\": {\"outlinewidth\": 0, \"ticks\": \"\"}}, \"type\": \"scatterpolar\"}], \"scatterpolargl\": [{\"marker\": {\"colorbar\": {\"outlinewidth\": 0, \"ticks\": \"\"}}, \"type\": \"scatterpolargl\"}], \"scatterternary\": [{\"marker\": {\"colorbar\": {\"outlinewidth\": 0, \"ticks\": \"\"}}, \"type\": \"scatterternary\"}], \"surface\": [{\"colorbar\": {\"outlinewidth\": 0, \"ticks\": \"\"}, \"colorscale\": [[0.0, \"#0d0887\"], [0.1111111111111111, \"#46039f\"], [0.2222222222222222, \"#7201a8\"], [0.3333333333333333, \"#9c179e\"], [0.4444444444444444, \"#bd3786\"], [0.5555555555555556, \"#d8576b\"], [0.6666666666666666, \"#ed7953\"], [0.7777777777777778, \"#fb9f3a\"], [0.8888888888888888, \"#fdca26\"], [1.0, \"#f0f921\"]], \"type\": \"surface\"}], \"table\": [{\"cells\": {\"fill\": {\"color\": \"#EBF0F8\"}, \"line\": {\"color\": \"white\"}}, \"header\": {\"fill\": {\"color\": \"#C8D4E3\"}, \"line\": {\"color\": \"white\"}}, \"type\": \"table\"}]}, \"layout\": {\"annotationdefaults\": {\"arrowcolor\": \"#2a3f5f\", \"arrowhead\": 0, \"arrowwidth\": 1}, \"coloraxis\": {\"colorbar\": {\"outlinewidth\": 0, \"ticks\": \"\"}}, \"colorscale\": {\"diverging\": [[0, \"#8e0152\"], [0.1, \"#c51b7d\"], [0.2, \"#de77ae\"], [0.3, \"#f1b6da\"], [0.4, \"#fde0ef\"], [0.5, \"#f7f7f7\"], [0.6, \"#e6f5d0\"], [0.7, \"#b8e186\"], [0.8, \"#7fbc41\"], [0.9, \"#4d9221\"], [1, \"#276419\"]], \"sequential\": [[0.0, \"#0d0887\"], [0.1111111111111111, \"#46039f\"], [0.2222222222222222, \"#7201a8\"], [0.3333333333333333, \"#9c179e\"], [0.4444444444444444, \"#bd3786\"], [0.5555555555555556, \"#d8576b\"], [0.6666666666666666, \"#ed7953\"], [0.7777777777777778, \"#fb9f3a\"], [0.8888888888888888, \"#fdca26\"], [1.0, \"#f0f921\"]], \"sequentialminus\": [[0.0, \"#0d0887\"], [0.1111111111111111, \"#46039f\"], [0.2222222222222222, \"#7201a8\"], [0.3333333333333333, \"#9c179e\"], [0.4444444444444444, \"#bd3786\"], [0.5555555555555556, \"#d8576b\"], [0.6666666666666666, \"#ed7953\"], [0.7777777777777778, \"#fb9f3a\"], [0.8888888888888888, \"#fdca26\"], [1.0, \"#f0f921\"]]}, \"colorway\": [\"#636efa\", \"#EF553B\", \"#00cc96\", \"#ab63fa\", \"#FFA15A\", \"#19d3f3\", \"#FF6692\", \"#B6E880\", \"#FF97FF\", \"#FECB52\"], \"font\": {\"color\": \"#2a3f5f\"}, \"geo\": {\"bgcolor\": \"white\", \"lakecolor\": \"white\", \"landcolor\": \"#E5ECF6\", \"showlakes\": true, \"showland\": true, \"subunitcolor\": \"white\"}, \"hoverlabel\": {\"align\": \"left\"}, \"hovermode\": \"closest\", \"mapbox\": {\"style\": \"light\"}, \"paper_bgcolor\": \"white\", \"plot_bgcolor\": \"#E5ECF6\", \"polar\": {\"angularaxis\": {\"gridcolor\": \"white\", \"linecolor\": \"white\", \"ticks\": \"\"}, \"bgcolor\": \"#E5ECF6\", \"radialaxis\": {\"gridcolor\": \"white\", \"linecolor\": \"white\", \"ticks\": \"\"}}, \"scene\": {\"xaxis\": {\"backgroundcolor\": \"#E5ECF6\", \"gridcolor\": \"white\", \"gridwidth\": 2, \"linecolor\": \"white\", \"showbackground\": true, \"ticks\": \"\", \"zerolinecolor\": \"white\"}, \"yaxis\": {\"backgroundcolor\": \"#E5ECF6\", \"gridcolor\": \"white\", \"gridwidth\": 2, \"linecolor\": \"white\", \"showbackground\": true, \"ticks\": \"\", \"zerolinecolor\": \"white\"}, \"zaxis\": {\"backgroundcolor\": \"#E5ECF6\", \"gridcolor\": \"white\", \"gridwidth\": 2, \"linecolor\": \"white\", \"showbackground\": true, \"ticks\": \"\", \"zerolinecolor\": \"white\"}}, \"shapedefaults\": {\"line\": {\"color\": \"#2a3f5f\"}}, \"ternary\": {\"aaxis\": {\"gridcolor\": \"white\", \"linecolor\": \"white\", \"ticks\": \"\"}, \"baxis\": {\"gridcolor\": \"white\", \"linecolor\": \"white\", \"ticks\": \"\"}, \"bgcolor\": \"#E5ECF6\", \"caxis\": {\"gridcolor\": \"white\", \"linecolor\": \"white\", \"ticks\": \"\"}}, \"title\": {\"x\": 0.05}, \"xaxis\": {\"automargin\": true, \"gridcolor\": \"white\", \"linecolor\": \"white\", \"ticks\": \"\", \"title\": {\"standoff\": 15}, \"zerolinecolor\": \"white\", \"zerolinewidth\": 2}, \"yaxis\": {\"automargin\": true, \"gridcolor\": \"white\", \"linecolor\": \"white\", \"ticks\": \"\", \"title\": {\"standoff\": 15}, \"zerolinecolor\": \"white\", \"zerolinewidth\": 2}}}, \"xaxis\": {\"title\": {\"text\": \"Rotor Position [\\u00b0]\"}}, \"yaxis\": {\"title\": {\"text\": \"Mid Rotor Pole Torque Magnitude [N-m]\"}}},\n",
              "                        {\"responsive\": true}\n",
              "                    ).then(function(){\n",
              "                            \n",
              "var gd = document.getElementById('b3f86592-6135-4a43-89d5-4941a22dc3c8');\n",
              "var x = new MutationObserver(function (mutations, observer) {{\n",
              "        var display = window.getComputedStyle(gd).display;\n",
              "        if (!display || display === 'none') {{\n",
              "            console.log([gd, 'removed!']);\n",
              "            Plotly.purge(gd);\n",
              "            observer.disconnect();\n",
              "        }}\n",
              "}});\n",
              "\n",
              "// Listen for the removal of the full notebook cells\n",
              "var notebookContainer = gd.closest('#notebook-container');\n",
              "if (notebookContainer) {{\n",
              "    x.observe(notebookContainer, {childList: true});\n",
              "}}\n",
              "\n",
              "// Listen for the clearing of the current output cell\n",
              "var outputEl = gd.closest('.output');\n",
              "if (outputEl) {{\n",
              "    x.observe(outputEl, {childList: true});\n",
              "}}\n",
              "\n",
              "                        })\n",
              "                };\n",
              "                \n",
              "            </script>\n",
              "        </div>\n",
              "</body>\n",
              "</html>"
            ]
          },
          "metadata": {}
        }
      ]
    },
    {
      "cell_type": "code",
      "metadata": {
        "id": "CAJV-f1X-Ha6"
      },
      "source": [],
      "execution_count": null,
      "outputs": []
    },
    {
      "cell_type": "markdown",
      "metadata": {
        "id": "ne0KluA3DVjl"
      },
      "source": [
        "# Curve Fitting"
      ]
    },
    {
      "cell_type": "code",
      "metadata": {
        "id": "Ja14ZcrsDVjm"
      },
      "source": [
        "from scipy.interpolate import interp1d\n",
        "import numpy as np"
      ],
      "execution_count": null,
      "outputs": []
    },
    {
      "cell_type": "markdown",
      "metadata": {
        "id": "jQLkBxyBDVjm"
      },
      "source": [
        "### 3S3R"
      ]
    },
    {
      "cell_type": "code",
      "metadata": {
        "id": "5HDBezDlDVjm",
        "colab": {
          "base_uri": "https://localhost:8080/"
        },
        "outputId": "f695b187-0d22-4796-aff9-625e3b9f1b34"
      },
      "source": [
        "dfg = df_3S3R_rotor.groupby(columns_excitation)\n",
        "n_excitation_group = dfg.ngroups\n",
        "\n",
        "print(n_excitation_group)\n",
        "\n",
        "for inx, (problem_name, problem_df) in enumerate(df_3S3R_rotor.groupby(columns_excitation)):\n",
        "  \n",
        "  label = {col[2:4] : problem_name[index] for index, col in enumerate(columns_excitation)}\n",
        "  \n",
        "  # problem_df.sort_values(by='rotor_angle', inplace=True)\n",
        "  x = problem_df['rotor_angle']\n",
        "  \n",
        "  y = problem_df['Tz']\n",
        "  label['f'] = interp1d(x, y)\n",
        "\n",
        "  label['f3'] = interp1d(x, y, kind='cubic')\n",
        "\n",
        "  label_df = pd.Series(label, name=inx)\n",
        "\n",
        "  if inx == 0:   \n",
        "    df_f = pd.DataFrame(columns=label_df.index, index = np.arange(n_excitation_group))\n",
        "  \n",
        "  df_f.iloc[inx] = label_df"
      ],
      "execution_count": null,
      "outputs": [
        {
          "output_type": "stream",
          "name": "stdout",
          "text": [
            "216\n"
          ]
        }
      ]
    },
    {
      "cell_type": "code",
      "metadata": {
        "colab": {
          "base_uri": "https://localhost:8080/",
          "height": 205
        },
        "id": "GVDh7zY4DVjm",
        "outputId": "8c790917-0384-4230-8eb8-d61d4f5e7041"
      },
      "source": [
        "df_f.head()"
      ],
      "execution_count": null,
      "outputs": [
        {
          "output_type": "execute_result",
          "data": {
            "text/html": [
              "<div>\n",
              "<style scoped>\n",
              "    .dataframe tbody tr th:only-of-type {\n",
              "        vertical-align: middle;\n",
              "    }\n",
              "\n",
              "    .dataframe tbody tr th {\n",
              "        vertical-align: top;\n",
              "    }\n",
              "\n",
              "    .dataframe thead th {\n",
              "        text-align: right;\n",
              "    }\n",
              "</style>\n",
              "<table border=\"1\" class=\"dataframe\">\n",
              "  <thead>\n",
              "    <tr style=\"text-align: right;\">\n",
              "      <th></th>\n",
              "      <th>S3</th>\n",
              "      <th>S4</th>\n",
              "      <th>S5</th>\n",
              "      <th>R3</th>\n",
              "      <th>R4</th>\n",
              "      <th>R5</th>\n",
              "      <th>f</th>\n",
              "      <th>f3</th>\n",
              "    </tr>\n",
              "  </thead>\n",
              "  <tbody>\n",
              "    <tr>\n",
              "      <th>0</th>\n",
              "      <td>-2</td>\n",
              "      <td>-2</td>\n",
              "      <td>-2</td>\n",
              "      <td>0</td>\n",
              "      <td>-2</td>\n",
              "      <td>0</td>\n",
              "      <td>&lt;scipy.interpolate.interpolate.interp1d object...</td>\n",
              "      <td>&lt;scipy.interpolate.interpolate.interp1d object...</td>\n",
              "    </tr>\n",
              "    <tr>\n",
              "      <th>1</th>\n",
              "      <td>-2</td>\n",
              "      <td>-2</td>\n",
              "      <td>-2</td>\n",
              "      <td>0</td>\n",
              "      <td>-2</td>\n",
              "      <td>2</td>\n",
              "      <td>&lt;scipy.interpolate.interpolate.interp1d object...</td>\n",
              "      <td>&lt;scipy.interpolate.interpolate.interp1d object...</td>\n",
              "    </tr>\n",
              "    <tr>\n",
              "      <th>2</th>\n",
              "      <td>-2</td>\n",
              "      <td>-2</td>\n",
              "      <td>-2</td>\n",
              "      <td>0</td>\n",
              "      <td>0</td>\n",
              "      <td>0</td>\n",
              "      <td>&lt;scipy.interpolate.interpolate.interp1d object...</td>\n",
              "      <td>&lt;scipy.interpolate.interpolate.interp1d object...</td>\n",
              "    </tr>\n",
              "    <tr>\n",
              "      <th>3</th>\n",
              "      <td>-2</td>\n",
              "      <td>-2</td>\n",
              "      <td>-2</td>\n",
              "      <td>0</td>\n",
              "      <td>0</td>\n",
              "      <td>2</td>\n",
              "      <td>&lt;scipy.interpolate.interpolate.interp1d object...</td>\n",
              "      <td>&lt;scipy.interpolate.interpolate.interp1d object...</td>\n",
              "    </tr>\n",
              "    <tr>\n",
              "      <th>4</th>\n",
              "      <td>-2</td>\n",
              "      <td>-2</td>\n",
              "      <td>-2</td>\n",
              "      <td>2</td>\n",
              "      <td>-2</td>\n",
              "      <td>0</td>\n",
              "      <td>&lt;scipy.interpolate.interpolate.interp1d object...</td>\n",
              "      <td>&lt;scipy.interpolate.interpolate.interp1d object...</td>\n",
              "    </tr>\n",
              "  </tbody>\n",
              "</table>\n",
              "</div>"
            ],
            "text/plain": [
              "   S3  ...                                                 f3\n",
              "0  -2  ...  <scipy.interpolate.interpolate.interp1d object...\n",
              "1  -2  ...  <scipy.interpolate.interpolate.interp1d object...\n",
              "2  -2  ...  <scipy.interpolate.interpolate.interp1d object...\n",
              "3  -2  ...  <scipy.interpolate.interpolate.interp1d object...\n",
              "4  -2  ...  <scipy.interpolate.interpolate.interp1d object...\n",
              "\n",
              "[5 rows x 8 columns]"
            ]
          },
          "metadata": {},
          "execution_count": 15
        }
      ]
    },
    {
      "cell_type": "code",
      "metadata": {
        "id": "5sdQHaJoDVT9"
      },
      "source": [
        "# import matplotlib.pyplot as plt\n",
        "\n",
        "# plt.close('all')\n",
        "# fig = plt.figure(figsize=(24, 20))\n",
        "# axes = []\n",
        "\n",
        "# for inx, (problem_name, problem_df) in enumerate(df_3S3R_rotor.groupby(columns_excitation)):\n",
        "\n",
        "#   if int(inx) < 1:\n",
        "#     axes.append(fig.add_subplot(9, int(n_excitation_group/9), inx + 1))\n",
        "#   else:\n",
        "#     axes.append(fig.add_subplot(9, int(n_excitation_group/9), inx + 1, sharey=axes[-1]))\n",
        "\n",
        "#   axis_title = [col[2:4] + ':' + str(problem_name[index]) for index, col in enumerate(columns_excitation)]\n",
        "#   axis_title = ', '.join(axis_title)\n",
        "    \n",
        "#   axes[-1].plot(problem_df['rotor_angle'], problem_df['Tz'])\n",
        "\n",
        "#   axes[-1].set_title(axis_title)\n",
        "#   axes[-1].set_ylabel('Torque [N-m]')\n",
        "\n",
        "# plt.subplots_adjust(wspace=0, hspace=0)\n",
        "# plt.tight_layout()\n"
      ],
      "execution_count": null,
      "outputs": []
    },
    {
      "cell_type": "markdown",
      "metadata": {
        "id": "x8yt772kD7Tt"
      },
      "source": [
        "# Evaluation"
      ]
    },
    {
      "cell_type": "code",
      "metadata": {
        "colab": {
          "base_uri": "https://localhost:8080/"
        },
        "id": "7Os1vWBgD7Tw",
        "outputId": "9fa60780-2de1-4c52-fb85-597ec582c3d8"
      },
      "source": [
        "!pip install deap"
      ],
      "execution_count": null,
      "outputs": [
        {
          "output_type": "stream",
          "name": "stdout",
          "text": [
            "Requirement already satisfied: deap in /usr/local/lib/python3.7/dist-packages (1.3.1)\n",
            "Requirement already satisfied: numpy in /usr/local/lib/python3.7/dist-packages (from deap) (1.19.5)\n"
          ]
        }
      ]
    },
    {
      "cell_type": "code",
      "metadata": {
        "id": "XLOIJnS_D7Tx"
      },
      "source": [
        "import random\n",
        "from deap import base\n",
        "from deap import creator\n",
        "from deap import tools\n"
      ],
      "execution_count": null,
      "outputs": []
    },
    {
      "cell_type": "code",
      "metadata": {
        "id": "Boog2-D0D7Tx"
      },
      "source": [
        "best_solutions = {}\n",
        "optimal_torque_values = {}\n",
        "stator_exc = None"
      ],
      "execution_count": null,
      "outputs": []
    },
    {
      "cell_type": "code",
      "metadata": {
        "id": "3pWboWarD7Tx"
      },
      "source": [
        "stator_exc = None"
      ],
      "execution_count": null,
      "outputs": []
    },
    {
      "cell_type": "code",
      "metadata": {
        "id": "gZsXu7XAw8eu"
      },
      "source": [
        "cols = ['I_S' + str(i+1) for i in range(31)]\n",
        "cols.append('I_R3')\n",
        "cols.append('I_R4')\n",
        "cols.append('I_R5')\n",
        "\n",
        "cols.append('rotor_displacement')\n",
        "cols.append('total_torque')\n",
        "\n",
        "df_hold_ACW_AE = pd.DataFrame(columns=cols)"
      ],
      "execution_count": null,
      "outputs": []
    },
    {
      "cell_type": "code",
      "metadata": {
        "id": "7do1k_Sr-CB2"
      },
      "source": [
        "# global df_ae"
      ],
      "execution_count": null,
      "outputs": []
    },
    {
      "cell_type": "code",
      "metadata": {
        "colab": {
          "base_uri": "https://localhost:8080/"
        },
        "id": "W9yfCbfLzX_M",
        "outputId": "54c8c29d-a256-4af1-a38a-689354099efc"
      },
      "source": [
        "df_hold_ACW_AE.head()"
      ],
      "execution_count": null,
      "outputs": [
        {
          "output_type": "execute_result",
          "data": {
            "text/html": [
              "<div>\n",
              "<style scoped>\n",
              "    .dataframe tbody tr th:only-of-type {\n",
              "        vertical-align: middle;\n",
              "    }\n",
              "\n",
              "    .dataframe tbody tr th {\n",
              "        vertical-align: top;\n",
              "    }\n",
              "\n",
              "    .dataframe thead th {\n",
              "        text-align: right;\n",
              "    }\n",
              "</style>\n",
              "<table border=\"1\" class=\"dataframe\">\n",
              "  <thead>\n",
              "    <tr style=\"text-align: right;\">\n",
              "      <th></th>\n",
              "      <th>I_S1</th>\n",
              "      <th>I_S2</th>\n",
              "      <th>I_S3</th>\n",
              "      <th>I_S4</th>\n",
              "      <th>I_S5</th>\n",
              "      <th>I_S6</th>\n",
              "      <th>I_S7</th>\n",
              "      <th>I_S8</th>\n",
              "      <th>I_S9</th>\n",
              "      <th>I_S10</th>\n",
              "      <th>I_S11</th>\n",
              "      <th>I_S12</th>\n",
              "      <th>I_S13</th>\n",
              "      <th>I_S14</th>\n",
              "      <th>I_S15</th>\n",
              "      <th>I_S16</th>\n",
              "      <th>I_S17</th>\n",
              "      <th>I_S18</th>\n",
              "      <th>I_S19</th>\n",
              "      <th>I_S20</th>\n",
              "      <th>I_S21</th>\n",
              "      <th>I_S22</th>\n",
              "      <th>I_S23</th>\n",
              "      <th>I_S24</th>\n",
              "      <th>I_S25</th>\n",
              "      <th>I_S26</th>\n",
              "      <th>I_S27</th>\n",
              "      <th>I_S28</th>\n",
              "      <th>I_S29</th>\n",
              "      <th>I_S30</th>\n",
              "      <th>I_S31</th>\n",
              "      <th>I_R3</th>\n",
              "      <th>I_R4</th>\n",
              "      <th>I_R5</th>\n",
              "      <th>rotor_displacement</th>\n",
              "      <th>total_torque</th>\n",
              "    </tr>\n",
              "  </thead>\n",
              "  <tbody>\n",
              "  </tbody>\n",
              "</table>\n",
              "</div>"
            ],
            "text/plain": [
              "Empty DataFrame\n",
              "Columns: [I_S1, I_S2, I_S3, I_S4, I_S5, I_S6, I_S7, I_S8, I_S9, I_S10, I_S11, I_S12, I_S13, I_S14, I_S15, I_S16, I_S17, I_S18, I_S19, I_S20, I_S21, I_S22, I_S23, I_S24, I_S25, I_S26, I_S27, I_S28, I_S29, I_S30, I_S31, I_R3, I_R4, I_R5, rotor_displacement, total_torque]\n",
              "Index: []"
            ]
          },
          "metadata": {},
          "execution_count": 23
        }
      ]
    },
    {
      "cell_type": "markdown",
      "metadata": {
        "id": "K-0B5hk_D7Ty"
      },
      "source": [
        "# Iterate from here for different ```rotor_displacement``` positions\n",
        "\n"
      ]
    },
    {
      "cell_type": "code",
      "metadata": {
        "id": "cVBD-2ABD7Ty"
      },
      "source": [
        "rotor_displacement = 0.1\n",
        "generations = 30"
      ],
      "execution_count": null,
      "outputs": []
    },
    {
      "cell_type": "markdown",
      "metadata": {
        "id": "q20z99kiD7Ty"
      },
      "source": [
        "# From Previous Analysis"
      ]
    },
    {
      "cell_type": "code",
      "metadata": {
        "id": "Uz4osO2JD7Ty"
      },
      "source": [
        "class Rotor_Node:    \n",
        "  def __init__(self,rot_id, posn):  \n",
        "    self.rot_id = rot_id  \n",
        "    self.posn = posn\n",
        "    self.excitation = -2*((-1)**self.rot_id)\n",
        "    self.proximal_stator_poles = {}\n",
        "    self.hist_of_exc = {}\n",
        "\n",
        "    self.prev = None\n",
        "    self.next = None\n",
        "\n",
        "class CreateRotorCircList:    \n",
        "  #Declaring head and tail pointer as null.    \n",
        "  def __init__(self):\n",
        "    self.head = Rotor_Node(0, None)    \n",
        "    self.tail = Rotor_Node(0, None)  \n",
        "    self.head.next = self.tail\n",
        "    self.head.prev = self.tail   \n",
        "    self.tail.next = self.head\n",
        "    self.tail.prev = self.head\n",
        "        \n",
        "  #This function will add the new node at the end of the list.    \n",
        "  def add(self, rot_id, posn, stat_positions):    \n",
        "    \n",
        "    newNode = Rotor_Node(rot_id, posn)\n",
        "    newNode.excitation = -2*((-1)**rot_id)\n",
        "    self.calculate_stator_proximity(newNode, stat_positions)\n",
        "\n",
        "    #Checks if the list is empty.    \n",
        "    if self.head.posn is None:    \n",
        "      #If list is empty, both head and tail would point to new node.    \n",
        "      self.head = newNode    \n",
        "      self.tail = newNode    \n",
        "      newNode.next = self.head\n",
        "      newNode.prev = self.tail\n",
        "    else:    \n",
        "      temp = self.tail\n",
        "      #tail will point to new node.    \n",
        "      self.tail.next = newNode;    \n",
        "      #New node will become new tail.    \n",
        "      self.tail = newNode;    \n",
        "      #Since, it is circular linked list tail will point to head.    \n",
        "      self.tail.next = self.head;\n",
        "      self.tail.prev = temp  \n",
        "      self.head.prev = self.tail   \n",
        "\n",
        "  def calculate_stator_proximity(self, newNode, stat_positions):\n",
        "    # print(type(rot_positions))\n",
        "    # print(rot_position)\n",
        "    # print(newNode.posn)\n",
        "    \n",
        "    abs_diff1 = [abs(sp - newNode.posn) for sp in stat_positions]\n",
        "    diff1 = [sp - newNode.posn for sp in stat_positions]\n",
        "    \n",
        "    negative_stat_positions = [abs(sp - 360) for sp in stat_positions]\n",
        "    abs_diff2 = [abs(sp + newNode.posn) for sp in negative_stat_positions]\n",
        "    diff2 = [-1*(sp + newNode.posn) for sp in negative_stat_positions]\n",
        "\n",
        "    for inx in range(len(diff1)):\n",
        "      # if newNode.posn == 0.0:\n",
        "      #   if abs_diff1[inx] < abs_diff2[inx]:\n",
        "      #     newNode.proximal_stator_poles[inx] = diff1[inx]\n",
        "      #   else:\n",
        "      #     newNode.proximal_stator_poles[inx] = diff2[inx]\n",
        "      # else:\n",
        "      #   newNode.proximal_stator_poles[inx] = diff1[inx]\n",
        "\n",
        "      \n",
        "      if abs_diff1[inx] < abs_diff2[inx]:\n",
        "          newNode.proximal_stator_poles[inx] = diff1[inx]\n",
        "      else:\n",
        "        newNode.proximal_stator_poles[inx] = diff2[inx]\n",
        "    \n",
        "      # if newNode.rot_id != 29:\n",
        "      # else:\n",
        "\n",
        "\n",
        "    newNode.proximal_stator_poles = {key:val for key, val in newNode.proximal_stator_poles.items() if val <= 11.6 and val >= -11.6}\n",
        "    key = None\n",
        "    if len(newNode.proximal_stator_poles) == 1:\n",
        "      key = [*newNode.proximal_stator_poles]\n",
        "      print(key)\n",
        "    if key != None:\n",
        "      if key[0] != 30:\n",
        "        newNode.proximal_stator_poles[key[0]+1] = fixed_stator_positions[1] - abs(newNode.proximal_stator_poles[key[0]])\n",
        "      else:\n",
        "        newNode.proximal_stator_poles[0] = fixed_stator_positions[1] - abs(newNode.proximal_stator_poles[key[0]])\n",
        "\n",
        "  #Displays all the nodes in the list    \n",
        "  def display(self):    \n",
        "    current = self.head;    \n",
        "    if self.head is None:    \n",
        "      print(\"List is empty\");    \n",
        "      return;    \n",
        "    else:    \n",
        "        print(\"Nodes of the circular linked list: \");    \n",
        "        #Prints each node by incrementing pointer.    \n",
        "        print(current.posn),    \n",
        "        while(current.next != self.head):    \n",
        "            current = current.next;    \n",
        "            print(current.posn),    \n",
        "\n",
        "  def len(self):\n",
        "    print(self.tail.stat_id)"
      ],
      "execution_count": null,
      "outputs": []
    },
    {
      "cell_type": "code",
      "metadata": {
        "id": "2YGjcJJxD7Tz",
        "colab": {
          "base_uri": "https://localhost:8080/"
        },
        "outputId": "0f339690-0fbc-4926-ef6a-41e0e52d6d91"
      },
      "source": [
        "fixed_stator_positions = np.linspace(0,360,32)\n",
        "fixed_stator_positions = fixed_stator_positions[:-1]\n",
        "fixed_stator_positions"
      ],
      "execution_count": null,
      "outputs": [
        {
          "output_type": "execute_result",
          "data": {
            "text/plain": [
              "array([  0.        ,  11.61290323,  23.22580645,  34.83870968,\n",
              "        46.4516129 ,  58.06451613,  69.67741935,  81.29032258,\n",
              "        92.90322581, 104.51612903, 116.12903226, 127.74193548,\n",
              "       139.35483871, 150.96774194, 162.58064516, 174.19354839,\n",
              "       185.80645161, 197.41935484, 209.03225806, 220.64516129,\n",
              "       232.25806452, 243.87096774, 255.48387097, 267.09677419,\n",
              "       278.70967742, 290.32258065, 301.93548387, 313.5483871 ,\n",
              "       325.16129032, 336.77419355, 348.38709677])"
            ]
          },
          "metadata": {},
          "execution_count": 118
        }
      ]
    },
    {
      "cell_type": "code",
      "metadata": {
        "id": "EhPlRwfuD7Tz"
      },
      "source": [
        "diff_discretization = 360/30 - 360/31\n",
        "\n",
        "rotor_displacement_to_check_np = np.linspace(0, 3*diff_discretization, 7)\n",
        "rotor_displacement_to_check_list = rotor_displacement_to_check_np.tolist()\n",
        "# rotor_displacement_to_check_list += [i*3 for i in rotor_displacement_to_check_list if i*2 not in rotor_displacement_to_check_list]\n",
        "rotor_displacement_to_check_list = rotor_displacement_to_check_list + [i/2 for i in range(1, 22)]\n"
      ],
      "execution_count": null,
      "outputs": []
    },
    {
      "cell_type": "code",
      "metadata": {
        "id": "bV57x029D7Tz"
      },
      "source": [
        "rotor_positions = np.linspace(0,360,31)\n",
        "rotor_positions = rotor_positions[:-1]\n",
        "\n",
        "rotor_posn_exc_config = {key:-2*(-1)**(inx) for inx, key in enumerate(rotor_positions)}\n",
        "\n",
        "rotor_posn_exc_config_df = pd.Series(rotor_posn_exc_config, index=rotor_posn_exc_config.keys(), name='Rotor_global_config')\n"
      ],
      "execution_count": null,
      "outputs": []
    },
    {
      "cell_type": "code",
      "metadata": {
        "id": "OhgGPLE7D7Tz"
      },
      "source": [
        "distint_rotor_position = pd.unique(problem_df['rotor_angle'])\n"
      ],
      "execution_count": null,
      "outputs": []
    },
    {
      "cell_type": "code",
      "metadata": {
        "id": "yUz3g_-5D7Tz"
      },
      "source": [
        "rotor_posn_exc_T_config_df = rotor_posn_exc_config_df.to_frame()\n",
        "\n",
        "for rot_position in distint_rotor_position:\n",
        "  rotor_posn_exc_T_config_df[rot_position] = 0"
      ],
      "execution_count": null,
      "outputs": []
    },
    {
      "cell_type": "code",
      "metadata": {
        "id": "YzeXXA7ED7Tz",
        "colab": {
          "base_uri": "https://localhost:8080/"
        },
        "outputId": "50b3161d-ec4a-4a85-c143-7a5e08185e15"
      },
      "source": [
        "len(fixed_stator_positions)"
      ],
      "execution_count": null,
      "outputs": [
        {
          "output_type": "execute_result",
          "data": {
            "text/plain": [
              "31"
            ]
          },
          "metadata": {},
          "execution_count": 123
        }
      ]
    },
    {
      "cell_type": "code",
      "metadata": {
        "id": "u_U8TVI4D7T0"
      },
      "source": [
        "sp = fixed_stator_positions\n",
        "sp = sp.tolist()\n",
        "\n",
        "# for rotor_displacement in rotor_displacement_to_check_list:\n",
        "rotor_cll = CreateRotorCircList()\n",
        "\n",
        "for inx, rot_posn in enumerate(rotor_posn_exc_T_config_df.index):\n",
        "  rotor_cll.add(inx, rot_posn + rotor_displacement, sp)\n"
      ],
      "execution_count": null,
      "outputs": []
    },
    {
      "cell_type": "markdown",
      "metadata": {
        "id": "6SZFw0cVDiLQ"
      },
      "source": [
        "# GA ACW\n"
      ]
    },
    {
      "cell_type": "code",
      "metadata": {
        "id": "aFQ9f1x4DiLT"
      },
      "source": [
        "# the random initialization of the genetic algorithm is done here\n",
        "# it gives a list of integers with for each products the number of times it is bought\n",
        "\n",
        "def n_per_product():\n",
        "  return random.choices([-2, 0, 2], k = 31)\n"
      ],
      "execution_count": null,
      "outputs": []
    },
    {
      "cell_type": "code",
      "metadata": {
        "id": "OC2SsA3WDiLT",
        "colab": {
          "base_uri": "https://localhost:8080/"
        },
        "outputId": "33e079c5-94ca-45f4-e1f7-1341471b4dd3"
      },
      "source": [
        "a = n_per_product()\n",
        "len(a)"
      ],
      "execution_count": null,
      "outputs": [
        {
          "output_type": "execute_result",
          "data": {
            "text/plain": [
              "31"
            ]
          },
          "metadata": {},
          "execution_count": 126
        }
      ]
    },
    {
      "cell_type": "code",
      "metadata": {
        "colab": {
          "base_uri": "https://localhost:8080/"
        },
        "id": "SrTbJTyJ8Ou6",
        "outputId": "be75d968-b9fe-473c-8650-159b522fac9d"
      },
      "source": [
        "dict_ = {'I_S' + str(inx+1):str(cur) for inx, cur in enumerate(a)}\n",
        "dict_['I_R3'] = a[-3]\n",
        "dict_['I_R4'] = a[-2]\n",
        "dict_['I_R5'] = a[-1]\n",
        "\n",
        "dict_['rotor_displacement'] = 0.1\n",
        "dict_['total_torque'] = np.nan\n",
        "dict_"
      ],
      "execution_count": null,
      "outputs": [
        {
          "output_type": "execute_result",
          "data": {
            "text/plain": [
              "{'I_R3': 0,\n",
              " 'I_R4': 0,\n",
              " 'I_R5': -2,\n",
              " 'I_S1': '-2',\n",
              " 'I_S10': '2',\n",
              " 'I_S11': '2',\n",
              " 'I_S12': '0',\n",
              " 'I_S13': '0',\n",
              " 'I_S14': '0',\n",
              " 'I_S15': '0',\n",
              " 'I_S16': '2',\n",
              " 'I_S17': '2',\n",
              " 'I_S18': '-2',\n",
              " 'I_S19': '-2',\n",
              " 'I_S2': '-2',\n",
              " 'I_S20': '-2',\n",
              " 'I_S21': '-2',\n",
              " 'I_S22': '2',\n",
              " 'I_S23': '2',\n",
              " 'I_S24': '2',\n",
              " 'I_S25': '0',\n",
              " 'I_S26': '0',\n",
              " 'I_S27': '0',\n",
              " 'I_S28': '2',\n",
              " 'I_S29': '0',\n",
              " 'I_S3': '-2',\n",
              " 'I_S30': '0',\n",
              " 'I_S31': '-2',\n",
              " 'I_S4': '-2',\n",
              " 'I_S5': '-2',\n",
              " 'I_S6': '-2',\n",
              " 'I_S7': '0',\n",
              " 'I_S8': '0',\n",
              " 'I_S9': '2',\n",
              " 'rotor_displacement': 0.1,\n",
              " 'total_torque': nan}"
            ]
          },
          "metadata": {},
          "execution_count": 127
        }
      ]
    },
    {
      "cell_type": "code",
      "metadata": {
        "colab": {
          "base_uri": "https://localhost:8080/"
        },
        "id": "PkdBpciT8mzl",
        "outputId": "7390284a-d776-4656-9246-cc25e3e0d505"
      },
      "source": [
        "df_hold_ACW_AE = df_hold_ACW_AE.append(dict_, ignore_index=True)\n",
        "df_hold_ACW_AE.head()"
      ],
      "execution_count": null,
      "outputs": [
        {
          "output_type": "execute_result",
          "data": {
            "text/html": [
              "<div>\n",
              "<style scoped>\n",
              "    .dataframe tbody tr th:only-of-type {\n",
              "        vertical-align: middle;\n",
              "    }\n",
              "\n",
              "    .dataframe tbody tr th {\n",
              "        vertical-align: top;\n",
              "    }\n",
              "\n",
              "    .dataframe thead th {\n",
              "        text-align: right;\n",
              "    }\n",
              "</style>\n",
              "<table border=\"1\" class=\"dataframe\">\n",
              "  <thead>\n",
              "    <tr style=\"text-align: right;\">\n",
              "      <th></th>\n",
              "      <th>I_S1</th>\n",
              "      <th>I_S2</th>\n",
              "      <th>I_S3</th>\n",
              "      <th>I_S4</th>\n",
              "      <th>I_S5</th>\n",
              "      <th>I_S6</th>\n",
              "      <th>I_S7</th>\n",
              "      <th>I_S8</th>\n",
              "      <th>I_S9</th>\n",
              "      <th>I_S10</th>\n",
              "      <th>I_S11</th>\n",
              "      <th>I_S12</th>\n",
              "      <th>I_S13</th>\n",
              "      <th>I_S14</th>\n",
              "      <th>I_S15</th>\n",
              "      <th>I_S16</th>\n",
              "      <th>I_S17</th>\n",
              "      <th>I_S18</th>\n",
              "      <th>I_S19</th>\n",
              "      <th>I_S20</th>\n",
              "      <th>I_S21</th>\n",
              "      <th>I_S22</th>\n",
              "      <th>I_S23</th>\n",
              "      <th>I_S24</th>\n",
              "      <th>I_S25</th>\n",
              "      <th>I_S26</th>\n",
              "      <th>I_S27</th>\n",
              "      <th>I_S28</th>\n",
              "      <th>I_S29</th>\n",
              "      <th>I_S30</th>\n",
              "      <th>I_S31</th>\n",
              "      <th>I_R3</th>\n",
              "      <th>I_R4</th>\n",
              "      <th>I_R5</th>\n",
              "      <th>rotor_displacement</th>\n",
              "      <th>total_torque</th>\n",
              "    </tr>\n",
              "  </thead>\n",
              "  <tbody>\n",
              "    <tr>\n",
              "      <th>0</th>\n",
              "      <td>0</td>\n",
              "      <td>2</td>\n",
              "      <td>-2</td>\n",
              "      <td>2</td>\n",
              "      <td>2</td>\n",
              "      <td>-2</td>\n",
              "      <td>-2</td>\n",
              "      <td>0</td>\n",
              "      <td>-2</td>\n",
              "      <td>0</td>\n",
              "      <td>-2</td>\n",
              "      <td>2</td>\n",
              "      <td>2</td>\n",
              "      <td>2</td>\n",
              "      <td>-2</td>\n",
              "      <td>2</td>\n",
              "      <td>2</td>\n",
              "      <td>-2</td>\n",
              "      <td>-2</td>\n",
              "      <td>2</td>\n",
              "      <td>2</td>\n",
              "      <td>2</td>\n",
              "      <td>2</td>\n",
              "      <td>2</td>\n",
              "      <td>0</td>\n",
              "      <td>2</td>\n",
              "      <td>2</td>\n",
              "      <td>-2</td>\n",
              "      <td>-2</td>\n",
              "      <td>2</td>\n",
              "      <td>0</td>\n",
              "      <td>-2</td>\n",
              "      <td>2</td>\n",
              "      <td>0</td>\n",
              "      <td>0.1</td>\n",
              "      <td>NaN</td>\n",
              "    </tr>\n",
              "    <tr>\n",
              "      <th>1</th>\n",
              "      <td>0</td>\n",
              "      <td>0</td>\n",
              "      <td>0</td>\n",
              "      <td>0</td>\n",
              "      <td>-2</td>\n",
              "      <td>-2</td>\n",
              "      <td>2</td>\n",
              "      <td>-2</td>\n",
              "      <td>2</td>\n",
              "      <td>2</td>\n",
              "      <td>0</td>\n",
              "      <td>2</td>\n",
              "      <td>2</td>\n",
              "      <td>-2</td>\n",
              "      <td>0</td>\n",
              "      <td>0</td>\n",
              "      <td>-2</td>\n",
              "      <td>-2</td>\n",
              "      <td>0</td>\n",
              "      <td>2</td>\n",
              "      <td>0</td>\n",
              "      <td>-2</td>\n",
              "      <td>0</td>\n",
              "      <td>0</td>\n",
              "      <td>-2</td>\n",
              "      <td>2</td>\n",
              "      <td>0</td>\n",
              "      <td>-2</td>\n",
              "      <td>0</td>\n",
              "      <td>NaN</td>\n",
              "      <td>NaN</td>\n",
              "      <td>2</td>\n",
              "      <td>-2</td>\n",
              "      <td>2</td>\n",
              "      <td>0.0</td>\n",
              "      <td>-26.216081</td>\n",
              "    </tr>\n",
              "    <tr>\n",
              "      <th>2</th>\n",
              "      <td>-2</td>\n",
              "      <td>-2</td>\n",
              "      <td>0</td>\n",
              "      <td>0</td>\n",
              "      <td>0</td>\n",
              "      <td>-2</td>\n",
              "      <td>0</td>\n",
              "      <td>-2</td>\n",
              "      <td>0</td>\n",
              "      <td>-2</td>\n",
              "      <td>-2</td>\n",
              "      <td>0</td>\n",
              "      <td>-2</td>\n",
              "      <td>2</td>\n",
              "      <td>2</td>\n",
              "      <td>2</td>\n",
              "      <td>0</td>\n",
              "      <td>0</td>\n",
              "      <td>2</td>\n",
              "      <td>-2</td>\n",
              "      <td>0</td>\n",
              "      <td>2</td>\n",
              "      <td>2</td>\n",
              "      <td>-2</td>\n",
              "      <td>2</td>\n",
              "      <td>0</td>\n",
              "      <td>-2</td>\n",
              "      <td>-2</td>\n",
              "      <td>-2</td>\n",
              "      <td>NaN</td>\n",
              "      <td>NaN</td>\n",
              "      <td>2</td>\n",
              "      <td>-2</td>\n",
              "      <td>2</td>\n",
              "      <td>0.0</td>\n",
              "      <td>-56.646507</td>\n",
              "    </tr>\n",
              "    <tr>\n",
              "      <th>3</th>\n",
              "      <td>0</td>\n",
              "      <td>0</td>\n",
              "      <td>0</td>\n",
              "      <td>0</td>\n",
              "      <td>-2</td>\n",
              "      <td>2</td>\n",
              "      <td>-2</td>\n",
              "      <td>-2</td>\n",
              "      <td>0</td>\n",
              "      <td>2</td>\n",
              "      <td>0</td>\n",
              "      <td>0</td>\n",
              "      <td>0</td>\n",
              "      <td>0</td>\n",
              "      <td>2</td>\n",
              "      <td>-2</td>\n",
              "      <td>2</td>\n",
              "      <td>0</td>\n",
              "      <td>-2</td>\n",
              "      <td>-2</td>\n",
              "      <td>-2</td>\n",
              "      <td>2</td>\n",
              "      <td>2</td>\n",
              "      <td>-2</td>\n",
              "      <td>2</td>\n",
              "      <td>-2</td>\n",
              "      <td>-2</td>\n",
              "      <td>2</td>\n",
              "      <td>0</td>\n",
              "      <td>NaN</td>\n",
              "      <td>NaN</td>\n",
              "      <td>2</td>\n",
              "      <td>-2</td>\n",
              "      <td>2</td>\n",
              "      <td>0.0</td>\n",
              "      <td>-98.051736</td>\n",
              "    </tr>\n",
              "    <tr>\n",
              "      <th>4</th>\n",
              "      <td>0</td>\n",
              "      <td>0</td>\n",
              "      <td>2</td>\n",
              "      <td>-2</td>\n",
              "      <td>2</td>\n",
              "      <td>2</td>\n",
              "      <td>0</td>\n",
              "      <td>-2</td>\n",
              "      <td>0</td>\n",
              "      <td>0</td>\n",
              "      <td>2</td>\n",
              "      <td>0</td>\n",
              "      <td>0</td>\n",
              "      <td>0</td>\n",
              "      <td>2</td>\n",
              "      <td>0</td>\n",
              "      <td>0</td>\n",
              "      <td>2</td>\n",
              "      <td>-2</td>\n",
              "      <td>0</td>\n",
              "      <td>0</td>\n",
              "      <td>2</td>\n",
              "      <td>-2</td>\n",
              "      <td>0</td>\n",
              "      <td>-2</td>\n",
              "      <td>2</td>\n",
              "      <td>-2</td>\n",
              "      <td>0</td>\n",
              "      <td>-2</td>\n",
              "      <td>NaN</td>\n",
              "      <td>NaN</td>\n",
              "      <td>2</td>\n",
              "      <td>-2</td>\n",
              "      <td>2</td>\n",
              "      <td>0.0</td>\n",
              "      <td>-153.801858</td>\n",
              "    </tr>\n",
              "  </tbody>\n",
              "</table>\n",
              "</div>"
            ],
            "text/plain": [
              "  I_S1 I_S2 I_S3 I_S4 I_S5  ... I_R3 I_R4 I_R5 rotor_displacement total_torque\n",
              "0    0    2   -2    2    2  ...   -2    2    0                0.1          NaN\n",
              "1    0    0    0    0   -2  ...    2   -2    2                0.0   -26.216081\n",
              "2   -2   -2    0    0    0  ...    2   -2    2                0.0   -56.646507\n",
              "3    0    0    0    0   -2  ...    2   -2    2                0.0   -98.051736\n",
              "4    0    0    2   -2    2  ...    2   -2    2                0.0  -153.801858\n",
              "\n",
              "[5 rows x 36 columns]"
            ]
          },
          "metadata": {},
          "execution_count": 128
        }
      ]
    },
    {
      "cell_type": "code",
      "metadata": {
        "id": "W4G05lRADiLU",
        "colab": {
          "base_uri": "https://localhost:8080/"
        },
        "outputId": "b2e0038a-bc9c-47b6-b7fa-807f6f0efc5b"
      },
      "source": [
        "32%31"
      ],
      "execution_count": null,
      "outputs": [
        {
          "output_type": "execute_result",
          "data": {
            "text/plain": [
              "1"
            ]
          },
          "metadata": {},
          "execution_count": 129
        }
      ]
    },
    {
      "cell_type": "code",
      "metadata": {
        "id": "ELVXyfLbDiLV"
      },
      "source": [
        "# this is the function used by the algorithm for evaluation\n",
        "def evaluate(individual):\n",
        "  global df_hold_ACW_AE, cols\n",
        "  individual = individual[0]\n",
        "  \n",
        "  current_rotor_node = rotor_cll.head\n",
        "  motor_torque = []\n",
        "  # print('individual', individual)\n",
        "\n",
        "  for current_rotor_id in range(rotor_cll.tail.rot_id+1):\n",
        "    torque_R = 0.0\n",
        "    rot_pos_wrt_dict = current_rotor_node.proximal_stator_poles\n",
        "    \n",
        "    # Gives details for whichever pole is closest to the rotor\n",
        "    min_key = min(rot_pos_wrt_dict, key=rot_pos_wrt_dict.get)\n",
        "    rot_position_wrt_S3 = rot_pos_wrt_dict[min_key]\n",
        "    # print(min_key, rot_position_wrt_S3, end= '\\t')\n",
        "\n",
        "    rot_excitation = -2 * ((-1)**current_rotor_node.rot_id)\n",
        "    torque_multiplier = 1\n",
        "    if rot_excitation == -2:\n",
        "      torque_multiplier = -1\n",
        "\n",
        "    I_S3 = individual[min_key]\n",
        "    \n",
        "    if min_key <= 29:\n",
        "      I_S4 = individual[min_key+1]\n",
        "    else:\n",
        "      I_S4 = individual[(min_key+1) % 31]\n",
        "\n",
        "    if min_key <= 28:\n",
        "      I_S5 = individual[min_key+2]\n",
        "    else:\n",
        "      I_S5 = individual[(min_key+2) % 31]\n",
        "\n",
        "    I_R3 = 2\n",
        "    I_R4 = -2\n",
        "    I_R5 = 2\n",
        "\n",
        "    # print('I_S3, I_S4, I_S5', I_S3, I_S4, I_S5, df_f.loc[(df_f['S3'] == I_S3) & (df_f['S4'] == I_S4) & (df_f['S5'] == I_S5), 'f3'], end='\\t')\n",
        "    \n",
        "    # Maximize the -ve value of Torque\n",
        "    # Results in ACW motion\n",
        "\n",
        "    try:\n",
        "      torque_R = torque_multiplier*df_f.loc[(df_f['S3'] == I_S3) & \n",
        "                                            (df_f['S4'] == I_S4) & \n",
        "                                            (df_f['S5'] == I_S5) &\n",
        "                                            (df_f['R3'] == I_R3) &\n",
        "                                            (df_f['R4'] == I_R4) &\n",
        "                                            (df_f['R5'] == I_R5), 'f3'].iloc[0](abs(rot_position_wrt_S3)).item()\n",
        "    except:\n",
        "      # print('I_S3, I_S4, I_S5', I_S3, I_S4, I_S5)\n",
        "      torque_R = -100\n",
        "\n",
        "    motor_torque.append(torque_R)\n",
        "\n",
        "    current_rotor_node = current_rotor_node.next\n",
        "\n",
        "  total_torque = sum(motor_torque)\n",
        "  hold_torque = abs(0 - abs(total_torque))\n",
        "\n",
        "  if 100 not in motor_torque:\n",
        "    dict_ = {'I_S' + str(inx+1):str(cur) for inx, cur in enumerate(individual[:-2])}\n",
        "    dict_['I_R3'] = 2\n",
        "    dict_['I_R4'] = -2\n",
        "    dict_['I_R5'] = 2\n",
        "\n",
        "    dict_['rotor_displacement'] = rotor_displacement \n",
        "    dict_['total_torque'] = total_torque\n",
        "    df_hold_ACW_AE = df_hold_ACW_AE.append(dict_, ignore_index=True)\n",
        "    df_hold_ACW_AE.drop_duplicates(subset=cols[:-1], inplace=True, ignore_index = True)\n",
        "\n",
        "  return -1*total_torque,"
      ],
      "execution_count": null,
      "outputs": []
    },
    {
      "cell_type": "code",
      "metadata": {
        "id": "rIcUi-ZcDiLV",
        "colab": {
          "base_uri": "https://localhost:8080/"
        },
        "outputId": "36dc61fa-dd80-4d6d-8c90-50001d839f44"
      },
      "source": [
        "# this is the setup of the deap library: registering the different function into the toolbox\n",
        "creator.create(\"FitnessMin\", base.Fitness, weights=(-1.0,))\n",
        "creator.create(\"Individual\", list, fitness=creator.FitnessMin)\n",
        "\n",
        "toolbox = base.Toolbox()\n",
        "\n",
        "toolbox.register(\"n_per_product\", n_per_product)\n",
        "\n",
        "toolbox.register(\"individual\", tools.initRepeat, creator.Individual, toolbox.n_per_product, n=1)\n",
        "toolbox.register(\"population\", tools.initRepeat, list, toolbox.individual)\n",
        "\n",
        "toolbox.register(\"evaluate\", evaluate)\n",
        "toolbox.register(\"mate\", tools.cxTwoPoint)\n",
        "toolbox.register(\"mutate\", tools.mutFlipBit, indpb=0.05)\n",
        "toolbox.register(\"select\", tools.selTournament, tournsize=3)"
      ],
      "execution_count": null,
      "outputs": [
        {
          "output_type": "stream",
          "name": "stderr",
          "text": [
            "/usr/local/lib/python3.7/dist-packages/deap/creator.py:141: RuntimeWarning:\n",
            "\n",
            "A class named 'FitnessMin' has already been created and it will be overwritten. Consider deleting previous creation of that class or rename it.\n",
            "\n",
            "/usr/local/lib/python3.7/dist-packages/deap/creator.py:141: RuntimeWarning:\n",
            "\n",
            "A class named 'Individual' has already been created and it will be overwritten. Consider deleting previous creation of that class or rename it.\n",
            "\n"
          ]
        }
      ]
    },
    {
      "cell_type": "code",
      "metadata": {
        "id": "d9ptE6VqDiLV"
      },
      "source": [
        "# as an example, this is what a population of 10 shopping lists looks like\n",
        "# toolbox.population(n=10)"
      ],
      "execution_count": null,
      "outputs": []
    },
    {
      "cell_type": "code",
      "metadata": {
        "id": "Ip9gOhvNDiLW"
      },
      "source": [
        "def main():\n",
        "  pop = toolbox.population(n=500)\n",
        "  \n",
        "  # Evaluate the entire population\n",
        "  fitnesses = list(map(toolbox.evaluate, pop))\n",
        "  for ind, fit in zip(pop, fitnesses):\n",
        "      ind.fitness.values = fit\n",
        "\n",
        "  # CXPB  is the probability with which two individuals\n",
        "  #       are crossed\n",
        "  #\n",
        "  # MUTPB is the probability for mutating an individual\n",
        "  CXPB, MUTPB = 0.9, 0.5\n",
        "  \n",
        "  # Extracting all the fitnesses of \n",
        "  fits = [ind.fitness.values[0] for ind in pop]\n",
        "  \n",
        "  # Variable keeping track of the number of generations\n",
        "  g = 0\n",
        "  \n",
        "  # Begin the evolution\n",
        "  while g < generations:\n",
        "      # A new generation\n",
        "      g = g + 1\n",
        "      \n",
        "      # Select the next generation individuals\n",
        "      offspring = toolbox.select(pop, len(pop))\n",
        "      # Clone the selected individuals\n",
        "      offspring = list(map(toolbox.clone, offspring))\n",
        "      \n",
        "      # Apply crossover and mutation on the offspring\n",
        "      for child1, child2 in zip(offspring[::2], offspring[1::2]):\n",
        "          if random.random() < CXPB:\n",
        "              toolbox.mate(child1[0], child2[0])\n",
        "              del child1.fitness.values\n",
        "              del child2.fitness.values\n",
        "\n",
        "      for mutant in offspring:\n",
        "          if random.random() < MUTPB:\n",
        "              toolbox.mutate(mutant[0])\n",
        "              del mutant.fitness.values\n",
        "          \n",
        "      # Evaluate the individuals with an invalid fitness\n",
        "      invalid_ind = [ind for ind in offspring if not ind.fitness.valid]\n",
        "      fitnesses = map(toolbox.evaluate, invalid_ind)\n",
        "      for ind, fit in zip(invalid_ind, fitnesses):\n",
        "          ind.fitness.values = fit\n",
        "          \n",
        "      pop[:] = offspring\n",
        "      \n",
        "      # Gather all the fitnesses in one list and print the stats\n",
        "      fits = [ind.fitness.values[0] for ind in pop]\n",
        "      \n",
        "      length = len(pop)\n",
        "      mean = sum(fits) / length\n",
        "      sum2 = sum(x*x for x in fits)\n",
        "      std = abs(sum2 / length - mean**2)**0.5\n",
        "      \n",
        "      if g % 5 ==0:\n",
        "        print(\"-- Generation %i --\" % g, end='\\t')\n",
        "        print(min(fits), max(fits), mean, std)\n",
        "  \n",
        "  best = pop[np.argmin([toolbox.evaluate(x) for x in pop])]\n",
        "  torque = np.min([toolbox.evaluate(x) for x in pop])\n",
        "  return best, torque"
      ],
      "execution_count": null,
      "outputs": []
    },
    {
      "cell_type": "markdown",
      "metadata": {
        "id": "y6I-eDlGhNB1"
      },
      "source": [
        "# GA run"
      ]
    },
    {
      "cell_type": "code",
      "metadata": {
        "colab": {
          "base_uri": "https://localhost:8080/"
        },
        "id": "PMA3Ha2zC6cG",
        "outputId": "f4b04a1e-a8e6-416a-bc36-05aa49f20592"
      },
      "source": [
        "best_solutions[rotor_displacement], best_torque = main()"
      ],
      "execution_count": null,
      "outputs": [
        {
          "output_type": "stream",
          "name": "stdout",
          "text": [
            "-- Generation 5 --\t-125.19641542443767 927.2039512464082 45.31535195295959 176.69832498707763\n",
            "-- Generation 10 --\t-183.2790433538177 852.5110801523144 -41.388108141434756 173.37908478726408\n",
            "-- Generation 15 --\t-212.73755827706742 817.5644228663323 -98.25072948413232 159.67142280745867\n",
            "-- Generation 20 --\t-221.6486347998703 702.610388297652 -136.60001022147208 145.66811709869629\n",
            "-- Generation 25 --\t-227.39266462026433 559.8443342911587 -159.89138246284935 135.55236556059168\n",
            "-- Generation 30 --\t-227.39266462026433 668.7601220321037 -171.4455752757475 137.25815330215863\n"
          ]
        }
      ]
    },
    {
      "cell_type": "code",
      "metadata": {
        "colab": {
          "base_uri": "https://localhost:8080/",
          "height": 225
        },
        "id": "fZQxRVU9Js6M",
        "outputId": "e67d10b0-682d-4c0d-99fd-39a9d70b71ca"
      },
      "source": [
        "df_hold_ACW_AE.head()"
      ],
      "execution_count": null,
      "outputs": [
        {
          "output_type": "execute_result",
          "data": {
            "text/html": [
              "<div>\n",
              "<style scoped>\n",
              "    .dataframe tbody tr th:only-of-type {\n",
              "        vertical-align: middle;\n",
              "    }\n",
              "\n",
              "    .dataframe tbody tr th {\n",
              "        vertical-align: top;\n",
              "    }\n",
              "\n",
              "    .dataframe thead th {\n",
              "        text-align: right;\n",
              "    }\n",
              "</style>\n",
              "<table border=\"1\" class=\"dataframe\">\n",
              "  <thead>\n",
              "    <tr style=\"text-align: right;\">\n",
              "      <th></th>\n",
              "      <th>I_S1</th>\n",
              "      <th>I_S2</th>\n",
              "      <th>I_S3</th>\n",
              "      <th>I_S4</th>\n",
              "      <th>I_S5</th>\n",
              "      <th>I_S6</th>\n",
              "      <th>I_S7</th>\n",
              "      <th>I_S8</th>\n",
              "      <th>I_S9</th>\n",
              "      <th>I_S10</th>\n",
              "      <th>I_S11</th>\n",
              "      <th>I_S12</th>\n",
              "      <th>I_S13</th>\n",
              "      <th>I_S14</th>\n",
              "      <th>I_S15</th>\n",
              "      <th>I_S16</th>\n",
              "      <th>I_S17</th>\n",
              "      <th>I_S18</th>\n",
              "      <th>I_S19</th>\n",
              "      <th>I_S20</th>\n",
              "      <th>I_S21</th>\n",
              "      <th>I_S22</th>\n",
              "      <th>I_S23</th>\n",
              "      <th>I_S24</th>\n",
              "      <th>I_S25</th>\n",
              "      <th>I_S26</th>\n",
              "      <th>I_S27</th>\n",
              "      <th>I_S28</th>\n",
              "      <th>I_S29</th>\n",
              "      <th>I_S30</th>\n",
              "      <th>I_S31</th>\n",
              "      <th>I_R3</th>\n",
              "      <th>I_R4</th>\n",
              "      <th>I_R5</th>\n",
              "      <th>rotor_displacement</th>\n",
              "      <th>total_torque</th>\n",
              "    </tr>\n",
              "  </thead>\n",
              "  <tbody>\n",
              "    <tr>\n",
              "      <th>0</th>\n",
              "      <td>0</td>\n",
              "      <td>2</td>\n",
              "      <td>-2</td>\n",
              "      <td>2</td>\n",
              "      <td>2</td>\n",
              "      <td>-2</td>\n",
              "      <td>-2</td>\n",
              "      <td>0</td>\n",
              "      <td>-2</td>\n",
              "      <td>0</td>\n",
              "      <td>-2</td>\n",
              "      <td>2</td>\n",
              "      <td>2</td>\n",
              "      <td>2</td>\n",
              "      <td>-2</td>\n",
              "      <td>2</td>\n",
              "      <td>2</td>\n",
              "      <td>-2</td>\n",
              "      <td>-2</td>\n",
              "      <td>2</td>\n",
              "      <td>2</td>\n",
              "      <td>2</td>\n",
              "      <td>2</td>\n",
              "      <td>2</td>\n",
              "      <td>0</td>\n",
              "      <td>2</td>\n",
              "      <td>2</td>\n",
              "      <td>-2</td>\n",
              "      <td>-2</td>\n",
              "      <td>2</td>\n",
              "      <td>0</td>\n",
              "      <td>-2</td>\n",
              "      <td>2</td>\n",
              "      <td>0</td>\n",
              "      <td>0.1</td>\n",
              "      <td>NaN</td>\n",
              "    </tr>\n",
              "    <tr>\n",
              "      <th>1</th>\n",
              "      <td>0</td>\n",
              "      <td>0</td>\n",
              "      <td>0</td>\n",
              "      <td>0</td>\n",
              "      <td>-2</td>\n",
              "      <td>-2</td>\n",
              "      <td>2</td>\n",
              "      <td>-2</td>\n",
              "      <td>2</td>\n",
              "      <td>2</td>\n",
              "      <td>0</td>\n",
              "      <td>2</td>\n",
              "      <td>2</td>\n",
              "      <td>-2</td>\n",
              "      <td>0</td>\n",
              "      <td>0</td>\n",
              "      <td>-2</td>\n",
              "      <td>-2</td>\n",
              "      <td>0</td>\n",
              "      <td>2</td>\n",
              "      <td>0</td>\n",
              "      <td>-2</td>\n",
              "      <td>0</td>\n",
              "      <td>0</td>\n",
              "      <td>-2</td>\n",
              "      <td>2</td>\n",
              "      <td>0</td>\n",
              "      <td>-2</td>\n",
              "      <td>0</td>\n",
              "      <td>NaN</td>\n",
              "      <td>NaN</td>\n",
              "      <td>2</td>\n",
              "      <td>-2</td>\n",
              "      <td>2</td>\n",
              "      <td>0.0</td>\n",
              "      <td>-26.216081</td>\n",
              "    </tr>\n",
              "    <tr>\n",
              "      <th>2</th>\n",
              "      <td>-2</td>\n",
              "      <td>-2</td>\n",
              "      <td>0</td>\n",
              "      <td>0</td>\n",
              "      <td>0</td>\n",
              "      <td>-2</td>\n",
              "      <td>0</td>\n",
              "      <td>-2</td>\n",
              "      <td>0</td>\n",
              "      <td>-2</td>\n",
              "      <td>-2</td>\n",
              "      <td>0</td>\n",
              "      <td>-2</td>\n",
              "      <td>2</td>\n",
              "      <td>2</td>\n",
              "      <td>2</td>\n",
              "      <td>0</td>\n",
              "      <td>0</td>\n",
              "      <td>2</td>\n",
              "      <td>-2</td>\n",
              "      <td>0</td>\n",
              "      <td>2</td>\n",
              "      <td>2</td>\n",
              "      <td>-2</td>\n",
              "      <td>2</td>\n",
              "      <td>0</td>\n",
              "      <td>-2</td>\n",
              "      <td>-2</td>\n",
              "      <td>-2</td>\n",
              "      <td>NaN</td>\n",
              "      <td>NaN</td>\n",
              "      <td>2</td>\n",
              "      <td>-2</td>\n",
              "      <td>2</td>\n",
              "      <td>0.0</td>\n",
              "      <td>-56.646507</td>\n",
              "    </tr>\n",
              "    <tr>\n",
              "      <th>3</th>\n",
              "      <td>0</td>\n",
              "      <td>0</td>\n",
              "      <td>0</td>\n",
              "      <td>0</td>\n",
              "      <td>-2</td>\n",
              "      <td>2</td>\n",
              "      <td>-2</td>\n",
              "      <td>-2</td>\n",
              "      <td>0</td>\n",
              "      <td>2</td>\n",
              "      <td>0</td>\n",
              "      <td>0</td>\n",
              "      <td>0</td>\n",
              "      <td>0</td>\n",
              "      <td>2</td>\n",
              "      <td>-2</td>\n",
              "      <td>2</td>\n",
              "      <td>0</td>\n",
              "      <td>-2</td>\n",
              "      <td>-2</td>\n",
              "      <td>-2</td>\n",
              "      <td>2</td>\n",
              "      <td>2</td>\n",
              "      <td>-2</td>\n",
              "      <td>2</td>\n",
              "      <td>-2</td>\n",
              "      <td>-2</td>\n",
              "      <td>2</td>\n",
              "      <td>0</td>\n",
              "      <td>NaN</td>\n",
              "      <td>NaN</td>\n",
              "      <td>2</td>\n",
              "      <td>-2</td>\n",
              "      <td>2</td>\n",
              "      <td>0.0</td>\n",
              "      <td>-98.051736</td>\n",
              "    </tr>\n",
              "    <tr>\n",
              "      <th>4</th>\n",
              "      <td>0</td>\n",
              "      <td>0</td>\n",
              "      <td>2</td>\n",
              "      <td>-2</td>\n",
              "      <td>2</td>\n",
              "      <td>2</td>\n",
              "      <td>0</td>\n",
              "      <td>-2</td>\n",
              "      <td>0</td>\n",
              "      <td>0</td>\n",
              "      <td>2</td>\n",
              "      <td>0</td>\n",
              "      <td>0</td>\n",
              "      <td>0</td>\n",
              "      <td>2</td>\n",
              "      <td>0</td>\n",
              "      <td>0</td>\n",
              "      <td>2</td>\n",
              "      <td>-2</td>\n",
              "      <td>0</td>\n",
              "      <td>0</td>\n",
              "      <td>2</td>\n",
              "      <td>-2</td>\n",
              "      <td>0</td>\n",
              "      <td>-2</td>\n",
              "      <td>2</td>\n",
              "      <td>-2</td>\n",
              "      <td>0</td>\n",
              "      <td>-2</td>\n",
              "      <td>NaN</td>\n",
              "      <td>NaN</td>\n",
              "      <td>2</td>\n",
              "      <td>-2</td>\n",
              "      <td>2</td>\n",
              "      <td>0.0</td>\n",
              "      <td>-153.801858</td>\n",
              "    </tr>\n",
              "  </tbody>\n",
              "</table>\n",
              "</div>"
            ],
            "text/plain": [
              "  I_S1 I_S2 I_S3 I_S4 I_S5  ... I_R3 I_R4 I_R5 rotor_displacement total_torque\n",
              "0    0    2   -2    2    2  ...   -2    2    0                0.1          NaN\n",
              "1    0    0    0    0   -2  ...    2   -2    2                0.0   -26.216081\n",
              "2   -2   -2    0    0    0  ...    2   -2    2                0.0   -56.646507\n",
              "3    0    0    0    0   -2  ...    2   -2    2                0.0   -98.051736\n",
              "4    0    0    2   -2    2  ...    2   -2    2                0.0  -153.801858\n",
              "\n",
              "[5 rows x 36 columns]"
            ]
          },
          "metadata": {},
          "execution_count": 135
        }
      ]
    },
    {
      "cell_type": "code",
      "metadata": {
        "id": "XacoO0kzEEKL"
      },
      "source": [
        "df_hold_ACW_AE.to_csv('df_hold_ACW_AE.csv')"
      ],
      "execution_count": null,
      "outputs": []
    },
    {
      "cell_type": "code",
      "metadata": {
        "colab": {
          "base_uri": "https://localhost:8080/",
          "height": 35
        },
        "id": "rfNd9gTGGitq",
        "outputId": "f80184df-ea07-494c-d531-d061cd8310b0"
      },
      "source": [
        "from google.colab import files\n",
        "files.download('df_hold_ACW_AE.csv')"
      ],
      "execution_count": null,
      "outputs": [
        {
          "output_type": "display_data",
          "data": {
            "application/javascript": [
              "\n",
              "    async function download(id, filename, size) {\n",
              "      if (!google.colab.kernel.accessAllowed) {\n",
              "        return;\n",
              "      }\n",
              "      const div = document.createElement('div');\n",
              "      const label = document.createElement('label');\n",
              "      label.textContent = `Downloading \"${filename}\": `;\n",
              "      div.appendChild(label);\n",
              "      const progress = document.createElement('progress');\n",
              "      progress.max = size;\n",
              "      div.appendChild(progress);\n",
              "      document.body.appendChild(div);\n",
              "\n",
              "      const buffers = [];\n",
              "      let downloaded = 0;\n",
              "\n",
              "      const channel = await google.colab.kernel.comms.open(id);\n",
              "      // Send a message to notify the kernel that we're ready.\n",
              "      channel.send({})\n",
              "\n",
              "      for await (const message of channel.messages) {\n",
              "        // Send a message to notify the kernel that we're ready.\n",
              "        channel.send({})\n",
              "        if (message.buffers) {\n",
              "          for (const buffer of message.buffers) {\n",
              "            buffers.push(buffer);\n",
              "            downloaded += buffer.byteLength;\n",
              "            progress.value = downloaded;\n",
              "          }\n",
              "        }\n",
              "      }\n",
              "      const blob = new Blob(buffers, {type: 'application/binary'});\n",
              "      const a = document.createElement('a');\n",
              "      a.href = window.URL.createObjectURL(blob);\n",
              "      a.download = filename;\n",
              "      div.appendChild(a);\n",
              "      a.click();\n",
              "      div.remove();\n",
              "    }\n",
              "  "
            ],
            "text/plain": [
              "<IPython.core.display.Javascript object>"
            ]
          },
          "metadata": {}
        },
        {
          "output_type": "display_data",
          "data": {
            "application/javascript": [
              "download(\"download_34605b9e-6b01-4c3b-a691-b4fda79a7d8c\", \"df_hold_ACW_AE.csv\", 2923788)"
            ],
            "text/plain": [
              "<IPython.core.display.Javascript object>"
            ]
          },
          "metadata": {}
        }
      ]
    },
    {
      "cell_type": "code",
      "metadata": {
        "id": "5Fbbi0GAGo7k",
        "colab": {
          "base_uri": "https://localhost:8080/"
        },
        "outputId": "f1faf1e9-d072-4c30-c1ac-fd9ef5fb75d5"
      },
      "source": [
        "best_solutions[rotor_displacement][0]"
      ],
      "execution_count": null,
      "outputs": [
        {
          "output_type": "execute_result",
          "data": {
            "text/plain": [
              "[-2,\n",
              " -2,\n",
              " 2,\n",
              " -2,\n",
              " 2,\n",
              " -2,\n",
              " 2,\n",
              " -2,\n",
              " 2,\n",
              " -2,\n",
              " 2,\n",
              " -2,\n",
              " 0,\n",
              " -2,\n",
              " 0,\n",
              " -2,\n",
              " 0,\n",
              " -2,\n",
              " 0,\n",
              " -2,\n",
              " 0,\n",
              " -2,\n",
              " 2,\n",
              " -2,\n",
              " 2,\n",
              " -2,\n",
              " 2,\n",
              " -2,\n",
              " 2,\n",
              " -2,\n",
              " 2]"
            ]
          },
          "metadata": {},
          "execution_count": 138
        }
      ]
    },
    {
      "cell_type": "markdown",
      "metadata": {
        "id": "pwYnTNKH0Q8E"
      },
      "source": [
        "To check if the Torque value is the same as one generated by GA"
      ]
    },
    {
      "cell_type": "code",
      "metadata": {
        "id": "INhPqbO3Egez"
      },
      "source": [
        "def evaluate_standalone(individual):\n",
        "  \n",
        "  current_rotor_node = rotor_cll.head\n",
        "  motor_torque = []\n",
        "  # print('individual', individual)\n",
        "\n",
        "  for current_rotor_id in range(rotor_cll.tail.rot_id+1):\n",
        "    torque_R = 0.0\n",
        "    rot_pos_wrt_dict = current_rotor_node.proximal_stator_poles\n",
        "    \n",
        "    # Gives details for whichever pole is closest to the rotor\n",
        "    min_key = min(rot_pos_wrt_dict, key=rot_pos_wrt_dict.get)\n",
        "    rot_position_wrt_S3 = rot_pos_wrt_dict[min_key]\n",
        "    # print(min_key, rot_position_wrt_S3, end= '\\t')\n",
        "\n",
        "    rot_excitation = -2 * ((-1)**current_rotor_node.rot_id)\n",
        "    torque_multiplier = 1\n",
        "    if rot_excitation == -2:\n",
        "      torque_multiplier = -1\n",
        "\n",
        "    I_S3 = individual[min_key]\n",
        "    \n",
        "    if min_key <= 29:\n",
        "      I_S4 = individual[min_key+1]\n",
        "    else:\n",
        "      I_S4 = individual[(min_key+1) % 31]\n",
        "\n",
        "    if min_key <= 28:\n",
        "      I_S5 = individual[min_key+2]\n",
        "    else:\n",
        "      I_S5 = individual[(min_key+2) % 31]\n",
        "\n",
        "    I_R3 = 2\n",
        "    I_R4 = -2\n",
        "    I_R5 = 2\n",
        "\n",
        "    # print('I_S3, I_S4, I_S5', I_S3, I_S4, I_S5, df_f.loc[(df_f['S3'] == I_S3) & (df_f['S4'] == I_S4) & (df_f['S5'] == I_S5), 'f3'], end='\\t')\n",
        "    \n",
        "    # Maximize the -ve value of Torque\n",
        "    # Results in ACW motion\n",
        "\n",
        "    try:\n",
        "      torque_R = torque_multiplier*df_f.loc[(df_f['S3'] == I_S3) & \n",
        "                                            (df_f['S4'] == I_S4) & \n",
        "                                            (df_f['S5'] == I_S5) &\n",
        "                                            (df_f['R3'] == I_R3) &\n",
        "                                            (df_f['R4'] == I_R4) &\n",
        "                                            (df_f['R5'] == I_R5), 'f3'].iloc[0](abs(rot_position_wrt_S3)).item()\n",
        "    except:\n",
        "      # print('I_S3, I_S4, I_S5', I_S3, I_S4, I_S5)\n",
        "      torque_R = -100\n",
        "\n",
        "    motor_torque.append(torque_R)\n",
        "\n",
        "    current_rotor_node = current_rotor_node.next\n",
        "\n",
        "  total_torque = sum(motor_torque)\n",
        "\n",
        "  return -1*total_torque,"
      ],
      "execution_count": null,
      "outputs": []
    },
    {
      "cell_type": "code",
      "metadata": {
        "colab": {
          "base_uri": "https://localhost:8080/"
        },
        "id": "7Kb0T4o6EwCn",
        "outputId": "e7860cc6-75f3-48da-d321-53644bd4fe1c"
      },
      "source": [
        "evaluate_standalone(best_solutions[rotor_displacement][0])"
      ],
      "execution_count": null,
      "outputs": [
        {
          "output_type": "execute_result",
          "data": {
            "text/plain": [
              "(-227.39266462026433,)"
            ]
          },
          "metadata": {},
          "execution_count": 140
        }
      ]
    },
    {
      "cell_type": "code",
      "metadata": {
        "id": "Z_YtOm6uznLd"
      },
      "source": [],
      "execution_count": null,
      "outputs": []
    },
    {
      "cell_type": "markdown",
      "metadata": {
        "id": "0ohopfwe0WD-"
      },
      "source": [
        "Extracting the stator fixed positions to feed as index for the dataframe"
      ]
    },
    {
      "cell_type": "code",
      "metadata": {
        "id": "6zN3Kfxtzjwc",
        "colab": {
          "base_uri": "https://localhost:8080/"
        },
        "outputId": "b24cfccd-06fd-4569-9ba8-337aee483a21"
      },
      "source": [
        "sp = fixed_stator_positions\n",
        "sp = sp.tolist()\n",
        "sp.append('GA_ACW_Torque')\n",
        "len(sp)\n"
      ],
      "execution_count": null,
      "outputs": [
        {
          "output_type": "execute_result",
          "data": {
            "text/plain": [
              "32"
            ]
          },
          "metadata": {},
          "execution_count": 141
        }
      ]
    },
    {
      "cell_type": "markdown",
      "metadata": {
        "id": "CGJWCEvn0eZa"
      },
      "source": [
        "The best excitation + the optimal torque"
      ]
    },
    {
      "cell_type": "code",
      "metadata": {
        "colab": {
          "base_uri": "https://localhost:8080/"
        },
        "id": "IwtWczA1zjty",
        "outputId": "13cf372e-ff78-4f75-b0b3-3419a58823c0"
      },
      "source": [
        "bp = list(best_solutions[rotor_displacement][0][:-4])\n",
        "bp.append(evaluate_standalone(best_solutions[rotor_displacement][0])[0])\n",
        "\n",
        "len(bp)"
      ],
      "execution_count": null,
      "outputs": [
        {
          "output_type": "execute_result",
          "data": {
            "text/plain": [
              "28"
            ]
          },
          "metadata": {},
          "execution_count": 142
        }
      ]
    },
    {
      "cell_type": "code",
      "metadata": {
        "id": "HK5KxCtZznFd"
      },
      "source": [
        "stator_hold_ACW_exc = None # only for the first time"
      ],
      "execution_count": null,
      "outputs": []
    },
    {
      "cell_type": "code",
      "metadata": {
        "colab": {
          "base_uri": "https://localhost:8080/",
          "height": 449
        },
        "id": "uoV33Sidzm_T",
        "outputId": "3f280ca5-e842-494a-8e37-71b3c39fc54a"
      },
      "source": [
        "if stator_hold_ACW_exc is not None:\n",
        "  temp_df = pd.DataFrame(index=sp, data=bp, columns=[rotor_displacement])\n",
        "  stator_hold_ACW_exc = stator_hold_ACW_exc.join(temp_df)\n",
        "else:\n",
        "  stator_hold_ACW_exc = pd.DataFrame(index=sp, data=bp, columns=[rotor_displacement])\n",
        "  # stator_exc = pd.DataFrame(index=sp, data=bp, columns=[rotor_displacement])"
      ],
      "execution_count": null,
      "outputs": [
        {
          "output_type": "error",
          "ename": "ValueError",
          "evalue": "ignored",
          "traceback": [
            "\u001b[0;31m---------------------------------------------------------------------------\u001b[0m",
            "\u001b[0;31mValueError\u001b[0m                                Traceback (most recent call last)",
            "\u001b[0;32m/usr/local/lib/python3.7/dist-packages/pandas/core/internals/managers.py\u001b[0m in \u001b[0;36mcreate_block_manager_from_blocks\u001b[0;34m(blocks, axes)\u001b[0m\n\u001b[1;32m   1673\u001b[0m \u001b[0;34m\u001b[0m\u001b[0m\n\u001b[0;32m-> 1674\u001b[0;31m         \u001b[0mmgr\u001b[0m \u001b[0;34m=\u001b[0m \u001b[0mBlockManager\u001b[0m\u001b[0;34m(\u001b[0m\u001b[0mblocks\u001b[0m\u001b[0;34m,\u001b[0m \u001b[0maxes\u001b[0m\u001b[0;34m)\u001b[0m\u001b[0;34m\u001b[0m\u001b[0;34m\u001b[0m\u001b[0m\n\u001b[0m\u001b[1;32m   1675\u001b[0m         \u001b[0mmgr\u001b[0m\u001b[0;34m.\u001b[0m\u001b[0m_consolidate_inplace\u001b[0m\u001b[0;34m(\u001b[0m\u001b[0;34m)\u001b[0m\u001b[0;34m\u001b[0m\u001b[0;34m\u001b[0m\u001b[0m\n",
            "\u001b[0;32m/usr/local/lib/python3.7/dist-packages/pandas/core/internals/managers.py\u001b[0m in \u001b[0;36m__init__\u001b[0;34m(self, blocks, axes, do_integrity_check)\u001b[0m\n\u001b[1;32m    148\u001b[0m         \u001b[0;32mif\u001b[0m \u001b[0mdo_integrity_check\u001b[0m\u001b[0;34m:\u001b[0m\u001b[0;34m\u001b[0m\u001b[0;34m\u001b[0m\u001b[0m\n\u001b[0;32m--> 149\u001b[0;31m             \u001b[0mself\u001b[0m\u001b[0;34m.\u001b[0m\u001b[0m_verify_integrity\u001b[0m\u001b[0;34m(\u001b[0m\u001b[0;34m)\u001b[0m\u001b[0;34m\u001b[0m\u001b[0;34m\u001b[0m\u001b[0m\n\u001b[0m\u001b[1;32m    150\u001b[0m \u001b[0;34m\u001b[0m\u001b[0m\n",
            "\u001b[0;32m/usr/local/lib/python3.7/dist-packages/pandas/core/internals/managers.py\u001b[0m in \u001b[0;36m_verify_integrity\u001b[0;34m(self)\u001b[0m\n\u001b[1;32m    328\u001b[0m             \u001b[0;32mif\u001b[0m \u001b[0mblock\u001b[0m\u001b[0;34m.\u001b[0m\u001b[0mshape\u001b[0m\u001b[0;34m[\u001b[0m\u001b[0;36m1\u001b[0m\u001b[0;34m:\u001b[0m\u001b[0;34m]\u001b[0m \u001b[0;34m!=\u001b[0m \u001b[0mmgr_shape\u001b[0m\u001b[0;34m[\u001b[0m\u001b[0;36m1\u001b[0m\u001b[0;34m:\u001b[0m\u001b[0;34m]\u001b[0m\u001b[0;34m:\u001b[0m\u001b[0;34m\u001b[0m\u001b[0;34m\u001b[0m\u001b[0m\n\u001b[0;32m--> 329\u001b[0;31m                 \u001b[0;32mraise\u001b[0m \u001b[0mconstruction_error\u001b[0m\u001b[0;34m(\u001b[0m\u001b[0mtot_items\u001b[0m\u001b[0;34m,\u001b[0m \u001b[0mblock\u001b[0m\u001b[0;34m.\u001b[0m\u001b[0mshape\u001b[0m\u001b[0;34m[\u001b[0m\u001b[0;36m1\u001b[0m\u001b[0;34m:\u001b[0m\u001b[0;34m]\u001b[0m\u001b[0;34m,\u001b[0m \u001b[0mself\u001b[0m\u001b[0;34m.\u001b[0m\u001b[0maxes\u001b[0m\u001b[0;34m)\u001b[0m\u001b[0;34m\u001b[0m\u001b[0;34m\u001b[0m\u001b[0m\n\u001b[0m\u001b[1;32m    330\u001b[0m         \u001b[0;32mif\u001b[0m \u001b[0mlen\u001b[0m\u001b[0;34m(\u001b[0m\u001b[0mself\u001b[0m\u001b[0;34m.\u001b[0m\u001b[0mitems\u001b[0m\u001b[0;34m)\u001b[0m \u001b[0;34m!=\u001b[0m \u001b[0mtot_items\u001b[0m\u001b[0;34m:\u001b[0m\u001b[0;34m\u001b[0m\u001b[0;34m\u001b[0m\u001b[0m\n",
            "\u001b[0;31mValueError\u001b[0m: Shape of passed values is (28, 1), indices imply (32, 1)",
            "\nDuring handling of the above exception, another exception occurred:\n",
            "\u001b[0;31mValueError\u001b[0m                                Traceback (most recent call last)",
            "\u001b[0;32m<ipython-input-144-ba9c7f75bd3e>\u001b[0m in \u001b[0;36m<module>\u001b[0;34m()\u001b[0m\n\u001b[1;32m      3\u001b[0m   \u001b[0mstator_hold_ACW_exc\u001b[0m \u001b[0;34m=\u001b[0m \u001b[0mstator_hold_ACW_exc\u001b[0m\u001b[0;34m.\u001b[0m\u001b[0mjoin\u001b[0m\u001b[0;34m(\u001b[0m\u001b[0mtemp_df\u001b[0m\u001b[0;34m)\u001b[0m\u001b[0;34m\u001b[0m\u001b[0;34m\u001b[0m\u001b[0m\n\u001b[1;32m      4\u001b[0m \u001b[0;32melse\u001b[0m\u001b[0;34m:\u001b[0m\u001b[0;34m\u001b[0m\u001b[0;34m\u001b[0m\u001b[0m\n\u001b[0;32m----> 5\u001b[0;31m   \u001b[0mstator_hold_ACW_exc\u001b[0m \u001b[0;34m=\u001b[0m \u001b[0mpd\u001b[0m\u001b[0;34m.\u001b[0m\u001b[0mDataFrame\u001b[0m\u001b[0;34m(\u001b[0m\u001b[0mindex\u001b[0m\u001b[0;34m=\u001b[0m\u001b[0msp\u001b[0m\u001b[0;34m,\u001b[0m \u001b[0mdata\u001b[0m\u001b[0;34m=\u001b[0m\u001b[0mbp\u001b[0m\u001b[0;34m,\u001b[0m \u001b[0mcolumns\u001b[0m\u001b[0;34m=\u001b[0m\u001b[0;34m[\u001b[0m\u001b[0mrotor_displacement\u001b[0m\u001b[0;34m]\u001b[0m\u001b[0;34m)\u001b[0m\u001b[0;34m\u001b[0m\u001b[0;34m\u001b[0m\u001b[0m\n\u001b[0m\u001b[1;32m      6\u001b[0m   \u001b[0;31m# stator_exc = pd.DataFrame(index=sp, data=bp, columns=[rotor_displacement])\u001b[0m\u001b[0;34m\u001b[0m\u001b[0;34m\u001b[0m\u001b[0;34m\u001b[0m\u001b[0m\n",
            "\u001b[0;32m/usr/local/lib/python3.7/dist-packages/pandas/core/frame.py\u001b[0m in \u001b[0;36m__init__\u001b[0;34m(self, data, index, columns, dtype, copy)\u001b[0m\n\u001b[1;32m    521\u001b[0m                     \u001b[0mmgr\u001b[0m \u001b[0;34m=\u001b[0m \u001b[0marrays_to_mgr\u001b[0m\u001b[0;34m(\u001b[0m\u001b[0marrays\u001b[0m\u001b[0;34m,\u001b[0m \u001b[0mcolumns\u001b[0m\u001b[0;34m,\u001b[0m \u001b[0mindex\u001b[0m\u001b[0;34m,\u001b[0m \u001b[0mcolumns\u001b[0m\u001b[0;34m,\u001b[0m \u001b[0mdtype\u001b[0m\u001b[0;34m=\u001b[0m\u001b[0mdtype\u001b[0m\u001b[0;34m)\u001b[0m\u001b[0;34m\u001b[0m\u001b[0;34m\u001b[0m\u001b[0m\n\u001b[1;32m    522\u001b[0m                 \u001b[0;32melse\u001b[0m\u001b[0;34m:\u001b[0m\u001b[0;34m\u001b[0m\u001b[0;34m\u001b[0m\u001b[0m\n\u001b[0;32m--> 523\u001b[0;31m                     \u001b[0mmgr\u001b[0m \u001b[0;34m=\u001b[0m \u001b[0minit_ndarray\u001b[0m\u001b[0;34m(\u001b[0m\u001b[0mdata\u001b[0m\u001b[0;34m,\u001b[0m \u001b[0mindex\u001b[0m\u001b[0;34m,\u001b[0m \u001b[0mcolumns\u001b[0m\u001b[0;34m,\u001b[0m \u001b[0mdtype\u001b[0m\u001b[0;34m=\u001b[0m\u001b[0mdtype\u001b[0m\u001b[0;34m,\u001b[0m \u001b[0mcopy\u001b[0m\u001b[0;34m=\u001b[0m\u001b[0mcopy\u001b[0m\u001b[0;34m)\u001b[0m\u001b[0;34m\u001b[0m\u001b[0;34m\u001b[0m\u001b[0m\n\u001b[0m\u001b[1;32m    524\u001b[0m             \u001b[0;32melse\u001b[0m\u001b[0;34m:\u001b[0m\u001b[0;34m\u001b[0m\u001b[0;34m\u001b[0m\u001b[0m\n\u001b[1;32m    525\u001b[0m                 \u001b[0mmgr\u001b[0m \u001b[0;34m=\u001b[0m \u001b[0minit_dict\u001b[0m\u001b[0;34m(\u001b[0m\u001b[0;34m{\u001b[0m\u001b[0;34m}\u001b[0m\u001b[0;34m,\u001b[0m \u001b[0mindex\u001b[0m\u001b[0;34m,\u001b[0m \u001b[0mcolumns\u001b[0m\u001b[0;34m,\u001b[0m \u001b[0mdtype\u001b[0m\u001b[0;34m=\u001b[0m\u001b[0mdtype\u001b[0m\u001b[0;34m)\u001b[0m\u001b[0;34m\u001b[0m\u001b[0;34m\u001b[0m\u001b[0m\n",
            "\u001b[0;32m/usr/local/lib/python3.7/dist-packages/pandas/core/internals/construction.py\u001b[0m in \u001b[0;36minit_ndarray\u001b[0;34m(values, index, columns, dtype, copy)\u001b[0m\n\u001b[1;32m    232\u001b[0m         \u001b[0mblock_values\u001b[0m \u001b[0;34m=\u001b[0m \u001b[0;34m[\u001b[0m\u001b[0mvalues\u001b[0m\u001b[0;34m]\u001b[0m\u001b[0;34m\u001b[0m\u001b[0;34m\u001b[0m\u001b[0m\n\u001b[1;32m    233\u001b[0m \u001b[0;34m\u001b[0m\u001b[0m\n\u001b[0;32m--> 234\u001b[0;31m     \u001b[0;32mreturn\u001b[0m \u001b[0mcreate_block_manager_from_blocks\u001b[0m\u001b[0;34m(\u001b[0m\u001b[0mblock_values\u001b[0m\u001b[0;34m,\u001b[0m \u001b[0;34m[\u001b[0m\u001b[0mcolumns\u001b[0m\u001b[0;34m,\u001b[0m \u001b[0mindex\u001b[0m\u001b[0;34m]\u001b[0m\u001b[0;34m)\u001b[0m\u001b[0;34m\u001b[0m\u001b[0;34m\u001b[0m\u001b[0m\n\u001b[0m\u001b[1;32m    235\u001b[0m \u001b[0;34m\u001b[0m\u001b[0m\n\u001b[1;32m    236\u001b[0m \u001b[0;34m\u001b[0m\u001b[0m\n",
            "\u001b[0;32m/usr/local/lib/python3.7/dist-packages/pandas/core/internals/managers.py\u001b[0m in \u001b[0;36mcreate_block_manager_from_blocks\u001b[0;34m(blocks, axes)\u001b[0m\n\u001b[1;32m   1679\u001b[0m         \u001b[0mblocks\u001b[0m \u001b[0;34m=\u001b[0m \u001b[0;34m[\u001b[0m\u001b[0mgetattr\u001b[0m\u001b[0;34m(\u001b[0m\u001b[0mb\u001b[0m\u001b[0;34m,\u001b[0m \u001b[0;34m\"values\"\u001b[0m\u001b[0;34m,\u001b[0m \u001b[0mb\u001b[0m\u001b[0;34m)\u001b[0m \u001b[0;32mfor\u001b[0m \u001b[0mb\u001b[0m \u001b[0;32min\u001b[0m \u001b[0mblocks\u001b[0m\u001b[0;34m]\u001b[0m\u001b[0;34m\u001b[0m\u001b[0;34m\u001b[0m\u001b[0m\n\u001b[1;32m   1680\u001b[0m         \u001b[0mtot_items\u001b[0m \u001b[0;34m=\u001b[0m \u001b[0msum\u001b[0m\u001b[0;34m(\u001b[0m\u001b[0mb\u001b[0m\u001b[0;34m.\u001b[0m\u001b[0mshape\u001b[0m\u001b[0;34m[\u001b[0m\u001b[0;36m0\u001b[0m\u001b[0;34m]\u001b[0m \u001b[0;32mfor\u001b[0m \u001b[0mb\u001b[0m \u001b[0;32min\u001b[0m \u001b[0mblocks\u001b[0m\u001b[0;34m)\u001b[0m\u001b[0;34m\u001b[0m\u001b[0;34m\u001b[0m\u001b[0m\n\u001b[0;32m-> 1681\u001b[0;31m         \u001b[0;32mraise\u001b[0m \u001b[0mconstruction_error\u001b[0m\u001b[0;34m(\u001b[0m\u001b[0mtot_items\u001b[0m\u001b[0;34m,\u001b[0m \u001b[0mblocks\u001b[0m\u001b[0;34m[\u001b[0m\u001b[0;36m0\u001b[0m\u001b[0;34m]\u001b[0m\u001b[0;34m.\u001b[0m\u001b[0mshape\u001b[0m\u001b[0;34m[\u001b[0m\u001b[0;36m1\u001b[0m\u001b[0;34m:\u001b[0m\u001b[0;34m]\u001b[0m\u001b[0;34m,\u001b[0m \u001b[0maxes\u001b[0m\u001b[0;34m,\u001b[0m \u001b[0me\u001b[0m\u001b[0;34m)\u001b[0m\u001b[0;34m\u001b[0m\u001b[0;34m\u001b[0m\u001b[0m\n\u001b[0m\u001b[1;32m   1682\u001b[0m \u001b[0;34m\u001b[0m\u001b[0m\n\u001b[1;32m   1683\u001b[0m \u001b[0;34m\u001b[0m\u001b[0m\n",
            "\u001b[0;31mValueError\u001b[0m: Shape of passed values is (28, 1), indices imply (32, 1)"
          ]
        }
      ]
    },
    {
      "cell_type": "code",
      "metadata": {
        "id": "Vb_8paF33Ffi"
      },
      "source": [
        "stator_hold_ACW_exc.head()"
      ],
      "execution_count": null,
      "outputs": []
    },
    {
      "cell_type": "code",
      "metadata": {
        "id": "U-5TnyeM3FbF"
      },
      "source": [],
      "execution_count": null,
      "outputs": []
    },
    {
      "cell_type": "code",
      "metadata": {
        "id": "I5aQzGct3NYx"
      },
      "source": [
        "stator_hold_ACW_exc.to_csv('stator_ACW_exc.csv')"
      ],
      "execution_count": null,
      "outputs": []
    },
    {
      "cell_type": "code",
      "metadata": {
        "id": "fLt_D3fg3NYx"
      },
      "source": [
        "from google.colab import files\n",
        "files.download('stator_ACW_exc.csv')"
      ],
      "execution_count": null,
      "outputs": []
    },
    {
      "cell_type": "code",
      "metadata": {
        "id": "IrAN2zhN3N1W"
      },
      "source": [],
      "execution_count": null,
      "outputs": []
    },
    {
      "cell_type": "code",
      "metadata": {
        "id": "arB0546Fqyyb"
      },
      "source": [],
      "execution_count": null,
      "outputs": []
    },
    {
      "cell_type": "code",
      "metadata": {
        "id": "fOCDZSclqywR"
      },
      "source": [],
      "execution_count": null,
      "outputs": []
    },
    {
      "cell_type": "markdown",
      "metadata": {
        "id": "J14gvRzXty5Z"
      },
      "source": [
        "# Plotting"
      ]
    },
    {
      "cell_type": "code",
      "metadata": {
        "id": "_XzLuAcvwDa4",
        "colab": {
          "base_uri": "https://localhost:8080/",
          "height": 206
        },
        "outputId": "452401ac-2d1c-4b51-826f-005378066e50"
      },
      "source": [
        "import pandas as pd\n",
        "stator_exc_final = pd.read_csv('https://docs.google.com/spreadsheets/d/e/2PACX-1vQfBojIRX-t3Ae_L1i5iOGwTlhmOzLFvuYwWLmXt3URc7fKWxldFrGp90cYsuhl3eSbpO5ICZWzMRER/pub?gid=0&single=true&output=csv')\n",
        "# magnet_torque = pd.read_csv('https://docs.google.com/spreadsheets/d/e/2PACX-1vRGOqC9D_MO83RQj_c-2WJKsNPuvtDgROexiPMhqogPbzJpkOUh-J3eQbDDUWLcFbl0RvxK-zWMPEiC/pub?gid=0&single=true&output=csv')\n",
        "stator_exc_final.head()"
      ],
      "execution_count": null,
      "outputs": [
        {
          "output_type": "execute_result",
          "data": {
            "text/html": [
              "<div>\n",
              "<style scoped>\n",
              "    .dataframe tbody tr th:only-of-type {\n",
              "        vertical-align: middle;\n",
              "    }\n",
              "\n",
              "    .dataframe tbody tr th {\n",
              "        vertical-align: top;\n",
              "    }\n",
              "\n",
              "    .dataframe thead th {\n",
              "        text-align: right;\n",
              "    }\n",
              "</style>\n",
              "<table border=\"1\" class=\"dataframe\">\n",
              "  <thead>\n",
              "    <tr style=\"text-align: right;\">\n",
              "      <th></th>\n",
              "      <th>0</th>\n",
              "      <th>0.1</th>\n",
              "      <th>0.2</th>\n",
              "      <th>0.4</th>\n",
              "    </tr>\n",
              "  </thead>\n",
              "  <tbody>\n",
              "    <tr>\n",
              "      <th>0</th>\n",
              "      <td>-2</td>\n",
              "      <td>2</td>\n",
              "      <td>2</td>\n",
              "      <td>2</td>\n",
              "    </tr>\n",
              "    <tr>\n",
              "      <th>1</th>\n",
              "      <td>-2</td>\n",
              "      <td>-2</td>\n",
              "      <td>-2</td>\n",
              "      <td>-2</td>\n",
              "    </tr>\n",
              "    <tr>\n",
              "      <th>2</th>\n",
              "      <td>2</td>\n",
              "      <td>2</td>\n",
              "      <td>2</td>\n",
              "      <td>2</td>\n",
              "    </tr>\n",
              "    <tr>\n",
              "      <th>3</th>\n",
              "      <td>-2</td>\n",
              "      <td>-2</td>\n",
              "      <td>-2</td>\n",
              "      <td>-2</td>\n",
              "    </tr>\n",
              "    <tr>\n",
              "      <th>4</th>\n",
              "      <td>2</td>\n",
              "      <td>2</td>\n",
              "      <td>2</td>\n",
              "      <td>2</td>\n",
              "    </tr>\n",
              "  </tbody>\n",
              "</table>\n",
              "</div>"
            ],
            "text/plain": [
              "   0  0.1  0.2  0.4\n",
              "0 -2    2    2    2\n",
              "1 -2   -2   -2   -2\n",
              "2  2    2    2    2\n",
              "3 -2   -2   -2   -2\n",
              "4  2    2    2    2"
            ]
          },
          "metadata": {},
          "execution_count": 3
        }
      ]
    },
    {
      "cell_type": "code",
      "metadata": {
        "colab": {
          "base_uri": "https://localhost:8080/"
        },
        "id": "xlBI1wS4tHSl",
        "outputId": "f7dce2b7-1b7b-4edc-e32e-bc89279171e7"
      },
      "source": [
        "import numpy as np\n",
        "fixed_stator_positions = np.linspace(0,360,32)\n",
        "fixed_stator_positions = fixed_stator_positions[:-1]\n",
        "fixed_stator_positions"
      ],
      "execution_count": null,
      "outputs": [
        {
          "output_type": "execute_result",
          "data": {
            "text/plain": [
              "array([  0.        ,  11.61290323,  23.22580645,  34.83870968,\n",
              "        46.4516129 ,  58.06451613,  69.67741935,  81.29032258,\n",
              "        92.90322581, 104.51612903, 116.12903226, 127.74193548,\n",
              "       139.35483871, 150.96774194, 162.58064516, 174.19354839,\n",
              "       185.80645161, 197.41935484, 209.03225806, 220.64516129,\n",
              "       232.25806452, 243.87096774, 255.48387097, 267.09677419,\n",
              "       278.70967742, 290.32258065, 301.93548387, 313.5483871 ,\n",
              "       325.16129032, 336.77419355, 348.38709677])"
            ]
          },
          "metadata": {},
          "execution_count": 4
        }
      ]
    },
    {
      "cell_type": "code",
      "metadata": {
        "id": "5h_pzp9d3NG6"
      },
      "source": [
        "stator_exc_final.set_index(fixed_stator_positions, inplace=True)"
      ],
      "execution_count": null,
      "outputs": []
    },
    {
      "cell_type": "code",
      "metadata": {
        "colab": {
          "base_uri": "https://localhost:8080/",
          "height": 206
        },
        "id": "pwwfsY0p37G_",
        "outputId": "18ba2f0f-779f-4974-b9ae-833d12b30ef3"
      },
      "source": [
        "dict_ = {col:float(col) for col in stator_exc_final if col != 'Stator_position' and col != 'r'}\n",
        "stator_exc_final.rename(columns=dict_, inplace=True)\n",
        "stator_exc_final.head()"
      ],
      "execution_count": null,
      "outputs": [
        {
          "output_type": "execute_result",
          "data": {
            "text/html": [
              "<div>\n",
              "<style scoped>\n",
              "    .dataframe tbody tr th:only-of-type {\n",
              "        vertical-align: middle;\n",
              "    }\n",
              "\n",
              "    .dataframe tbody tr th {\n",
              "        vertical-align: top;\n",
              "    }\n",
              "\n",
              "    .dataframe thead th {\n",
              "        text-align: right;\n",
              "    }\n",
              "</style>\n",
              "<table border=\"1\" class=\"dataframe\">\n",
              "  <thead>\n",
              "    <tr style=\"text-align: right;\">\n",
              "      <th></th>\n",
              "      <th>0.0</th>\n",
              "      <th>0.1</th>\n",
              "      <th>0.2</th>\n",
              "      <th>0.4</th>\n",
              "    </tr>\n",
              "  </thead>\n",
              "  <tbody>\n",
              "    <tr>\n",
              "      <th>0.000000</th>\n",
              "      <td>-2</td>\n",
              "      <td>2</td>\n",
              "      <td>2</td>\n",
              "      <td>2</td>\n",
              "    </tr>\n",
              "    <tr>\n",
              "      <th>11.612903</th>\n",
              "      <td>-2</td>\n",
              "      <td>-2</td>\n",
              "      <td>-2</td>\n",
              "      <td>-2</td>\n",
              "    </tr>\n",
              "    <tr>\n",
              "      <th>23.225806</th>\n",
              "      <td>2</td>\n",
              "      <td>2</td>\n",
              "      <td>2</td>\n",
              "      <td>2</td>\n",
              "    </tr>\n",
              "    <tr>\n",
              "      <th>34.838710</th>\n",
              "      <td>-2</td>\n",
              "      <td>-2</td>\n",
              "      <td>-2</td>\n",
              "      <td>-2</td>\n",
              "    </tr>\n",
              "    <tr>\n",
              "      <th>46.451613</th>\n",
              "      <td>2</td>\n",
              "      <td>2</td>\n",
              "      <td>2</td>\n",
              "      <td>2</td>\n",
              "    </tr>\n",
              "  </tbody>\n",
              "</table>\n",
              "</div>"
            ],
            "text/plain": [
              "           0.0  0.1  0.2  0.4\n",
              "0.000000    -2    2    2    2\n",
              "11.612903   -2   -2   -2   -2\n",
              "23.225806    2    2    2    2\n",
              "34.838710   -2   -2   -2   -2\n",
              "46.451613    2    2    2    2"
            ]
          },
          "metadata": {},
          "execution_count": 6
        }
      ]
    },
    {
      "cell_type": "code",
      "metadata": {
        "colab": {
          "base_uri": "https://localhost:8080/",
          "height": 181
        },
        "id": "yV1sIssv1ltk",
        "outputId": "a6e665cf-96a8-4aa9-cda1-e5e6cebe25e6"
      },
      "source": [
        "# magnet_torque['Torque'] = abs(magnet_torque['Torque'])\n",
        "magnet_torque.head(10)"
      ],
      "execution_count": null,
      "outputs": [
        {
          "output_type": "error",
          "ename": "AttributeError",
          "evalue": "ignored",
          "traceback": [
            "\u001b[0;31m---------------------------------------------------------------------------\u001b[0m",
            "\u001b[0;31mAttributeError\u001b[0m                            Traceback (most recent call last)",
            "\u001b[0;32m<ipython-input-60-00204e6c6366>\u001b[0m in \u001b[0;36m<module>\u001b[0;34m()\u001b[0m\n\u001b[1;32m      1\u001b[0m \u001b[0;31m# magnet_torque['Torque'] = abs(magnet_torque['Torque'])\u001b[0m\u001b[0;34m\u001b[0m\u001b[0;34m\u001b[0m\u001b[0;34m\u001b[0m\u001b[0m\n\u001b[0;32m----> 2\u001b[0;31m \u001b[0mmagnet_torque\u001b[0m\u001b[0;34m.\u001b[0m\u001b[0mhead\u001b[0m\u001b[0;34m(\u001b[0m\u001b[0;36m10\u001b[0m\u001b[0;34m)\u001b[0m\u001b[0;34m\u001b[0m\u001b[0;34m\u001b[0m\u001b[0m\n\u001b[0m",
            "\u001b[0;31mAttributeError\u001b[0m: 'list' object has no attribute 'head'"
          ]
        }
      ]
    },
    {
      "cell_type": "code",
      "metadata": {
        "id": "v80NVl1M2Amj"
      },
      "source": [],
      "execution_count": null,
      "outputs": []
    },
    {
      "cell_type": "code",
      "metadata": {
        "colab": {
          "base_uri": "https://localhost:8080/"
        },
        "id": "wrmcJuMZ2noD",
        "outputId": "49c01999-73b3-4e59-ff10-d4ef48ef48a4"
      },
      "source": [
        "new_col = [float(col) for col in stator_exc_final if col != 'Stator_position' and col != 'r']\n",
        "new_col.sort()\n",
        "new_col"
      ],
      "execution_count": null,
      "outputs": [
        {
          "output_type": "execute_result",
          "data": {
            "text/plain": [
              "[0.0, 0.1, 0.2, 0.4]"
            ]
          },
          "metadata": {},
          "execution_count": 8
        }
      ]
    },
    {
      "cell_type": "code",
      "metadata": {
        "colab": {
          "base_uri": "https://localhost:8080/"
        },
        "id": "6VlnKIRtt1Vy",
        "outputId": "7d2579d9-2a51-40bf-eb54-b64b7cdde7b9"
      },
      "source": [
        "stator_exc_final[0.1]"
      ],
      "execution_count": null,
      "outputs": [
        {
          "output_type": "execute_result",
          "data": {
            "text/plain": [
              "0.000000     -2\n",
              "11.612903    -2\n",
              "23.225806     2\n",
              "34.838710    -2\n",
              "46.451613     2\n",
              "58.064516    -2\n",
              "69.677419     2\n",
              "81.290323    -2\n",
              "92.903226     2\n",
              "104.516129   -2\n",
              "116.129032    2\n",
              "127.741935   -2\n",
              "139.354839    2\n",
              "150.967742   -2\n",
              "162.580645    2\n",
              "174.193548   -2\n",
              "185.806452    2\n",
              "197.419355   -2\n",
              "209.032258    2\n",
              "220.645161   -2\n",
              "232.258065    2\n",
              "243.870968   -2\n",
              "255.483871    2\n",
              "267.096774   -2\n",
              "278.709677    2\n",
              "290.322581   -2\n",
              "301.935484    2\n",
              "313.548387   -2\n",
              "325.161290    2\n",
              "336.774194   -2\n",
              "348.387097    2\n",
              "Name: 0.1, dtype: int64"
            ]
          },
          "metadata": {},
          "execution_count": 62
        }
      ]
    },
    {
      "cell_type": "code",
      "metadata": {
        "id": "FPMfq3WPNOWr"
      },
      "source": [
        "def SetColor(x):\n",
        "    if(x == -2):\n",
        "        return \"red\"\n",
        "    elif(x == +2):\n",
        "        return \"green\"\n",
        "    elif(x == 0):\n",
        "        return \"yellow\"\n",
        "    elif(x == -5):\n",
        "        return \"black\"\n",
        "    elif(x == 5):\n",
        "        return \"blue\""
      ],
      "execution_count": null,
      "outputs": []
    },
    {
      "cell_type": "code",
      "metadata": {
        "colab": {
          "base_uri": "https://localhost:8080/"
        },
        "id": "B2UrESPJQ_gq",
        "outputId": "79b13c50-158e-4574-9368-91db729ebc55"
      },
      "source": [
        "from plotly.validators.scatter.marker import SymbolValidator\n",
        "\n",
        "raw_symbols = SymbolValidator().values\n",
        "raw_symbols[1:18:2]"
      ],
      "execution_count": null,
      "outputs": [
        {
          "output_type": "execute_result",
          "data": {
            "text/plain": [
              "['circle',\n",
              " 'circle-open',\n",
              " 'circle-dot',\n",
              " 'circle-open-dot',\n",
              " 'square',\n",
              " 'square-open',\n",
              " 'square-dot',\n",
              " 'square-open-dot',\n",
              " 'diamond']"
            ]
          },
          "metadata": {},
          "execution_count": 10
        }
      ]
    },
    {
      "cell_type": "code",
      "metadata": {
        "colab": {
          "base_uri": "https://localhost:8080/"
        },
        "id": "o-w4LQ3V40Cw",
        "outputId": "84686023-498c-4461-c2fc-1b210d634fc7"
      },
      "source": [
        "import numpy as np\n",
        "rotor_positions = np.linspace(0,360,31)\n",
        "rotor_positions = rotor_positions[:-1]\n",
        "\n",
        "rotor_posn_exc_config = {key:-2*(-1)**(inx) for inx, key in enumerate(rotor_positions)}\n",
        "\n",
        "rotor_posn_exc_config_df = pd.Series(rotor_posn_exc_config, index=rotor_posn_exc_config.keys(), name='Rotor_global_config')\n",
        "\n",
        "rotor_posn_exc_config_df.head()"
      ],
      "execution_count": null,
      "outputs": [
        {
          "output_type": "execute_result",
          "data": {
            "text/plain": [
              "0.0    -2\n",
              "12.0    2\n",
              "24.0   -2\n",
              "36.0    2\n",
              "48.0   -2\n",
              "Name: Rotor_global_config, dtype: int64"
            ]
          },
          "metadata": {},
          "execution_count": 11
        }
      ]
    },
    {
      "cell_type": "code",
      "metadata": {
        "id": "pSk4mqbqzDM3"
      },
      "source": [],
      "execution_count": null,
      "outputs": []
    },
    {
      "cell_type": "code",
      "metadata": {
        "id": "gwpzhgr_0q24"
      },
      "source": [
        "import plotly.graph_objects as go\n",
        "from plotly.subplots import make_subplots\n",
        "\n",
        "import numpy as np\n",
        "\n",
        "fig = make_subplots(rows=1, cols=2, specs=[[{'type': 'polar'}, {'type': 'xy'}]])\n",
        "\n",
        "# Add 3 traces, one for each slider step\n",
        "for inx, step in enumerate(new_col):\n",
        "  fig.add_trace(\n",
        "        go.Scatterpolar(\n",
        "            visible=False,\n",
        "            r = stator_exc_final['r'].values,\n",
        "            theta = stator_exc_final.index.values,\n",
        "            name=\"Stator\",\n",
        "            mode='markers',\n",
        "            marker = dict(size=12,\n",
        "                          symbol=raw_symbols[17],\n",
        "                          color=list(map(SetColor, stator_exc_final[step].values.tolist())))\n",
        "\n",
        "            ), row=1, col=1)\n",
        "\n",
        "  fig.add_trace(\n",
        "      go.Scatterpolar(\n",
        "          visible=False,\n",
        "          r = stator_exc_final['r'].values -2,\n",
        "          theta = rotor_positions + step,\n",
        "          name=\"Rotor\",\n",
        "          mode='markers',\n",
        "          marker = dict(size=10,\n",
        "                        symbol=raw_symbols[1],\n",
        "                        # colorbar=True,\n",
        "                        color=list(map(SetColor, rotor_posn_exc_config_df.values.tolist())),\n",
        "                        \n",
        "                        )\n",
        "          ), row=1, col=1)\n",
        "  \n",
        "  fig.add_trace(go.Scatter(\n",
        "      visible = False,\n",
        "      x = new_col[:inx+1],\n",
        "      y = magnet_torque[:inx+1],\n",
        "      name= 'Torque',\n",
        "  ), row=1, col=2)\n",
        "\n",
        "fig.add_trace(go.Scatter(x=[None], y=[None], mode='markers',\n",
        "                       marker=dict(size=10, color='green'),\n",
        "                       legendgroup='positive', showlegend=True, name='+2'))\n",
        "\n",
        "fig.add_trace(go.Scatter(x=[None], y=[None], mode='markers',\n",
        "                       marker=dict(size=10, color='red'),\n",
        "                       legendgroup='negative', showlegend=True, name='-2'))\n",
        "\n",
        "fig.add_trace(go.Scatter(x=[None], y=[None], mode='markers',\n",
        "                       marker=dict(size=10, color='yellow'),\n",
        "                       legendgroup='neutral', showlegend=True, name='0'))\n",
        "\n",
        "# fig.add_trace(go.Scatter(x=[None], y=[None], mode='markers',\n",
        "#                        marker=dict(size=10, color='black'),\n",
        "#                        legendgroup='neutral', showlegend=True, name='-5'))\n",
        "\n",
        "# fig.add_trace(go.Scatter(x=[None], y=[None], mode='markers',\n",
        "#                        marker=dict(size=10, color='blue'),\n",
        "#                        legendgroup='neutral', showlegend=True, name='+5'))\n",
        "\n",
        "\n",
        "# Make first 3 trace visible\n",
        "fig.data[0].visible = True\n",
        "fig.data[1].visible = True\n",
        "fig.data[2].visible = True\n",
        "\n"
      ],
      "execution_count": null,
      "outputs": []
    },
    {
      "cell_type": "code",
      "metadata": {
        "colab": {
          "base_uri": "https://localhost:8080/"
        },
        "id": "Vzqd1jV7_udF",
        "outputId": "f2f66040-d8b6-4f27-f18c-6f696e0b71ae"
      },
      "source": [
        "len(fig.data)"
      ],
      "execution_count": null,
      "outputs": [
        {
          "output_type": "execute_result",
          "data": {
            "text/plain": [
              "15"
            ]
          },
          "metadata": {},
          "execution_count": 17
        }
      ]
    },
    {
      "cell_type": "code",
      "metadata": {
        "colab": {
          "base_uri": "https://localhost:8080/",
          "height": 215
        },
        "id": "clUaYWdd9z7o",
        "outputId": "cd84bf10-a2f5-421c-af2c-388ee945966c"
      },
      "source": [
        "i=45\n",
        "print(new_col[int(i/3)])\n",
        "z = \"Rotor position: \" + str(new_col[int(i/3)]) + ', Torque=' + str(magnet_torque.loc[(magnet_torque['rotor displacement'] == new_col[int(i/3)]), 'Torque'].iloc[0])\n",
        "print(z)"
      ],
      "execution_count": null,
      "outputs": [
        {
          "output_type": "error",
          "ename": "IndexError",
          "evalue": "ignored",
          "traceback": [
            "\u001b[0;31m---------------------------------------------------------------------------\u001b[0m",
            "\u001b[0;31mIndexError\u001b[0m                                Traceback (most recent call last)",
            "\u001b[0;32m<ipython-input-43-b25616e5a7dc>\u001b[0m in \u001b[0;36m<module>\u001b[0;34m()\u001b[0m\n\u001b[1;32m      1\u001b[0m \u001b[0mi\u001b[0m\u001b[0;34m=\u001b[0m\u001b[0;36m45\u001b[0m\u001b[0;34m\u001b[0m\u001b[0;34m\u001b[0m\u001b[0m\n\u001b[0;32m----> 2\u001b[0;31m \u001b[0mprint\u001b[0m\u001b[0;34m(\u001b[0m\u001b[0mnew_col\u001b[0m\u001b[0;34m[\u001b[0m\u001b[0mint\u001b[0m\u001b[0;34m(\u001b[0m\u001b[0mi\u001b[0m\u001b[0;34m/\u001b[0m\u001b[0;36m3\u001b[0m\u001b[0;34m)\u001b[0m\u001b[0;34m]\u001b[0m\u001b[0;34m)\u001b[0m\u001b[0;34m\u001b[0m\u001b[0;34m\u001b[0m\u001b[0m\n\u001b[0m\u001b[1;32m      3\u001b[0m \u001b[0mz\u001b[0m \u001b[0;34m=\u001b[0m \u001b[0;34m\"Rotor position: \"\u001b[0m \u001b[0;34m+\u001b[0m \u001b[0mstr\u001b[0m\u001b[0;34m(\u001b[0m\u001b[0mnew_col\u001b[0m\u001b[0;34m[\u001b[0m\u001b[0mint\u001b[0m\u001b[0;34m(\u001b[0m\u001b[0mi\u001b[0m\u001b[0;34m/\u001b[0m\u001b[0;36m3\u001b[0m\u001b[0;34m)\u001b[0m\u001b[0;34m]\u001b[0m\u001b[0;34m)\u001b[0m \u001b[0;34m+\u001b[0m \u001b[0;34m', Torque='\u001b[0m \u001b[0;34m+\u001b[0m \u001b[0mstr\u001b[0m\u001b[0;34m(\u001b[0m\u001b[0mmagnet_torque\u001b[0m\u001b[0;34m.\u001b[0m\u001b[0mloc\u001b[0m\u001b[0;34m[\u001b[0m\u001b[0;34m(\u001b[0m\u001b[0mmagnet_torque\u001b[0m\u001b[0;34m[\u001b[0m\u001b[0;34m'rotor displacement'\u001b[0m\u001b[0;34m]\u001b[0m \u001b[0;34m==\u001b[0m \u001b[0mnew_col\u001b[0m\u001b[0;34m[\u001b[0m\u001b[0mint\u001b[0m\u001b[0;34m(\u001b[0m\u001b[0mi\u001b[0m\u001b[0;34m/\u001b[0m\u001b[0;36m3\u001b[0m\u001b[0;34m)\u001b[0m\u001b[0;34m]\u001b[0m\u001b[0;34m)\u001b[0m\u001b[0;34m,\u001b[0m \u001b[0;34m'Torque'\u001b[0m\u001b[0;34m]\u001b[0m\u001b[0;34m.\u001b[0m\u001b[0miloc\u001b[0m\u001b[0;34m[\u001b[0m\u001b[0;36m0\u001b[0m\u001b[0;34m]\u001b[0m\u001b[0;34m)\u001b[0m\u001b[0;34m\u001b[0m\u001b[0;34m\u001b[0m\u001b[0m\n\u001b[1;32m      4\u001b[0m \u001b[0mprint\u001b[0m\u001b[0;34m(\u001b[0m\u001b[0mz\u001b[0m\u001b[0;34m)\u001b[0m\u001b[0;34m\u001b[0m\u001b[0;34m\u001b[0m\u001b[0m\n",
            "\u001b[0;31mIndexError\u001b[0m: list index out of range"
          ]
        }
      ]
    },
    {
      "cell_type": "code",
      "metadata": {
        "id": "kO2LKiqtvK5u"
      },
      "source": [],
      "execution_count": null,
      "outputs": []
    },
    {
      "cell_type": "code",
      "metadata": {
        "colab": {
          "base_uri": "https://localhost:8080/",
          "height": 542
        },
        "id": "aOQV4JTZ_p_K",
        "outputId": "0ffb083a-6a1a-4751-f093-e7f9159a2148"
      },
      "source": [
        "# Create and add slider\n",
        "steps = []\n",
        "for i in range(0, len(fig.data)-3, 3):\n",
        "  # print(i)\n",
        "  step = dict(\n",
        "      method=\"update\",\n",
        "      args=[{\"visible\": [False] * (len(fig.data))},\n",
        "            {\"title\": \"31S30R Ucore: Rotor position: \" + str(new_col[int(i/3)]) + ', Torque [MAGNET]=' + str(magnet_torque[int(i/3)])}],  # layout attribute\n",
        "  )\n",
        "  step[\"args\"][0][\"visible\"][i] = True  # Toggle i'th trace to \"visible\"\n",
        "  step[\"args\"][0][\"visible\"][i+1] = True  # Toggle i+1'th trace to \"visible\"\n",
        "  step[\"args\"][0][\"visible\"][i+2] = True  # Toggle i+2'th trace to \"visible\"\n",
        "\n",
        "  step[\"args\"][0][\"visible\"][-1] = True  # Toggle -1'th trace to \"visible\"\n",
        "  step[\"args\"][0][\"visible\"][-2] = True  # Toggle -2'th trace to \"visible\"\n",
        "  step[\"args\"][0][\"visible\"][-3] = True  # Toggle -3'th trace to \"visible\" For the legend for 0, -2, 2\n",
        "  # step[\"args\"][0][\"visible\"][-4] = True  # Toggle -4'th trace to \"visible\" For the legend for 0, -2, 2\n",
        "  # step[\"args\"][0][\"visible\"][-5] = True  # Toggle -5'th trace to \"visible\" For the legend for 0, -2, 2\n",
        "  steps.append(step)\n",
        "\n",
        "sliders = [dict(\n",
        "    active=0,\n",
        "    currentvalue={\"prefix\": \"Rotor Position: \"},\n",
        "    pad={\"t\": 50},\n",
        "    steps=steps\n",
        ")]\n",
        "\n",
        "fig.update_layout(\n",
        "    sliders=sliders,\n",
        "    yaxis_range=[0,300],\n",
        "    yaxis_title=\"Torque (N-m)\",\n",
        "    xaxis_title=\"Rotor displacement (°)\",\n",
        "    title={\n",
        "        'text': \"31S30R Ucore: Net Torque vs rotor displacement\",\n",
        "        'y':0.9,\n",
        "        'x':0.5,\n",
        "        'xanchor': 'center',\n",
        "        'yanchor': 'top'}\n",
        ")\n",
        "\n",
        "fig.show()\n"
      ],
      "execution_count": null,
      "outputs": [
        {
          "output_type": "display_data",
          "data": {
            "text/html": [
              "<html>\n",
              "<head><meta charset=\"utf-8\" /></head>\n",
              "<body>\n",
              "    <div>\n",
              "            <script src=\"https://cdnjs.cloudflare.com/ajax/libs/mathjax/2.7.5/MathJax.js?config=TeX-AMS-MML_SVG\"></script><script type=\"text/javascript\">if (window.MathJax) {MathJax.Hub.Config({SVG: {font: \"STIX-Web\"}});}</script>\n",
              "                <script type=\"text/javascript\">window.PlotlyConfig = {MathJaxConfig: 'local'};</script>\n",
              "        <script src=\"https://cdn.plot.ly/plotly-latest.min.js\"></script>    \n",
              "            <div id=\"734805f8-834d-4600-a415-7f12a06972dd\" class=\"plotly-graph-div\" style=\"height:525px; width:100%;\"></div>\n",
              "            <script type=\"text/javascript\">\n",
              "                \n",
              "                    window.PLOTLYENV=window.PLOTLYENV || {};\n",
              "                    \n",
              "                if (document.getElementById(\"734805f8-834d-4600-a415-7f12a06972dd\")) {\n",
              "                    Plotly.newPlot(\n",
              "                        '734805f8-834d-4600-a415-7f12a06972dd',\n",
              "                        [{\"marker\": {\"color\": [\"red\", \"red\", \"green\", \"red\", \"green\", \"red\", \"green\", \"red\", \"green\", \"red\", \"green\", \"red\", \"green\", \"red\", \"green\", \"red\", \"green\", \"red\", \"green\", \"red\", \"green\", \"red\", \"green\", \"red\", \"green\", \"red\", \"green\", \"red\", \"green\", \"red\", \"green\"], \"size\": 12, \"symbol\": \"diamond\"}, \"mode\": \"markers\", \"name\": \"Stator\", \"r\": [13.5, 13.5, 13.5, 13.5, 13.5, 13.5, 13.5, 13.5, 13.5, 13.5, 13.5, 13.5, 13.5, 13.5, 13.5, 13.5, 13.5, 13.5, 13.5, 13.5, 13.5, 13.5, 13.5, 13.5, 13.5, 13.5, 13.5, 13.5, 13.5, 13.5, 13.5], \"subplot\": \"polar\", \"theta\": [0.0, 11.612903225806452, 23.225806451612904, 34.83870967741936, 46.45161290322581, 58.064516129032256, 69.67741935483872, 81.29032258064517, 92.90322580645162, 104.51612903225806, 116.12903225806451, 127.74193548387098, 139.35483870967744, 150.96774193548387, 162.58064516129033, 174.19354838709677, 185.80645161290323, 197.4193548387097, 209.03225806451613, 220.6451612903226, 232.25806451612902, 243.8709677419355, 255.48387096774195, 267.0967741935484, 278.7096774193549, 290.3225806451613, 301.93548387096774, 313.5483870967742, 325.16129032258067, 336.77419354838713, 348.38709677419354], \"type\": \"scatterpolar\", \"visible\": true}, {\"marker\": {\"color\": [\"red\", \"green\", \"red\", \"green\", \"red\", \"green\", \"red\", \"green\", \"red\", \"green\", \"red\", \"green\", \"red\", \"green\", \"red\", \"green\", \"red\", \"green\", \"red\", \"green\", \"red\", \"green\", \"red\", \"green\", \"red\", \"green\", \"red\", \"green\", \"red\", \"green\"], \"size\": 10, \"symbol\": \"circle\"}, \"mode\": \"markers\", \"name\": \"Rotor\", \"r\": [11.5, 11.5, 11.5, 11.5, 11.5, 11.5, 11.5, 11.5, 11.5, 11.5, 11.5, 11.5, 11.5, 11.5, 11.5, 11.5, 11.5, 11.5, 11.5, 11.5, 11.5, 11.5, 11.5, 11.5, 11.5, 11.5, 11.5, 11.5, 11.5, 11.5, 11.5], \"subplot\": \"polar\", \"theta\": [0.0, 12.0, 24.0, 36.0, 48.0, 60.0, 72.0, 84.0, 96.0, 108.0, 120.0, 132.0, 144.0, 156.0, 168.0, 180.0, 192.0, 204.0, 216.0, 228.0, 240.0, 252.0, 264.0, 276.0, 288.0, 300.0, 312.0, 324.0, 336.0, 348.0], \"type\": \"scatterpolar\", \"visible\": true}, {\"name\": \"Torque\", \"type\": \"scatter\", \"visible\": true, \"x\": [0.0], \"xaxis\": \"x\", \"y\": [267.39], \"yaxis\": \"y\"}, {\"marker\": {\"color\": [\"green\", \"red\", \"green\", \"red\", \"green\", \"red\", \"green\", \"red\", \"green\", \"red\", \"green\", \"red\", \"green\", \"red\", \"green\", \"red\", \"green\", \"red\", \"green\", \"red\", \"green\", \"red\", \"green\", \"red\", \"green\", \"red\", \"green\", \"red\", \"green\", \"red\", \"green\"], \"size\": 12, \"symbol\": \"diamond\"}, \"mode\": \"markers\", \"name\": \"Stator\", \"r\": [13.5, 13.5, 13.5, 13.5, 13.5, 13.5, 13.5, 13.5, 13.5, 13.5, 13.5, 13.5, 13.5, 13.5, 13.5, 13.5, 13.5, 13.5, 13.5, 13.5, 13.5, 13.5, 13.5, 13.5, 13.5, 13.5, 13.5, 13.5, 13.5, 13.5, 13.5], \"subplot\": \"polar\", \"theta\": [0.0, 11.612903225806452, 23.225806451612904, 34.83870967741936, 46.45161290322581, 58.064516129032256, 69.67741935483872, 81.29032258064517, 92.90322580645162, 104.51612903225806, 116.12903225806451, 127.74193548387098, 139.35483870967744, 150.96774193548387, 162.58064516129033, 174.19354838709677, 185.80645161290323, 197.4193548387097, 209.03225806451613, 220.6451612903226, 232.25806451612902, 243.8709677419355, 255.48387096774195, 267.0967741935484, 278.7096774193549, 290.3225806451613, 301.93548387096774, 313.5483870967742, 325.16129032258067, 336.77419354838713, 348.38709677419354], \"type\": \"scatterpolar\", \"visible\": false}, {\"marker\": {\"color\": [\"red\", \"green\", \"red\", \"green\", \"red\", \"green\", \"red\", \"green\", \"red\", \"green\", \"red\", \"green\", \"red\", \"green\", \"red\", \"green\", \"red\", \"green\", \"red\", \"green\", \"red\", \"green\", \"red\", \"green\", \"red\", \"green\", \"red\", \"green\", \"red\", \"green\"], \"size\": 10, \"symbol\": \"circle\"}, \"mode\": \"markers\", \"name\": \"Rotor\", \"r\": [11.5, 11.5, 11.5, 11.5, 11.5, 11.5, 11.5, 11.5, 11.5, 11.5, 11.5, 11.5, 11.5, 11.5, 11.5, 11.5, 11.5, 11.5, 11.5, 11.5, 11.5, 11.5, 11.5, 11.5, 11.5, 11.5, 11.5, 11.5, 11.5, 11.5, 11.5], \"subplot\": \"polar\", \"theta\": [0.1, 12.1, 24.1, 36.1, 48.1, 60.1, 72.1, 84.1, 96.1, 108.1, 120.1, 132.1, 144.1, 156.1, 168.1, 180.1, 192.1, 204.1, 216.1, 228.1, 240.1, 252.1, 264.1, 276.1, 288.1, 300.1, 312.1, 324.1, 336.1, 348.1], \"type\": \"scatterpolar\", \"visible\": false}, {\"name\": \"Torque\", \"type\": \"scatter\", \"visible\": false, \"x\": [0.0, 0.1], \"xaxis\": \"x\", \"y\": [267.39, 265.15], \"yaxis\": \"y\"}, {\"marker\": {\"color\": [\"green\", \"red\", \"green\", \"red\", \"green\", \"red\", \"green\", \"red\", \"green\", \"red\", \"green\", \"red\", \"green\", \"red\", \"green\", \"red\", \"green\", \"red\", \"green\", \"red\", \"green\", \"red\", \"green\", \"red\", \"green\", \"red\", \"green\", \"red\", \"green\", \"red\", \"green\"], \"size\": 12, \"symbol\": \"diamond\"}, \"mode\": \"markers\", \"name\": \"Stator\", \"r\": [13.5, 13.5, 13.5, 13.5, 13.5, 13.5, 13.5, 13.5, 13.5, 13.5, 13.5, 13.5, 13.5, 13.5, 13.5, 13.5, 13.5, 13.5, 13.5, 13.5, 13.5, 13.5, 13.5, 13.5, 13.5, 13.5, 13.5, 13.5, 13.5, 13.5, 13.5], \"subplot\": \"polar\", \"theta\": [0.0, 11.612903225806452, 23.225806451612904, 34.83870967741936, 46.45161290322581, 58.064516129032256, 69.67741935483872, 81.29032258064517, 92.90322580645162, 104.51612903225806, 116.12903225806451, 127.74193548387098, 139.35483870967744, 150.96774193548387, 162.58064516129033, 174.19354838709677, 185.80645161290323, 197.4193548387097, 209.03225806451613, 220.6451612903226, 232.25806451612902, 243.8709677419355, 255.48387096774195, 267.0967741935484, 278.7096774193549, 290.3225806451613, 301.93548387096774, 313.5483870967742, 325.16129032258067, 336.77419354838713, 348.38709677419354], \"type\": \"scatterpolar\", \"visible\": false}, {\"marker\": {\"color\": [\"red\", \"green\", \"red\", \"green\", \"red\", \"green\", \"red\", \"green\", \"red\", \"green\", \"red\", \"green\", \"red\", \"green\", \"red\", \"green\", \"red\", \"green\", \"red\", \"green\", \"red\", \"green\", \"red\", \"green\", \"red\", \"green\", \"red\", \"green\", \"red\", \"green\"], \"size\": 10, \"symbol\": \"circle\"}, \"mode\": \"markers\", \"name\": \"Rotor\", \"r\": [11.5, 11.5, 11.5, 11.5, 11.5, 11.5, 11.5, 11.5, 11.5, 11.5, 11.5, 11.5, 11.5, 11.5, 11.5, 11.5, 11.5, 11.5, 11.5, 11.5, 11.5, 11.5, 11.5, 11.5, 11.5, 11.5, 11.5, 11.5, 11.5, 11.5, 11.5], \"subplot\": \"polar\", \"theta\": [0.2, 12.2, 24.2, 36.2, 48.2, 60.2, 72.2, 84.2, 96.2, 108.2, 120.2, 132.2, 144.2, 156.2, 168.2, 180.2, 192.2, 204.2, 216.2, 228.2, 240.2, 252.2, 264.2, 276.2, 288.2, 300.2, 312.2, 324.2, 336.2, 348.2], \"type\": \"scatterpolar\", \"visible\": false}, {\"name\": \"Torque\", \"type\": \"scatter\", \"visible\": false, \"x\": [0.0, 0.1, 0.2], \"xaxis\": \"x\", \"y\": [267.39, 265.15, 268.2], \"yaxis\": \"y\"}, {\"marker\": {\"color\": [\"green\", \"red\", \"green\", \"red\", \"green\", \"red\", \"green\", \"red\", \"green\", \"red\", \"green\", \"red\", \"green\", \"red\", \"green\", \"red\", \"green\", \"red\", \"green\", \"red\", \"green\", \"red\", \"green\", \"red\", \"green\", \"red\", \"green\", \"red\", \"green\", \"red\", \"red\"], \"size\": 12, \"symbol\": \"diamond\"}, \"mode\": \"markers\", \"name\": \"Stator\", \"r\": [13.5, 13.5, 13.5, 13.5, 13.5, 13.5, 13.5, 13.5, 13.5, 13.5, 13.5, 13.5, 13.5, 13.5, 13.5, 13.5, 13.5, 13.5, 13.5, 13.5, 13.5, 13.5, 13.5, 13.5, 13.5, 13.5, 13.5, 13.5, 13.5, 13.5, 13.5], \"subplot\": \"polar\", \"theta\": [0.0, 11.612903225806452, 23.225806451612904, 34.83870967741936, 46.45161290322581, 58.064516129032256, 69.67741935483872, 81.29032258064517, 92.90322580645162, 104.51612903225806, 116.12903225806451, 127.74193548387098, 139.35483870967744, 150.96774193548387, 162.58064516129033, 174.19354838709677, 185.80645161290323, 197.4193548387097, 209.03225806451613, 220.6451612903226, 232.25806451612902, 243.8709677419355, 255.48387096774195, 267.0967741935484, 278.7096774193549, 290.3225806451613, 301.93548387096774, 313.5483870967742, 325.16129032258067, 336.77419354838713, 348.38709677419354], \"type\": \"scatterpolar\", \"visible\": false}, {\"marker\": {\"color\": [\"red\", \"green\", \"red\", \"green\", \"red\", \"green\", \"red\", \"green\", \"red\", \"green\", \"red\", \"green\", \"red\", \"green\", \"red\", \"green\", \"red\", \"green\", \"red\", \"green\", \"red\", \"green\", \"red\", \"green\", \"red\", \"green\", \"red\", \"green\", \"red\", \"green\"], \"size\": 10, \"symbol\": \"circle\"}, \"mode\": \"markers\", \"name\": \"Rotor\", \"r\": [11.5, 11.5, 11.5, 11.5, 11.5, 11.5, 11.5, 11.5, 11.5, 11.5, 11.5, 11.5, 11.5, 11.5, 11.5, 11.5, 11.5, 11.5, 11.5, 11.5, 11.5, 11.5, 11.5, 11.5, 11.5, 11.5, 11.5, 11.5, 11.5, 11.5, 11.5], \"subplot\": \"polar\", \"theta\": [0.4, 12.4, 24.4, 36.4, 48.4, 60.4, 72.4, 84.4, 96.4, 108.4, 120.4, 132.4, 144.4, 156.4, 168.4, 180.4, 192.4, 204.4, 216.4, 228.4, 240.4, 252.4, 264.4, 276.4, 288.4, 300.4, 312.4, 324.4, 336.4, 348.4], \"type\": \"scatterpolar\", \"visible\": false}, {\"name\": \"Torque\", \"type\": \"scatter\", \"visible\": false, \"x\": [0.0, 0.1, 0.2, 0.4], \"xaxis\": \"x\", \"y\": [267.39, 265.15, 268.2, 266.08], \"yaxis\": \"y\"}, {\"legendgroup\": \"positive\", \"marker\": {\"color\": \"green\", \"size\": 10}, \"mode\": \"markers\", \"name\": \"+2\", \"showlegend\": true, \"type\": \"scatter\", \"x\": [null], \"y\": [null]}, {\"legendgroup\": \"negative\", \"marker\": {\"color\": \"red\", \"size\": 10}, \"mode\": \"markers\", \"name\": \"-2\", \"showlegend\": true, \"type\": \"scatter\", \"x\": [null], \"y\": [null]}, {\"legendgroup\": \"neutral\", \"marker\": {\"color\": \"yellow\", \"size\": 10}, \"mode\": \"markers\", \"name\": \"0\", \"showlegend\": true, \"type\": \"scatter\", \"x\": [null], \"y\": [null]}],\n",
              "                        {\"polar\": {\"domain\": {\"x\": [0.0, 0.45], \"y\": [0.0, 1.0]}}, \"sliders\": [{\"active\": 0, \"currentvalue\": {\"prefix\": \"Rotor Position: \"}, \"pad\": {\"t\": 50}, \"steps\": [{\"args\": [{\"visible\": [true, true, true, false, false, false, false, false, false, false, false, false, true, true, true]}, {\"title\": \"31S30R Ucore: Rotor position: 0.0, Torque [MAGNET]=267.39\"}], \"method\": \"update\"}, {\"args\": [{\"visible\": [false, false, false, true, true, true, false, false, false, false, false, false, true, true, true]}, {\"title\": \"31S30R Ucore: Rotor position: 0.1, Torque [MAGNET]=265.15\"}], \"method\": \"update\"}, {\"args\": [{\"visible\": [false, false, false, false, false, false, true, true, true, false, false, false, true, true, true]}, {\"title\": \"31S30R Ucore: Rotor position: 0.2, Torque [MAGNET]=268.2\"}], \"method\": \"update\"}, {\"args\": [{\"visible\": [false, false, false, false, false, false, false, false, false, true, true, true, true, true, true]}, {\"title\": \"31S30R Ucore: Rotor position: 0.4, Torque [MAGNET]=266.08\"}], \"method\": \"update\"}]}], \"template\": {\"data\": {\"bar\": [{\"error_x\": {\"color\": \"#2a3f5f\"}, \"error_y\": {\"color\": \"#2a3f5f\"}, \"marker\": {\"line\": {\"color\": \"#E5ECF6\", \"width\": 0.5}}, \"type\": \"bar\"}], \"barpolar\": [{\"marker\": {\"line\": {\"color\": \"#E5ECF6\", \"width\": 0.5}}, \"type\": \"barpolar\"}], \"carpet\": [{\"aaxis\": {\"endlinecolor\": \"#2a3f5f\", \"gridcolor\": \"white\", \"linecolor\": \"white\", \"minorgridcolor\": \"white\", \"startlinecolor\": \"#2a3f5f\"}, \"baxis\": {\"endlinecolor\": \"#2a3f5f\", \"gridcolor\": \"white\", \"linecolor\": \"white\", \"minorgridcolor\": \"white\", \"startlinecolor\": \"#2a3f5f\"}, \"type\": \"carpet\"}], \"choropleth\": [{\"colorbar\": {\"outlinewidth\": 0, \"ticks\": \"\"}, \"type\": \"choropleth\"}], \"contour\": [{\"colorbar\": {\"outlinewidth\": 0, \"ticks\": \"\"}, \"colorscale\": [[0.0, \"#0d0887\"], [0.1111111111111111, \"#46039f\"], [0.2222222222222222, \"#7201a8\"], [0.3333333333333333, \"#9c179e\"], [0.4444444444444444, \"#bd3786\"], [0.5555555555555556, \"#d8576b\"], [0.6666666666666666, \"#ed7953\"], [0.7777777777777778, \"#fb9f3a\"], [0.8888888888888888, \"#fdca26\"], [1.0, \"#f0f921\"]], \"type\": \"contour\"}], \"contourcarpet\": [{\"colorbar\": {\"outlinewidth\": 0, \"ticks\": \"\"}, \"type\": \"contourcarpet\"}], \"heatmap\": [{\"colorbar\": {\"outlinewidth\": 0, \"ticks\": \"\"}, \"colorscale\": [[0.0, \"#0d0887\"], [0.1111111111111111, \"#46039f\"], [0.2222222222222222, \"#7201a8\"], [0.3333333333333333, \"#9c179e\"], [0.4444444444444444, \"#bd3786\"], [0.5555555555555556, \"#d8576b\"], [0.6666666666666666, \"#ed7953\"], [0.7777777777777778, \"#fb9f3a\"], [0.8888888888888888, \"#fdca26\"], [1.0, \"#f0f921\"]], \"type\": \"heatmap\"}], \"heatmapgl\": [{\"colorbar\": {\"outlinewidth\": 0, \"ticks\": \"\"}, \"colorscale\": [[0.0, \"#0d0887\"], [0.1111111111111111, \"#46039f\"], [0.2222222222222222, \"#7201a8\"], [0.3333333333333333, \"#9c179e\"], [0.4444444444444444, \"#bd3786\"], [0.5555555555555556, \"#d8576b\"], [0.6666666666666666, \"#ed7953\"], [0.7777777777777778, \"#fb9f3a\"], [0.8888888888888888, \"#fdca26\"], [1.0, \"#f0f921\"]], \"type\": \"heatmapgl\"}], \"histogram\": [{\"marker\": {\"colorbar\": {\"outlinewidth\": 0, \"ticks\": \"\"}}, \"type\": \"histogram\"}], \"histogram2d\": [{\"colorbar\": {\"outlinewidth\": 0, \"ticks\": \"\"}, \"colorscale\": [[0.0, \"#0d0887\"], [0.1111111111111111, \"#46039f\"], [0.2222222222222222, \"#7201a8\"], [0.3333333333333333, \"#9c179e\"], [0.4444444444444444, \"#bd3786\"], [0.5555555555555556, \"#d8576b\"], [0.6666666666666666, \"#ed7953\"], [0.7777777777777778, \"#fb9f3a\"], [0.8888888888888888, \"#fdca26\"], [1.0, \"#f0f921\"]], \"type\": \"histogram2d\"}], \"histogram2dcontour\": [{\"colorbar\": {\"outlinewidth\": 0, \"ticks\": \"\"}, \"colorscale\": [[0.0, \"#0d0887\"], [0.1111111111111111, \"#46039f\"], [0.2222222222222222, \"#7201a8\"], [0.3333333333333333, \"#9c179e\"], [0.4444444444444444, \"#bd3786\"], [0.5555555555555556, \"#d8576b\"], [0.6666666666666666, \"#ed7953\"], [0.7777777777777778, \"#fb9f3a\"], [0.8888888888888888, \"#fdca26\"], [1.0, \"#f0f921\"]], \"type\": \"histogram2dcontour\"}], \"mesh3d\": [{\"colorbar\": {\"outlinewidth\": 0, \"ticks\": \"\"}, \"type\": \"mesh3d\"}], \"parcoords\": [{\"line\": {\"colorbar\": {\"outlinewidth\": 0, \"ticks\": \"\"}}, \"type\": \"parcoords\"}], \"pie\": [{\"automargin\": true, \"type\": \"pie\"}], \"scatter\": [{\"marker\": {\"colorbar\": {\"outlinewidth\": 0, \"ticks\": \"\"}}, \"type\": \"scatter\"}], \"scatter3d\": [{\"line\": {\"colorbar\": {\"outlinewidth\": 0, \"ticks\": \"\"}}, \"marker\": {\"colorbar\": {\"outlinewidth\": 0, \"ticks\": \"\"}}, \"type\": \"scatter3d\"}], \"scattercarpet\": [{\"marker\": {\"colorbar\": {\"outlinewidth\": 0, \"ticks\": \"\"}}, \"type\": \"scattercarpet\"}], \"scattergeo\": [{\"marker\": {\"colorbar\": {\"outlinewidth\": 0, \"ticks\": \"\"}}, \"type\": \"scattergeo\"}], \"scattergl\": [{\"marker\": {\"colorbar\": {\"outlinewidth\": 0, \"ticks\": \"\"}}, \"type\": \"scattergl\"}], \"scattermapbox\": [{\"marker\": {\"colorbar\": {\"outlinewidth\": 0, \"ticks\": \"\"}}, \"type\": \"scattermapbox\"}], \"scatterpolar\": [{\"marker\": {\"colorbar\": {\"outlinewidth\": 0, \"ticks\": \"\"}}, \"type\": \"scatterpolar\"}], \"scatterpolargl\": [{\"marker\": {\"colorbar\": {\"outlinewidth\": 0, \"ticks\": \"\"}}, \"type\": \"scatterpolargl\"}], \"scatterternary\": [{\"marker\": {\"colorbar\": {\"outlinewidth\": 0, \"ticks\": \"\"}}, \"type\": \"scatterternary\"}], \"surface\": [{\"colorbar\": {\"outlinewidth\": 0, \"ticks\": \"\"}, \"colorscale\": [[0.0, \"#0d0887\"], [0.1111111111111111, \"#46039f\"], [0.2222222222222222, \"#7201a8\"], [0.3333333333333333, \"#9c179e\"], [0.4444444444444444, \"#bd3786\"], [0.5555555555555556, \"#d8576b\"], [0.6666666666666666, \"#ed7953\"], [0.7777777777777778, \"#fb9f3a\"], [0.8888888888888888, \"#fdca26\"], [1.0, \"#f0f921\"]], \"type\": \"surface\"}], \"table\": [{\"cells\": {\"fill\": {\"color\": \"#EBF0F8\"}, \"line\": {\"color\": \"white\"}}, \"header\": {\"fill\": {\"color\": \"#C8D4E3\"}, \"line\": {\"color\": \"white\"}}, \"type\": \"table\"}]}, \"layout\": {\"annotationdefaults\": {\"arrowcolor\": \"#2a3f5f\", \"arrowhead\": 0, \"arrowwidth\": 1}, \"coloraxis\": {\"colorbar\": {\"outlinewidth\": 0, \"ticks\": \"\"}}, \"colorscale\": {\"diverging\": [[0, \"#8e0152\"], [0.1, \"#c51b7d\"], [0.2, \"#de77ae\"], [0.3, \"#f1b6da\"], [0.4, \"#fde0ef\"], [0.5, \"#f7f7f7\"], [0.6, \"#e6f5d0\"], [0.7, \"#b8e186\"], [0.8, \"#7fbc41\"], [0.9, \"#4d9221\"], [1, \"#276419\"]], \"sequential\": [[0.0, \"#0d0887\"], [0.1111111111111111, \"#46039f\"], [0.2222222222222222, \"#7201a8\"], [0.3333333333333333, \"#9c179e\"], [0.4444444444444444, \"#bd3786\"], [0.5555555555555556, \"#d8576b\"], [0.6666666666666666, \"#ed7953\"], [0.7777777777777778, \"#fb9f3a\"], [0.8888888888888888, \"#fdca26\"], [1.0, \"#f0f921\"]], \"sequentialminus\": [[0.0, \"#0d0887\"], [0.1111111111111111, \"#46039f\"], [0.2222222222222222, \"#7201a8\"], [0.3333333333333333, \"#9c179e\"], [0.4444444444444444, \"#bd3786\"], [0.5555555555555556, \"#d8576b\"], [0.6666666666666666, \"#ed7953\"], [0.7777777777777778, \"#fb9f3a\"], [0.8888888888888888, \"#fdca26\"], [1.0, \"#f0f921\"]]}, \"colorway\": [\"#636efa\", \"#EF553B\", \"#00cc96\", \"#ab63fa\", \"#FFA15A\", \"#19d3f3\", \"#FF6692\", \"#B6E880\", \"#FF97FF\", \"#FECB52\"], \"font\": {\"color\": \"#2a3f5f\"}, \"geo\": {\"bgcolor\": \"white\", \"lakecolor\": \"white\", \"landcolor\": \"#E5ECF6\", \"showlakes\": true, \"showland\": true, \"subunitcolor\": \"white\"}, \"hoverlabel\": {\"align\": \"left\"}, \"hovermode\": \"closest\", \"mapbox\": {\"style\": \"light\"}, \"paper_bgcolor\": \"white\", \"plot_bgcolor\": \"#E5ECF6\", \"polar\": {\"angularaxis\": {\"gridcolor\": \"white\", \"linecolor\": \"white\", \"ticks\": \"\"}, \"bgcolor\": \"#E5ECF6\", \"radialaxis\": {\"gridcolor\": \"white\", \"linecolor\": \"white\", \"ticks\": \"\"}}, \"scene\": {\"xaxis\": {\"backgroundcolor\": \"#E5ECF6\", \"gridcolor\": \"white\", \"gridwidth\": 2, \"linecolor\": \"white\", \"showbackground\": true, \"ticks\": \"\", \"zerolinecolor\": \"white\"}, \"yaxis\": {\"backgroundcolor\": \"#E5ECF6\", \"gridcolor\": \"white\", \"gridwidth\": 2, \"linecolor\": \"white\", \"showbackground\": true, \"ticks\": \"\", \"zerolinecolor\": \"white\"}, \"zaxis\": {\"backgroundcolor\": \"#E5ECF6\", \"gridcolor\": \"white\", \"gridwidth\": 2, \"linecolor\": \"white\", \"showbackground\": true, \"ticks\": \"\", \"zerolinecolor\": \"white\"}}, \"shapedefaults\": {\"line\": {\"color\": \"#2a3f5f\"}}, \"ternary\": {\"aaxis\": {\"gridcolor\": \"white\", \"linecolor\": \"white\", \"ticks\": \"\"}, \"baxis\": {\"gridcolor\": \"white\", \"linecolor\": \"white\", \"ticks\": \"\"}, \"bgcolor\": \"#E5ECF6\", \"caxis\": {\"gridcolor\": \"white\", \"linecolor\": \"white\", \"ticks\": \"\"}}, \"title\": {\"x\": 0.05}, \"xaxis\": {\"automargin\": true, \"gridcolor\": \"white\", \"linecolor\": \"white\", \"ticks\": \"\", \"title\": {\"standoff\": 15}, \"zerolinecolor\": \"white\", \"zerolinewidth\": 2}, \"yaxis\": {\"automargin\": true, \"gridcolor\": \"white\", \"linecolor\": \"white\", \"ticks\": \"\", \"title\": {\"standoff\": 15}, \"zerolinecolor\": \"white\", \"zerolinewidth\": 2}}}, \"title\": {\"text\": \"31S30R Ucore: Net Torque vs rotor displacement\", \"x\": 0.5, \"xanchor\": \"center\", \"y\": 0.9, \"yanchor\": \"top\"}, \"xaxis\": {\"anchor\": \"y\", \"domain\": [0.55, 1.0], \"title\": {\"text\": \"Rotor displacement (\\u00b0)\"}}, \"yaxis\": {\"anchor\": \"x\", \"domain\": [0.0, 1.0], \"range\": [0, 300], \"title\": {\"text\": \"Torque (N-m)\"}}},\n",
              "                        {\"responsive\": true}\n",
              "                    ).then(function(){\n",
              "                            \n",
              "var gd = document.getElementById('734805f8-834d-4600-a415-7f12a06972dd');\n",
              "var x = new MutationObserver(function (mutations, observer) {{\n",
              "        var display = window.getComputedStyle(gd).display;\n",
              "        if (!display || display === 'none') {{\n",
              "            console.log([gd, 'removed!']);\n",
              "            Plotly.purge(gd);\n",
              "            observer.disconnect();\n",
              "        }}\n",
              "}});\n",
              "\n",
              "// Listen for the removal of the full notebook cells\n",
              "var notebookContainer = gd.closest('#notebook-container');\n",
              "if (notebookContainer) {{\n",
              "    x.observe(notebookContainer, {childList: true});\n",
              "}}\n",
              "\n",
              "// Listen for the clearing of the current output cell\n",
              "var outputEl = gd.closest('.output');\n",
              "if (outputEl) {{\n",
              "    x.observe(outputEl, {childList: true});\n",
              "}}\n",
              "\n",
              "                        })\n",
              "                };\n",
              "                \n",
              "            </script>\n",
              "        </div>\n",
              "</body>\n",
              "</html>"
            ]
          },
          "metadata": {}
        }
      ]
    },
    {
      "cell_type": "code",
      "metadata": {
        "id": "vL47n6EMqys2"
      },
      "source": [],
      "execution_count": null,
      "outputs": []
    },
    {
      "cell_type": "code",
      "metadata": {
        "id": "lfVxhsEDqyqd"
      },
      "source": [],
      "execution_count": null,
      "outputs": []
    },
    {
      "cell_type": "code",
      "metadata": {
        "id": "FYPskXBcqynr"
      },
      "source": [],
      "execution_count": null,
      "outputs": []
    },
    {
      "cell_type": "code",
      "metadata": {
        "id": "m3F405B4qyk1"
      },
      "source": [],
      "execution_count": null,
      "outputs": []
    },
    {
      "cell_type": "code",
      "metadata": {
        "id": "aXYPTknpqyhd"
      },
      "source": [],
      "execution_count": null,
      "outputs": []
    },
    {
      "cell_type": "code",
      "metadata": {
        "id": "hEroIjzoqyeb"
      },
      "source": [],
      "execution_count": null,
      "outputs": []
    },
    {
      "cell_type": "markdown",
      "metadata": {
        "id": "AI_4SqHMJ2IG"
      },
      "source": [
        "# GA - Maximize - ACW"
      ]
    },
    {
      "cell_type": "markdown",
      "metadata": {
        "id": "skRHfZ7ZJ6qF"
      },
      "source": [
        "## Evaluation"
      ]
    },
    {
      "cell_type": "code",
      "metadata": {
        "colab": {
          "base_uri": "https://localhost:8080/"
        },
        "id": "qja3i7wEJ6qF",
        "outputId": "43ae8a1f-2391-4d77-e99e-edf393218fba"
      },
      "source": [
        "!pip install deap"
      ],
      "execution_count": null,
      "outputs": [
        {
          "output_type": "stream",
          "text": [
            "Requirement already satisfied: deap in /usr/local/lib/python3.7/dist-packages (1.3.1)\n",
            "Requirement already satisfied: numpy in /usr/local/lib/python3.7/dist-packages (from deap) (1.19.5)\n"
          ],
          "name": "stdout"
        }
      ]
    },
    {
      "cell_type": "code",
      "metadata": {
        "id": "gxY0JJzvJ6qF"
      },
      "source": [
        "import random\n",
        "from deap import base\n",
        "from deap import creator\n",
        "from deap import tools\n"
      ],
      "execution_count": null,
      "outputs": []
    },
    {
      "cell_type": "code",
      "metadata": {
        "id": "q3iepfzVJ6qG"
      },
      "source": [
        "best_solutions = {}\n",
        "optimal_torque_values = {}\n",
        "stator_exc = None"
      ],
      "execution_count": null,
      "outputs": []
    },
    {
      "cell_type": "code",
      "metadata": {
        "id": "IudMQhCWJ6qG"
      },
      "source": [
        "stator_exc = None"
      ],
      "execution_count": null,
      "outputs": []
    },
    {
      "cell_type": "code",
      "metadata": {
        "id": "82I_drXdJ6qG"
      },
      "source": [
        "cols = ['I_S' + str(i+1) for i in range(31)]\n",
        "cols.append('I_R3')\n",
        "cols.append('I_R4')\n",
        "\n",
        "cols.append('rotor_displacement')\n",
        "cols.append('total_torque')\n",
        "\n",
        "df_max_ACW_AE = pd.DataFrame(columns=cols)"
      ],
      "execution_count": null,
      "outputs": []
    },
    {
      "cell_type": "code",
      "metadata": {
        "id": "WaWk2quXJ6qG"
      },
      "source": [
        "# global df_ae"
      ],
      "execution_count": null,
      "outputs": []
    },
    {
      "cell_type": "code",
      "metadata": {
        "colab": {
          "base_uri": "https://localhost:8080/",
          "height": 48
        },
        "id": "TB4LD_hMJ6qG",
        "outputId": "b14689ec-86a9-4252-cd81-3bc3b40acd6e"
      },
      "source": [
        "df_max_ACW_AE.head()"
      ],
      "execution_count": null,
      "outputs": [
        {
          "output_type": "execute_result",
          "data": {
            "text/html": [
              "<div>\n",
              "<style scoped>\n",
              "    .dataframe tbody tr th:only-of-type {\n",
              "        vertical-align: middle;\n",
              "    }\n",
              "\n",
              "    .dataframe tbody tr th {\n",
              "        vertical-align: top;\n",
              "    }\n",
              "\n",
              "    .dataframe thead th {\n",
              "        text-align: right;\n",
              "    }\n",
              "</style>\n",
              "<table border=\"1\" class=\"dataframe\">\n",
              "  <thead>\n",
              "    <tr style=\"text-align: right;\">\n",
              "      <th></th>\n",
              "      <th>I_S1</th>\n",
              "      <th>I_S2</th>\n",
              "      <th>I_S3</th>\n",
              "      <th>I_S4</th>\n",
              "      <th>I_S5</th>\n",
              "      <th>I_S6</th>\n",
              "      <th>I_S7</th>\n",
              "      <th>I_S8</th>\n",
              "      <th>I_S9</th>\n",
              "      <th>I_S10</th>\n",
              "      <th>I_S11</th>\n",
              "      <th>I_S12</th>\n",
              "      <th>I_S13</th>\n",
              "      <th>I_S14</th>\n",
              "      <th>I_S15</th>\n",
              "      <th>I_S16</th>\n",
              "      <th>I_S17</th>\n",
              "      <th>I_S18</th>\n",
              "      <th>I_S19</th>\n",
              "      <th>I_S20</th>\n",
              "      <th>I_S21</th>\n",
              "      <th>I_S22</th>\n",
              "      <th>I_S23</th>\n",
              "      <th>I_S24</th>\n",
              "      <th>I_S25</th>\n",
              "      <th>I_S26</th>\n",
              "      <th>I_S27</th>\n",
              "      <th>I_S28</th>\n",
              "      <th>I_S29</th>\n",
              "      <th>I_S30</th>\n",
              "      <th>I_S31</th>\n",
              "      <th>I_R3</th>\n",
              "      <th>I_R4</th>\n",
              "      <th>rotor_displacement</th>\n",
              "      <th>total_torque</th>\n",
              "    </tr>\n",
              "  </thead>\n",
              "  <tbody>\n",
              "  </tbody>\n",
              "</table>\n",
              "</div>"
            ],
            "text/plain": [
              "Empty DataFrame\n",
              "Columns: [I_S1, I_S2, I_S3, I_S4, I_S5, I_S6, I_S7, I_S8, I_S9, I_S10, I_S11, I_S12, I_S13, I_S14, I_S15, I_S16, I_S17, I_S18, I_S19, I_S20, I_S21, I_S22, I_S23, I_S24, I_S25, I_S26, I_S27, I_S28, I_S29, I_S30, I_S31, I_R3, I_R4, rotor_displacement, total_torque]\n",
              "Index: []"
            ]
          },
          "metadata": {},
          "execution_count": 46
        }
      ]
    },
    {
      "cell_type": "markdown",
      "metadata": {
        "id": "wyKGbTYaJ6qG"
      },
      "source": [
        "## Iterate from here for different ```rotor_displacement``` positions\n",
        "\n"
      ]
    },
    {
      "cell_type": "markdown",
      "metadata": {
        "id": "luvKreGMJ6qG"
      },
      "source": [
        "## From Previous Analysis"
      ]
    },
    {
      "cell_type": "code",
      "metadata": {
        "id": "vkukEqXCJ6qG"
      },
      "source": [
        "class Rotor_Node:    \n",
        "  def __init__(self,rot_id, posn):  \n",
        "    self.rot_id = rot_id  \n",
        "    self.posn = posn\n",
        "    self.excitation = -2*((-1)**self.rot_id)\n",
        "    self.proximal_stator_poles = {}\n",
        "    self.hist_of_exc = {}\n",
        "\n",
        "    self.prev = None\n",
        "    self.next = None\n",
        "\n",
        "class CreateRotorCircList:    \n",
        "  #Declaring head and tail pointer as null.    \n",
        "  def __init__(self):\n",
        "    self.head = Rotor_Node(0, None)    \n",
        "    self.tail = Rotor_Node(0, None)  \n",
        "    self.head.next = self.tail\n",
        "    self.head.prev = self.tail   \n",
        "    self.tail.next = self.head\n",
        "    self.tail.prev = self.head\n",
        "        \n",
        "  #This function will add the new node at the end of the list.    \n",
        "  def add(self, rot_id, posn, stat_positions):    \n",
        "    \n",
        "    newNode = Rotor_Node(rot_id, posn)\n",
        "    newNode.excitation = -2*((-1)**rot_id)\n",
        "    self.calculate_stator_proximity(newNode, stat_positions)\n",
        "\n",
        "    #Checks if the list is empty.    \n",
        "    if self.head.posn is None:    \n",
        "      #If list is empty, both head and tail would point to new node.    \n",
        "      self.head = newNode    \n",
        "      self.tail = newNode    \n",
        "      newNode.next = self.head\n",
        "      newNode.prev = self.tail\n",
        "    else:    \n",
        "      temp = self.tail\n",
        "      #tail will point to new node.    \n",
        "      self.tail.next = newNode;    \n",
        "      #New node will become new tail.    \n",
        "      self.tail = newNode;    \n",
        "      #Since, it is circular linked list tail will point to head.    \n",
        "      self.tail.next = self.head;\n",
        "      self.tail.prev = temp  \n",
        "      self.head.prev = self.tail   \n",
        "\n",
        "  def calculate_stator_proximity(self, newNode, stat_positions):\n",
        "    # print(type(rot_positions))\n",
        "    # print(rot_position)\n",
        "    # print(newNode.posn)\n",
        "    \n",
        "    abs_diff1 = [abs(sp - newNode.posn) for sp in stat_positions]\n",
        "    diff1 = [sp - newNode.posn for sp in stat_positions]\n",
        "    \n",
        "    negative_stat_positions = [abs(sp - 360) for sp in stat_positions]\n",
        "    abs_diff2 = [abs(sp + newNode.posn) for sp in negative_stat_positions]\n",
        "    diff2 = [-1*(sp + newNode.posn) for sp in negative_stat_positions]\n",
        "\n",
        "    for inx in range(len(diff1)):\n",
        "      # if newNode.posn == 0.0:\n",
        "      #   if abs_diff1[inx] < abs_diff2[inx]:\n",
        "      #     newNode.proximal_stator_poles[inx] = diff1[inx]\n",
        "      #   else:\n",
        "      #     newNode.proximal_stator_poles[inx] = diff2[inx]\n",
        "      # else:\n",
        "      #   newNode.proximal_stator_poles[inx] = diff1[inx]\n",
        "\n",
        "      \n",
        "      if abs_diff1[inx] < abs_diff2[inx]:\n",
        "          newNode.proximal_stator_poles[inx] = diff1[inx]\n",
        "      else:\n",
        "        newNode.proximal_stator_poles[inx] = diff2[inx]\n",
        "    \n",
        "      # if newNode.rot_id != 29:\n",
        "      # else:\n",
        "\n",
        "\n",
        "    newNode.proximal_stator_poles = {key:val for key, val in newNode.proximal_stator_poles.items() if val <= 11.6 and val >= -11.6}\n",
        "    key = None\n",
        "    if len(newNode.proximal_stator_poles) == 1:\n",
        "      key = [*newNode.proximal_stator_poles]\n",
        "      print(key)\n",
        "    if key != None:\n",
        "      if key[0] != 30:\n",
        "        newNode.proximal_stator_poles[key[0]+1] = fixed_stator_positions[1] - abs(newNode.proximal_stator_poles[key[0]])\n",
        "      else:\n",
        "        newNode.proximal_stator_poles[0] = fixed_stator_positions[1] - abs(newNode.proximal_stator_poles[key[0]])\n",
        "\n",
        "  #Displays all the nodes in the list    \n",
        "  def display(self):    \n",
        "    current = self.head;    \n",
        "    if self.head is None:    \n",
        "      print(\"List is empty\");    \n",
        "      return;    \n",
        "    else:    \n",
        "        print(\"Nodes of the circular linked list: \");    \n",
        "        #Prints each node by incrementing pointer.    \n",
        "        print(current.posn),    \n",
        "        while(current.next != self.head):    \n",
        "            current = current.next;    \n",
        "            print(current.posn),    \n",
        "\n",
        "  def len(self):\n",
        "    print(self.tail.stat_id)"
      ],
      "execution_count": null,
      "outputs": []
    },
    {
      "cell_type": "code",
      "metadata": {
        "colab": {
          "base_uri": "https://localhost:8080/"
        },
        "id": "ryj9WTvtJ6qH",
        "outputId": "4cdee0e7-c27e-4bfc-85e7-31789d63d53b"
      },
      "source": [
        "fixed_stator_positions = np.linspace(0,360,32)\n",
        "fixed_stator_positions = fixed_stator_positions[:-1]\n",
        "fixed_stator_positions"
      ],
      "execution_count": null,
      "outputs": [
        {
          "output_type": "execute_result",
          "data": {
            "text/plain": [
              "array([  0.        ,  11.61290323,  23.22580645,  34.83870968,\n",
              "        46.4516129 ,  58.06451613,  69.67741935,  81.29032258,\n",
              "        92.90322581, 104.51612903, 116.12903226, 127.74193548,\n",
              "       139.35483871, 150.96774194, 162.58064516, 174.19354839,\n",
              "       185.80645161, 197.41935484, 209.03225806, 220.64516129,\n",
              "       232.25806452, 243.87096774, 255.48387097, 267.09677419,\n",
              "       278.70967742, 290.32258065, 301.93548387, 313.5483871 ,\n",
              "       325.16129032, 336.77419355, 348.38709677])"
            ]
          },
          "metadata": {},
          "execution_count": 49
        }
      ]
    },
    {
      "cell_type": "code",
      "metadata": {
        "id": "3P3TOw6DJ6qH"
      },
      "source": [
        "diff_discretization = 360/30 - 360/31\n",
        "\n",
        "rotor_displacement_to_check_np = np.linspace(0, 3*diff_discretization, 7)\n",
        "rotor_displacement_to_check_list = rotor_displacement_to_check_np.tolist()\n",
        "# rotor_displacement_to_check_list += [i*3 for i in rotor_displacement_to_check_list if i*2 not in rotor_displacement_to_check_list]\n",
        "rotor_displacement_to_check_list = rotor_displacement_to_check_list + [i/2 for i in range(1, 22)]\n"
      ],
      "execution_count": null,
      "outputs": []
    },
    {
      "cell_type": "code",
      "metadata": {
        "id": "QBm0uYTPJ6qH"
      },
      "source": [
        "rotor_positions = np.linspace(0,360,31)\n",
        "rotor_positions = rotor_positions[:-1]\n",
        "\n",
        "rotor_posn_exc_config = {key:-2*(-1)**(inx) for inx, key in enumerate(rotor_positions)}\n",
        "\n",
        "rotor_posn_exc_config_df = pd.Series(rotor_posn_exc_config, index=rotor_posn_exc_config.keys(), name='Rotor_global_config')\n"
      ],
      "execution_count": null,
      "outputs": []
    },
    {
      "cell_type": "code",
      "metadata": {
        "id": "z_zCALW0J6qH"
      },
      "source": [
        "distint_rotor_position = pd.unique(problem_df['rotor_angle'])\n"
      ],
      "execution_count": null,
      "outputs": []
    },
    {
      "cell_type": "code",
      "metadata": {
        "id": "QezdZlPOJ6qH"
      },
      "source": [
        "rotor_posn_exc_T_config_df = rotor_posn_exc_config_df.to_frame()\n",
        "\n",
        "for rot_position in distint_rotor_position:\n",
        "  rotor_posn_exc_T_config_df[rot_position] = 0"
      ],
      "execution_count": null,
      "outputs": []
    },
    {
      "cell_type": "code",
      "metadata": {
        "colab": {
          "base_uri": "https://localhost:8080/"
        },
        "id": "c_cGTJitJ6qH",
        "outputId": "990604b5-0650-4482-97b0-158119afd29b"
      },
      "source": [
        "len(fixed_stator_positions)"
      ],
      "execution_count": null,
      "outputs": [
        {
          "output_type": "execute_result",
          "data": {
            "text/plain": [
              "31"
            ]
          },
          "metadata": {},
          "execution_count": 54
        }
      ]
    },
    {
      "cell_type": "code",
      "metadata": {
        "colab": {
          "base_uri": "https://localhost:8080/"
        },
        "id": "5txrTYQ6J6qH",
        "outputId": "70a42756-8d17-45d1-ecaf-e71089240cb2"
      },
      "source": [
        "sp = fixed_stator_positions\n",
        "sp = sp.tolist()\n",
        "\n",
        "# for rotor_displacement in rotor_displacement_to_check_list:\n",
        "rotor_cll = CreateRotorCircList()\n",
        "\n",
        "for inx, rot_posn in enumerate(rotor_posn_exc_T_config_df.index):\n",
        "  rotor_cll.add(inx, rot_posn + rotor_displacement, sp)\n"
      ],
      "execution_count": null,
      "outputs": [
        {
          "output_type": "stream",
          "text": [
            "[0]\n"
          ],
          "name": "stdout"
        }
      ]
    },
    {
      "cell_type": "markdown",
      "metadata": {
        "id": "pmz1suUlJ6qH"
      },
      "source": [
        "## GA Maximize ACW\n"
      ]
    },
    {
      "cell_type": "code",
      "metadata": {
        "id": "OXhlFCmxJ6qH"
      },
      "source": [
        "# the random initialization of the genetic algorithm is done here\n",
        "# it gives a list of integers with for each products the number of times it is bought\n",
        "\n",
        "def n_per_product():\n",
        "  return random.choices([-2, 0, 2], k = 31)"
      ],
      "execution_count": null,
      "outputs": []
    },
    {
      "cell_type": "code",
      "metadata": {
        "colab": {
          "base_uri": "https://localhost:8080/"
        },
        "id": "0WF4j3RGJ6qH",
        "outputId": "3b84a6e1-f6ed-4180-c18c-923192038935"
      },
      "source": [
        "a = n_per_product()\n",
        "len(a)"
      ],
      "execution_count": null,
      "outputs": [
        {
          "output_type": "execute_result",
          "data": {
            "text/plain": [
              "31"
            ]
          },
          "metadata": {},
          "execution_count": 57
        }
      ]
    },
    {
      "cell_type": "code",
      "metadata": {
        "colab": {
          "base_uri": "https://localhost:8080/"
        },
        "id": "NIQiX7G3J6qI",
        "outputId": "e0d336fe-eaf7-427a-c21f-175dd60e9acd"
      },
      "source": [
        "dict_ = {'I_S' + str(inx+1):str(cur) for inx, cur in enumerate(a[:-2])}\n",
        "dict_['I_R3'] = a[-2]\n",
        "dict_['I_R4'] = a[-1]\n",
        "\n",
        "dict_['rotor_displacement'] = rotor_displacement\n",
        "dict_['total_torque'] = np.nan\n",
        "dict_"
      ],
      "execution_count": null,
      "outputs": [
        {
          "output_type": "execute_result",
          "data": {
            "text/plain": [
              "{'I_R3': 0,\n",
              " 'I_R4': 2,\n",
              " 'I_S1': '-2',\n",
              " 'I_S10': '0',\n",
              " 'I_S11': '0',\n",
              " 'I_S12': '0',\n",
              " 'I_S13': '0',\n",
              " 'I_S14': '-2',\n",
              " 'I_S15': '-2',\n",
              " 'I_S16': '2',\n",
              " 'I_S17': '2',\n",
              " 'I_S18': '0',\n",
              " 'I_S19': '2',\n",
              " 'I_S2': '-2',\n",
              " 'I_S20': '2',\n",
              " 'I_S21': '2',\n",
              " 'I_S22': '2',\n",
              " 'I_S23': '-2',\n",
              " 'I_S24': '0',\n",
              " 'I_S25': '-2',\n",
              " 'I_S26': '-2',\n",
              " 'I_S27': '0',\n",
              " 'I_S28': '0',\n",
              " 'I_S29': '2',\n",
              " 'I_S3': '2',\n",
              " 'I_S4': '0',\n",
              " 'I_S5': '0',\n",
              " 'I_S6': '-2',\n",
              " 'I_S7': '2',\n",
              " 'I_S8': '0',\n",
              " 'I_S9': '2',\n",
              " 'rotor_displacement': 0.0,\n",
              " 'total_torque': nan}"
            ]
          },
          "metadata": {},
          "execution_count": 58
        }
      ]
    },
    {
      "cell_type": "code",
      "metadata": {
        "colab": {
          "base_uri": "https://localhost:8080/",
          "height": 78
        },
        "id": "1v8BJNXVJ6qI",
        "outputId": "4cae5697-6098-4df9-cd3a-1b7417e7a065"
      },
      "source": [
        "df_max_ACW_AE = df_max_ACW_AE.append(dict_, ignore_index=True)\n",
        "df_max_ACW_AE.head()"
      ],
      "execution_count": null,
      "outputs": [
        {
          "output_type": "execute_result",
          "data": {
            "text/html": [
              "<div>\n",
              "<style scoped>\n",
              "    .dataframe tbody tr th:only-of-type {\n",
              "        vertical-align: middle;\n",
              "    }\n",
              "\n",
              "    .dataframe tbody tr th {\n",
              "        vertical-align: top;\n",
              "    }\n",
              "\n",
              "    .dataframe thead th {\n",
              "        text-align: right;\n",
              "    }\n",
              "</style>\n",
              "<table border=\"1\" class=\"dataframe\">\n",
              "  <thead>\n",
              "    <tr style=\"text-align: right;\">\n",
              "      <th></th>\n",
              "      <th>I_S1</th>\n",
              "      <th>I_S2</th>\n",
              "      <th>I_S3</th>\n",
              "      <th>I_S4</th>\n",
              "      <th>I_S5</th>\n",
              "      <th>I_S6</th>\n",
              "      <th>I_S7</th>\n",
              "      <th>I_S8</th>\n",
              "      <th>I_S9</th>\n",
              "      <th>I_S10</th>\n",
              "      <th>I_S11</th>\n",
              "      <th>I_S12</th>\n",
              "      <th>I_S13</th>\n",
              "      <th>I_S14</th>\n",
              "      <th>I_S15</th>\n",
              "      <th>I_S16</th>\n",
              "      <th>I_S17</th>\n",
              "      <th>I_S18</th>\n",
              "      <th>I_S19</th>\n",
              "      <th>I_S20</th>\n",
              "      <th>I_S21</th>\n",
              "      <th>I_S22</th>\n",
              "      <th>I_S23</th>\n",
              "      <th>I_S24</th>\n",
              "      <th>I_S25</th>\n",
              "      <th>I_S26</th>\n",
              "      <th>I_S27</th>\n",
              "      <th>I_S28</th>\n",
              "      <th>I_S29</th>\n",
              "      <th>I_S30</th>\n",
              "      <th>I_S31</th>\n",
              "      <th>I_R3</th>\n",
              "      <th>I_R4</th>\n",
              "      <th>rotor_displacement</th>\n",
              "      <th>total_torque</th>\n",
              "    </tr>\n",
              "  </thead>\n",
              "  <tbody>\n",
              "    <tr>\n",
              "      <th>0</th>\n",
              "      <td>-2</td>\n",
              "      <td>-2</td>\n",
              "      <td>2</td>\n",
              "      <td>0</td>\n",
              "      <td>0</td>\n",
              "      <td>-2</td>\n",
              "      <td>2</td>\n",
              "      <td>0</td>\n",
              "      <td>2</td>\n",
              "      <td>0</td>\n",
              "      <td>0</td>\n",
              "      <td>0</td>\n",
              "      <td>0</td>\n",
              "      <td>-2</td>\n",
              "      <td>-2</td>\n",
              "      <td>2</td>\n",
              "      <td>2</td>\n",
              "      <td>0</td>\n",
              "      <td>2</td>\n",
              "      <td>2</td>\n",
              "      <td>2</td>\n",
              "      <td>2</td>\n",
              "      <td>-2</td>\n",
              "      <td>0</td>\n",
              "      <td>-2</td>\n",
              "      <td>-2</td>\n",
              "      <td>0</td>\n",
              "      <td>0</td>\n",
              "      <td>2</td>\n",
              "      <td>NaN</td>\n",
              "      <td>NaN</td>\n",
              "      <td>0</td>\n",
              "      <td>2</td>\n",
              "      <td>0.0</td>\n",
              "      <td>NaN</td>\n",
              "    </tr>\n",
              "  </tbody>\n",
              "</table>\n",
              "</div>"
            ],
            "text/plain": [
              "  I_S1 I_S2 I_S3 I_S4 I_S5  ... I_S31 I_R3 I_R4 rotor_displacement total_torque\n",
              "0   -2   -2    2    0    0  ...   NaN    0    2                0.0          NaN\n",
              "\n",
              "[1 rows x 35 columns]"
            ]
          },
          "metadata": {},
          "execution_count": 59
        }
      ]
    },
    {
      "cell_type": "code",
      "metadata": {
        "colab": {
          "base_uri": "https://localhost:8080/"
        },
        "id": "mEm1QDzcJ6qI",
        "outputId": "1a66779a-b42d-47da-944b-db6cb407bb56"
      },
      "source": [
        "32%31"
      ],
      "execution_count": null,
      "outputs": [
        {
          "output_type": "execute_result",
          "data": {
            "text/plain": [
              "1"
            ]
          },
          "metadata": {},
          "execution_count": 60
        }
      ]
    },
    {
      "cell_type": "code",
      "metadata": {
        "id": "ep_qRsjbJ6qI"
      },
      "source": [
        "# this is the function used by the algorithm for evaluation\n",
        "def evaluate(individual):\n",
        "  global df_max_ACW_AE, cols\n",
        "  individual = individual[0]\n",
        "  \n",
        "  current_rotor_node = rotor_cll.head\n",
        "  motor_torque = []\n",
        "  # print('individual', individual)\n",
        "\n",
        "  for current_rotor_id in range(rotor_cll.tail.rot_id+1):\n",
        "    torque_R = 0.0\n",
        "    rot_pos_wrt_dict = current_rotor_node.proximal_stator_poles\n",
        "    \n",
        "    # Gives details for whichever pole is closest to the rotor\n",
        "    min_key = min(rot_pos_wrt_dict, key=rot_pos_wrt_dict.get)\n",
        "    rot_position_wrt_S3 = rot_pos_wrt_dict[min_key]\n",
        "    # print(min_key, rot_position_wrt_S3, end= '\\t')\n",
        "\n",
        "    rot_excitation = -2 * ((-1)**current_rotor_node.rot_id)\n",
        "    torque_multiplier = 1\n",
        "    if rot_excitation == -2:\n",
        "      torque_multiplier = -1\n",
        "\n",
        "    I_S3 = individual[min_key]\n",
        "    \n",
        "    if min_key <= 29:\n",
        "      I_S4 = individual[min_key+1]\n",
        "    else:\n",
        "      I_S4 = individual[(min_key+1) % 31]\n",
        "\n",
        "    if min_key <= 28:\n",
        "      I_S5 = individual[min_key+2]\n",
        "    else:\n",
        "      I_S5 = individual[(min_key+2) % 31]\n",
        "\n",
        "    # I_R3 = individual[-2]\n",
        "    # I_R4 = individual[-1]\n",
        "\n",
        "    I_R3 = -2\n",
        "    I_R4 = +2\n",
        "\n",
        "    # print('I_S3, I_S4, I_S5', I_S3, I_S4, I_S5, df_f.loc[(df_f['S3'] == I_S3) & (df_f['S4'] == I_S4) & (df_f['S5'] == I_S5), 'f3'], end='\\t')\n",
        "    \n",
        "    # Maximize the -ve value of Torque\n",
        "    # Results in ACW motion\n",
        "    # except:\n",
        "    #  torque_R = 100\n",
        "    # return -1*total_torque,\n",
        "\n",
        "    # Maximize the +ve value of Torque\n",
        "    # Results in CW motion\n",
        "    # except:\n",
        "    #  torque_R = -100\n",
        "    # return total_torque,\n",
        "\n",
        "    try:\n",
        "      torque_R = torque_multiplier*df_f.loc[(df_f['S3'] == I_S3) & \n",
        "                                            (df_f['S4'] == I_S4) & \n",
        "                                            (df_f['S5'] == I_S5) &\n",
        "                                            (df_f['R3'] == I_R3) &\n",
        "                                            (df_f['R4'] == I_R4), 'f3'].iloc[0](abs(rot_position_wrt_S3)).item()\n",
        "    except:\n",
        "      torque_R = 100\n",
        "\n",
        "    motor_torque.append(torque_R)\n",
        "\n",
        "    current_rotor_node = current_rotor_node.next\n",
        "\n",
        "  total_torque = sum(motor_torque)\n",
        "  # hold_torque = abs(0 - abs(total_torque))\n",
        "\n",
        "  if 100 not in motor_torque:\n",
        "    dict_ = {'I_S' + str(inx+1):str(cur) for inx, cur in enumerate(individual[:-2])}\n",
        "    # dict_['I_R3'] = individual[-2]\n",
        "    # dict_['I_R4'] = individual[-1]\n",
        "\n",
        "    dict_['I_R3'] = -2\n",
        "    dict_['I_R4'] = +2\n",
        "\n",
        "    dict_['rotor_displacement'] = rotor_displacement \n",
        "    dict_['total_torque'] = total_torque\n",
        "    df_max_ACW_AE = df_max_ACW_AE.append(dict_, ignore_index=True)\n",
        "    # df_max_ACW_AE.drop_duplicates(subset=cols[:-1], inplace=True, ignore_index = True)\n",
        "\n",
        "  return -1*total_torque,"
      ],
      "execution_count": null,
      "outputs": []
    },
    {
      "cell_type": "code",
      "metadata": {
        "id": "ef9r2NyvJ6qI"
      },
      "source": [
        "# this is the setup of the deap library: registering the different function into the toolbox\n",
        "creator.create(\"FitnessMin\", base.Fitness, weights=(-1.0,))\n",
        "creator.create(\"Individual\", list, fitness=creator.FitnessMin)\n",
        "\n",
        "toolbox = base.Toolbox()\n",
        "\n",
        "toolbox.register(\"n_per_product\", n_per_product)\n",
        "\n",
        "toolbox.register(\"individual\", tools.initRepeat, creator.Individual, toolbox.n_per_product, n=1)\n",
        "toolbox.register(\"population\", tools.initRepeat, list, toolbox.individual)\n",
        "\n",
        "toolbox.register(\"evaluate\", evaluate)\n",
        "toolbox.register(\"mate\", tools.cxTwoPoint)\n",
        "toolbox.register(\"mutate\", tools.mutFlipBit, indpb=0.05)\n",
        "toolbox.register(\"select\", tools.selTournament, tournsize=3)"
      ],
      "execution_count": null,
      "outputs": []
    },
    {
      "cell_type": "code",
      "metadata": {
        "id": "4sIFrSmhJ6qI"
      },
      "source": [
        "# as an example, this is what a population of 10 shopping lists looks like\n",
        "# toolbox.population(n=10)"
      ],
      "execution_count": null,
      "outputs": []
    },
    {
      "cell_type": "code",
      "metadata": {
        "id": "sKFpQAPZJ6qI"
      },
      "source": [
        "def main():\n",
        "  pop = toolbox.population(n=500)\n",
        "  \n",
        "  # Evaluate the entire population\n",
        "  fitnesses = list(map(toolbox.evaluate, pop))\n",
        "  for ind, fit in zip(pop, fitnesses):\n",
        "      ind.fitness.values = fit\n",
        "\n",
        "  # CXPB  is the probability with which two individuals\n",
        "  #       are crossed\n",
        "  #\n",
        "  # MUTPB is the probability for mutating an individual\n",
        "  CXPB, MUTPB = 0.9, 0.5\n",
        "  \n",
        "  # Extracting all the fitnesses of \n",
        "  fits = [ind.fitness.values[0] for ind in pop]\n",
        "  \n",
        "  # Variable keeping track of the number of generations\n",
        "  g = 0\n",
        "  \n",
        "  # Begin the evolution\n",
        "  while g < generations:\n",
        "      # A new generation\n",
        "      g = g + 1\n",
        "      \n",
        "      # Select the next generation individuals\n",
        "      offspring = toolbox.select(pop, len(pop))\n",
        "      # Clone the selected individuals\n",
        "      offspring = list(map(toolbox.clone, offspring))\n",
        "      \n",
        "      # Apply crossover and mutation on the offspring\n",
        "      for child1, child2 in zip(offspring[::2], offspring[1::2]):\n",
        "          if random.random() < CXPB:\n",
        "              toolbox.mate(child1[0], child2[0])\n",
        "              del child1.fitness.values\n",
        "              del child2.fitness.values\n",
        "\n",
        "      for mutant in offspring:\n",
        "          if random.random() < MUTPB:\n",
        "              toolbox.mutate(mutant[0])\n",
        "              del mutant.fitness.values\n",
        "          \n",
        "      # Evaluate the individuals with an invalid fitness\n",
        "      invalid_ind = [ind for ind in offspring if not ind.fitness.valid]\n",
        "      fitnesses = map(toolbox.evaluate, invalid_ind)\n",
        "      for ind, fit in zip(invalid_ind, fitnesses):\n",
        "          ind.fitness.values = fit\n",
        "          \n",
        "      pop[:] = offspring\n",
        "      \n",
        "      # Gather all the fitnesses in one list and print the stats\n",
        "      fits = [ind.fitness.values[0] for ind in pop]\n",
        "      \n",
        "      length = len(pop)\n",
        "      mean = sum(fits) / length\n",
        "      sum2 = sum(x*x for x in fits)\n",
        "      std = abs(sum2 / length - mean**2)**0.5\n",
        "      \n",
        "      if g % 5 ==0:\n",
        "        print(\"-- Generation %i --\" % g, end='\\t')\n",
        "        print(min(fits), max(fits), mean, std)\n",
        "  \n",
        "  best = pop[np.argmin([toolbox.evaluate(x) for x in pop])]\n",
        "  torque = np.min([toolbox.evaluate(x) for x in pop])\n",
        "  return best, torque"
      ],
      "execution_count": null,
      "outputs": []
    },
    {
      "cell_type": "markdown",
      "metadata": {
        "id": "5UIjFC9mJ6qJ"
      },
      "source": [
        "## GA run"
      ]
    },
    {
      "cell_type": "code",
      "metadata": {
        "colab": {
          "base_uri": "https://localhost:8080/",
          "height": 452
        },
        "id": "oGZUYksLJ6qJ",
        "outputId": "33368403-4476-4476-cc67-1319b69074da"
      },
      "source": [
        "best_solutions[rotor_displacement], best_torque = main()"
      ],
      "execution_count": null,
      "outputs": [
        {
          "output_type": "stream",
          "text": [
            "-- Generation 5 --\t-21.989956865495472 -3.6385827689082286 -12.083116651839466 2.889341308695924\n",
            "-- Generation 10 --\t-26.05162940867761 -10.587507101876401 -20.01707297216883 2.4296523979644014\n",
            "-- Generation 15 --\t-27.604137653022036 -15.725731421494201 -24.345633410887764 1.9703250053698278\n",
            "-- Generation 20 --\t-28.229849950489385 -17.316507658739845 -26.62110597068546 1.4391378015935525\n",
            "-- Generation 25 --\t-28.229849950489385 -19.054973418175855 -27.369179451740354 1.2544418231049757\n",
            "-- Generation 30 --\t-28.229849950489385 -19.917409493058052 -27.40619587504669 1.2101332892503458\n",
            "-- Generation 35 --\t-28.229849950489385 -21.987081979029853 -27.458654804255016 1.1944694707306809\n"
          ],
          "name": "stdout"
        },
        {
          "output_type": "error",
          "ename": "KeyboardInterrupt",
          "evalue": "ignored",
          "traceback": [
            "\u001b[0;31m---------------------------------------------------------------------------\u001b[0m",
            "\u001b[0;31mKeyboardInterrupt\u001b[0m                         Traceback (most recent call last)",
            "\u001b[0;32m<ipython-input-65-16813dc94865>\u001b[0m in \u001b[0;36m<module>\u001b[0;34m()\u001b[0m\n\u001b[0;32m----> 1\u001b[0;31m \u001b[0mbest_solutions\u001b[0m\u001b[0;34m[\u001b[0m\u001b[0mrotor_displacement\u001b[0m\u001b[0;34m]\u001b[0m\u001b[0;34m,\u001b[0m \u001b[0mbest_torque\u001b[0m \u001b[0;34m=\u001b[0m \u001b[0mmain\u001b[0m\u001b[0;34m(\u001b[0m\u001b[0;34m)\u001b[0m\u001b[0;34m\u001b[0m\u001b[0;34m\u001b[0m\u001b[0m\n\u001b[0m",
            "\u001b[0;32m<ipython-input-64-a373f487bd3c>\u001b[0m in \u001b[0;36mmain\u001b[0;34m()\u001b[0m\n\u001b[1;32m     44\u001b[0m       \u001b[0minvalid_ind\u001b[0m \u001b[0;34m=\u001b[0m \u001b[0;34m[\u001b[0m\u001b[0mind\u001b[0m \u001b[0;32mfor\u001b[0m \u001b[0mind\u001b[0m \u001b[0;32min\u001b[0m \u001b[0moffspring\u001b[0m \u001b[0;32mif\u001b[0m \u001b[0;32mnot\u001b[0m \u001b[0mind\u001b[0m\u001b[0;34m.\u001b[0m\u001b[0mfitness\u001b[0m\u001b[0;34m.\u001b[0m\u001b[0mvalid\u001b[0m\u001b[0;34m]\u001b[0m\u001b[0;34m\u001b[0m\u001b[0;34m\u001b[0m\u001b[0m\n\u001b[1;32m     45\u001b[0m       \u001b[0mfitnesses\u001b[0m \u001b[0;34m=\u001b[0m \u001b[0mmap\u001b[0m\u001b[0;34m(\u001b[0m\u001b[0mtoolbox\u001b[0m\u001b[0;34m.\u001b[0m\u001b[0mevaluate\u001b[0m\u001b[0;34m,\u001b[0m \u001b[0minvalid_ind\u001b[0m\u001b[0;34m)\u001b[0m\u001b[0;34m\u001b[0m\u001b[0;34m\u001b[0m\u001b[0m\n\u001b[0;32m---> 46\u001b[0;31m       \u001b[0;32mfor\u001b[0m \u001b[0mind\u001b[0m\u001b[0;34m,\u001b[0m \u001b[0mfit\u001b[0m \u001b[0;32min\u001b[0m \u001b[0mzip\u001b[0m\u001b[0;34m(\u001b[0m\u001b[0minvalid_ind\u001b[0m\u001b[0;34m,\u001b[0m \u001b[0mfitnesses\u001b[0m\u001b[0;34m)\u001b[0m\u001b[0;34m:\u001b[0m\u001b[0;34m\u001b[0m\u001b[0;34m\u001b[0m\u001b[0m\n\u001b[0m\u001b[1;32m     47\u001b[0m           \u001b[0mind\u001b[0m\u001b[0;34m.\u001b[0m\u001b[0mfitness\u001b[0m\u001b[0;34m.\u001b[0m\u001b[0mvalues\u001b[0m \u001b[0;34m=\u001b[0m \u001b[0mfit\u001b[0m\u001b[0;34m\u001b[0m\u001b[0;34m\u001b[0m\u001b[0m\n\u001b[1;32m     48\u001b[0m \u001b[0;34m\u001b[0m\u001b[0m\n",
            "\u001b[0;32m<ipython-input-61-79d0241e265e>\u001b[0m in \u001b[0;36mevaluate\u001b[0;34m(individual)\u001b[0m\n\u001b[1;32m     80\u001b[0m     \u001b[0mdict_\u001b[0m\u001b[0;34m[\u001b[0m\u001b[0;34m'rotor_displacement'\u001b[0m\u001b[0;34m]\u001b[0m \u001b[0;34m=\u001b[0m \u001b[0mrotor_displacement\u001b[0m\u001b[0;34m\u001b[0m\u001b[0;34m\u001b[0m\u001b[0m\n\u001b[1;32m     81\u001b[0m     \u001b[0mdict_\u001b[0m\u001b[0;34m[\u001b[0m\u001b[0;34m'total_torque'\u001b[0m\u001b[0;34m]\u001b[0m \u001b[0;34m=\u001b[0m \u001b[0mtotal_torque\u001b[0m\u001b[0;34m\u001b[0m\u001b[0;34m\u001b[0m\u001b[0m\n\u001b[0;32m---> 82\u001b[0;31m     \u001b[0mdf_max_ACW_AE\u001b[0m \u001b[0;34m=\u001b[0m \u001b[0mdf_max_ACW_AE\u001b[0m\u001b[0;34m.\u001b[0m\u001b[0mappend\u001b[0m\u001b[0;34m(\u001b[0m\u001b[0mdict_\u001b[0m\u001b[0;34m,\u001b[0m \u001b[0mignore_index\u001b[0m\u001b[0;34m=\u001b[0m\u001b[0;32mTrue\u001b[0m\u001b[0;34m)\u001b[0m\u001b[0;34m\u001b[0m\u001b[0;34m\u001b[0m\u001b[0m\n\u001b[0m\u001b[1;32m     83\u001b[0m     \u001b[0;31m# df_max_ACW_AE.drop_duplicates(subset=cols[:-1], inplace=True, ignore_index = True)\u001b[0m\u001b[0;34m\u001b[0m\u001b[0;34m\u001b[0m\u001b[0;34m\u001b[0m\u001b[0m\n\u001b[1;32m     84\u001b[0m \u001b[0;34m\u001b[0m\u001b[0m\n",
            "\u001b[0;32m/usr/local/lib/python3.7/dist-packages/pandas/core/frame.py\u001b[0m in \u001b[0;36mappend\u001b[0;34m(self, other, ignore_index, verify_integrity, sort)\u001b[0m\n\u001b[1;32m   7749\u001b[0m             \u001b[0mignore_index\u001b[0m\u001b[0;34m=\u001b[0m\u001b[0mignore_index\u001b[0m\u001b[0;34m,\u001b[0m\u001b[0;34m\u001b[0m\u001b[0;34m\u001b[0m\u001b[0m\n\u001b[1;32m   7750\u001b[0m             \u001b[0mverify_integrity\u001b[0m\u001b[0;34m=\u001b[0m\u001b[0mverify_integrity\u001b[0m\u001b[0;34m,\u001b[0m\u001b[0;34m\u001b[0m\u001b[0;34m\u001b[0m\u001b[0m\n\u001b[0;32m-> 7751\u001b[0;31m             \u001b[0msort\u001b[0m\u001b[0;34m=\u001b[0m\u001b[0msort\u001b[0m\u001b[0;34m,\u001b[0m\u001b[0;34m\u001b[0m\u001b[0;34m\u001b[0m\u001b[0m\n\u001b[0m\u001b[1;32m   7752\u001b[0m         )\n\u001b[1;32m   7753\u001b[0m \u001b[0;34m\u001b[0m\u001b[0m\n",
            "\u001b[0;32m/usr/local/lib/python3.7/dist-packages/pandas/core/reshape/concat.py\u001b[0m in \u001b[0;36mconcat\u001b[0;34m(objs, axis, join, ignore_index, keys, levels, names, verify_integrity, sort, copy)\u001b[0m\n\u001b[1;32m    285\u001b[0m     )\n\u001b[1;32m    286\u001b[0m \u001b[0;34m\u001b[0m\u001b[0m\n\u001b[0;32m--> 287\u001b[0;31m     \u001b[0;32mreturn\u001b[0m \u001b[0mop\u001b[0m\u001b[0;34m.\u001b[0m\u001b[0mget_result\u001b[0m\u001b[0;34m(\u001b[0m\u001b[0;34m)\u001b[0m\u001b[0;34m\u001b[0m\u001b[0;34m\u001b[0m\u001b[0m\n\u001b[0m\u001b[1;32m    288\u001b[0m \u001b[0;34m\u001b[0m\u001b[0m\n\u001b[1;32m    289\u001b[0m \u001b[0;34m\u001b[0m\u001b[0m\n",
            "\u001b[0;32m/usr/local/lib/python3.7/dist-packages/pandas/core/reshape/concat.py\u001b[0m in \u001b[0;36mget_result\u001b[0;34m(self)\u001b[0m\n\u001b[1;32m    501\u001b[0m \u001b[0;34m\u001b[0m\u001b[0m\n\u001b[1;32m    502\u001b[0m             new_data = concatenate_block_managers(\n\u001b[0;32m--> 503\u001b[0;31m                 \u001b[0mmgrs_indexers\u001b[0m\u001b[0;34m,\u001b[0m \u001b[0mself\u001b[0m\u001b[0;34m.\u001b[0m\u001b[0mnew_axes\u001b[0m\u001b[0;34m,\u001b[0m \u001b[0mconcat_axis\u001b[0m\u001b[0;34m=\u001b[0m\u001b[0mself\u001b[0m\u001b[0;34m.\u001b[0m\u001b[0mbm_axis\u001b[0m\u001b[0;34m,\u001b[0m \u001b[0mcopy\u001b[0m\u001b[0;34m=\u001b[0m\u001b[0mself\u001b[0m\u001b[0;34m.\u001b[0m\u001b[0mcopy\u001b[0m\u001b[0;34m,\u001b[0m\u001b[0;34m\u001b[0m\u001b[0;34m\u001b[0m\u001b[0m\n\u001b[0m\u001b[1;32m    504\u001b[0m             )\n\u001b[1;32m    505\u001b[0m             \u001b[0;32mif\u001b[0m \u001b[0;32mnot\u001b[0m \u001b[0mself\u001b[0m\u001b[0;34m.\u001b[0m\u001b[0mcopy\u001b[0m\u001b[0;34m:\u001b[0m\u001b[0;34m\u001b[0m\u001b[0;34m\u001b[0m\u001b[0m\n",
            "\u001b[0;32m/usr/local/lib/python3.7/dist-packages/pandas/core/internals/concat.py\u001b[0m in \u001b[0;36mconcatenate_block_managers\u001b[0;34m(mgrs_indexers, axes, concat_axis, copy)\u001b[0m\n\u001b[1;32m     77\u001b[0m         \u001b[0;32melse\u001b[0m\u001b[0;34m:\u001b[0m\u001b[0;34m\u001b[0m\u001b[0;34m\u001b[0m\u001b[0m\n\u001b[1;32m     78\u001b[0m             b = make_block(\n\u001b[0;32m---> 79\u001b[0;31m                 \u001b[0m_concatenate_join_units\u001b[0m\u001b[0;34m(\u001b[0m\u001b[0mjoin_units\u001b[0m\u001b[0;34m,\u001b[0m \u001b[0mconcat_axis\u001b[0m\u001b[0;34m,\u001b[0m \u001b[0mcopy\u001b[0m\u001b[0;34m=\u001b[0m\u001b[0mcopy\u001b[0m\u001b[0;34m,\u001b[0m\u001b[0;34m)\u001b[0m\u001b[0;34m,\u001b[0m\u001b[0;34m\u001b[0m\u001b[0;34m\u001b[0m\u001b[0m\n\u001b[0m\u001b[1;32m     80\u001b[0m                 \u001b[0mplacement\u001b[0m\u001b[0;34m=\u001b[0m\u001b[0mplacement\u001b[0m\u001b[0;34m,\u001b[0m\u001b[0;34m\u001b[0m\u001b[0;34m\u001b[0m\u001b[0m\n\u001b[1;32m     81\u001b[0m             )\n",
            "\u001b[0;32m/usr/local/lib/python3.7/dist-packages/pandas/core/internals/concat.py\u001b[0m in \u001b[0;36m_concatenate_join_units\u001b[0;34m(join_units, concat_axis, copy)\u001b[0m\n\u001b[1;32m    344\u001b[0m             \u001b[0mconcat_values\u001b[0m \u001b[0;34m=\u001b[0m \u001b[0mnp\u001b[0m\u001b[0;34m.\u001b[0m\u001b[0matleast_2d\u001b[0m\u001b[0;34m(\u001b[0m\u001b[0mconcat_values\u001b[0m\u001b[0;34m)\u001b[0m\u001b[0;34m\u001b[0m\u001b[0;34m\u001b[0m\u001b[0m\n\u001b[1;32m    345\u001b[0m     \u001b[0;32melse\u001b[0m\u001b[0;34m:\u001b[0m\u001b[0;34m\u001b[0m\u001b[0;34m\u001b[0m\u001b[0m\n\u001b[0;32m--> 346\u001b[0;31m         \u001b[0mconcat_values\u001b[0m \u001b[0;34m=\u001b[0m \u001b[0mconcat_compat\u001b[0m\u001b[0;34m(\u001b[0m\u001b[0mto_concat\u001b[0m\u001b[0;34m,\u001b[0m \u001b[0maxis\u001b[0m\u001b[0;34m=\u001b[0m\u001b[0mconcat_axis\u001b[0m\u001b[0;34m,\u001b[0m\u001b[0;34m)\u001b[0m\u001b[0;34m\u001b[0m\u001b[0;34m\u001b[0m\u001b[0m\n\u001b[0m\u001b[1;32m    347\u001b[0m \u001b[0;34m\u001b[0m\u001b[0m\n\u001b[1;32m    348\u001b[0m     \u001b[0;32mreturn\u001b[0m \u001b[0mconcat_values\u001b[0m\u001b[0;34m\u001b[0m\u001b[0;34m\u001b[0m\u001b[0m\n",
            "\u001b[0;32m/usr/local/lib/python3.7/dist-packages/pandas/core/dtypes/concat.py\u001b[0m in \u001b[0;36mconcat_compat\u001b[0;34m(to_concat, axis)\u001b[0m\n\u001b[1;32m    178\u001b[0m                 \u001b[0mto_concat\u001b[0m \u001b[0;34m=\u001b[0m \u001b[0;34m[\u001b[0m\u001b[0mx\u001b[0m\u001b[0;34m.\u001b[0m\u001b[0mastype\u001b[0m\u001b[0;34m(\u001b[0m\u001b[0;34m\"object\"\u001b[0m\u001b[0;34m)\u001b[0m \u001b[0;32mfor\u001b[0m \u001b[0mx\u001b[0m \u001b[0;32min\u001b[0m \u001b[0mto_concat\u001b[0m\u001b[0;34m]\u001b[0m\u001b[0;34m\u001b[0m\u001b[0;34m\u001b[0m\u001b[0m\n\u001b[1;32m    179\u001b[0m \u001b[0;34m\u001b[0m\u001b[0m\n\u001b[0;32m--> 180\u001b[0;31m     \u001b[0;32mreturn\u001b[0m \u001b[0mnp\u001b[0m\u001b[0;34m.\u001b[0m\u001b[0mconcatenate\u001b[0m\u001b[0;34m(\u001b[0m\u001b[0mto_concat\u001b[0m\u001b[0;34m,\u001b[0m \u001b[0maxis\u001b[0m\u001b[0;34m=\u001b[0m\u001b[0maxis\u001b[0m\u001b[0;34m)\u001b[0m\u001b[0;34m\u001b[0m\u001b[0;34m\u001b[0m\u001b[0m\n\u001b[0m\u001b[1;32m    181\u001b[0m \u001b[0;34m\u001b[0m\u001b[0m\n\u001b[1;32m    182\u001b[0m \u001b[0;34m\u001b[0m\u001b[0m\n",
            "\u001b[0;32m<__array_function__ internals>\u001b[0m in \u001b[0;36mconcatenate\u001b[0;34m(*args, **kwargs)\u001b[0m\n",
            "\u001b[0;31mKeyboardInterrupt\u001b[0m: "
          ]
        }
      ]
    },
    {
      "cell_type": "code",
      "metadata": {
        "id": "7NdtZFvCnnTp",
        "colab": {
          "base_uri": "https://localhost:8080/"
        },
        "outputId": "162a9fe9-7868-48f9-da87-cb985be89dc6"
      },
      "source": [
        "rotor_displacement"
      ],
      "execution_count": null,
      "outputs": [
        {
          "output_type": "execute_result",
          "data": {
            "text/plain": [
              "0.0"
            ]
          },
          "metadata": {},
          "execution_count": 81
        }
      ]
    },
    {
      "cell_type": "code",
      "metadata": {
        "colab": {
          "base_uri": "https://localhost:8080/",
          "height": 202
        },
        "id": "AdotDIA3J6qJ",
        "outputId": "61f16640-c93e-483a-c358-f1225cdf4041"
      },
      "source": [
        "df_max_ACW_AE.head()"
      ],
      "execution_count": null,
      "outputs": [
        {
          "output_type": "execute_result",
          "data": {
            "text/html": [
              "<div>\n",
              "<style scoped>\n",
              "    .dataframe tbody tr th:only-of-type {\n",
              "        vertical-align: middle;\n",
              "    }\n",
              "\n",
              "    .dataframe tbody tr th {\n",
              "        vertical-align: top;\n",
              "    }\n",
              "\n",
              "    .dataframe thead th {\n",
              "        text-align: right;\n",
              "    }\n",
              "</style>\n",
              "<table border=\"1\" class=\"dataframe\">\n",
              "  <thead>\n",
              "    <tr style=\"text-align: right;\">\n",
              "      <th></th>\n",
              "      <th>I_S1</th>\n",
              "      <th>I_S2</th>\n",
              "      <th>I_S3</th>\n",
              "      <th>I_S4</th>\n",
              "      <th>I_S5</th>\n",
              "      <th>I_S6</th>\n",
              "      <th>I_S7</th>\n",
              "      <th>I_S8</th>\n",
              "      <th>I_S9</th>\n",
              "      <th>I_S10</th>\n",
              "      <th>I_S11</th>\n",
              "      <th>I_S12</th>\n",
              "      <th>I_S13</th>\n",
              "      <th>I_S14</th>\n",
              "      <th>I_S15</th>\n",
              "      <th>I_S16</th>\n",
              "      <th>I_S17</th>\n",
              "      <th>I_S18</th>\n",
              "      <th>I_S19</th>\n",
              "      <th>I_S20</th>\n",
              "      <th>I_S21</th>\n",
              "      <th>I_S22</th>\n",
              "      <th>I_S23</th>\n",
              "      <th>I_S24</th>\n",
              "      <th>I_S25</th>\n",
              "      <th>I_S26</th>\n",
              "      <th>I_S27</th>\n",
              "      <th>I_S28</th>\n",
              "      <th>I_S29</th>\n",
              "      <th>I_S30</th>\n",
              "      <th>I_S31</th>\n",
              "      <th>I_R3</th>\n",
              "      <th>I_R4</th>\n",
              "      <th>rotor_displacement</th>\n",
              "      <th>total_torque</th>\n",
              "    </tr>\n",
              "  </thead>\n",
              "  <tbody>\n",
              "    <tr>\n",
              "      <th>0</th>\n",
              "      <td>-2</td>\n",
              "      <td>-2</td>\n",
              "      <td>2</td>\n",
              "      <td>0</td>\n",
              "      <td>0</td>\n",
              "      <td>-2</td>\n",
              "      <td>2</td>\n",
              "      <td>0</td>\n",
              "      <td>2</td>\n",
              "      <td>0</td>\n",
              "      <td>0</td>\n",
              "      <td>0</td>\n",
              "      <td>0</td>\n",
              "      <td>-2</td>\n",
              "      <td>-2</td>\n",
              "      <td>2</td>\n",
              "      <td>2</td>\n",
              "      <td>0</td>\n",
              "      <td>2</td>\n",
              "      <td>2</td>\n",
              "      <td>2</td>\n",
              "      <td>2</td>\n",
              "      <td>-2</td>\n",
              "      <td>0</td>\n",
              "      <td>-2</td>\n",
              "      <td>-2</td>\n",
              "      <td>0</td>\n",
              "      <td>0</td>\n",
              "      <td>2</td>\n",
              "      <td>NaN</td>\n",
              "      <td>NaN</td>\n",
              "      <td>0</td>\n",
              "      <td>2</td>\n",
              "      <td>0.0</td>\n",
              "      <td>NaN</td>\n",
              "    </tr>\n",
              "    <tr>\n",
              "      <th>1</th>\n",
              "      <td>-2</td>\n",
              "      <td>2</td>\n",
              "      <td>0</td>\n",
              "      <td>2</td>\n",
              "      <td>2</td>\n",
              "      <td>2</td>\n",
              "      <td>0</td>\n",
              "      <td>-2</td>\n",
              "      <td>0</td>\n",
              "      <td>-2</td>\n",
              "      <td>-2</td>\n",
              "      <td>0</td>\n",
              "      <td>-2</td>\n",
              "      <td>0</td>\n",
              "      <td>2</td>\n",
              "      <td>2</td>\n",
              "      <td>0</td>\n",
              "      <td>0</td>\n",
              "      <td>-2</td>\n",
              "      <td>0</td>\n",
              "      <td>0</td>\n",
              "      <td>2</td>\n",
              "      <td>-2</td>\n",
              "      <td>2</td>\n",
              "      <td>0</td>\n",
              "      <td>-2</td>\n",
              "      <td>2</td>\n",
              "      <td>2</td>\n",
              "      <td>-2</td>\n",
              "      <td>NaN</td>\n",
              "      <td>NaN</td>\n",
              "      <td>-2</td>\n",
              "      <td>2</td>\n",
              "      <td>0.0</td>\n",
              "      <td>-2.300055</td>\n",
              "    </tr>\n",
              "    <tr>\n",
              "      <th>2</th>\n",
              "      <td>0</td>\n",
              "      <td>2</td>\n",
              "      <td>-2</td>\n",
              "      <td>0</td>\n",
              "      <td>0</td>\n",
              "      <td>-2</td>\n",
              "      <td>2</td>\n",
              "      <td>-2</td>\n",
              "      <td>2</td>\n",
              "      <td>2</td>\n",
              "      <td>-2</td>\n",
              "      <td>0</td>\n",
              "      <td>2</td>\n",
              "      <td>2</td>\n",
              "      <td>2</td>\n",
              "      <td>0</td>\n",
              "      <td>-2</td>\n",
              "      <td>-2</td>\n",
              "      <td>0</td>\n",
              "      <td>0</td>\n",
              "      <td>-2</td>\n",
              "      <td>-2</td>\n",
              "      <td>0</td>\n",
              "      <td>-2</td>\n",
              "      <td>0</td>\n",
              "      <td>2</td>\n",
              "      <td>0</td>\n",
              "      <td>-2</td>\n",
              "      <td>0</td>\n",
              "      <td>NaN</td>\n",
              "      <td>NaN</td>\n",
              "      <td>-2</td>\n",
              "      <td>2</td>\n",
              "      <td>0.0</td>\n",
              "      <td>4.303081</td>\n",
              "    </tr>\n",
              "    <tr>\n",
              "      <th>3</th>\n",
              "      <td>0</td>\n",
              "      <td>0</td>\n",
              "      <td>-2</td>\n",
              "      <td>2</td>\n",
              "      <td>0</td>\n",
              "      <td>2</td>\n",
              "      <td>-2</td>\n",
              "      <td>2</td>\n",
              "      <td>2</td>\n",
              "      <td>2</td>\n",
              "      <td>-2</td>\n",
              "      <td>2</td>\n",
              "      <td>2</td>\n",
              "      <td>0</td>\n",
              "      <td>2</td>\n",
              "      <td>0</td>\n",
              "      <td>-2</td>\n",
              "      <td>-2</td>\n",
              "      <td>0</td>\n",
              "      <td>-2</td>\n",
              "      <td>0</td>\n",
              "      <td>2</td>\n",
              "      <td>0</td>\n",
              "      <td>2</td>\n",
              "      <td>0</td>\n",
              "      <td>0</td>\n",
              "      <td>2</td>\n",
              "      <td>2</td>\n",
              "      <td>-2</td>\n",
              "      <td>NaN</td>\n",
              "      <td>NaN</td>\n",
              "      <td>-2</td>\n",
              "      <td>2</td>\n",
              "      <td>0.0</td>\n",
              "      <td>-6.140348</td>\n",
              "    </tr>\n",
              "    <tr>\n",
              "      <th>4</th>\n",
              "      <td>0</td>\n",
              "      <td>-2</td>\n",
              "      <td>2</td>\n",
              "      <td>0</td>\n",
              "      <td>0</td>\n",
              "      <td>-2</td>\n",
              "      <td>-2</td>\n",
              "      <td>-2</td>\n",
              "      <td>2</td>\n",
              "      <td>0</td>\n",
              "      <td>0</td>\n",
              "      <td>2</td>\n",
              "      <td>0</td>\n",
              "      <td>2</td>\n",
              "      <td>0</td>\n",
              "      <td>2</td>\n",
              "      <td>-2</td>\n",
              "      <td>2</td>\n",
              "      <td>2</td>\n",
              "      <td>2</td>\n",
              "      <td>0</td>\n",
              "      <td>2</td>\n",
              "      <td>2</td>\n",
              "      <td>0</td>\n",
              "      <td>0</td>\n",
              "      <td>2</td>\n",
              "      <td>2</td>\n",
              "      <td>-2</td>\n",
              "      <td>2</td>\n",
              "      <td>NaN</td>\n",
              "      <td>NaN</td>\n",
              "      <td>-2</td>\n",
              "      <td>2</td>\n",
              "      <td>0.0</td>\n",
              "      <td>0.633303</td>\n",
              "    </tr>\n",
              "  </tbody>\n",
              "</table>\n",
              "</div>"
            ],
            "text/plain": [
              "  I_S1 I_S2 I_S3 I_S4 I_S5  ... I_S31 I_R3 I_R4 rotor_displacement total_torque\n",
              "0   -2   -2    2    0    0  ...   NaN    0    2                0.0          NaN\n",
              "1   -2    2    0    2    2  ...   NaN   -2    2                0.0    -2.300055\n",
              "2    0    2   -2    0    0  ...   NaN   -2    2                0.0     4.303081\n",
              "3    0    0   -2    2    0  ...   NaN   -2    2                0.0    -6.140348\n",
              "4    0   -2    2    0    0  ...   NaN   -2    2                0.0     0.633303\n",
              "\n",
              "[5 rows x 35 columns]"
            ]
          },
          "metadata": {},
          "execution_count": 66
        }
      ]
    },
    {
      "cell_type": "code",
      "metadata": {
        "id": "wSqgZ52ZJ6qJ"
      },
      "source": [
        "df_max_ACW_AE.to_csv('df_max_ACW_AE.csv')"
      ],
      "execution_count": null,
      "outputs": []
    },
    {
      "cell_type": "code",
      "metadata": {
        "colab": {
          "base_uri": "https://localhost:8080/",
          "height": 16
        },
        "id": "8fDq31VuJ6qJ",
        "outputId": "81d6b0e1-d8b9-4660-b552-ae8304c26a13"
      },
      "source": [
        "from google.colab import files\n",
        "files.download('df_max_ACW_AE.csv')"
      ],
      "execution_count": null,
      "outputs": [
        {
          "output_type": "display_data",
          "data": {
            "application/javascript": [
              "\n",
              "    async function download(id, filename, size) {\n",
              "      if (!google.colab.kernel.accessAllowed) {\n",
              "        return;\n",
              "      }\n",
              "      const div = document.createElement('div');\n",
              "      const label = document.createElement('label');\n",
              "      label.textContent = `Downloading \"${filename}\": `;\n",
              "      div.appendChild(label);\n",
              "      const progress = document.createElement('progress');\n",
              "      progress.max = size;\n",
              "      div.appendChild(progress);\n",
              "      document.body.appendChild(div);\n",
              "\n",
              "      const buffers = [];\n",
              "      let downloaded = 0;\n",
              "\n",
              "      const channel = await google.colab.kernel.comms.open(id);\n",
              "      // Send a message to notify the kernel that we're ready.\n",
              "      channel.send({})\n",
              "\n",
              "      for await (const message of channel.messages) {\n",
              "        // Send a message to notify the kernel that we're ready.\n",
              "        channel.send({})\n",
              "        if (message.buffers) {\n",
              "          for (const buffer of message.buffers) {\n",
              "            buffers.push(buffer);\n",
              "            downloaded += buffer.byteLength;\n",
              "            progress.value = downloaded;\n",
              "          }\n",
              "        }\n",
              "      }\n",
              "      const blob = new Blob(buffers, {type: 'application/binary'});\n",
              "      const a = document.createElement('a');\n",
              "      a.href = window.URL.createObjectURL(blob);\n",
              "      a.download = filename;\n",
              "      div.appendChild(a);\n",
              "      a.click();\n",
              "      div.remove();\n",
              "    }\n",
              "  "
            ],
            "text/plain": [
              "<IPython.core.display.Javascript object>"
            ]
          },
          "metadata": {}
        },
        {
          "output_type": "display_data",
          "data": {
            "application/javascript": [
              "download(\"download_8f0d4c64-e768-4912-a7dd-a324e656a50c\", \"df_max_ACW_AE.csv\", 1817070)"
            ],
            "text/plain": [
              "<IPython.core.display.Javascript object>"
            ]
          },
          "metadata": {}
        }
      ]
    },
    {
      "cell_type": "code",
      "metadata": {
        "id": "McJzBCvUzeV5"
      },
      "source": [],
      "execution_count": null,
      "outputs": []
    },
    {
      "cell_type": "markdown",
      "metadata": {
        "id": "oFyw8oIKKMV7"
      },
      "source": [
        "# GA Maximize CW"
      ]
    },
    {
      "cell_type": "code",
      "metadata": {
        "id": "eAXrJzxNKQPr"
      },
      "source": [],
      "execution_count": null,
      "outputs": []
    },
    {
      "cell_type": "markdown",
      "metadata": {
        "id": "rhXL1HYmOLAt"
      },
      "source": [
        "# GA - Maximize - CW"
      ]
    },
    {
      "cell_type": "markdown",
      "metadata": {
        "id": "Oa7U0TP_OLAz"
      },
      "source": [
        "## Evaluation"
      ]
    },
    {
      "cell_type": "code",
      "metadata": {
        "colab": {
          "base_uri": "https://localhost:8080/"
        },
        "id": "dkAJsSDZOLAz",
        "outputId": "fae9e32b-acd0-488d-ad61-0b9400dd4e3c"
      },
      "source": [
        "!pip install deap"
      ],
      "execution_count": null,
      "outputs": [
        {
          "output_type": "stream",
          "text": [
            "Requirement already satisfied: deap in /usr/local/lib/python3.7/dist-packages (1.3.1)\n",
            "Requirement already satisfied: numpy in /usr/local/lib/python3.7/dist-packages (from deap) (1.19.5)\n"
          ],
          "name": "stdout"
        }
      ]
    },
    {
      "cell_type": "code",
      "metadata": {
        "id": "i_Yb_A2bOLAz"
      },
      "source": [
        "import random\n",
        "from deap import base\n",
        "from deap import creator\n",
        "from deap import tools\n"
      ],
      "execution_count": null,
      "outputs": []
    },
    {
      "cell_type": "code",
      "metadata": {
        "id": "PlGzBpqoOLAz"
      },
      "source": [
        "best_solutions = {}\n",
        "optimal_torque_values = {}\n",
        "stator_exc = None"
      ],
      "execution_count": null,
      "outputs": []
    },
    {
      "cell_type": "code",
      "metadata": {
        "id": "bT1r8mnJOLAz"
      },
      "source": [
        "stator_exc = None"
      ],
      "execution_count": null,
      "outputs": []
    },
    {
      "cell_type": "code",
      "metadata": {
        "id": "gFbjc5nnOLAz"
      },
      "source": [
        "cols = ['I_S' + str(i+1) for i in range(31)]\n",
        "cols.append('I_R3')\n",
        "cols.append('I_R4')\n",
        "\n",
        "cols.append('rotor_displacement')\n",
        "cols.append('total_torque')\n",
        "\n",
        "df_max_CW_AE = pd.DataFrame(columns=cols)"
      ],
      "execution_count": null,
      "outputs": []
    },
    {
      "cell_type": "code",
      "metadata": {
        "id": "itxdaYAyOLAz"
      },
      "source": [
        "# global df_ae"
      ],
      "execution_count": null,
      "outputs": []
    },
    {
      "cell_type": "code",
      "metadata": {
        "colab": {
          "base_uri": "https://localhost:8080/"
        },
        "id": "zRz1P0bOOLAz",
        "outputId": "d246dfcd-4a38-4de9-c0ba-2e8594b8839a"
      },
      "source": [
        "df_max_CW_AE.head()"
      ],
      "execution_count": null,
      "outputs": [
        {
          "output_type": "execute_result",
          "data": {
            "text/html": [
              "<div>\n",
              "<style scoped>\n",
              "    .dataframe tbody tr th:only-of-type {\n",
              "        vertical-align: middle;\n",
              "    }\n",
              "\n",
              "    .dataframe tbody tr th {\n",
              "        vertical-align: top;\n",
              "    }\n",
              "\n",
              "    .dataframe thead th {\n",
              "        text-align: right;\n",
              "    }\n",
              "</style>\n",
              "<table border=\"1\" class=\"dataframe\">\n",
              "  <thead>\n",
              "    <tr style=\"text-align: right;\">\n",
              "      <th></th>\n",
              "      <th>I_S1</th>\n",
              "      <th>I_S2</th>\n",
              "      <th>I_S3</th>\n",
              "      <th>I_S4</th>\n",
              "      <th>I_S5</th>\n",
              "      <th>I_S6</th>\n",
              "      <th>I_S7</th>\n",
              "      <th>I_S8</th>\n",
              "      <th>I_S9</th>\n",
              "      <th>I_S10</th>\n",
              "      <th>I_S11</th>\n",
              "      <th>I_S12</th>\n",
              "      <th>I_S13</th>\n",
              "      <th>I_S14</th>\n",
              "      <th>I_S15</th>\n",
              "      <th>I_S16</th>\n",
              "      <th>I_S17</th>\n",
              "      <th>I_S18</th>\n",
              "      <th>I_S19</th>\n",
              "      <th>I_S20</th>\n",
              "      <th>I_S21</th>\n",
              "      <th>I_S22</th>\n",
              "      <th>I_S23</th>\n",
              "      <th>I_S24</th>\n",
              "      <th>I_S25</th>\n",
              "      <th>I_S26</th>\n",
              "      <th>I_S27</th>\n",
              "      <th>I_S28</th>\n",
              "      <th>I_S29</th>\n",
              "      <th>I_S30</th>\n",
              "      <th>I_S31</th>\n",
              "      <th>I_R3</th>\n",
              "      <th>I_R4</th>\n",
              "      <th>rotor_displacement</th>\n",
              "      <th>total_torque</th>\n",
              "    </tr>\n",
              "  </thead>\n",
              "  <tbody>\n",
              "  </tbody>\n",
              "</table>\n",
              "</div>"
            ],
            "text/plain": [
              "Empty DataFrame\n",
              "Columns: [I_S1, I_S2, I_S3, I_S4, I_S5, I_S6, I_S7, I_S8, I_S9, I_S10, I_S11, I_S12, I_S13, I_S14, I_S15, I_S16, I_S17, I_S18, I_S19, I_S20, I_S21, I_S22, I_S23, I_S24, I_S25, I_S26, I_S27, I_S28, I_S29, I_S30, I_S31, I_R3, I_R4, rotor_displacement, total_torque]\n",
              "Index: []"
            ]
          },
          "metadata": {
            "tags": []
          },
          "execution_count": 333
        }
      ]
    },
    {
      "cell_type": "markdown",
      "metadata": {
        "id": "ZamMRz1FOLA0"
      },
      "source": [
        "## Iterate from here for different ```rotor_displacement``` positions\n",
        "\n"
      ]
    },
    {
      "cell_type": "code",
      "metadata": {
        "id": "X-WLsRbnOLA0"
      },
      "source": [
        "rotor_displacement = 0.0\n",
        "generations = 40"
      ],
      "execution_count": null,
      "outputs": []
    },
    {
      "cell_type": "markdown",
      "metadata": {
        "id": "C9yCFAPUOLA0"
      },
      "source": [
        "## From Previous Analysis"
      ]
    },
    {
      "cell_type": "code",
      "metadata": {
        "id": "hsMESUeAOLA0"
      },
      "source": [
        "class Rotor_Node:    \n",
        "  def __init__(self,rot_id, posn):  \n",
        "    self.rot_id = rot_id  \n",
        "    self.posn = posn\n",
        "    self.excitation = -2*((-1)**self.rot_id)\n",
        "    self.proximal_stator_poles = {}\n",
        "    self.hist_of_exc = {}\n",
        "\n",
        "    self.prev = None\n",
        "    self.next = None\n",
        "\n",
        "class CreateRotorCircList:    \n",
        "  #Declaring head and tail pointer as null.    \n",
        "  def __init__(self):\n",
        "    self.head = Rotor_Node(0, None)    \n",
        "    self.tail = Rotor_Node(0, None)  \n",
        "    self.head.next = self.tail\n",
        "    self.head.prev = self.tail   \n",
        "    self.tail.next = self.head\n",
        "    self.tail.prev = self.head\n",
        "        \n",
        "  #This function will add the new node at the end of the list.    \n",
        "  def add(self, rot_id, posn, stat_positions):    \n",
        "    \n",
        "    newNode = Rotor_Node(rot_id, posn)\n",
        "    newNode.excitation = -2*((-1)**rot_id)\n",
        "    self.calculate_stator_proximity(newNode, stat_positions)\n",
        "\n",
        "    #Checks if the list is empty.    \n",
        "    if self.head.posn is None:    \n",
        "      #If list is empty, both head and tail would point to new node.    \n",
        "      self.head = newNode    \n",
        "      self.tail = newNode    \n",
        "      newNode.next = self.head\n",
        "      newNode.prev = self.tail\n",
        "    else:    \n",
        "      temp = self.tail\n",
        "      #tail will point to new node.    \n",
        "      self.tail.next = newNode;    \n",
        "      #New node will become new tail.    \n",
        "      self.tail = newNode;    \n",
        "      #Since, it is circular linked list tail will point to head.    \n",
        "      self.tail.next = self.head;\n",
        "      self.tail.prev = temp  \n",
        "      self.head.prev = self.tail   \n",
        "\n",
        "  def calculate_stator_proximity(self, newNode, stat_positions):\n",
        "    # print(type(rot_positions))\n",
        "    # print(rot_position)\n",
        "    # print(newNode.posn)\n",
        "    \n",
        "    abs_diff1 = [abs(sp - newNode.posn) for sp in stat_positions]\n",
        "    diff1 = [sp - newNode.posn for sp in stat_positions]\n",
        "    \n",
        "    negative_stat_positions = [abs(sp - 360) for sp in stat_positions]\n",
        "    abs_diff2 = [abs(sp + newNode.posn) for sp in negative_stat_positions]\n",
        "    diff2 = [-1*(sp + newNode.posn) for sp in negative_stat_positions]\n",
        "\n",
        "    for inx in range(len(diff1)):\n",
        "      # if newNode.posn == 0.0:\n",
        "      #   if abs_diff1[inx] < abs_diff2[inx]:\n",
        "      #     newNode.proximal_stator_poles[inx] = diff1[inx]\n",
        "      #   else:\n",
        "      #     newNode.proximal_stator_poles[inx] = diff2[inx]\n",
        "      # else:\n",
        "      #   newNode.proximal_stator_poles[inx] = diff1[inx]\n",
        "\n",
        "      \n",
        "      if abs_diff1[inx] < abs_diff2[inx]:\n",
        "          newNode.proximal_stator_poles[inx] = diff1[inx]\n",
        "      else:\n",
        "        newNode.proximal_stator_poles[inx] = diff2[inx]\n",
        "    \n",
        "      # if newNode.rot_id != 29:\n",
        "      # else:\n",
        "\n",
        "\n",
        "    newNode.proximal_stator_poles = {key:val for key, val in newNode.proximal_stator_poles.items() if val <= 11.6 and val >= -11.6}\n",
        "    key = None\n",
        "    if len(newNode.proximal_stator_poles) == 1:\n",
        "      key = [*newNode.proximal_stator_poles]\n",
        "      print(key)\n",
        "    if key != None:\n",
        "      if key[0] != 30:\n",
        "        newNode.proximal_stator_poles[key[0]+1] = fixed_stator_positions[1] - abs(newNode.proximal_stator_poles[key[0]])\n",
        "      else:\n",
        "        newNode.proximal_stator_poles[0] = fixed_stator_positions[1] - abs(newNode.proximal_stator_poles[key[0]])\n",
        "\n",
        "  #Displays all the nodes in the list    \n",
        "  def display(self):    \n",
        "    current = self.head;    \n",
        "    if self.head is None:    \n",
        "      print(\"List is empty\");    \n",
        "      return;    \n",
        "    else:    \n",
        "        print(\"Nodes of the circular linked list: \");    \n",
        "        #Prints each node by incrementing pointer.    \n",
        "        print(current.posn),    \n",
        "        while(current.next != self.head):    \n",
        "            current = current.next;    \n",
        "            print(current.posn),    \n",
        "\n",
        "  def len(self):\n",
        "    print(self.tail.stat_id)"
      ],
      "execution_count": null,
      "outputs": []
    },
    {
      "cell_type": "code",
      "metadata": {
        "colab": {
          "base_uri": "https://localhost:8080/"
        },
        "id": "gMqe2py6OLA0",
        "outputId": "cb33c07d-1729-4456-9366-659f3b37358b"
      },
      "source": [
        "fixed_stator_positions = np.linspace(0,360,32)\n",
        "fixed_stator_positions = fixed_stator_positions[:-1]\n",
        "fixed_stator_positions"
      ],
      "execution_count": null,
      "outputs": [
        {
          "output_type": "execute_result",
          "data": {
            "text/plain": [
              "array([  0.        ,  11.61290323,  23.22580645,  34.83870968,\n",
              "        46.4516129 ,  58.06451613,  69.67741935,  81.29032258,\n",
              "        92.90322581, 104.51612903, 116.12903226, 127.74193548,\n",
              "       139.35483871, 150.96774194, 162.58064516, 174.19354839,\n",
              "       185.80645161, 197.41935484, 209.03225806, 220.64516129,\n",
              "       232.25806452, 243.87096774, 255.48387097, 267.09677419,\n",
              "       278.70967742, 290.32258065, 301.93548387, 313.5483871 ,\n",
              "       325.16129032, 336.77419355, 348.38709677])"
            ]
          },
          "metadata": {
            "tags": []
          },
          "execution_count": 336
        }
      ]
    },
    {
      "cell_type": "code",
      "metadata": {
        "id": "9t3fTW_yOLA0"
      },
      "source": [
        "diff_discretization = 360/30 - 360/31\n",
        "\n",
        "rotor_displacement_to_check_np = np.linspace(0, 3*diff_discretization, 7)\n",
        "rotor_displacement_to_check_list = rotor_displacement_to_check_np.tolist()\n",
        "# rotor_displacement_to_check_list += [i*3 for i in rotor_displacement_to_check_list if i*2 not in rotor_displacement_to_check_list]\n",
        "rotor_displacement_to_check_list = rotor_displacement_to_check_list + [i/2 for i in range(1, 22)]\n"
      ],
      "execution_count": null,
      "outputs": []
    },
    {
      "cell_type": "code",
      "metadata": {
        "id": "BmXr1eevOLA0"
      },
      "source": [
        "rotor_positions = np.linspace(0,360,31)\n",
        "rotor_positions = rotor_positions[:-1]\n",
        "\n",
        "rotor_posn_exc_config = {key:-2*(-1)**(inx) for inx, key in enumerate(rotor_positions)}\n",
        "\n",
        "rotor_posn_exc_config_df = pd.Series(rotor_posn_exc_config, index=rotor_posn_exc_config.keys(), name='Rotor_global_config')\n"
      ],
      "execution_count": null,
      "outputs": []
    },
    {
      "cell_type": "code",
      "metadata": {
        "id": "xKtZlO4jOLA0"
      },
      "source": [
        "distint_rotor_position = pd.unique(problem_df['rotor_angle'])\n"
      ],
      "execution_count": null,
      "outputs": []
    },
    {
      "cell_type": "code",
      "metadata": {
        "id": "cIQuLJbNOLA0"
      },
      "source": [
        "rotor_posn_exc_T_config_df = rotor_posn_exc_config_df.to_frame()\n",
        "\n",
        "for rot_position in distint_rotor_position:\n",
        "  rotor_posn_exc_T_config_df[rot_position] = 0"
      ],
      "execution_count": null,
      "outputs": []
    },
    {
      "cell_type": "code",
      "metadata": {
        "colab": {
          "base_uri": "https://localhost:8080/"
        },
        "id": "U1b8PV0HOLA0",
        "outputId": "9943ab0a-5dd4-43ae-fc06-d6216c7396b9"
      },
      "source": [
        "len(fixed_stator_positions)"
      ],
      "execution_count": null,
      "outputs": [
        {
          "output_type": "execute_result",
          "data": {
            "text/plain": [
              "31"
            ]
          },
          "metadata": {
            "tags": []
          },
          "execution_count": 341
        }
      ]
    },
    {
      "cell_type": "code",
      "metadata": {
        "colab": {
          "base_uri": "https://localhost:8080/"
        },
        "id": "CrejC5-MOLA0",
        "outputId": "89d9f017-622b-461b-eaf8-b754f610d506"
      },
      "source": [
        "sp = fixed_stator_positions\n",
        "sp = sp.tolist()\n",
        "\n",
        "# for rotor_displacement in rotor_displacement_to_check_list:\n",
        "rotor_cll = CreateRotorCircList()\n",
        "\n",
        "for inx, rot_posn in enumerate(rotor_posn_exc_T_config_df.index):\n",
        "  rotor_cll.add(inx, rot_posn + rotor_displacement, sp)\n"
      ],
      "execution_count": null,
      "outputs": [
        {
          "output_type": "stream",
          "text": [
            "[0]\n"
          ],
          "name": "stdout"
        }
      ]
    },
    {
      "cell_type": "markdown",
      "metadata": {
        "id": "CzPi-tSVOLA0"
      },
      "source": [
        "## GA Maximize CW\n"
      ]
    },
    {
      "cell_type": "code",
      "metadata": {
        "id": "P9fM85IAOLA0"
      },
      "source": [
        "# the random initialization of the genetic algorithm is done here\n",
        "# it gives a list of integers with for each products the number of times it is bought\n",
        "\n",
        "def n_per_product():\n",
        "  return random.choices([-2, -1, 0, 1, 2], k = 33)"
      ],
      "execution_count": null,
      "outputs": []
    },
    {
      "cell_type": "code",
      "metadata": {
        "colab": {
          "base_uri": "https://localhost:8080/"
        },
        "id": "BiO6spB0OLA1",
        "outputId": "9892a6c1-35c1-4f2e-c870-2c11da841920"
      },
      "source": [
        "a = n_per_product()\n",
        "len(a)"
      ],
      "execution_count": null,
      "outputs": [
        {
          "output_type": "execute_result",
          "data": {
            "text/plain": [
              "33"
            ]
          },
          "metadata": {
            "tags": []
          },
          "execution_count": 344
        }
      ]
    },
    {
      "cell_type": "code",
      "metadata": {
        "colab": {
          "base_uri": "https://localhost:8080/"
        },
        "id": "2yRMLQtVOLA1",
        "outputId": "fcbce86b-b76d-426c-e36d-cc1f9c8c8658"
      },
      "source": [
        "dict_ = {'I_S' + str(inx+1):str(cur) for inx, cur in enumerate(a[:-2])}\n",
        "dict_['I_R3'] = a[-2]\n",
        "dict_['I_R4'] = a[-1]\n",
        "\n",
        "dict_['rotor_displacement'] = rotor_displacement\n",
        "dict_['total_torque'] = np.nan\n",
        "dict_"
      ],
      "execution_count": null,
      "outputs": [
        {
          "output_type": "execute_result",
          "data": {
            "text/plain": [
              "{'I_R3': -1,\n",
              " 'I_R4': -2,\n",
              " 'I_S1': '0',\n",
              " 'I_S10': '-1',\n",
              " 'I_S11': '0',\n",
              " 'I_S12': '1',\n",
              " 'I_S13': '1',\n",
              " 'I_S14': '-1',\n",
              " 'I_S15': '1',\n",
              " 'I_S16': '-2',\n",
              " 'I_S17': '0',\n",
              " 'I_S18': '1',\n",
              " 'I_S19': '0',\n",
              " 'I_S2': '-1',\n",
              " 'I_S20': '-2',\n",
              " 'I_S21': '-1',\n",
              " 'I_S22': '-2',\n",
              " 'I_S23': '-2',\n",
              " 'I_S24': '-2',\n",
              " 'I_S25': '1',\n",
              " 'I_S26': '1',\n",
              " 'I_S27': '0',\n",
              " 'I_S28': '1',\n",
              " 'I_S29': '0',\n",
              " 'I_S3': '0',\n",
              " 'I_S30': '0',\n",
              " 'I_S31': '0',\n",
              " 'I_S4': '2',\n",
              " 'I_S5': '-2',\n",
              " 'I_S6': '0',\n",
              " 'I_S7': '2',\n",
              " 'I_S8': '2',\n",
              " 'I_S9': '0',\n",
              " 'rotor_displacement': 0.0,\n",
              " 'total_torque': nan}"
            ]
          },
          "metadata": {
            "tags": []
          },
          "execution_count": 345
        }
      ]
    },
    {
      "cell_type": "code",
      "metadata": {
        "colab": {
          "base_uri": "https://localhost:8080/"
        },
        "id": "En7xU2uJOLA1",
        "outputId": "0c0a5fa0-b314-45af-e58d-b04e133e866d"
      },
      "source": [
        "df_max_CW_AE = df_max_CW_AE.append(dict_, ignore_index=True)\n",
        "df_max_CW_AE.head()"
      ],
      "execution_count": null,
      "outputs": [
        {
          "output_type": "execute_result",
          "data": {
            "text/html": [
              "<div>\n",
              "<style scoped>\n",
              "    .dataframe tbody tr th:only-of-type {\n",
              "        vertical-align: middle;\n",
              "    }\n",
              "\n",
              "    .dataframe tbody tr th {\n",
              "        vertical-align: top;\n",
              "    }\n",
              "\n",
              "    .dataframe thead th {\n",
              "        text-align: right;\n",
              "    }\n",
              "</style>\n",
              "<table border=\"1\" class=\"dataframe\">\n",
              "  <thead>\n",
              "    <tr style=\"text-align: right;\">\n",
              "      <th></th>\n",
              "      <th>I_S1</th>\n",
              "      <th>I_S2</th>\n",
              "      <th>I_S3</th>\n",
              "      <th>I_S4</th>\n",
              "      <th>I_S5</th>\n",
              "      <th>I_S6</th>\n",
              "      <th>I_S7</th>\n",
              "      <th>I_S8</th>\n",
              "      <th>I_S9</th>\n",
              "      <th>I_S10</th>\n",
              "      <th>I_S11</th>\n",
              "      <th>I_S12</th>\n",
              "      <th>I_S13</th>\n",
              "      <th>I_S14</th>\n",
              "      <th>I_S15</th>\n",
              "      <th>I_S16</th>\n",
              "      <th>I_S17</th>\n",
              "      <th>I_S18</th>\n",
              "      <th>I_S19</th>\n",
              "      <th>I_S20</th>\n",
              "      <th>I_S21</th>\n",
              "      <th>I_S22</th>\n",
              "      <th>I_S23</th>\n",
              "      <th>I_S24</th>\n",
              "      <th>I_S25</th>\n",
              "      <th>I_S26</th>\n",
              "      <th>I_S27</th>\n",
              "      <th>I_S28</th>\n",
              "      <th>I_S29</th>\n",
              "      <th>I_S30</th>\n",
              "      <th>I_S31</th>\n",
              "      <th>I_R3</th>\n",
              "      <th>I_R4</th>\n",
              "      <th>rotor_displacement</th>\n",
              "      <th>total_torque</th>\n",
              "    </tr>\n",
              "  </thead>\n",
              "  <tbody>\n",
              "    <tr>\n",
              "      <th>0</th>\n",
              "      <td>0</td>\n",
              "      <td>-1</td>\n",
              "      <td>0</td>\n",
              "      <td>2</td>\n",
              "      <td>-2</td>\n",
              "      <td>0</td>\n",
              "      <td>2</td>\n",
              "      <td>2</td>\n",
              "      <td>0</td>\n",
              "      <td>-1</td>\n",
              "      <td>0</td>\n",
              "      <td>1</td>\n",
              "      <td>1</td>\n",
              "      <td>-1</td>\n",
              "      <td>1</td>\n",
              "      <td>-2</td>\n",
              "      <td>0</td>\n",
              "      <td>1</td>\n",
              "      <td>0</td>\n",
              "      <td>-2</td>\n",
              "      <td>-1</td>\n",
              "      <td>-2</td>\n",
              "      <td>-2</td>\n",
              "      <td>-2</td>\n",
              "      <td>1</td>\n",
              "      <td>1</td>\n",
              "      <td>0</td>\n",
              "      <td>1</td>\n",
              "      <td>0</td>\n",
              "      <td>0</td>\n",
              "      <td>0</td>\n",
              "      <td>-1</td>\n",
              "      <td>-2</td>\n",
              "      <td>0.0</td>\n",
              "      <td>NaN</td>\n",
              "    </tr>\n",
              "  </tbody>\n",
              "</table>\n",
              "</div>"
            ],
            "text/plain": [
              "  I_S1 I_S2 I_S3 I_S4 I_S5  ... I_S31 I_R3 I_R4 rotor_displacement total_torque\n",
              "0    0   -1    0    2   -2  ...     0   -1   -2                0.0          NaN\n",
              "\n",
              "[1 rows x 35 columns]"
            ]
          },
          "metadata": {
            "tags": []
          },
          "execution_count": 346
        }
      ]
    },
    {
      "cell_type": "code",
      "metadata": {
        "colab": {
          "base_uri": "https://localhost:8080/"
        },
        "id": "qiAk_brCOLA1",
        "outputId": "06074e55-048d-4b89-ace0-5fcbbb226f4f"
      },
      "source": [
        "32%31"
      ],
      "execution_count": null,
      "outputs": [
        {
          "output_type": "execute_result",
          "data": {
            "text/plain": [
              "1"
            ]
          },
          "metadata": {
            "tags": []
          },
          "execution_count": 347
        }
      ]
    },
    {
      "cell_type": "code",
      "metadata": {
        "id": "XlBwvrPBOLA1"
      },
      "source": [
        "# this is the function used by the algorithm for evaluation\n",
        "def evaluate(individual):\n",
        "  global df_max_CW_AE, cols\n",
        "  individual = individual[0]\n",
        "  \n",
        "  current_rotor_node = rotor_cll.head\n",
        "  motor_torque = []\n",
        "  # print('individual', individual)\n",
        "\n",
        "  for current_rotor_id in range(rotor_cll.tail.rot_id+1):\n",
        "    torque_R = 0.0\n",
        "    rot_pos_wrt_dict = current_rotor_node.proximal_stator_poles\n",
        "    \n",
        "    # Gives details for whichever pole is closest to the rotor\n",
        "    min_key = min(rot_pos_wrt_dict, key=rot_pos_wrt_dict.get)\n",
        "    rot_position_wrt_S3 = rot_pos_wrt_dict[min_key]\n",
        "    # print(min_key, rot_position_wrt_S3, end= '\\t')\n",
        "\n",
        "    rot_excitation = -2 * ((-1)**current_rotor_node.rot_id)\n",
        "    torque_multiplier = 1\n",
        "    if rot_excitation == -2:\n",
        "      torque_multiplier = -1\n",
        "\n",
        "    I_S3 = individual[min_key]\n",
        "    \n",
        "    if min_key <= 29:\n",
        "      I_S4 = individual[min_key+1]\n",
        "    else:\n",
        "      I_S4 = individual[(min_key+1) % 31]\n",
        "\n",
        "    if min_key <= 28:\n",
        "      I_S5 = individual[min_key+2]\n",
        "    else:\n",
        "      I_S5 = individual[(min_key+2) % 31]\n",
        "\n",
        "    I_R3 = individual[-2]\n",
        "    I_R4 = individual[-1]\n",
        "\n",
        "    # print('I_S3, I_S4, I_S5', I_S3, I_S4, I_S5, df_f.loc[(df_f['S3'] == I_S3) & (df_f['S4'] == I_S4) & (df_f['S5'] == I_S5), 'f3'], end='\\t')\n",
        "    \n",
        "    # Maximize the -ve value of Torque\n",
        "    # Results in ACW motion\n",
        "    # except:\n",
        "    #  torque_R = 100\n",
        "    # return -1*total_torque,\n",
        "\n",
        "    # Maximize the +ve value of Torque\n",
        "    # Results in CW motion\n",
        "    # except:\n",
        "    #  torque_R = -100\n",
        "    # return total_torque,\n",
        "\n",
        "    try:\n",
        "      torque_R = torque_multiplier*df_f.loc[(df_f['S3'] == I_S3) & \n",
        "                                            (df_f['S4'] == I_S4) & \n",
        "                                            (df_f['S5'] == I_S5) &\n",
        "                                            (df_f['R3'] == I_R3) &\n",
        "                                            (df_f['R4'] == I_R4), 'f3'].iloc[0](abs(rot_position_wrt_S3)).item()\n",
        "    except:\n",
        "      torque_R = 100\n",
        "\n",
        "    motor_torque.append(torque_R)\n",
        "\n",
        "    current_rotor_node = current_rotor_node.next\n",
        "\n",
        "  total_torque = sum(motor_torque)\n",
        "  hold_torque = abs(0 - abs(total_torque))\n",
        "\n",
        "  if 100 not in motor_torque:\n",
        "    dict_ = {'I_S' + str(inx+1):str(cur) for inx, cur in enumerate(individual[:-2])}\n",
        "    dict_['I_R3'] = individual[-2]\n",
        "    dict_['I_R4'] = individual[-1]\n",
        "\n",
        "    dict_['rotor_displacement'] = rotor_displacement \n",
        "    dict_['total_torque'] = total_torque\n",
        "    df_max_CW_AE = df_max_CW_AE.append(dict_, ignore_index=True)\n",
        "    df_max_CW_AE.drop_duplicates(subset=cols[:-1], inplace=True, ignore_index = True)\n",
        "\n",
        "  return hold_torque,"
      ],
      "execution_count": null,
      "outputs": []
    },
    {
      "cell_type": "code",
      "metadata": {
        "colab": {
          "base_uri": "https://localhost:8080/"
        },
        "id": "01cxd8JxOLA1",
        "outputId": "2e4c73e0-e5b4-4069-ceac-8d3e28fdca59"
      },
      "source": [
        "# this is the setup of the deap library: registering the different function into the toolbox\n",
        "creator.create(\"FitnessMin\", base.Fitness, weights=(-1.0,))\n",
        "creator.create(\"Individual\", list, fitness=creator.FitnessMin)\n",
        "\n",
        "toolbox = base.Toolbox()\n",
        "\n",
        "toolbox.register(\"n_per_product\", n_per_product)\n",
        "\n",
        "toolbox.register(\"individual\", tools.initRepeat, creator.Individual, toolbox.n_per_product, n=1)\n",
        "toolbox.register(\"population\", tools.initRepeat, list, toolbox.individual)\n",
        "\n",
        "toolbox.register(\"evaluate\", evaluate)\n",
        "toolbox.register(\"mate\", tools.cxTwoPoint)\n",
        "toolbox.register(\"mutate\", tools.mutFlipBit, indpb=0.05)\n",
        "toolbox.register(\"select\", tools.selTournament, tournsize=3)"
      ],
      "execution_count": null,
      "outputs": [
        {
          "output_type": "stream",
          "text": [
            "/usr/local/lib/python3.7/dist-packages/deap/creator.py:141: RuntimeWarning: A class named 'FitnessMin' has already been created and it will be overwritten. Consider deleting previous creation of that class or rename it.\n",
            "  RuntimeWarning)\n",
            "/usr/local/lib/python3.7/dist-packages/deap/creator.py:141: RuntimeWarning: A class named 'Individual' has already been created and it will be overwritten. Consider deleting previous creation of that class or rename it.\n",
            "  RuntimeWarning)\n"
          ],
          "name": "stderr"
        }
      ]
    },
    {
      "cell_type": "code",
      "metadata": {
        "id": "Ry42CFhMOLA1"
      },
      "source": [
        "# as an example, this is what a population of 10 shopping lists looks like\n",
        "# toolbox.population(n=10)"
      ],
      "execution_count": null,
      "outputs": []
    },
    {
      "cell_type": "code",
      "metadata": {
        "id": "8DCiMm0vOLA1"
      },
      "source": [
        "def main():\n",
        "  pop = toolbox.population(n=500)\n",
        "  \n",
        "  # Evaluate the entire population\n",
        "  fitnesses = list(map(toolbox.evaluate, pop))\n",
        "  for ind, fit in zip(pop, fitnesses):\n",
        "      ind.fitness.values = fit\n",
        "\n",
        "  # CXPB  is the probability with which two individuals\n",
        "  #       are crossed\n",
        "  #\n",
        "  # MUTPB is the probability for mutating an individual\n",
        "  CXPB, MUTPB = 0.9, 0.5\n",
        "  \n",
        "  # Extracting all the fitnesses of \n",
        "  fits = [ind.fitness.values[0] for ind in pop]\n",
        "  \n",
        "  # Variable keeping track of the number of generations\n",
        "  g = 0\n",
        "  \n",
        "  # Begin the evolution\n",
        "  while g < generations:\n",
        "      # A new generation\n",
        "      g = g + 1\n",
        "      \n",
        "      # Select the next generation individuals\n",
        "      offspring = toolbox.select(pop, len(pop))\n",
        "      # Clone the selected individuals\n",
        "      offspring = list(map(toolbox.clone, offspring))\n",
        "      \n",
        "      # Apply crossover and mutation on the offspring\n",
        "      for child1, child2 in zip(offspring[::2], offspring[1::2]):\n",
        "          if random.random() < CXPB:\n",
        "              toolbox.mate(child1[0], child2[0])\n",
        "              del child1.fitness.values\n",
        "              del child2.fitness.values\n",
        "\n",
        "      for mutant in offspring:\n",
        "          if random.random() < MUTPB:\n",
        "              toolbox.mutate(mutant[0])\n",
        "              del mutant.fitness.values\n",
        "          \n",
        "      # Evaluate the individuals with an invalid fitness\n",
        "      invalid_ind = [ind for ind in offspring if not ind.fitness.valid]\n",
        "      fitnesses = map(toolbox.evaluate, invalid_ind)\n",
        "      for ind, fit in zip(invalid_ind, fitnesses):\n",
        "          ind.fitness.values = fit\n",
        "          \n",
        "      pop[:] = offspring\n",
        "      \n",
        "      # Gather all the fitnesses in one list and print the stats\n",
        "      fits = [ind.fitness.values[0] for ind in pop]\n",
        "      \n",
        "      length = len(pop)\n",
        "      mean = sum(fits) / length\n",
        "      sum2 = sum(x*x for x in fits)\n",
        "      std = abs(sum2 / length - mean**2)**0.5\n",
        "      \n",
        "      if g % 5 ==0:\n",
        "        print(\"-- Generation %i --\" % g, end='\\t')\n",
        "        print(min(fits), max(fits), mean, std)\n",
        "  \n",
        "  best = pop[np.argmin([toolbox.evaluate(x) for x in pop])]\n",
        "  torque = np.min([toolbox.evaluate(x) for x in pop])\n",
        "  return best, torque"
      ],
      "execution_count": null,
      "outputs": []
    },
    {
      "cell_type": "markdown",
      "metadata": {
        "id": "mOj0JwtiOLA1"
      },
      "source": [
        "## GA run"
      ]
    },
    {
      "cell_type": "code",
      "metadata": {
        "colab": {
          "base_uri": "https://localhost:8080/"
        },
        "id": "wyhyCRo0OLA1",
        "outputId": "39337bc8-40ae-48d7-f6dc-d15c9434b9e1"
      },
      "source": [
        "best_solutions[rotor_displacement], best_torque = main()"
      ],
      "execution_count": null,
      "outputs": [
        {
          "output_type": "stream",
          "text": [
            "-- Generation 5 --\t0.002415209587995404 3000.0 54.381914900248695 398.8018594292986\n",
            "-- Generation 10 --\t0.0010968094643371493 3000.0 54.263945837126904 398.81768292197575\n",
            "-- Generation 15 --\t0.0006034469794009827 3000.0 90.2376692755083 511.7199193589988\n",
            "-- Generation 20 --\t0.00029102934236512057 3000.0 54.214661165653744 398.82433598703204\n",
            "-- Generation 25 --\t0.00013822566052877627 3000.0 84.17272719246427 494.8888839636192\n",
            "-- Generation 30 --\t0.0005306000451132872 3000.0 114.16002887649377 573.5569162676942\n",
            "-- Generation 35 --\t6.785136733009067e-05 3000.0 78.14682728759459 477.3815168218939\n",
            "-- Generation 40 --\t0.0002703395385846574 3000.0 90.12582545053154 511.73954765985224\n"
          ],
          "name": "stdout"
        }
      ]
    },
    {
      "cell_type": "code",
      "metadata": {
        "colab": {
          "base_uri": "https://localhost:8080/"
        },
        "id": "ywtQjAbpOLA1",
        "outputId": "a9ba330f-bf8e-4221-fc1d-32b0c191ff1c"
      },
      "source": [
        "df_max_CW_AE.head()"
      ],
      "execution_count": null,
      "outputs": [
        {
          "output_type": "execute_result",
          "data": {
            "text/html": [
              "<div>\n",
              "<style scoped>\n",
              "    .dataframe tbody tr th:only-of-type {\n",
              "        vertical-align: middle;\n",
              "    }\n",
              "\n",
              "    .dataframe tbody tr th {\n",
              "        vertical-align: top;\n",
              "    }\n",
              "\n",
              "    .dataframe thead th {\n",
              "        text-align: right;\n",
              "    }\n",
              "</style>\n",
              "<table border=\"1\" class=\"dataframe\">\n",
              "  <thead>\n",
              "    <tr style=\"text-align: right;\">\n",
              "      <th></th>\n",
              "      <th>I_S1</th>\n",
              "      <th>I_S2</th>\n",
              "      <th>I_S3</th>\n",
              "      <th>I_S4</th>\n",
              "      <th>I_S5</th>\n",
              "      <th>I_S6</th>\n",
              "      <th>I_S7</th>\n",
              "      <th>I_S8</th>\n",
              "      <th>I_S9</th>\n",
              "      <th>I_S10</th>\n",
              "      <th>I_S11</th>\n",
              "      <th>I_S12</th>\n",
              "      <th>I_S13</th>\n",
              "      <th>I_S14</th>\n",
              "      <th>I_S15</th>\n",
              "      <th>I_S16</th>\n",
              "      <th>I_S17</th>\n",
              "      <th>I_S18</th>\n",
              "      <th>I_S19</th>\n",
              "      <th>I_S20</th>\n",
              "      <th>I_S21</th>\n",
              "      <th>I_S22</th>\n",
              "      <th>I_S23</th>\n",
              "      <th>I_S24</th>\n",
              "      <th>I_S25</th>\n",
              "      <th>I_S26</th>\n",
              "      <th>I_S27</th>\n",
              "      <th>I_S28</th>\n",
              "      <th>I_S29</th>\n",
              "      <th>I_S30</th>\n",
              "      <th>I_S31</th>\n",
              "      <th>I_R3</th>\n",
              "      <th>I_R4</th>\n",
              "      <th>rotor_displacement</th>\n",
              "      <th>total_torque</th>\n",
              "    </tr>\n",
              "  </thead>\n",
              "  <tbody>\n",
              "    <tr>\n",
              "      <th>0</th>\n",
              "      <td>0</td>\n",
              "      <td>-1</td>\n",
              "      <td>0</td>\n",
              "      <td>2</td>\n",
              "      <td>-2</td>\n",
              "      <td>0</td>\n",
              "      <td>2</td>\n",
              "      <td>2</td>\n",
              "      <td>0</td>\n",
              "      <td>-1</td>\n",
              "      <td>0</td>\n",
              "      <td>1</td>\n",
              "      <td>1</td>\n",
              "      <td>-1</td>\n",
              "      <td>1</td>\n",
              "      <td>-2</td>\n",
              "      <td>0</td>\n",
              "      <td>1</td>\n",
              "      <td>0</td>\n",
              "      <td>-2</td>\n",
              "      <td>-1</td>\n",
              "      <td>-2</td>\n",
              "      <td>-2</td>\n",
              "      <td>-2</td>\n",
              "      <td>1</td>\n",
              "      <td>1</td>\n",
              "      <td>0</td>\n",
              "      <td>1</td>\n",
              "      <td>0</td>\n",
              "      <td>0</td>\n",
              "      <td>0</td>\n",
              "      <td>-1</td>\n",
              "      <td>-2</td>\n",
              "      <td>0.0</td>\n",
              "      <td>NaN</td>\n",
              "    </tr>\n",
              "    <tr>\n",
              "      <th>1</th>\n",
              "      <td>-2</td>\n",
              "      <td>1</td>\n",
              "      <td>1</td>\n",
              "      <td>2</td>\n",
              "      <td>1</td>\n",
              "      <td>2</td>\n",
              "      <td>-1</td>\n",
              "      <td>2</td>\n",
              "      <td>0</td>\n",
              "      <td>0</td>\n",
              "      <td>1</td>\n",
              "      <td>2</td>\n",
              "      <td>-1</td>\n",
              "      <td>1</td>\n",
              "      <td>-2</td>\n",
              "      <td>-1</td>\n",
              "      <td>1</td>\n",
              "      <td>2</td>\n",
              "      <td>-2</td>\n",
              "      <td>0</td>\n",
              "      <td>2</td>\n",
              "      <td>-1</td>\n",
              "      <td>2</td>\n",
              "      <td>-2</td>\n",
              "      <td>2</td>\n",
              "      <td>0</td>\n",
              "      <td>0</td>\n",
              "      <td>2</td>\n",
              "      <td>1</td>\n",
              "      <td>2</td>\n",
              "      <td>0</td>\n",
              "      <td>0</td>\n",
              "      <td>0</td>\n",
              "      <td>0.0</td>\n",
              "      <td>-1.634536</td>\n",
              "    </tr>\n",
              "    <tr>\n",
              "      <th>2</th>\n",
              "      <td>2</td>\n",
              "      <td>-1</td>\n",
              "      <td>-2</td>\n",
              "      <td>1</td>\n",
              "      <td>-1</td>\n",
              "      <td>-1</td>\n",
              "      <td>2</td>\n",
              "      <td>-1</td>\n",
              "      <td>0</td>\n",
              "      <td>0</td>\n",
              "      <td>1</td>\n",
              "      <td>2</td>\n",
              "      <td>-2</td>\n",
              "      <td>-2</td>\n",
              "      <td>0</td>\n",
              "      <td>-2</td>\n",
              "      <td>1</td>\n",
              "      <td>1</td>\n",
              "      <td>0</td>\n",
              "      <td>0</td>\n",
              "      <td>0</td>\n",
              "      <td>0</td>\n",
              "      <td>0</td>\n",
              "      <td>1</td>\n",
              "      <td>1</td>\n",
              "      <td>0</td>\n",
              "      <td>0</td>\n",
              "      <td>2</td>\n",
              "      <td>2</td>\n",
              "      <td>2</td>\n",
              "      <td>2</td>\n",
              "      <td>0</td>\n",
              "      <td>0</td>\n",
              "      <td>0.0</td>\n",
              "      <td>-0.061719</td>\n",
              "    </tr>\n",
              "    <tr>\n",
              "      <th>3</th>\n",
              "      <td>0</td>\n",
              "      <td>-1</td>\n",
              "      <td>2</td>\n",
              "      <td>0</td>\n",
              "      <td>0</td>\n",
              "      <td>-1</td>\n",
              "      <td>-2</td>\n",
              "      <td>1</td>\n",
              "      <td>2</td>\n",
              "      <td>1</td>\n",
              "      <td>2</td>\n",
              "      <td>-1</td>\n",
              "      <td>-1</td>\n",
              "      <td>1</td>\n",
              "      <td>-2</td>\n",
              "      <td>-1</td>\n",
              "      <td>-2</td>\n",
              "      <td>1</td>\n",
              "      <td>2</td>\n",
              "      <td>2</td>\n",
              "      <td>0</td>\n",
              "      <td>0</td>\n",
              "      <td>2</td>\n",
              "      <td>1</td>\n",
              "      <td>-1</td>\n",
              "      <td>-1</td>\n",
              "      <td>1</td>\n",
              "      <td>1</td>\n",
              "      <td>2</td>\n",
              "      <td>2</td>\n",
              "      <td>0</td>\n",
              "      <td>0</td>\n",
              "      <td>1</td>\n",
              "      <td>0.0</td>\n",
              "      <td>0.525812</td>\n",
              "    </tr>\n",
              "    <tr>\n",
              "      <th>4</th>\n",
              "      <td>-2</td>\n",
              "      <td>2</td>\n",
              "      <td>2</td>\n",
              "      <td>0</td>\n",
              "      <td>1</td>\n",
              "      <td>1</td>\n",
              "      <td>-2</td>\n",
              "      <td>2</td>\n",
              "      <td>1</td>\n",
              "      <td>0</td>\n",
              "      <td>0</td>\n",
              "      <td>0</td>\n",
              "      <td>2</td>\n",
              "      <td>0</td>\n",
              "      <td>2</td>\n",
              "      <td>0</td>\n",
              "      <td>0</td>\n",
              "      <td>1</td>\n",
              "      <td>2</td>\n",
              "      <td>-1</td>\n",
              "      <td>2</td>\n",
              "      <td>2</td>\n",
              "      <td>-1</td>\n",
              "      <td>-2</td>\n",
              "      <td>2</td>\n",
              "      <td>2</td>\n",
              "      <td>2</td>\n",
              "      <td>-2</td>\n",
              "      <td>-1</td>\n",
              "      <td>-2</td>\n",
              "      <td>-2</td>\n",
              "      <td>-1</td>\n",
              "      <td>1</td>\n",
              "      <td>0.0</td>\n",
              "      <td>-1.191737</td>\n",
              "    </tr>\n",
              "  </tbody>\n",
              "</table>\n",
              "</div>"
            ],
            "text/plain": [
              "  I_S1 I_S2 I_S3 I_S4 I_S5  ... I_S31 I_R3 I_R4 rotor_displacement total_torque\n",
              "0    0   -1    0    2   -2  ...     0   -1   -2                0.0          NaN\n",
              "1   -2    1    1    2    1  ...     0    0    0                0.0    -1.634536\n",
              "2    2   -1   -2    1   -1  ...     2    0    0                0.0    -0.061719\n",
              "3    0   -1    2    0    0  ...     0    0    1                0.0     0.525812\n",
              "4   -2    2    2    0    1  ...    -2   -1    1                0.0    -1.191737\n",
              "\n",
              "[5 rows x 35 columns]"
            ]
          },
          "metadata": {
            "tags": []
          },
          "execution_count": 353
        }
      ]
    },
    {
      "cell_type": "code",
      "metadata": {
        "id": "WXqka4jROLA1"
      },
      "source": [
        "df_max_CW_AE.to_csv('df_max_CW_AE.csv')"
      ],
      "execution_count": null,
      "outputs": []
    },
    {
      "cell_type": "code",
      "metadata": {
        "colab": {
          "base_uri": "https://localhost:8080/"
        },
        "id": "MODoBHYDOLA1",
        "outputId": "81bcb56f-aacb-45d4-e884-72694c42a2dd"
      },
      "source": [
        "from google.colab import files\n",
        "files.download('df_max_CW_AE.csv')"
      ],
      "execution_count": null,
      "outputs": [
        {
          "output_type": "display_data",
          "data": {
            "application/javascript": [
              "\n",
              "    async function download(id, filename, size) {\n",
              "      if (!google.colab.kernel.accessAllowed) {\n",
              "        return;\n",
              "      }\n",
              "      const div = document.createElement('div');\n",
              "      const label = document.createElement('label');\n",
              "      label.textContent = `Downloading \"${filename}\": `;\n",
              "      div.appendChild(label);\n",
              "      const progress = document.createElement('progress');\n",
              "      progress.max = size;\n",
              "      div.appendChild(progress);\n",
              "      document.body.appendChild(div);\n",
              "\n",
              "      const buffers = [];\n",
              "      let downloaded = 0;\n",
              "\n",
              "      const channel = await google.colab.kernel.comms.open(id);\n",
              "      // Send a message to notify the kernel that we're ready.\n",
              "      channel.send({})\n",
              "\n",
              "      for await (const message of channel.messages) {\n",
              "        // Send a message to notify the kernel that we're ready.\n",
              "        channel.send({})\n",
              "        if (message.buffers) {\n",
              "          for (const buffer of message.buffers) {\n",
              "            buffers.push(buffer);\n",
              "            downloaded += buffer.byteLength;\n",
              "            progress.value = downloaded;\n",
              "          }\n",
              "        }\n",
              "      }\n",
              "      const blob = new Blob(buffers, {type: 'application/binary'});\n",
              "      const a = document.createElement('a');\n",
              "      a.href = window.URL.createObjectURL(blob);\n",
              "      a.download = filename;\n",
              "      div.appendChild(a);\n",
              "      a.click();\n",
              "      div.remove();\n",
              "    }\n",
              "  "
            ],
            "text/plain": [
              "<IPython.core.display.Javascript object>"
            ]
          },
          "metadata": {
            "tags": []
          }
        },
        {
          "output_type": "display_data",
          "data": {
            "application/javascript": [
              "download(\"download_a395f0d8-2c52-4e4c-91e7-b9e82cb61fd2\", \"df_max_CW_AE.csv\", 1873635)"
            ],
            "text/plain": [
              "<IPython.core.display.Javascript object>"
            ]
          },
          "metadata": {
            "tags": []
          }
        }
      ]
    },
    {
      "cell_type": "code",
      "metadata": {
        "id": "bYUFuBFkOLA2"
      },
      "source": [],
      "execution_count": null,
      "outputs": []
    }
  ]
}